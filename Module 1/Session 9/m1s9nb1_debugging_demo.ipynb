{
  "cells": [
    {
      "cell_type": "markdown",
      "metadata": {
        "id": "view-in-github",
        "colab_type": "text"
      },
      "source": [
        "<a href=\"https://colab.research.google.com/github/gt-cse-6040/bootcamp/blob/main/Module%201/Session%209/m1s9nb1_debugging_demo.ipynb\" target=\"_parent\"><img src=\"https://colab.research.google.com/assets/colab-badge.svg\" alt=\"Open In Colab\"/></a>"
      ]
    },
    {
      "cell_type": "markdown",
      "metadata": {
        "id": "GgShf3ng44JI"
      },
      "source": [
        "# Using the error stack trace to debug code"
      ]
    },
    {
      "cell_type": "markdown",
      "metadata": {
        "id": "PAZbamEC44JK"
      },
      "source": [
        "In this course, the test cells often use assert statements to throw errors when the solution is not correct. The error message usually includes something about why the assertion failed, e.g. \"function output is not a dictionary\", \"variable foo is the wrong size\", \"foo does not match the instructor's solution\", etc. These errors usually point you directly towards what needs to be fixed. This type of error is not what this notebook focuses on.\n",
        "\n",
        "Of course, these assertions aren't the only case where code can fail. The Python interpreter will throw errors any time it is unable to do what is asked of it. These error messages, also known as a **traceback**, display where the error was made from the bit of code Python was unable to execute and all of the function calls that lead to that bit of code being attempted.\n",
        "\n",
        "First, let's import numpy and pandas."
      ]
    },
    {
      "cell_type": "code",
      "execution_count": null,
      "metadata": {
        "id": "Le8k-kLZ44JK"
      },
      "outputs": [],
      "source": [
        "import numpy as np\n",
        "import pandas as pd"
      ]
    },
    {
      "cell_type": "code",
      "source": [
        "!wget https://raw.githubusercontent.com/gt-cse-6040/bootcamp/main/Module%201/Session%209/foobar.py"
      ],
      "metadata": {
        "id": "IfReI-Xo47zf"
      },
      "execution_count": null,
      "outputs": []
    },
    {
      "cell_type": "markdown",
      "metadata": {
        "id": "Jj42FjmY44JL"
      },
      "source": [
        "# Numpy example"
      ]
    },
    {
      "cell_type": "markdown",
      "metadata": {
        "id": "yDlBfhC944JL"
      },
      "source": [
        "Here is a simple example of how the stack trace works. The printsum function is dependent on the add function."
      ]
    },
    {
      "cell_type": "code",
      "execution_count": null,
      "metadata": {
        "id": "g_X2kI7M44JL"
      },
      "outputs": [],
      "source": [
        "def printsum(a,b):\n",
        "    # This is\n",
        "    # defined in an undeitable cell\n",
        "    print(add(a,b))\n",
        "\n",
        "def add(x,y):\n",
        "    # This is\n",
        "    # defined in an uneditable cell\n",
        "    s = x+y\n",
        "    return(s)"
      ]
    },
    {
      "cell_type": "markdown",
      "metadata": {
        "id": "6HkNuZ2944JL"
      },
      "source": [
        "The variables \"foo\" and \"bar\" are loaded from a separate file. **For the sake of the example, assume that \"foo\" and \"bar\" were defined in an exercise solution, but the functions were defined in an uneditable block**. The values of bar *should* be the values of foo squared. Let's see if we can add them with **printsum** to get foo+foo\\*\\*2 displayed as output..."
      ]
    },
    {
      "cell_type": "code",
      "execution_count": null,
      "metadata": {
        "id": "S6C_2eQD44JM",
        "outputId": "f3093fb6-a71c-4c29-830b-d6f774490edf"
      },
      "outputs": [
        {
          "ename": "ValueError",
          "evalue": "operands could not be broadcast together with shapes (2,4) (4,2) ",
          "output_type": "error",
          "traceback": [
            "\u001b[1;31m---------------------------------------------------------------------------\u001b[0m",
            "\u001b[1;31mValueError\u001b[0m                                Traceback (most recent call last)",
            "Cell \u001b[1;32mIn[3], line 2\u001b[0m\n\u001b[0;32m      1\u001b[0m \u001b[38;5;28;01mfrom\u001b[39;00m \u001b[38;5;21;01mfoobar\u001b[39;00m \u001b[38;5;28;01mimport\u001b[39;00m foo, bar\n\u001b[1;32m----> 2\u001b[0m \u001b[43mprintsum\u001b[49m\u001b[43m(\u001b[49m\u001b[43mfoo\u001b[49m\u001b[43m,\u001b[49m\u001b[43m \u001b[49m\u001b[43mbar\u001b[49m\u001b[43m)\u001b[49m\n",
            "Cell \u001b[1;32mIn[2], line 4\u001b[0m, in \u001b[0;36mprintsum\u001b[1;34m(a, b)\u001b[0m\n\u001b[0;32m      1\u001b[0m \u001b[38;5;28;01mdef\u001b[39;00m \u001b[38;5;21mprintsum\u001b[39m(a,b):\n\u001b[0;32m      2\u001b[0m     \u001b[38;5;66;03m# This is\u001b[39;00m\n\u001b[0;32m      3\u001b[0m     \u001b[38;5;66;03m# defined in an undeitable cell\u001b[39;00m\n\u001b[1;32m----> 4\u001b[0m     \u001b[38;5;28mprint\u001b[39m(\u001b[43madd\u001b[49m\u001b[43m(\u001b[49m\u001b[43ma\u001b[49m\u001b[43m,\u001b[49m\u001b[43mb\u001b[49m\u001b[43m)\u001b[49m)\n",
            "Cell \u001b[1;32mIn[2], line 9\u001b[0m, in \u001b[0;36madd\u001b[1;34m(x, y)\u001b[0m\n\u001b[0;32m      6\u001b[0m \u001b[38;5;28;01mdef\u001b[39;00m \u001b[38;5;21madd\u001b[39m(x,y):\n\u001b[0;32m      7\u001b[0m     \u001b[38;5;66;03m# This is\u001b[39;00m\n\u001b[0;32m      8\u001b[0m     \u001b[38;5;66;03m# defined in an uneditable cell\u001b[39;00m\n\u001b[1;32m----> 9\u001b[0m     s \u001b[38;5;241m=\u001b[39m \u001b[43mx\u001b[49m\u001b[38;5;241;43m+\u001b[39;49m\u001b[43my\u001b[49m\n\u001b[0;32m     10\u001b[0m     \u001b[38;5;28;01mreturn\u001b[39;00m(s)\n",
            "\u001b[1;31mValueError\u001b[0m: operands could not be broadcast together with shapes (2,4) (4,2) "
          ]
        }
      ],
      "source": [
        "from foobar import foo, bar\n",
        "printsum(foo, bar)"
      ]
    },
    {
      "cell_type": "markdown",
      "metadata": {
        "id": "vr0xYS4l44JM"
      },
      "source": [
        "Oh, no! It didn't work. The bottom of the stack trace shows that x and y couldn't be broadcast together. \"I never did anything with x or y, there must be a problem with the notebook!\" might be the first thought to come to mind. However, examining the whole traceback shows something different. The problem started with the call to **printsum** and pertains to the **shape of two arrays**. The natural next step is to look at the shapes of the arrays fed into **printsum** and possibly the variables themselves."
      ]
    },
    {
      "cell_type": "code",
      "execution_count": null,
      "metadata": {
        "id": "zNFup_2_44JN",
        "outputId": "087a508f-b7cc-440e-9813-cbfd28d174da"
      },
      "outputs": [
        {
          "name": "stdout",
          "output_type": "stream",
          "text": [
            "foo's shape: (2, 4)\n",
            "[[1 2 3 4]\n",
            " [5 6 7 8]]\n",
            "bar's shape: (4, 2)\n",
            "[[ 1 25]\n",
            " [ 4 36]\n",
            " [ 9 49]\n",
            " [16 64]]\n"
          ]
        }
      ],
      "source": [
        "print('foo\\'s shape:', foo.shape)\n",
        "print(foo)\n",
        "print('bar\\'s shape:', bar.shape)\n",
        "print(bar)"
      ]
    },
    {
      "cell_type": "markdown",
      "metadata": {
        "id": "axHJt4Iz44JN"
      },
      "source": [
        "The bar array somehow got transposed, but the numbers are correct. The real way to resolve this issue is to find the root cause wherever bar is defined, but since that only exists hypothetically, let's correct it here by modifying the call to **printsum**."
      ]
    },
    {
      "cell_type": "code",
      "execution_count": null,
      "metadata": {
        "id": "tZR-BQfx44JN",
        "outputId": "3f6b4099-cc07-4d21-bce6-ff707d35d12a"
      },
      "outputs": [
        {
          "name": "stdout",
          "output_type": "stream",
          "text": [
            "[[ 2  6 12 20]\n",
            " [30 42 56 72]]\n"
          ]
        }
      ],
      "source": [
        "printsum(foo, bar.T)"
      ]
    },
    {
      "cell_type": "markdown",
      "metadata": {
        "id": "0qrucLjh44JN"
      },
      "source": [
        "Some common numpy errors are broadcasting and type errors (recall everything in an array has to be of the same type). These basic errors might rear their ugly heads when calling functions that take array inputs. The bottom of the stack trace will have some lines of code that aren't even in the notebook. This is OK. Use the error message to **find where code that you wrote** may have caused the problem."
      ]
    },
    {
      "cell_type": "markdown",
      "metadata": {
        "id": "scshf36X44JN"
      },
      "source": [
        "# Pandas example"
      ]
    },
    {
      "cell_type": "markdown",
      "metadata": {
        "id": "utiXAqQW44JN"
      },
      "source": [
        "Basic pandas errors are also often thrown as a result of function calls on dataframes that aren't as expected. The stack trace is useful to figure out where the issue is in these cases as well. Some common errors are index errors, using the wrong version of loc/iloc, and problems with grouping or merging."
      ]
    },
    {
      "cell_type": "markdown",
      "metadata": {
        "id": "fJdEr9cK44JN"
      },
      "source": [
        "For this example suppose that you have to write a function that vertically stacks some data frames. The column 'baz' **may** be named 'BAZ' in **some** of the inputs, and you are required to handle this and the returned data frame must have all 'baz'."
      ]
    },
    {
      "cell_type": "code",
      "execution_count": null,
      "metadata": {
        "id": "w7sT21yA44JN"
      },
      "outputs": [],
      "source": [
        "from foobar import df_foo, df_bar"
      ]
    },
    {
      "cell_type": "code",
      "execution_count": null,
      "metadata": {
        "id": "wbdkv4ZG44JO",
        "outputId": "0cf99c96-c09f-4851-ca42-2846d65cab4d"
      },
      "outputs": [
        {
          "name": "stdout",
          "output_type": "stream",
          "text": [
            "   baz  bop\n",
            "0  1.0   11\n",
            "1  2.0   12\n",
            "2  3.0   13\n",
            "3  4.0   14\n",
            "0  1.0   11\n",
            "1  2.0   12\n",
            "2  3.0   13\n",
            "3  4.0   14\n"
          ]
        }
      ],
      "source": [
        "def df_stack(dfs):\n",
        "    # concatenate the dataframes in dfs.\n",
        "    df_foobar = pd.concat(dfs, axis=0, sort=False).fillna(0)\n",
        "\n",
        "    # Add the columns named BAZ and baz together (remember NA were set to zero)\n",
        "    baz_se = df_foobar.BAZ + df_foobar.baz\n",
        "\n",
        "    # Drop the column with the wrong name\n",
        "    df_foobar.drop('BAZ',axis=1, inplace=True)\n",
        "\n",
        "    # Assign the baz values to the baz column\n",
        "    df_foobar['baz'] = baz_se\n",
        "\n",
        "    return(df_foobar)\n",
        "\n",
        "print(df_stack([df_foo, df_bar]))"
      ]
    },
    {
      "cell_type": "markdown",
      "metadata": {
        "id": "ej1XK40k44JO"
      },
      "source": [
        "Our funciton df_stack appears to work correctly. The test cells will often check \"edge cases\" which may reveal that the function isn't able to handle specific types of inputs that it should be able to."
      ]
    },
    {
      "cell_type": "code",
      "execution_count": null,
      "metadata": {
        "id": "YskV9m4744JO",
        "outputId": "1287ab2a-2297-4eaf-8610-40b4f583fc26"
      },
      "outputs": [
        {
          "ename": "AttributeError",
          "evalue": "'DataFrame' object has no attribute 'BAZ'",
          "output_type": "error",
          "traceback": [
            "\u001b[1;31m---------------------------------------------------------------------------\u001b[0m",
            "\u001b[1;31mAttributeError\u001b[0m                            Traceback (most recent call last)",
            "\u001b[1;32m~\\AppData\\Local\\Temp\\ipykernel_25068\\2960947579.py\u001b[0m in \u001b[0;36m?\u001b[1;34m()\u001b[0m\n\u001b[1;32m----> 5\u001b[1;33m \u001b[1;32mfrom\u001b[0m \u001b[0mfoobar\u001b[0m \u001b[1;32mimport\u001b[0m \u001b[0mdf_test\u001b[0m\u001b[1;33m\u001b[0m\u001b[1;33m\u001b[0m\u001b[0m\n\u001b[0m\u001b[0;32m      6\u001b[0m \u001b[1;31m# some other code\u001b[0m\u001b[1;33m\u001b[0m\u001b[1;33m\u001b[0m\u001b[1;33m\u001b[0m\u001b[0m\n\u001b[0;32m      7\u001b[0m \u001b[1;31m#\u001b[0m\u001b[1;33m\u001b[0m\u001b[1;33m\u001b[0m\u001b[1;33m\u001b[0m\u001b[0m\n\u001b[0;32m      8\u001b[0m \u001b[1;31m#\u001b[0m\u001b[1;33m\u001b[0m\u001b[1;33m\u001b[0m\u001b[1;33m\u001b[0m\u001b[0m\n",
            "\u001b[1;32m~\\AppData\\Local\\Temp\\ipykernel_25068\\2314241903.py\u001b[0m in \u001b[0;36m?\u001b[1;34m(dfs)\u001b[0m\n\u001b[0;32m      2\u001b[0m     \u001b[1;31m# concatenate the dataframes in dfs.\u001b[0m\u001b[1;33m\u001b[0m\u001b[1;33m\u001b[0m\u001b[1;33m\u001b[0m\u001b[0m\n\u001b[0;32m      3\u001b[0m     \u001b[0mdf_foobar\u001b[0m \u001b[1;33m=\u001b[0m \u001b[0mpd\u001b[0m\u001b[1;33m.\u001b[0m\u001b[0mconcat\u001b[0m\u001b[1;33m(\u001b[0m\u001b[0mdfs\u001b[0m\u001b[1;33m,\u001b[0m \u001b[0maxis\u001b[0m\u001b[1;33m=\u001b[0m\u001b[1;36m0\u001b[0m\u001b[1;33m,\u001b[0m \u001b[0msort\u001b[0m\u001b[1;33m=\u001b[0m\u001b[1;32mFalse\u001b[0m\u001b[1;33m)\u001b[0m\u001b[1;33m.\u001b[0m\u001b[0mfillna\u001b[0m\u001b[1;33m(\u001b[0m\u001b[1;36m0\u001b[0m\u001b[1;33m)\u001b[0m\u001b[1;33m\u001b[0m\u001b[1;33m\u001b[0m\u001b[0m\n\u001b[0;32m      4\u001b[0m \u001b[1;33m\u001b[0m\u001b[0m\n\u001b[0;32m      5\u001b[0m     \u001b[1;31m# Add the columns named BAZ and baz together (remember NA were set to zero)\u001b[0m\u001b[1;33m\u001b[0m\u001b[1;33m\u001b[0m\u001b[1;33m\u001b[0m\u001b[0m\n\u001b[1;32m----> 6\u001b[1;33m     \u001b[0mbaz_se\u001b[0m \u001b[1;33m=\u001b[0m \u001b[0mdf_foobar\u001b[0m\u001b[1;33m.\u001b[0m\u001b[0mBAZ\u001b[0m \u001b[1;33m+\u001b[0m \u001b[0mdf_foobar\u001b[0m\u001b[1;33m.\u001b[0m\u001b[0mbaz\u001b[0m\u001b[1;33m\u001b[0m\u001b[1;33m\u001b[0m\u001b[0m\n\u001b[0m\u001b[0;32m      7\u001b[0m \u001b[1;33m\u001b[0m\u001b[0m\n\u001b[0;32m      8\u001b[0m     \u001b[1;31m# Drop the column with the wrong name\u001b[0m\u001b[1;33m\u001b[0m\u001b[1;33m\u001b[0m\u001b[1;33m\u001b[0m\u001b[0m\n\u001b[0;32m      9\u001b[0m     \u001b[0mdf_foobar\u001b[0m\u001b[1;33m.\u001b[0m\u001b[0mdrop\u001b[0m\u001b[1;33m(\u001b[0m\u001b[1;34m'BAZ'\u001b[0m\u001b[1;33m,\u001b[0m\u001b[0maxis\u001b[0m\u001b[1;33m=\u001b[0m\u001b[1;36m1\u001b[0m\u001b[1;33m,\u001b[0m \u001b[0minplace\u001b[0m\u001b[1;33m=\u001b[0m\u001b[1;32mTrue\u001b[0m\u001b[1;33m)\u001b[0m\u001b[1;33m\u001b[0m\u001b[1;33m\u001b[0m\u001b[0m\n",
            "\u001b[1;32mc:\\users\\nawid\\documents\\ta-ing\\venv\\lib\\site-packages\\pandas\\core\\generic.py\u001b[0m in \u001b[0;36m?\u001b[1;34m(self, name)\u001b[0m\n\u001b[0;32m   6200\u001b[0m             \u001b[1;32mand\u001b[0m \u001b[0mname\u001b[0m \u001b[1;32mnot\u001b[0m \u001b[1;32min\u001b[0m \u001b[0mself\u001b[0m\u001b[1;33m.\u001b[0m\u001b[0m_accessors\u001b[0m\u001b[1;33m\u001b[0m\u001b[1;33m\u001b[0m\u001b[0m\n\u001b[0;32m   6201\u001b[0m             \u001b[1;32mand\u001b[0m \u001b[0mself\u001b[0m\u001b[1;33m.\u001b[0m\u001b[0m_info_axis\u001b[0m\u001b[1;33m.\u001b[0m\u001b[0m_can_hold_identifiers_and_holds_name\u001b[0m\u001b[1;33m(\u001b[0m\u001b[0mname\u001b[0m\u001b[1;33m)\u001b[0m\u001b[1;33m\u001b[0m\u001b[1;33m\u001b[0m\u001b[0m\n\u001b[0;32m   6202\u001b[0m         ):\n\u001b[0;32m   6203\u001b[0m             \u001b[1;32mreturn\u001b[0m \u001b[0mself\u001b[0m\u001b[1;33m[\u001b[0m\u001b[0mname\u001b[0m\u001b[1;33m]\u001b[0m\u001b[1;33m\u001b[0m\u001b[1;33m\u001b[0m\u001b[0m\n\u001b[1;32m-> 6204\u001b[1;33m         \u001b[1;32mreturn\u001b[0m \u001b[0mobject\u001b[0m\u001b[1;33m.\u001b[0m\u001b[0m__getattribute__\u001b[0m\u001b[1;33m(\u001b[0m\u001b[0mself\u001b[0m\u001b[1;33m,\u001b[0m \u001b[0mname\u001b[0m\u001b[1;33m)\u001b[0m\u001b[1;33m\u001b[0m\u001b[1;33m\u001b[0m\u001b[0m\n\u001b[0m",
            "\u001b[1;31mAttributeError\u001b[0m: 'DataFrame' object has no attribute 'BAZ'"
          ]
        }
      ],
      "source": [
        "from foobar import df_test\n",
        "# some other code\n",
        "#\n",
        "#\n",
        "df = df_stack([df_foo, df_test])\n",
        "# some more code\n",
        "#\n",
        "#"
      ]
    },
    {
      "cell_type": "markdown",
      "metadata": {
        "id": "Oek8UNDu44JO"
      },
      "source": [
        "The function didn't work this time, even though the demo worked. Examining the traceback reveals that the call to **df_stack** was the origin of the error. This call led to the \"baz_se = ...\" line being attempted. That line resulted to a call to the pandas library that was unable to be executed. There appears to be an issue with the column names in **df_stack**. We can investigate further by looking at the column headers for each data frame in the list dfs.\n",
        "\n",
        "Note: the debugging is done in a separate cell for demonstration purposes, but on an assignment, you would want to add this code to your original function definition.\n",
        "\n",
        "Additional note: because the function call threw an error, the variable df never gets assigned. If an attempt to use it is made in subsequent cells, more errors will result. See below"
      ]
    },
    {
      "cell_type": "code",
      "execution_count": null,
      "metadata": {
        "id": "HxyU0Ov644JO",
        "outputId": "76ebc0c0-d422-478a-cc88-157765396083"
      },
      "outputs": [
        {
          "ename": "NameError",
          "evalue": "name 'df' is not defined",
          "output_type": "error",
          "traceback": [
            "\u001b[1;31m---------------------------------------------------------------------------\u001b[0m",
            "\u001b[1;31mNameError\u001b[0m                                 Traceback (most recent call last)",
            "Cell \u001b[1;32mIn[18], line 1\u001b[0m\n\u001b[1;32m----> 1\u001b[0m \u001b[38;5;28mprint\u001b[39m(\u001b[43mdf\u001b[49m)\n",
            "\u001b[1;31mNameError\u001b[0m: name 'df' is not defined"
          ]
        }
      ],
      "source": [
        "print(df)"
      ]
    },
    {
      "cell_type": "markdown",
      "metadata": {
        "id": "D8kul8a144JO"
      },
      "source": [
        "This can be confusing, especially if the assignment is made in an uneditable cell or the name df is used in multiple namespaces. The find function in your browser (ctrl+F) can be helpful in figuring out where df should have been assigned but wasn't. Now on to the debugging. Remember we have an issue with the columns of the dataframes in dfs, so let's print them."
      ]
    },
    {
      "cell_type": "code",
      "execution_count": null,
      "metadata": {
        "id": "iNee6wBE44JO",
        "outputId": "13eeb508-c780-442b-8ae3-8aaf528a6ace"
      },
      "outputs": [
        {
          "name": "stdout",
          "output_type": "stream",
          "text": [
            "Index(['baz', 'bop'], dtype='object')\n",
            "Index(['BAZ', 'bop'], dtype='object')\n",
            "   baz  bop\n",
            "0  1.0   11\n",
            "1  2.0   12\n",
            "2  3.0   13\n",
            "3  4.0   14\n",
            "0  1.0   11\n",
            "1  2.0   12\n",
            "2  3.0   13\n",
            "3  4.0   14\n"
          ]
        }
      ],
      "source": [
        "def df_stack(dfs):\n",
        "    # begin debug code\n",
        "    for df in dfs:\n",
        "        print(df.columns)\n",
        "    # end debug code\n",
        "    df_foobar = pd.concat(dfs, axis=0).fillna(0)\n",
        "    baz_se = df_foobar.BAZ + df_foobar.baz\n",
        "    df_foobar.drop('BAZ',axis=1, inplace=True)\n",
        "    df_foobar['baz'] = baz_se\n",
        "    return(df_foobar)\n",
        "\n",
        "print(df_stack([df_foo, df_bar]))"
      ]
    },
    {
      "cell_type": "markdown",
      "metadata": {
        "id": "eNpO1meH44JO"
      },
      "source": [
        "The demo still works with the print statement. Let's try the test again."
      ]
    },
    {
      "cell_type": "code",
      "execution_count": null,
      "metadata": {
        "id": "PZKamiG244JO",
        "outputId": "b660a9b0-f8a4-4f43-9d47-ccc7ad97ecd7"
      },
      "outputs": [
        {
          "name": "stdout",
          "output_type": "stream",
          "text": [
            "Index(['baz', 'bop'], dtype='object')\n",
            "Index(['baz', 'bop'], dtype='object')\n"
          ]
        },
        {
          "ename": "AttributeError",
          "evalue": "'DataFrame' object has no attribute 'BAZ'",
          "output_type": "error",
          "traceback": [
            "\u001b[1;31m---------------------------------------------------------------------------\u001b[0m",
            "\u001b[1;31mAttributeError\u001b[0m                            Traceback (most recent call last)",
            "\u001b[1;32m~\\AppData\\Local\\Temp\\ipykernel_25068\\3555638439.py\u001b[0m in \u001b[0;36m?\u001b[1;34m()\u001b[0m\n\u001b[1;32m----> 1\u001b[1;33m \u001b[0mdf\u001b[0m \u001b[1;33m=\u001b[0m \u001b[0mdf_stack\u001b[0m\u001b[1;33m(\u001b[0m\u001b[1;33m[\u001b[0m\u001b[0mdf_foo\u001b[0m\u001b[1;33m,\u001b[0m \u001b[0mdf_test\u001b[0m\u001b[1;33m]\u001b[0m\u001b[1;33m)\u001b[0m\u001b[1;33m\u001b[0m\u001b[1;33m\u001b[0m\u001b[0m\n\u001b[0m",
            "\u001b[1;32m~\\AppData\\Local\\Temp\\ipykernel_25068\\275392311.py\u001b[0m in \u001b[0;36m?\u001b[1;34m(dfs)\u001b[0m\n\u001b[0;32m      3\u001b[0m     \u001b[1;32mfor\u001b[0m \u001b[0mdf\u001b[0m \u001b[1;32min\u001b[0m \u001b[0mdfs\u001b[0m\u001b[1;33m:\u001b[0m\u001b[1;33m\u001b[0m\u001b[1;33m\u001b[0m\u001b[0m\n\u001b[0;32m      4\u001b[0m         \u001b[0mprint\u001b[0m\u001b[1;33m(\u001b[0m\u001b[0mdf\u001b[0m\u001b[1;33m.\u001b[0m\u001b[0mcolumns\u001b[0m\u001b[1;33m)\u001b[0m\u001b[1;33m\u001b[0m\u001b[1;33m\u001b[0m\u001b[0m\n\u001b[0;32m      5\u001b[0m     \u001b[1;31m# end debug code\u001b[0m\u001b[1;33m\u001b[0m\u001b[1;33m\u001b[0m\u001b[1;33m\u001b[0m\u001b[0m\n\u001b[0;32m      6\u001b[0m     \u001b[0mdf_foobar\u001b[0m \u001b[1;33m=\u001b[0m \u001b[0mpd\u001b[0m\u001b[1;33m.\u001b[0m\u001b[0mconcat\u001b[0m\u001b[1;33m(\u001b[0m\u001b[0mdfs\u001b[0m\u001b[1;33m,\u001b[0m \u001b[0maxis\u001b[0m\u001b[1;33m=\u001b[0m\u001b[1;36m0\u001b[0m\u001b[1;33m)\u001b[0m\u001b[1;33m.\u001b[0m\u001b[0mfillna\u001b[0m\u001b[1;33m(\u001b[0m\u001b[1;36m0\u001b[0m\u001b[1;33m)\u001b[0m\u001b[1;33m\u001b[0m\u001b[1;33m\u001b[0m\u001b[0m\n\u001b[1;32m----> 7\u001b[1;33m     \u001b[0mbaz_se\u001b[0m \u001b[1;33m=\u001b[0m \u001b[0mdf_foobar\u001b[0m\u001b[1;33m.\u001b[0m\u001b[0mBAZ\u001b[0m \u001b[1;33m+\u001b[0m \u001b[0mdf_foobar\u001b[0m\u001b[1;33m.\u001b[0m\u001b[0mbaz\u001b[0m\u001b[1;33m\u001b[0m\u001b[1;33m\u001b[0m\u001b[0m\n\u001b[0m\u001b[0;32m      8\u001b[0m     \u001b[0mdf_foobar\u001b[0m\u001b[1;33m.\u001b[0m\u001b[0mdrop\u001b[0m\u001b[1;33m(\u001b[0m\u001b[1;34m'BAZ'\u001b[0m\u001b[1;33m,\u001b[0m\u001b[0maxis\u001b[0m\u001b[1;33m=\u001b[0m\u001b[1;36m1\u001b[0m\u001b[1;33m,\u001b[0m \u001b[0minplace\u001b[0m\u001b[1;33m=\u001b[0m\u001b[1;32mTrue\u001b[0m\u001b[1;33m)\u001b[0m\u001b[1;33m\u001b[0m\u001b[1;33m\u001b[0m\u001b[0m\n\u001b[0;32m      9\u001b[0m     \u001b[0mdf_foobar\u001b[0m\u001b[1;33m[\u001b[0m\u001b[1;34m'baz'\u001b[0m\u001b[1;33m]\u001b[0m \u001b[1;33m=\u001b[0m \u001b[0mbaz_se\u001b[0m\u001b[1;33m\u001b[0m\u001b[1;33m\u001b[0m\u001b[0m\n\u001b[0;32m     10\u001b[0m     \u001b[1;32mreturn\u001b[0m\u001b[1;33m(\u001b[0m\u001b[0mdf_foobar\u001b[0m\u001b[1;33m)\u001b[0m\u001b[1;33m\u001b[0m\u001b[1;33m\u001b[0m\u001b[0m\n",
            "\u001b[1;32mc:\\users\\nawid\\documents\\ta-ing\\venv\\lib\\site-packages\\pandas\\core\\generic.py\u001b[0m in \u001b[0;36m?\u001b[1;34m(self, name)\u001b[0m\n\u001b[0;32m   6200\u001b[0m             \u001b[1;32mand\u001b[0m \u001b[0mname\u001b[0m \u001b[1;32mnot\u001b[0m \u001b[1;32min\u001b[0m \u001b[0mself\u001b[0m\u001b[1;33m.\u001b[0m\u001b[0m_accessors\u001b[0m\u001b[1;33m\u001b[0m\u001b[1;33m\u001b[0m\u001b[0m\n\u001b[0;32m   6201\u001b[0m             \u001b[1;32mand\u001b[0m \u001b[0mself\u001b[0m\u001b[1;33m.\u001b[0m\u001b[0m_info_axis\u001b[0m\u001b[1;33m.\u001b[0m\u001b[0m_can_hold_identifiers_and_holds_name\u001b[0m\u001b[1;33m(\u001b[0m\u001b[0mname\u001b[0m\u001b[1;33m)\u001b[0m\u001b[1;33m\u001b[0m\u001b[1;33m\u001b[0m\u001b[0m\n\u001b[0;32m   6202\u001b[0m         ):\n\u001b[0;32m   6203\u001b[0m             \u001b[1;32mreturn\u001b[0m \u001b[0mself\u001b[0m\u001b[1;33m[\u001b[0m\u001b[0mname\u001b[0m\u001b[1;33m]\u001b[0m\u001b[1;33m\u001b[0m\u001b[1;33m\u001b[0m\u001b[0m\n\u001b[1;32m-> 6204\u001b[1;33m         \u001b[1;32mreturn\u001b[0m \u001b[0mobject\u001b[0m\u001b[1;33m.\u001b[0m\u001b[0m__getattribute__\u001b[0m\u001b[1;33m(\u001b[0m\u001b[0mself\u001b[0m\u001b[1;33m,\u001b[0m \u001b[0mname\u001b[0m\u001b[1;33m)\u001b[0m\u001b[1;33m\u001b[0m\u001b[1;33m\u001b[0m\u001b[0m\n\u001b[0m",
            "\u001b[1;31mAttributeError\u001b[0m: 'DataFrame' object has no attribute 'BAZ'"
          ]
        }
      ],
      "source": [
        "df = df_stack([df_foo, df_test])"
      ]
    },
    {
      "cell_type": "markdown",
      "metadata": {
        "id": "07CkmamH44JO"
      },
      "source": [
        "We got the same error traceback, but this time we are armed with more information. The test list didn't have any columns named \"BAZ\"! By directly referencing the column, we require it to exist. Another logical conclusion is if **none** of the baz columns in dfs are named \"baz\" our code will also throw an error.\n",
        "\n",
        "Somehow we need to change the names of the columns named \"BAZ\" to \"baz\" **without requiring that either name exists** (only one or the other), and this should probably be done before the concatenation."
      ]
    },
    {
      "cell_type": "code",
      "execution_count": null,
      "metadata": {
        "id": "n3_8CaOd44JO",
        "outputId": "d68f8210-464c-47d5-c75e-7874954d9975"
      },
      "outputs": [
        {
          "name": "stdout",
          "output_type": "stream",
          "text": [
            "Index(['baz', 'bop'], dtype='object')\n",
            "Index(['BAZ', 'bop'], dtype='object')\n",
            "   baz  bop\n",
            "0    1   11\n",
            "1    2   12\n",
            "2    3   13\n",
            "3    4   14\n",
            "0    1   11\n",
            "1    2   12\n",
            "2    3   13\n",
            "3    4   14\n"
          ]
        }
      ],
      "source": [
        "def df_stack(dfs):\n",
        "    # begin debug code\n",
        "    for df in dfs:\n",
        "        print(df.columns)\n",
        "    # end debug code\n",
        "\n",
        "#     Old implementation\n",
        "\n",
        "#     df_foobar = pd.concat(dfs, axis=0).fillna(0)\n",
        "#     baz_se = df_foobar.BAZ + df_foobar.baz\n",
        "#     df_foobar.drop('BAZ',axis=1, inplace=True)\n",
        "#     df_foobar[['baz']] = baz_se\n",
        "    dfs_new = [df.rename(columns = {'BAZ' : 'baz'})for df in dfs]\n",
        "    df_foobar = pd.concat(dfs_new)\n",
        "    return(df_foobar)\n",
        "\n",
        "print(df_stack([df_foo, df_bar]))"
      ]
    },
    {
      "cell_type": "code",
      "execution_count": null,
      "metadata": {
        "id": "v3J_X0OU44JP",
        "outputId": "4f2e2d5b-269b-4299-8485-fc90d6c75f9d"
      },
      "outputs": [
        {
          "name": "stdout",
          "output_type": "stream",
          "text": [
            "Index(['baz', 'bop'], dtype='object')\n",
            "Index(['baz', 'bop'], dtype='object')\n"
          ]
        }
      ],
      "source": [
        "df = df_stack([df_foo, df_test])"
      ]
    },
    {
      "cell_type": "code",
      "execution_count": null,
      "metadata": {
        "id": "peyrrLpQ44JP",
        "outputId": "ea521629-cdbc-495b-a8a9-46b6a1671236"
      },
      "outputs": [
        {
          "name": "stdout",
          "output_type": "stream",
          "text": [
            "   baz  bop\n",
            "0    1   11\n",
            "1    2   12\n",
            "2    3   13\n",
            "3    4   14\n",
            "0    1   11\n",
            "1    2   12\n",
            "2    3   13\n",
            "3    4   14\n"
          ]
        }
      ],
      "source": [
        "print(df)"
      ]
    },
    {
      "cell_type": "markdown",
      "metadata": {
        "id": "YNV95UVt44JP"
      },
      "source": [
        "The solution above uses the pd.rename function to handle the naming issue. This function checks the column names for any of the keys in the dictionary. If the key is found, the column name is changed in the output, but the key **is not required to be used**."
      ]
    },
    {
      "cell_type": "markdown",
      "metadata": {
        "id": "1t9WDqcX44JP"
      },
      "source": [
        "# One frustrating type of assertion error"
      ]
    },
    {
      "cell_type": "markdown",
      "metadata": {
        "id": "jYp8yRTq44JP"
      },
      "source": [
        "I know we said assertion errors weren't going to be the focus of this notebook, but one case is worth looking into. Suppose a function defined in an exercise solution returns a large collection of outputs called stu_arr, and the instructor's solution called ins_arr."
      ]
    },
    {
      "cell_type": "code",
      "execution_count": null,
      "metadata": {
        "id": "xvIRgXUD44JP",
        "outputId": "1c187b92-a1af-4d05-f18f-dd3aeff6e617"
      },
      "outputs": [
        {
          "ename": "AssertionError",
          "evalue": "Student list did not match instructor list",
          "output_type": "error",
          "traceback": [
            "\u001b[1;31m---------------------------------------------------------------------------\u001b[0m",
            "\u001b[1;31mAssertionError\u001b[0m                            Traceback (most recent call last)",
            "Cell \u001b[1;32mIn[25], line 3\u001b[0m\n\u001b[0;32m      1\u001b[0m \u001b[38;5;28;01mfrom\u001b[39;00m \u001b[38;5;21;01mfoobar\u001b[39;00m \u001b[38;5;28;01mimport\u001b[39;00m stu_arr, ins_arr\n\u001b[0;32m      2\u001b[0m \u001b[38;5;28;01massert\u001b[39;00m stu_arr\u001b[38;5;241m.\u001b[39mshape \u001b[38;5;241m==\u001b[39m ins_arr\u001b[38;5;241m.\u001b[39mshape, \u001b[38;5;124m\"\u001b[39m\u001b[38;5;124mStudent array has incorrect shape\u001b[39m\u001b[38;5;124m\"\u001b[39m\n\u001b[1;32m----> 3\u001b[0m \u001b[38;5;28;01massert\u001b[39;00m (stu_arr \u001b[38;5;241m==\u001b[39m ins_arr)\u001b[38;5;241m.\u001b[39mall(), \u001b[38;5;124m\"\u001b[39m\u001b[38;5;124mStudent list did not match instructor list\u001b[39m\u001b[38;5;124m\"\u001b[39m\n",
            "\u001b[1;31mAssertionError\u001b[0m: Student list did not match instructor list"
          ]
        }
      ],
      "source": [
        "from foobar import stu_arr, ins_arr\n",
        "assert stu_arr.shape == ins_arr.shape, \"Student array has incorrect shape\"\n",
        "assert (stu_arr == ins_arr).all(), \"Student list did not match instructor list\""
      ]
    },
    {
      "cell_type": "markdown",
      "metadata": {
        "id": "FgvOgJcW44JP"
      },
      "source": [
        "Ok, somewhere our function runs but doesn't compute the correct value. The next step is to find out where. Let's try printing the right answer, the generated answer, and a conditional array that checks for matches..."
      ]
    },
    {
      "cell_type": "code",
      "execution_count": null,
      "metadata": {
        "id": "7okwwzVo44JP",
        "outputId": "b5ed607b-4fe2-4778-dccc-f9fde54fdea2"
      },
      "outputs": [
        {
          "name": "stdout",
          "output_type": "stream",
          "text": [
            "[1. 1. 1. ... 1. 1. 1.]\n",
            "[1. 1. 1. ... 1. 1. 1.]\n",
            "[ True  True  True ...  True  True  True]\n"
          ]
        }
      ],
      "source": [
        "print(stu_arr)\n",
        "print(ins_arr)\n",
        "print(ins_arr == stu_arr)"
      ]
    },
    {
      "cell_type": "markdown",
      "metadata": {
        "id": "-ka0GKLR44JP"
      },
      "source": [
        "That didn't do much good. Is there a problem in the test, because it looks like everything matches? The issue with this strategy is the output is truncated because the arrays are huge. We need to figure out where our code outputs the wrong answer so that we can investigate how it gets there."
      ]
    },
    {
      "cell_type": "code",
      "execution_count": null,
      "metadata": {
        "id": "tJnEbs-744JP",
        "outputId": "b34e0acc-072d-4262-c3bc-9769211815e1"
      },
      "outputs": [
        {
          "name": "stdout",
          "output_type": "stream",
          "text": [
            "[25, 723, 1995, 5000]\n",
            "[1. 1. 1. 1.]\n",
            "[0. 0. 0. 0.]\n"
          ]
        }
      ],
      "source": [
        "wrong = [i for i, c in enumerate(ins_arr != stu_arr) if c]\n",
        "print(wrong)\n",
        "print(stu_arr[wrong])\n",
        "print(ins_arr[wrong])"
      ]
    },
    {
      "cell_type": "markdown",
      "metadata": {
        "id": "0eeMBQlN44JP"
      },
      "source": [
        "The list comprehension stored in wrong is the index of all of the mismatches. With this information, you can investigate the few edge cases that are causing the assertion failure. This technique will often quickly point you towards what isn't being handled correctly in your function. Since these arrays are just dummy examples, we can't go much further. However, this is a good starting point in your debugging process if you're having this type of assertion failure."
      ]
    },
    {
      "cell_type": "markdown",
      "metadata": {
        "id": "AeVwZsi144JT"
      },
      "source": [
        "# Key Takeaways"
      ]
    },
    {
      "cell_type": "markdown",
      "metadata": {
        "id": "AhVmfJkK44JT"
      },
      "source": [
        " * If there are issues with failing hidden test cells, look at the **Grading report**. (Details -> View Grading Report)\n",
        "     * This is where the error traceback you need to look at lives.\n",
        "     * Sometimes this requires finding errors above the test cell where variable assignments fail.\n",
        " * Look at the whole error traceback\n",
        " * **Look at the whole error traceback**\n",
        " * Use the traceback to get clues as to why your code is failing.\n",
        "     * Which function call resulted in the error? Focus on functions where you actually wrote some code.\n",
        "     * What type of error is it?\n",
        "     * What attribute is causing the error (shape, column name, index out of bounds, variable name, etc)?\n",
        " * Use print or assert to investigate the source of the error. It is rarely useful to print out entire data frames or arrays, because those usually get truncated.\n",
        " * If there is an assertion error, look for the mismatches. They can usually point you in the right direction."
      ]
    },
    {
      "cell_type": "markdown",
      "metadata": {
        "id": "5uvt2qv444JT"
      },
      "source": [
        "This notebook isn't inended to be a complete guide to debugging. Hopefully these strategies are helpful in completing the notebooks in this course."
      ]
    }
  ],
  "metadata": {
    "kernelspec": {
      "display_name": "Python 3 (ipykernel)",
      "language": "python",
      "name": "python3"
    },
    "language_info": {
      "codemirror_mode": {
        "name": "ipython",
        "version": 3
      },
      "file_extension": ".py",
      "mimetype": "text/x-python",
      "name": "python",
      "nbconvert_exporter": "python",
      "pygments_lexer": "ipython3",
      "version": "3.9.5"
    },
    "colab": {
      "provenance": [],
      "include_colab_link": true
    }
  },
  "nbformat": 4,
  "nbformat_minor": 0
}