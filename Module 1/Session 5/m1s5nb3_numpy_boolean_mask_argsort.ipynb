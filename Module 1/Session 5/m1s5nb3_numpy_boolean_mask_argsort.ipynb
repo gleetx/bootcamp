{
  "cells": [
    {
      "cell_type": "markdown",
      "metadata": {
        "id": "view-in-github",
        "colab_type": "text"
      },
      "source": [
        "<a href=\"https://colab.research.google.com/github/gleetx/bootcamp/blob/main/Module%201/Session%205/m1s5nb3_numpy_boolean_mask_argsort.ipynb\" target=\"_parent\"><img src=\"https://colab.research.google.com/assets/colab-badge.svg\" alt=\"Open In Colab\"/></a>"
      ]
    },
    {
      "cell_type": "markdown",
      "id": "0acde91d",
      "metadata": {
        "id": "0acde91d"
      },
      "source": [
        "# Numpy Boolean Masks and argsort()"
      ]
    },
    {
      "cell_type": "code",
      "execution_count": 2,
      "id": "1c9e9523",
      "metadata": {
        "id": "1c9e9523"
      },
      "outputs": [],
      "source": [
        "import numpy as np"
      ]
    },
    {
      "cell_type": "markdown",
      "id": "9f991718",
      "metadata": {
        "id": "9f991718"
      },
      "source": [
        "### Why are we covering these two topics?\n",
        "\n",
        "#### Historically, students have had difficulty understanding these two concepts when asked to use them in homework and exam exercises. So we introduce them here, to help with that understanding. We will not be doing complex exercises here, but simply introducing the concepts."
      ]
    },
    {
      "cell_type": "markdown",
      "id": "079ca192",
      "metadata": {
        "id": "079ca192"
      },
      "source": [
        "# Numpy boolean masks"
      ]
    },
    {
      "cell_type": "markdown",
      "id": "e74cb74e",
      "metadata": {
        "id": "e74cb74e"
      },
      "source": [
        "### What is a boolean mask?\n",
        "\n",
        "**In pandas, as we saw earlier, a mask is used filter and return only the rows that meet a certain condition.**\n",
        "\n",
        "**In numpy however, a mask creates a \"truth array\" of the same shape as the source array being compared.**\n",
        "\n",
        "**Each element in the \"truth array\" will have a value of either `True` or `False`, depending on the result of the comparison on that element in the source array.**\n",
        "\n",
        "**You can then use the truth array to filter/select only the source array elements that you need in your exercise.**"
      ]
    },
    {
      "cell_type": "code",
      "execution_count": 3,
      "id": "8e615152",
      "metadata": {
        "id": "8e615152",
        "outputId": "5f9c59bd-435f-498e-905b-388adf46a050",
        "colab": {
          "base_uri": "https://localhost:8080/",
          "height": 71
        }
      },
      "outputs": [
        {
          "output_type": "display_data",
          "data": {
            "text/plain": [
              "array([[1, 1, 1],\n",
              "       [6, 2, 8],\n",
              "       [2, 6, 3]])"
            ]
          },
          "metadata": {}
        }
      ],
      "source": [
        " # create two 2x2 numpy arrays\n",
        "a = np.random.randint(0,10,(3,3))\n",
        "display(a)"
      ]
    },
    {
      "cell_type": "code",
      "execution_count": 4,
      "id": "679ed47a",
      "metadata": {
        "id": "679ed47a",
        "outputId": "abb107fc-b7c3-49a2-b3e2-afd840e7abde",
        "colab": {
          "base_uri": "https://localhost:8080/"
        }
      },
      "outputs": [
        {
          "output_type": "execute_result",
          "data": {
            "text/plain": [
              "array([[ True,  True,  True],\n",
              "       [False,  True, False],\n",
              "       [ True, False,  True]])"
            ]
          },
          "metadata": {},
          "execution_count": 4
        }
      ],
      "source": [
        " a < 5"
      ]
    },
    {
      "cell_type": "code",
      "execution_count": 5,
      "id": "91d147c7",
      "metadata": {
        "id": "91d147c7",
        "outputId": "686acbc3-b437-4426-f960-7e1c79527ab4",
        "colab": {
          "base_uri": "https://localhost:8080/",
          "height": 88
        }
      },
      "outputs": [
        {
          "output_type": "display_data",
          "data": {
            "text/plain": [
              "array([[ True,  True,  True],\n",
              "       [False,  True, False],\n",
              "       [ True, False,  True]])"
            ]
          },
          "metadata": {}
        },
        {
          "output_type": "display_data",
          "data": {
            "text/plain": [
              "dtype('bool')"
            ]
          },
          "metadata": {}
        }
      ],
      "source": [
        "# using parentheses for readability\n",
        "truth_less_than_five = (a < 5)\n",
        "display(truth_less_than_five)\n",
        "display(truth_less_than_five.dtype)"
      ]
    },
    {
      "cell_type": "code",
      "execution_count": 6,
      "id": "31eebe75",
      "metadata": {
        "id": "31eebe75",
        "outputId": "b6122ba0-3910-4d85-e17e-fc65c66f877f",
        "colab": {
          "base_uri": "https://localhost:8080/",
          "height": 88
        }
      },
      "outputs": [
        {
          "output_type": "display_data",
          "data": {
            "text/plain": [
              "array([[False, False, False],\n",
              "       [ True, False,  True],\n",
              "       [False,  True, False]])"
            ]
          },
          "metadata": {}
        },
        {
          "output_type": "display_data",
          "data": {
            "text/plain": [
              "dtype('bool')"
            ]
          },
          "metadata": {}
        }
      ],
      "source": [
        "# using parentheses for readability\n",
        "truth_greater_equal_five = (a >= 5)\n",
        "display(truth_greater_equal_five)\n",
        "display(truth_greater_equal_five.dtype)"
      ]
    },
    {
      "cell_type": "markdown",
      "id": "884a7ed2",
      "metadata": {
        "id": "884a7ed2"
      },
      "source": [
        "Now to select these values from the array, we can simply index on this Boolean array; this is known as a masking operation:"
      ]
    },
    {
      "cell_type": "code",
      "execution_count": 9,
      "id": "1a35c716",
      "metadata": {
        "id": "1a35c716",
        "outputId": "c059ccf6-411d-4f7c-f066-ad8df92704c2",
        "colab": {
          "base_uri": "https://localhost:8080/"
        }
      },
      "outputs": [
        {
          "output_type": "execute_result",
          "data": {
            "text/plain": [
              "array([1, 1, 1, 2, 2, 3])"
            ]
          },
          "metadata": {},
          "execution_count": 9
        }
      ],
      "source": [
        "a[a < 5]"
      ]
    },
    {
      "cell_type": "code",
      "execution_count": 8,
      "id": "cd3dec44",
      "metadata": {
        "id": "cd3dec44",
        "outputId": "1cf82d55-bf28-456a-e350-026e43f46798",
        "colab": {
          "base_uri": "https://localhost:8080/"
        }
      },
      "outputs": [
        {
          "output_type": "execute_result",
          "data": {
            "text/plain": [
              "array([1, 1, 1, 2, 2, 3])"
            ]
          },
          "metadata": {},
          "execution_count": 8
        }
      ],
      "source": [
        "a[truth_less_than_five]"
      ]
    },
    {
      "cell_type": "code",
      "source": [
        "a[(a < 5) | (a == 8)]"
      ],
      "metadata": {
        "id": "Wmo4mhIHcE8x",
        "outputId": "0beab447-a949-4be4-cb32-f6f281841d03",
        "colab": {
          "base_uri": "https://localhost:8080/"
        }
      },
      "id": "Wmo4mhIHcE8x",
      "execution_count": 13,
      "outputs": [
        {
          "output_type": "execute_result",
          "data": {
            "text/plain": [
              "array([1, 1, 1, 2, 8, 2, 3])"
            ]
          },
          "metadata": {},
          "execution_count": 13
        }
      ]
    },
    {
      "cell_type": "code",
      "source": [
        "a[(a < 5) & (a == 8)]"
      ],
      "metadata": {
        "id": "i3apsS5tcz8x",
        "outputId": "f945d63e-92e2-4dda-b541-0bb63aa50b8f",
        "colab": {
          "base_uri": "https://localhost:8080/"
        }
      },
      "id": "i3apsS5tcz8x",
      "execution_count": 14,
      "outputs": [
        {
          "output_type": "execute_result",
          "data": {
            "text/plain": [
              "array([], dtype=int64)"
            ]
          },
          "metadata": {},
          "execution_count": 14
        }
      ]
    },
    {
      "cell_type": "code",
      "source": [
        "a[a < 3][0]"
      ],
      "metadata": {
        "id": "sI0hSRM_dBSn",
        "outputId": "aa1a6b7b-3f93-4395-95ee-cd8ff4a61c5b",
        "colab": {
          "base_uri": "https://localhost:8080/"
        }
      },
      "id": "sI0hSRM_dBSn",
      "execution_count": 20,
      "outputs": [
        {
          "output_type": "execute_result",
          "data": {
            "text/plain": [
              "1"
            ]
          },
          "metadata": {},
          "execution_count": 20
        }
      ]
    },
    {
      "cell_type": "code",
      "source": [
        "# use boolean mask when you want the actual value\n",
        "print(\"use boolean mask when want actual value: \", a[a < 5], '\\n')\n",
        "\n",
        "# use numpy.where() when you want to index position\n",
        "where_arr = np.array([1,2,3,4,100])\n",
        "x = np.where(where_arr == 100)\n",
        "print(\"numpy.where() when want index position: \", x)\n"
      ],
      "metadata": {
        "id": "XcDInRmOeIl0",
        "outputId": "d0bfda3b-067a-42e4-93a0-186d68ce7170",
        "colab": {
          "base_uri": "https://localhost:8080/"
        }
      },
      "id": "XcDInRmOeIl0",
      "execution_count": 26,
      "outputs": [
        {
          "output_type": "stream",
          "name": "stdout",
          "text": [
            "use boolean mask when want actual value:  [1 1 1 2 2 3] \n",
            "\n",
            "numpy.where() when want index position:  (array([4]),)\n"
          ]
        }
      ]
    },
    {
      "cell_type": "markdown",
      "id": "33ea6a5a",
      "metadata": {
        "id": "33ea6a5a"
      },
      "source": [
        "What is returned is a one-dimensional array filled with all the values that meet this condition; in other words, all the values in positions at which the mask array is `True`.\n",
        "\n",
        "**We can then use these values as required in the exercise. This is the key takeaway here. When we want to filter/return only the values that meet some criteria, we want to use a Boolean Mask to do so.**"
      ]
    },
    {
      "cell_type": "markdown",
      "id": "235d9092",
      "metadata": {
        "id": "235d9092"
      },
      "source": [
        "**You will see applications of this in the homework notebooks and sample/practice midterm and final exam notebooks.**"
      ]
    },
    {
      "cell_type": "markdown",
      "id": "ffd98d10",
      "metadata": {
        "id": "ffd98d10"
      },
      "source": [
        "The numpy documentation has an excellent reference on the logic and functions you can use when applying Boolean Masks:  https://numpy.org/doc/stable/reference/routines.logic.html\n",
        "\n",
        "As noted previously, Vanderplas has a good introduction to Boolean Masks in his book:  https://jakevdp.github.io/PythonDataScienceHandbook/02.06-boolean-arrays-and-masks.html"
      ]
    },
    {
      "cell_type": "markdown",
      "id": "aa86e53c",
      "metadata": {
        "id": "aa86e53c"
      },
      "source": [
        "### What are your questions on Boolean Masks?"
      ]
    },
    {
      "cell_type": "markdown",
      "id": "4dcaec59",
      "metadata": {
        "id": "4dcaec59"
      },
      "source": [
        "# argsort() function\n",
        "\n",
        "Documentation link:  https://numpy.org/doc/stable/reference/generated/numpy.argsort.html"
      ]
    },
    {
      "cell_type": "markdown",
      "id": "d0c76ab3",
      "metadata": {
        "id": "d0c76ab3"
      },
      "source": [
        "### The np.argsort() function is used to return the indices that would sort an array.\n",
        "\n",
        "#### So the function returns an array of indexes of the same shape as `a` that index data along the given axis in sorted order (from the documentation)."
      ]
    },
    {
      "cell_type": "markdown",
      "id": "cd738c57",
      "metadata": {
        "id": "cd738c57"
      },
      "source": [
        "OK, so what does this mean, in practice?\n",
        "\n",
        "The function will return an integer array, with the same shape as the source array, with the values being the index locations of the sorted source array values. The returned array does not sort the values themselves, but it gives us what the order of the sorted values would be.\n",
        "\n",
        "Let's look at a simple example for understanding."
      ]
    },
    {
      "cell_type": "code",
      "execution_count": 27,
      "id": "6fc6d43c",
      "metadata": {
        "id": "6fc6d43c",
        "outputId": "88b5d744-8cc5-4cde-abdb-550a3d444784",
        "colab": {
          "base_uri": "https://localhost:8080/"
        }
      },
      "outputs": [
        {
          "output_type": "execute_result",
          "data": {
            "text/plain": [
              "array([3, 4, 2, 1, 5, 0])"
            ]
          },
          "metadata": {},
          "execution_count": 27
        }
      ],
      "source": [
        "a = np.array([5, 3, 2, 0, 1, 4])\n",
        "np.argsort(a)"
      ]
    },
    {
      "cell_type": "markdown",
      "id": "d1e894fe",
      "metadata": {
        "id": "d1e894fe"
      },
      "source": [
        "OK, so what is this array telling us?\n",
        "\n",
        "1. The element at index = 3 is the first element in the sorted order (0 is the lowest value).\n",
        "2. The element at index = 4 is the second element in the sorted order (1 is the next lowest value).\n",
        "3. The element at index = 2 is the third element in the sorted order (2 is the next lowest value).\n",
        ".......\n",
        "4. The element at index = 0 is the largest element in the sorted order (5 is the highest value)."
      ]
    },
    {
      "cell_type": "code",
      "source": [
        "# example of sorting an array before we start\n",
        "unsorted_arr = np.array([100, 34, 0, 1000])\n",
        "np.sort(unsorted_arr)"
      ],
      "metadata": {
        "id": "I7aOMYO0hZ72",
        "outputId": "d84fc9cc-cb25-40cb-ca35-cbe085672b2b",
        "colab": {
          "base_uri": "https://localhost:8080/"
        }
      },
      "id": "I7aOMYO0hZ72",
      "execution_count": 30,
      "outputs": [
        {
          "output_type": "execute_result",
          "data": {
            "text/plain": [
              "array([   0,   34,  100, 1000])"
            ]
          },
          "metadata": {},
          "execution_count": 30
        }
      ]
    },
    {
      "cell_type": "markdown",
      "source": [
        "We rather care the position of the sorted array by index position which uses argsort()"
      ],
      "metadata": {
        "id": "CtGuSiDjhrDx"
      },
      "id": "CtGuSiDjhrDx"
    },
    {
      "cell_type": "markdown",
      "id": "03a73098",
      "metadata": {
        "id": "03a73098"
      },
      "source": [
        "Does it sort float values in the same manner?"
      ]
    },
    {
      "cell_type": "code",
      "execution_count": 29,
      "id": "7032437c",
      "metadata": {
        "id": "7032437c",
        "outputId": "349855b4-aaa3-46bb-ed87-79dc6647cf97",
        "colab": {
          "base_uri": "https://localhost:8080/"
        }
      },
      "outputs": [
        {
          "output_type": "execute_result",
          "data": {
            "text/plain": [
              "array([3, 4, 2, 1, 5, 0])"
            ]
          },
          "metadata": {},
          "execution_count": 29
        }
      ],
      "source": [
        "# .argsort() gives the index position\n",
        "b = np.array([5.0, 3.0, 2.0, 0.0, 1.0, 4.0])\n",
        "np.argsort(b)"
      ]
    },
    {
      "cell_type": "markdown",
      "id": "0a833cf4",
      "metadata": {
        "id": "0a833cf4"
      },
      "source": [
        "What about strings?"
      ]
    },
    {
      "cell_type": "code",
      "execution_count": 28,
      "id": "039ca3fa",
      "metadata": {
        "id": "039ca3fa",
        "outputId": "17bc49d6-7883-4657-bcf5-b2bc1a662769",
        "colab": {
          "base_uri": "https://localhost:8080/"
        }
      },
      "outputs": [
        {
          "output_type": "execute_result",
          "data": {
            "text/plain": [
              "array([4, 3, 1, 0, 5, 2])"
            ]
          },
          "metadata": {},
          "execution_count": 28
        }
      ],
      "source": [
        "c = np.array(['p','m','x','h','a','t'])\n",
        "np.argsort(c)"
      ]
    },
    {
      "cell_type": "markdown",
      "id": "1f72a3e4",
      "metadata": {
        "id": "1f72a3e4"
      },
      "source": [
        "Now let's look at a simple example. While this may seem fairly straightforward, conceptually, this is the types of exercise that you will see in the homework notebooks and on the exams."
      ]
    },
    {
      "cell_type": "markdown",
      "id": "adb2b4c7",
      "metadata": {
        "id": "adb2b4c7"
      },
      "source": [
        "**Requirement:**\n",
        "\n",
        "What are the three largest values in an array?\n",
        "\n",
        "Return a numpy array with these three values."
      ]
    },
    {
      "cell_type": "code",
      "execution_count": 31,
      "id": "f054ff23",
      "metadata": {
        "id": "f054ff23",
        "outputId": "4241f32d-717b-4ea1-f0bf-56892fcb0285",
        "colab": {
          "base_uri": "https://localhost:8080/"
        }
      },
      "outputs": [
        {
          "output_type": "execute_result",
          "data": {
            "text/plain": [
              "array([ 68,  43,   2, 100,  54,   5,  12,  76,  23,  37])"
            ]
          },
          "metadata": {},
          "execution_count": 31
        }
      ],
      "source": [
        "\n",
        "# intialize an array\n",
        "a = np.array([68,43,2,100,54,5,12,76,23,37])\n",
        "a"
      ]
    },
    {
      "cell_type": "markdown",
      "id": "a4a554bd",
      "metadata": {
        "id": "a4a554bd"
      },
      "source": [
        "Using visual inspection, what are the three largest values?\n",
        "\n",
        "1. Value = 100, at index 3.\n",
        "2. Value = 76, at index 7.\n",
        "3. Value = 68, at index 0."
      ]
    },
    {
      "cell_type": "code",
      "execution_count": 32,
      "id": "17919a52",
      "metadata": {
        "id": "17919a52",
        "outputId": "fb195797-7e96-4035-ade3-0fd1783f1135",
        "colab": {
          "base_uri": "https://localhost:8080/"
        }
      },
      "outputs": [
        {
          "output_type": "execute_result",
          "data": {
            "text/plain": [
              "array([2, 5, 6, 8, 9, 1, 4, 0, 7, 3])"
            ]
          },
          "metadata": {},
          "execution_count": 32
        }
      ],
      "source": [
        "# using argsort, get indices of the values, arranged in ascending order\n",
        "np.argsort(a)"
      ]
    },
    {
      "cell_type": "markdown",
      "id": "700e0d42",
      "metadata": {
        "id": "700e0d42"
      },
      "source": [
        "#### Recall slicing of arrays, for the cells below.\n",
        "\n",
        "We use square brackets to access subarrays with the slice notation, marked by the colon (:) character. The NumPy slicing syntax follows that of the standard Python list; to access a slice of an array x, use this:\n",
        "\n",
        "**x[start:stop:step]**\n",
        "\n",
        "If any of these are unspecified, they default to the values `start=0`, `stop=size of dimension`, `step=1`.\n",
        "\n",
        "\n",
        "Good reference, go down about 1/3rd of the page:  https://jakevdp.github.io/PythonDataScienceHandbook/02.02-the-basics-of-numpy-arrays.html"
      ]
    },
    {
      "cell_type": "code",
      "execution_count": 33,
      "id": "6c95376f",
      "metadata": {
        "id": "6c95376f",
        "outputId": "000df968-63da-475d-d7a5-17c041714a15",
        "colab": {
          "base_uri": "https://localhost:8080/"
        }
      },
      "outputs": [
        {
          "output_type": "execute_result",
          "data": {
            "text/plain": [
              "array([0, 7, 3])"
            ]
          },
          "metadata": {},
          "execution_count": 33
        }
      ],
      "source": [
        "# return three highest value index of array\n",
        "# In the slice notation, we are telling it to return the last three values of the sort array,\n",
        "# which are the indexes of the three largest values in the original array.\n",
        "\n",
        "np.argsort(a)[-3::]"
      ]
    },
    {
      "cell_type": "markdown",
      "id": "b52088d2",
      "metadata": {
        "id": "b52088d2"
      },
      "source": [
        "Note that in the above, we have included both sets of `colons` in the code `[::]`.\n",
        "\n",
        "Because we are only defining the first part of the slice notation (give us the last three elements), we actually don't **NEED** the second colon.\n",
        "\n",
        "So the two lines below are equivalent.\n",
        "\n",
        "We are using the code with **BOTH COLONS** `[::]` for ease of understanding."
      ]
    },
    {
      "cell_type": "code",
      "execution_count": 34,
      "id": "a0db7a6d",
      "metadata": {
        "id": "a0db7a6d",
        "outputId": "fc844509-43f9-4580-db6f-aaaa673c9734",
        "colab": {
          "base_uri": "https://localhost:8080/",
          "height": 53
        }
      },
      "outputs": [
        {
          "output_type": "display_data",
          "data": {
            "text/plain": [
              "array([0, 7, 3])"
            ]
          },
          "metadata": {}
        },
        {
          "output_type": "display_data",
          "data": {
            "text/plain": [
              "array([0, 7, 3])"
            ]
          },
          "metadata": {}
        }
      ],
      "source": [
        "# the two lines of code below are equivalent\n",
        "display(np.argsort(a)[-3::])\n",
        "display(np.argsort(a)[-3:])"
      ]
    },
    {
      "cell_type": "code",
      "execution_count": 35,
      "id": "8cc6e939",
      "metadata": {
        "id": "8cc6e939",
        "outputId": "10a1c442-c3e7-43ca-cdf5-beba27568d1c",
        "colab": {
          "base_uri": "https://localhost:8080/"
        }
      },
      "outputs": [
        {
          "output_type": "execute_result",
          "data": {
            "text/plain": [
              "array([3, 7, 0])"
            ]
          },
          "metadata": {},
          "execution_count": 35
        }
      ],
      "source": [
        "# Now let's arrange the sort array in ascending order of index, for the top three\n",
        "# We are taking the array from the previous cell and using slice notation\n",
        "# to sort the indexes in reverse order (step = -1)\n",
        "# Note that we are still returning the indexes from the original array.\n",
        "np.argsort(a)[-3::][::-1]"
      ]
    },
    {
      "cell_type": "code",
      "execution_count": 37,
      "id": "86e42dcc",
      "metadata": {
        "id": "86e42dcc",
        "outputId": "07b0c669-2a0c-4f9e-cc91-f3de48e914bb",
        "colab": {
          "base_uri": "https://localhost:8080/"
        }
      },
      "outputs": [
        {
          "output_type": "execute_result",
          "data": {
            "text/plain": [
              "array([100,  76,  68])"
            ]
          },
          "metadata": {},
          "execution_count": 37
        }
      ],
      "source": [
        "# Finally, let's return the 3 highest values from the original array\n",
        "# Remember from the last step the we are returning, in sorted order, the\n",
        "# indexes of the top three values.\n",
        "# So all we are doing now is returning the values at those indexes.\n",
        "# feed it back into our array to get the values\n",
        "a[np.argsort(a)[-3::][::-1]]"
      ]
    },
    {
      "cell_type": "code",
      "execution_count": 38,
      "id": "b0891722",
      "metadata": {
        "id": "b0891722",
        "outputId": "43c7c6ec-4296-4cc1-b195-97fc548c3116",
        "colab": {
          "base_uri": "https://localhost:8080/"
        }
      },
      "outputs": [
        {
          "output_type": "execute_result",
          "data": {
            "text/plain": [
              "array([100,  76,  68])"
            ]
          },
          "metadata": {},
          "execution_count": 38
        }
      ],
      "source": [
        "# This is the same as:\n",
        "a[[3,7,0]]"
      ]
    },
    {
      "cell_type": "code",
      "source": [
        "# you could just use sort if you want just the values\n",
        "a.sort()\n",
        "a"
      ],
      "metadata": {
        "id": "dHNqcsY0jxN4",
        "outputId": "ce638033-b575-4672-930f-bf9951a93de4",
        "colab": {
          "base_uri": "https://localhost:8080/"
        }
      },
      "id": "dHNqcsY0jxN4",
      "execution_count": 39,
      "outputs": [
        {
          "output_type": "execute_result",
          "data": {
            "text/plain": [
              "array([  2,   5,  12,  23,  37,  43,  54,  68,  76, 100])"
            ]
          },
          "metadata": {},
          "execution_count": 39
        }
      ]
    },
    {
      "cell_type": "markdown",
      "id": "e07726a0",
      "metadata": {
        "id": "e07726a0"
      },
      "source": [
        "### What are your questions on argsort()?"
      ]
    }
  ],
  "metadata": {
    "colab": {
      "provenance": [],
      "include_colab_link": true
    },
    "kernelspec": {
      "display_name": "Python 3 (ipykernel)",
      "language": "python",
      "name": "python3"
    },
    "language_info": {
      "codemirror_mode": {
        "name": "ipython",
        "version": 3
      },
      "file_extension": ".py",
      "mimetype": "text/x-python",
      "name": "python",
      "nbconvert_exporter": "python",
      "pygments_lexer": "ipython3",
      "version": "3.9.13"
    }
  },
  "nbformat": 4,
  "nbformat_minor": 5
}