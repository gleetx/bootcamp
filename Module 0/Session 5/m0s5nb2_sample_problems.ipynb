{
  "cells": [
    {
      "cell_type": "markdown",
      "metadata": {
        "id": "view-in-github",
        "colab_type": "text"
      },
      "source": [
        "<a href=\"https://colab.research.google.com/github/gleetx/bootcamp/blob/main/Module%200/Session%205/m0s5nb2_sample_problems.ipynb\" target=\"_parent\"><img src=\"https://colab.research.google.com/assets/colab-badge.svg\" alt=\"Open In Colab\"/></a>"
      ]
    },
    {
      "cell_type": "markdown",
      "metadata": {
        "id": "Sna2Tdi3QN-u"
      },
      "source": [
        "# Example Dictionary Problems: More Advanced"
      ]
    },
    {
      "cell_type": "markdown",
      "metadata": {
        "id": "KQ1fepzwQN-w"
      },
      "source": [
        "## Introduction"
      ]
    },
    {
      "cell_type": "markdown",
      "metadata": {
        "id": "kfEQAQpWQN-x"
      },
      "source": [
        "- This notebook was part of MT1 in the first iteration of CSE6040, when the MT's were a number of smaller and independent notebooks.\n",
        "- We will be doing Exercise 0, which is inverting a dictionary. What the means is to take the values of the dictionary and make them keys, and to take the keys and make them values, of a new dictionary."
      ]
    },
    {
      "cell_type": "markdown",
      "metadata": {
        "id": "dNY67t38QN-x"
      },
      "source": [
        "## Inverting a Dictionary (Problem 8, Exercise 0)"
      ]
    },
    {
      "cell_type": "markdown",
      "metadata": {
        "id": "3fqIfN2RQN-x"
      },
      "source": [
        "### Problem Overview"
      ]
    },
    {
      "cell_type": "markdown",
      "metadata": {
        "id": "UMogZeanQN-y"
      },
      "source": [
        "This problem has three (3) exercises worth a total of ten (10) points. We will only be solving exercise 0."
      ]
    },
    {
      "cell_type": "markdown",
      "metadata": {
        "id": "ZeHynXshQN-y"
      },
      "source": [
        "**Invert a dictionary.** Suppose a group of student TAs have been asked to monitor the Piazza forums for your CSE6040x course. The assignments are as follows."
      ]
    },
    {
      "cell_type": "code",
      "execution_count": 3,
      "metadata": {
        "id": "ZBV63sLiQN-y"
      },
      "outputs": [],
      "source": [
        "assignments = {\"Monday\" : [\"Jeh\", \"Ben\", \"Chinmay\", \"Rachel\"],\n",
        "               \"Tuesday\" : [\"Rachel\", \"Samuel\", \"Evan\", \"Raghav\"],\n",
        "               \"Wednesday\" : [\"Evan\", \"Samuel\", \"Michael\", \"Chinmay\"],\n",
        "               \"Thursday\" : [\"Jeh\", \"Michael\", \"Ben\", \"Evan\"],\n",
        "               \"Friday\" : [\"Rachel\", \"Shishir\", \"Samuel\", \"Ben\"],\n",
        "               \"Saturday\" : [\"Yandi\", \"Michael\", \"Chinmay\", \"Samuel\"],\n",
        "               \"Sunday\" : [\"Evan\", \"Chinmay\", \"Jeh\", \"Rachel\"]\n",
        "               }"
      ]
    },
    {
      "cell_type": "markdown",
      "metadata": {
        "id": "sdTdCwlfQN-z"
      },
      "source": [
        "### Inverting a Dictionary: Student Response"
      ]
    },
    {
      "cell_type": "markdown",
      "source": [
        "goal: invert d\n",
        "input: dict d\n",
        "Strategy\n",
        "1. create empty default dict (contains list values). Call final dict\n",
        "*** Use default dict bkz will need to create new keys that may not already be in the dict.\n",
        "2. loop over keys in d (keys are days)\n",
        "3. grab value assoc with key (list of TA names)\n",
        "4. loop over the list of ta names, append key (which is day) to list for that TA name in final dict\n",
        "5. return 'final_dict'\n",
        "\n",
        "\n"
      ],
      "metadata": {
        "id": "4VOtI4rq_zm1"
      }
    },
    {
      "cell_type": "markdown",
      "metadata": {
        "id": "iuBZyIniQN-z"
      },
      "source": [
        "**Exercise 0** (5 points). Write a function, `invert_dict(d)`, that \"inverts\" a given dictionary `d`. The output should be another dictionary such that the keys are the TA names and their corresponding values should be a list which stores the days assigned to them.\n",
        "\n",
        "For example, one of the keys of the returned dictionary should be `\"Jeh\"` with its corresponding list as `[\"Monday\", \"Thursday\", \"Sunday\"]`."
      ]
    },
    {
      "cell_type": "code",
      "source": [
        "from pprint import pprint\n",
        "from collections import defaultdict\n",
        "def invert_dict(d):\n",
        "  TA_dict = defaultdict(list)  # putting list here so that if a key does not exist, it will create an empty list for the value\n",
        "\n",
        "  for day in d:   #using d here because that is the input of the created function\n",
        "    TA_list = d[day]\n",
        "    for name in TA_list:\n",
        "      TA_dict[name].append(day)\n",
        "\n",
        "  print(TA_dict)\n",
        "  print(dict(TA_dict))\n",
        "  pprint(dict(TA_dict))\n",
        "\n",
        "  return TA_dict\n",
        "\n",
        " ###\n",
        "\n",
        "inv_dict = invert_dict(assignments)"
      ],
      "metadata": {
        "id": "jJZP_fbdKuVs",
        "outputId": "58c363be-c4a5-4eae-847b-89c56d69e23d",
        "colab": {
          "base_uri": "https://localhost:8080/"
        }
      },
      "execution_count": 4,
      "outputs": [
        {
          "output_type": "stream",
          "name": "stdout",
          "text": [
            "defaultdict(<class 'list'>, {'Jeh': ['Monday', 'Thursday', 'Sunday'], 'Ben': ['Monday', 'Thursday', 'Friday'], 'Chinmay': ['Monday', 'Wednesday', 'Saturday', 'Sunday'], 'Rachel': ['Monday', 'Tuesday', 'Friday', 'Sunday'], 'Samuel': ['Tuesday', 'Wednesday', 'Friday', 'Saturday'], 'Evan': ['Tuesday', 'Wednesday', 'Thursday', 'Sunday'], 'Raghav': ['Tuesday'], 'Michael': ['Wednesday', 'Thursday', 'Saturday'], 'Shishir': ['Friday'], 'Yandi': ['Saturday']})\n",
            "{'Jeh': ['Monday', 'Thursday', 'Sunday'], 'Ben': ['Monday', 'Thursday', 'Friday'], 'Chinmay': ['Monday', 'Wednesday', 'Saturday', 'Sunday'], 'Rachel': ['Monday', 'Tuesday', 'Friday', 'Sunday'], 'Samuel': ['Tuesday', 'Wednesday', 'Friday', 'Saturday'], 'Evan': ['Tuesday', 'Wednesday', 'Thursday', 'Sunday'], 'Raghav': ['Tuesday'], 'Michael': ['Wednesday', 'Thursday', 'Saturday'], 'Shishir': ['Friday'], 'Yandi': ['Saturday']}\n",
            "{'Ben': ['Monday', 'Thursday', 'Friday'],\n",
            " 'Chinmay': ['Monday', 'Wednesday', 'Saturday', 'Sunday'],\n",
            " 'Evan': ['Tuesday', 'Wednesday', 'Thursday', 'Sunday'],\n",
            " 'Jeh': ['Monday', 'Thursday', 'Sunday'],\n",
            " 'Michael': ['Wednesday', 'Thursday', 'Saturday'],\n",
            " 'Rachel': ['Monday', 'Tuesday', 'Friday', 'Sunday'],\n",
            " 'Raghav': ['Tuesday'],\n",
            " 'Samuel': ['Tuesday', 'Wednesday', 'Friday', 'Saturday'],\n",
            " 'Shishir': ['Friday'],\n",
            " 'Yandi': ['Saturday']}\n"
          ]
        }
      ]
    },
    {
      "cell_type": "code",
      "execution_count": 6,
      "metadata": {
        "id": "o64z5_ffQN-0",
        "outputId": "148e7e02-b31d-446d-8eca-33c07abc2362",
        "colab": {
          "base_uri": "https://localhost:8080/",
          "height": 106
        }
      },
      "outputs": [
        {
          "output_type": "error",
          "ename": "IndentationError",
          "evalue": "unindent does not match any outer indentation level (<tokenize>, line 12)",
          "traceback": [
            "\u001b[0;36m  File \u001b[0;32m\"<tokenize>\"\u001b[0;36m, line \u001b[0;32m12\u001b[0m\n\u001b[0;31m    for day in d:\u001b[0m\n\u001b[0m    ^\u001b[0m\n\u001b[0;31mIndentationError\u001b[0m\u001b[0;31m:\u001b[0m unindent does not match any outer indentation level\n"
          ]
        }
      ],
      "source": [
        "from collections import defaultdict\n",
        "def invert_dict(d):\n",
        "    ###\n",
        "    ### YOUR CODE HERE\n",
        "     TA_dict = defaultdict(list)  # why type list heere?\n",
        "    # it is saying, if a given key does not exist in dict, it will create a key and assign it a value that is an empty list\n",
        "    # *** final_dict = {create key: []}\n",
        "    # if it was not a list, but rather an integer, we would write:\n",
        "    ### final_dict = defaultdict(int) and we would get have\n",
        "    # *** final_dict = {create key: 0}\n",
        "# whatever we put in () for defaultdict() tells python what function to create as a default (here, list is a function)\n",
        "    for day in d:\n",
        "    ta_name_list = d[day]\n",
        "    for name in ta_name_list:\n",
        "      final_dict[name].append[day]  #adding a value to the list, in final disct, for key, add onto the list \"value\"\n",
        "\n",
        "    return final_dict\n",
        "    ###\n",
        "\n",
        "inv_dict = invert_dict(assignments)"
      ]
    },
    {
      "cell_type": "code",
      "source": [
        "# if you did not use defaultdict, this is what a regular dict would look like:\n",
        "from collections import defaultdict\n",
        "def invert_dict(d):\n",
        "\n",
        "  reg_dict = {}\n",
        "\n",
        "  for day in d:\n",
        "    ta_name_list = d[day]\n",
        "    for name in ta_name_list:\n",
        "      #final_dict[name].append[day]  #adding a value to the list, in final disct, for key, add onto the list \"value\"\n",
        "      if name in reg_dict:\n",
        "        reg_dict[name].append(day)\n",
        "        else:\n",
        "          reg_dict[name] = [day]\n",
        "\n",
        "    return reg_dict\n"
      ],
      "metadata": {
        "id": "AJAuwqYjJNHT",
        "outputId": "1b40e52c-c5bc-4393-f646-ae41e86c7c10",
        "colab": {
          "base_uri": "https://localhost:8080/",
          "height": 106
        }
      },
      "execution_count": 7,
      "outputs": [
        {
          "output_type": "error",
          "ename": "SyntaxError",
          "evalue": "invalid syntax (<ipython-input-7-fd0b4782f900>, line 13)",
          "traceback": [
            "\u001b[0;36m  File \u001b[0;32m\"<ipython-input-7-fd0b4782f900>\"\u001b[0;36m, line \u001b[0;32m13\u001b[0m\n\u001b[0;31m    else:\u001b[0m\n\u001b[0m    ^\u001b[0m\n\u001b[0;31mSyntaxError\u001b[0m\u001b[0;31m:\u001b[0m invalid syntax\n"
          ]
        }
      ]
    },
    {
      "cell_type": "code",
      "execution_count": 8,
      "metadata": {
        "id": "FzV5W1eTQN-0",
        "outputId": "814838d3-5c13-40af-e96c-799c8d3f9d96",
        "colab": {
          "base_uri": "https://localhost:8080/"
        }
      },
      "outputs": [
        {
          "output_type": "stream",
          "name": "stdout",
          "text": [
            "defaultdict(<class 'list'>, {'Jeh': ['Monday', 'Thursday', 'Sunday'], 'Ben': ['Monday', 'Thursday', 'Friday'], 'Chinmay': ['Monday', 'Wednesday', 'Saturday', 'Sunday'], 'Rachel': ['Monday', 'Tuesday', 'Friday', 'Sunday'], 'Samuel': ['Tuesday', 'Wednesday', 'Friday', 'Saturday'], 'Evan': ['Tuesday', 'Wednesday', 'Thursday', 'Sunday'], 'Raghav': ['Tuesday'], 'Michael': ['Wednesday', 'Thursday', 'Saturday'], 'Shishir': ['Friday'], 'Yandi': ['Saturday']})\n",
            "{'Jeh': ['Monday', 'Thursday', 'Sunday'], 'Ben': ['Monday', 'Thursday', 'Friday'], 'Chinmay': ['Monday', 'Wednesday', 'Saturday', 'Sunday'], 'Rachel': ['Monday', 'Tuesday', 'Friday', 'Sunday'], 'Samuel': ['Tuesday', 'Wednesday', 'Friday', 'Saturday'], 'Evan': ['Tuesday', 'Wednesday', 'Thursday', 'Sunday'], 'Raghav': ['Tuesday'], 'Michael': ['Wednesday', 'Thursday', 'Saturday'], 'Shishir': ['Friday'], 'Yandi': ['Saturday']}\n",
            "{'Ben': ['Monday', 'Thursday', 'Friday'],\n",
            " 'Chinmay': ['Monday', 'Wednesday', 'Saturday', 'Sunday'],\n",
            " 'Evan': ['Tuesday', 'Wednesday', 'Thursday', 'Sunday'],\n",
            " 'Jeh': ['Monday', 'Thursday', 'Sunday'],\n",
            " 'Michael': ['Wednesday', 'Thursday', 'Saturday'],\n",
            " 'Rachel': ['Monday', 'Tuesday', 'Friday', 'Sunday'],\n",
            " 'Raghav': ['Tuesday'],\n",
            " 'Samuel': ['Tuesday', 'Wednesday', 'Friday', 'Saturday'],\n",
            " 'Shishir': ['Friday'],\n",
            " 'Yandi': ['Saturday']}\n",
            "\n",
            "(Passed!)\n"
          ]
        }
      ],
      "source": [
        "# Test cell: `test_inverse`\n",
        "\n",
        "import random\n",
        "TA_list = [\"Rachel\", \"Yandi\", \"Ben\", \"Jeh\", \"Evan\", \"Chinmay\", \"Shishir\", \"Raghav\", \"Samuel\", \"Michael\"]\n",
        "\n",
        "# Your solution\n",
        "inv_dict = invert_dict(assignments)\n",
        "\n",
        "random_TA = random.sample(TA_list, 5)\n",
        "for TA in random_TA:\n",
        "    assigned_days = inv_dict[TA]\n",
        "    for days in assigned_days:\n",
        "        assert TA in assignments[days], \"Incorrect inversion for TA {}\".format(TA)\n",
        "\n",
        "print(\"\\n(Passed!)\")"
      ]
    },
    {
      "cell_type": "markdown",
      "metadata": {
        "id": "hmk5jDOqQN-0"
      },
      "source": [
        "### Inverting a Dictionary: Sample Solutions"
      ]
    },
    {
      "cell_type": "markdown",
      "metadata": {
        "id": "ds-myDrAQN-0"
      },
      "source": [
        "Here are two possible solutions for the problem outlined above."
      ]
    },
    {
      "cell_type": "code",
      "execution_count": 9,
      "metadata": {
        "id": "_mgDu6afQN-0"
      },
      "outputs": [],
      "source": [
        "from collections import defaultdict\n",
        "def invert_dict(d):\n",
        "    # Larry's solution\n",
        "    TA_dict = defaultdict(list)  # why type list heere?\n",
        "    # it is saying, if a given key does not exist in dict, it will create a key and assign it a value that is an empty list\n",
        "    # *** final_dict = {create key: []}\n",
        "    # if it was not a list, but rather an integer, we would write:\n",
        "    ### final_dict = defaultdict(int) and we would get have\n",
        "    # *** final_dict = {create key: 0}\n",
        "# whatever we put in () for defaultdict() tells python what function to create as a default (here, list is a function)\n",
        "\n",
        "    for key, val in d.items():\n",
        "        for name in val:\n",
        "            TA_dict[name].append(key)\n",
        "    return dict(TA_dict)\n",
        "\n",
        "inv_dict = invert_dict(assignments)"
      ]
    },
    {
      "cell_type": "code",
      "execution_count": 10,
      "metadata": {
        "id": "IOruEcybQN-0"
      },
      "outputs": [],
      "source": [
        "from collections import defaultdict\n",
        "def invert_dict(d):\n",
        "    # Alternative solution\n",
        "    TA_dict = {}\n",
        "    for day in d:  #day stands for the value\n",
        "        for TA in d[day]:  # now interate over the list names\n",
        "            if TA in TA_dict:\n",
        "                TA_dict[TA].append(day)\n",
        "            else:\n",
        "                TA_dict[TA] = [day]\n",
        "    return TA_dict\n",
        "\n",
        "inv_dict = invert_dict(assignments)"
      ]
    },
    {
      "cell_type": "markdown",
      "metadata": {
        "id": "uVod1g7dQN-1"
      },
      "source": [
        "## Additional Exercises (Problem 8, Exercises 2-3)"
      ]
    },
    {
      "cell_type": "markdown",
      "metadata": {
        "id": "bhhMcAEWQN-1"
      },
      "source": [
        "The following details are included for students who would like additional practice. Some of the contents of this material, such as the `enumerate()` function, will not be covered until later in this bootcamp. However, you are welcome to experiment with the code below if you would like additional opportunities to practice your programming skills."
      ]
    },
    {
      "cell_type": "markdown",
      "metadata": {
        "id": "0EWHsTEGQN-1"
      },
      "source": [
        "### Pilot Routes: Problem Overview"
      ]
    },
    {
      "cell_type": "markdown",
      "metadata": {
        "id": "6i5OVL8HQN-1"
      },
      "source": [
        "**Exercise 2** (2 points): _Tracing the route of a pilot_.\n",
        "\n",
        "Suppose a pilot flies from one city to the next. He makes 7 such trips, which are stored in the list shown in the next cell. The first entry of each tuple denotes the origin, and the second denotes the destination. Also assume that the next flight a pilot makes must originate from the destination of her previous flight. Your task in this exercise is to write a function that finds the route followed by the pilot, given her first port of origin.\n",
        "\n",
        "First, let `segments` be an unordered list of segments that the pilot flew."
      ]
    },
    {
      "cell_type": "code",
      "execution_count": 11,
      "metadata": {
        "id": "ayrLpe5fQN-1"
      },
      "outputs": [],
      "source": [
        "segments = [(\"JFK\", \"DEN\"), (\"LAX\", \"ORD\"), (\"DEN\", \"SFO\"), (\"LAS\", \"LAX\"), (\"ORD\", \"ATL\"), (\"ATL\", \"JFK\"), (\"SFO\", \"LAS\")]"
      ]
    },
    {
      "cell_type": "markdown",
      "metadata": {
        "id": "LfnNGywEQN-1"
      },
      "source": [
        "Next, write a function `find_dest(segs, origin)` that returns the next destination of the pilot given one port of origin and an unordered list of flight segments. Example, if `segs == segments` as defined above, then for `'LAX'`, your function should return `'ORD'` because there is the tuple, `(\"LAX\", \"ORD\")`, in `segs`.\n",
        "\n",
        "You may assume that `origin` appears only once in the list of segments, `segs`."
      ]
    },
    {
      "cell_type": "code",
      "execution_count": 20,
      "metadata": {
        "id": "elLqZ8DdQN-1",
        "outputId": "67d06170-4e25-4df6-91b5-22fa3fe1d6c0",
        "colab": {
          "base_uri": "https://localhost:8080/",
          "height": 157
        }
      },
      "outputs": [
        {
          "output_type": "stream",
          "name": "stdout",
          "text": [
            "{'ATL': 'JFK',\n",
            " 'DEN': 'SFO',\n",
            " 'JFK': 'DEN',\n",
            " 'LAS': 'LAX',\n",
            " 'LAX': 'ORD',\n",
            " 'ORD': 'ATL',\n",
            " 'SFO': 'LAS'}\n"
          ]
        },
        {
          "output_type": "execute_result",
          "data": {
            "text/plain": [
              "'SFO'"
            ],
            "application/vnd.google.colaboratory.intrinsic+json": {
              "type": "string"
            }
          },
          "metadata": {},
          "execution_count": 20
        }
      ],
      "source": [
        "# goal: find destination\n",
        "\n",
        "# input: list of tuples (org, dest)\n",
        "\n",
        "# strategy: use dict - # convert segments into a dictionary; 1st element as key, 2ns element as value\n",
        "  # grab value associated with origin key from dict and return it.\n",
        "\n",
        "def find_dest(segs, origin):\n",
        "    assert type(origin) is str\n",
        "    assert type(segs) is list\n",
        "    ###\n",
        "    segs_dict = dict(segs)\n",
        "    pprint(segs_dict)\n",
        "    return segs_dict[origin]\n",
        "    ###\n",
        "\n",
        "find_dest(segments, \"DEN\")"
      ]
    },
    {
      "cell_type": "code",
      "source": [
        "def find_dest(segs, origin):\n",
        "    assert type(origin) is str\n",
        "    assert type(segs) is list\n",
        "    ###\n",
        "    ### your code\n",
        "    ###\n",
        "# As an alternative to creating a dict, look below: just take \"DEN\" (given at end) and compare it to the zeroth\n",
        "# element of each tuple one by one\n",
        "    dest = ''\n",
        "\n",
        "    for route in segs:\n",
        "        print('tick')\n",
        "        if route[0] == origin:\n",
        "            return route[1]\n",
        "    # return [d for o, d in segs if o == origin][0]\n",
        "\n",
        "    return dest\n",
        "    # route_d = dict(segs)\n",
        "    # return route_d[origin]\n",
        "\n",
        "find_dest(segments, \"DEN\")"
      ],
      "metadata": {
        "id": "7PFVo-loSMKe",
        "outputId": "ff040e61-af4c-40d0-fe6a-0948d3e04dc9",
        "colab": {
          "base_uri": "https://localhost:8080/",
          "height": 87
        }
      },
      "execution_count": 12,
      "outputs": [
        {
          "output_type": "stream",
          "name": "stdout",
          "text": [
            "tick\n",
            "tick\n",
            "tick\n"
          ]
        },
        {
          "output_type": "execute_result",
          "data": {
            "text/plain": [
              "'SFO'"
            ],
            "application/vnd.google.colaboratory.intrinsic+json": {
              "type": "string"
            }
          },
          "metadata": {},
          "execution_count": 12
        }
      ]
    },
    {
      "cell_type": "code",
      "execution_count": 21,
      "metadata": {
        "id": "7fWGYr9_QN-1",
        "outputId": "4eb58d55-fe3b-49bd-d3de-e796c1a099b3",
        "colab": {
          "base_uri": "https://localhost:8080/"
        }
      },
      "outputs": [
        {
          "output_type": "stream",
          "name": "stdout",
          "text": [
            "{'ATL': 'JFK',\n",
            " 'DEN': 'SFO',\n",
            " 'JFK': 'DEN',\n",
            " 'LAS': 'LAX',\n",
            " 'LAX': 'ORD',\n",
            " 'ORD': 'ATL',\n",
            " 'SFO': 'LAS'}\n",
            "{'ATL': 'JFK',\n",
            " 'DEN': 'SFO',\n",
            " 'JFK': 'DEN',\n",
            " 'LAS': 'LAX',\n",
            " 'LAX': 'ORD',\n",
            " 'ORD': 'ATL',\n",
            " 'SFO': 'LAS'}\n",
            "{'ATL': 'JFK',\n",
            " 'DEN': 'SFO',\n",
            " 'JFK': 'DEN',\n",
            " 'LAS': 'LAX',\n",
            " 'LAX': 'ORD',\n",
            " 'ORD': 'ATL',\n",
            " 'SFO': 'LAS'}\n",
            "{'ATL': 'JFK',\n",
            " 'DEN': 'SFO',\n",
            " 'JFK': 'DEN',\n",
            " 'LAS': 'LAX',\n",
            " 'LAX': 'ORD',\n",
            " 'ORD': 'ATL',\n",
            " 'SFO': 'LAS'}\n",
            "{'ATL': 'JFK',\n",
            " 'DEN': 'SFO',\n",
            " 'JFK': 'DEN',\n",
            " 'LAS': 'LAX',\n",
            " 'LAX': 'ORD',\n",
            " 'ORD': 'ATL',\n",
            " 'SFO': 'LAS'}\n",
            "\n",
            "(Passed.)\n"
          ]
        }
      ],
      "source": [
        "# Test flight destination\n",
        "den = find_dest(segments, \"DEN\")\n",
        "assert find_dest(segments, \"DEN\") == \"SFO\", \"Wrong destination for DEN\"\n",
        "assert find_dest(segments, \"LAX\") == \"ORD\", \"Wrong destination for LAX\"\n",
        "assert find_dest(segments, \"ATL\") == \"JFK\", \"Wrong destination for ATL\"\n",
        "assert find_dest(segments, \"JFK\") == \"DEN\", \"Wrong destination for JFK\"\n",
        "print(\"\\n(Passed.)\")"
      ]
    },
    {
      "cell_type": "markdown",
      "metadata": {
        "id": "Ogba5M6DQN-2"
      },
      "source": [
        "**Exercise 3** (3 points). Now write a function `get_route(segs, origin)` that traces the complete itinerary of the pilot, given her first port of origin. Assume that the destination for a flight is the same as the origin for the next flight. The itinerary is completed when he arrives back at the starting port of origin. For example, if the starting port is `\"JFK\"`, your function should return the list: `[\"JFK\", \"DEN\", \"SFO\", \"LAS\", \"LAX\", \"ORD\", \"ATL\"]`."
      ]
    },
    {
      "cell_type": "code",
      "execution_count": null,
      "metadata": {
        "id": "s8c7lZpLQN-2"
      },
      "outputs": [],
      "source": [
        "# goal - return list of path traveled, city by city, going from origin provided and back to the origin (do not include final origin)\n",
        "# input -\n",
        "  # 1-path is a list of tuples, origin is 0th element of tuple. destination is 1st element of tuple\n",
        "  # 2 - origin is a string\n",
        "# strategy\n",
        "  # create a list containing only 'origin' so far (will hold entire result eventually)\n",
        "  # convert path (or segs) into a dictionary (0th element of tuple is key origin, 1st is value destination)\n",
        "  # grab original destination vlaue from dict for 'origin' provided (1st place the pilot goes - to kick things off)\n",
        "  # while the origin does not equal thedestination, keep appending the destination to our final list\n",
        "  # and grab next destination\n",
        "  # return 'final_list'\n",
        "\n",
        "def get_route(path, origin):\n",
        "    ###\n",
        "    ### YOUR CODE HERE\n",
        "    ###\n",
        "\n",
        "    # path = segs\n",
        "\n",
        "    # route_list = [origin]  # this is the origin provided in the input tuple\n",
        "    # for dest in path:\n",
        "    #     print('tock')\n",
        "    #     route_list.append(find_dest(path,origin))\n",
        "    #     origin = route_list[-1]\n",
        "    # print(route_list)\n",
        "    # route_list.pop()\n",
        "\n",
        "\n",
        "    # return route_list\n",
        "    route_d = dict(path)   # make a dictionary out of all the tuples\n",
        "    start = route_d[origin] # second starting point - grab the initial origin (from input)\n",
        "    route_list = [origin] # pre-populate with first trip\n",
        "    for _ in range(len(path)):\n",
        "      print('tick')\n",
        "    while start != origin: # captures from second trip on\n",
        "      print('tock')\n",
        "      route_list.append(start)\n",
        "      start = route_d[start]\n",
        "    return route_list\n",
        "\n",
        "itinerary = get_route(segments, 'JFK')\n",
        "print(itinerary)"
      ]
    },
    {
      "cell_type": "code",
      "source": [
        "def get_route(path, origin):\n",
        "  final_list = [origin] # pre-populate with the given initial origin\n",
        "  segs_dict = dict(path)  # make a dictionary of the paths (which are tuples)\n",
        "  destination = segs_dict[origin]\n",
        "\n",
        "  while origin != destination:\n",
        "    final_list.append(destination)\n",
        "    print(final_list)\n",
        "    destination = segs_dict[destination]\n",
        "    print(destination)\n",
        "\n",
        "  return final_list\n",
        "\n",
        "itinerary = get_route(segments, 'JFK')\n",
        "print(itinerary)"
      ],
      "metadata": {
        "id": "qknKi_9MC_H8",
        "outputId": "6b2f72db-d9e1-4b30-9ede-ce6e2cdbaca0",
        "colab": {
          "base_uri": "https://localhost:8080/"
        }
      },
      "execution_count": 14,
      "outputs": [
        {
          "output_type": "stream",
          "name": "stdout",
          "text": [
            "['JFK', 'DEN']\n",
            "SFO\n",
            "['JFK', 'DEN', 'SFO']\n",
            "LAS\n",
            "['JFK', 'DEN', 'SFO', 'LAS']\n",
            "LAX\n",
            "['JFK', 'DEN', 'SFO', 'LAS', 'LAX']\n",
            "ORD\n",
            "['JFK', 'DEN', 'SFO', 'LAS', 'LAX', 'ORD']\n",
            "ATL\n",
            "['JFK', 'DEN', 'SFO', 'LAS', 'LAX', 'ORD', 'ATL']\n",
            "JFK\n",
            "['JFK', 'DEN', 'SFO', 'LAS', 'LAX', 'ORD', 'ATL']\n"
          ]
        }
      ]
    },
    {
      "cell_type": "code",
      "execution_count": 15,
      "metadata": {
        "id": "OWSdYQsrQN-2",
        "outputId": "2ecd0571-bbfb-4ab2-e3e9-f1a6024d5870",
        "colab": {
          "base_uri": "https://localhost:8080/"
        }
      },
      "outputs": [
        {
          "output_type": "stream",
          "name": "stdout",
          "text": [
            "['LAS', 'LAX']\n",
            "ORD\n",
            "['LAS', 'LAX', 'ORD']\n",
            "ATL\n",
            "['LAS', 'LAX', 'ORD', 'ATL']\n",
            "JFK\n",
            "['LAS', 'LAX', 'ORD', 'ATL', 'JFK']\n",
            "DEN\n",
            "['LAS', 'LAX', 'ORD', 'ATL', 'JFK', 'DEN']\n",
            "SFO\n",
            "['LAS', 'LAX', 'ORD', 'ATL', 'JFK', 'DEN', 'SFO']\n",
            "LAS\n",
            "tick\n",
            "tick\n",
            "tick\n",
            "tick\n",
            "tick\n",
            "tick\n",
            "tick\n",
            "tick\n",
            "tick\n",
            "tick\n",
            "tick\n",
            "tick\n",
            "tick\n",
            "tick\n",
            "tick\n",
            "tick\n",
            "tick\n",
            "tick\n",
            "tick\n",
            "tick\n",
            "tick\n",
            "['SFO', 'LAS']\n",
            "LAX\n",
            "['SFO', 'LAS', 'LAX']\n",
            "ORD\n",
            "['SFO', 'LAS', 'LAX', 'ORD']\n",
            "ATL\n",
            "['SFO', 'LAS', 'LAX', 'ORD', 'ATL']\n",
            "JFK\n",
            "['SFO', 'LAS', 'LAX', 'ORD', 'ATL', 'JFK']\n",
            "DEN\n",
            "['SFO', 'LAS', 'LAX', 'ORD', 'ATL', 'JFK', 'DEN']\n",
            "SFO\n",
            "tick\n",
            "tick\n",
            "tick\n",
            "tick\n",
            "tick\n",
            "tick\n",
            "tick\n",
            "tick\n",
            "tick\n",
            "tick\n",
            "tick\n",
            "tick\n",
            "tick\n",
            "tick\n",
            "tick\n",
            "tick\n",
            "tick\n",
            "tick\n",
            "tick\n",
            "tick\n",
            "tick\n",
            "tick\n",
            "tick\n",
            "tick\n",
            "tick\n",
            "['DEN', 'SFO']\n",
            "LAS\n",
            "['DEN', 'SFO', 'LAS']\n",
            "LAX\n",
            "['DEN', 'SFO', 'LAS', 'LAX']\n",
            "ORD\n",
            "['DEN', 'SFO', 'LAS', 'LAX', 'ORD']\n",
            "ATL\n",
            "['DEN', 'SFO', 'LAS', 'LAX', 'ORD', 'ATL']\n",
            "JFK\n",
            "['DEN', 'SFO', 'LAS', 'LAX', 'ORD', 'ATL', 'JFK']\n",
            "DEN\n",
            "tick\n",
            "tick\n",
            "tick\n",
            "tick\n",
            "tick\n",
            "tick\n",
            "tick\n",
            "tick\n",
            "tick\n",
            "tick\n",
            "tick\n",
            "tick\n",
            "tick\n",
            "tick\n",
            "tick\n",
            "tick\n",
            "tick\n",
            "tick\n",
            "tick\n",
            "tick\n",
            "tick\n",
            "tick\n",
            "tick\n",
            "tick\n",
            "tick\n",
            "tick\n",
            "tick\n",
            "['LAX', 'ORD']\n",
            "ATL\n",
            "['LAX', 'ORD', 'ATL']\n",
            "JFK\n",
            "['LAX', 'ORD', 'ATL', 'JFK']\n",
            "DEN\n",
            "['LAX', 'ORD', 'ATL', 'JFK', 'DEN']\n",
            "SFO\n",
            "['LAX', 'ORD', 'ATL', 'JFK', 'DEN', 'SFO']\n",
            "LAS\n",
            "['LAX', 'ORD', 'ATL', 'JFK', 'DEN', 'SFO', 'LAS']\n",
            "LAX\n",
            "tick\n",
            "tick\n",
            "tick\n",
            "tick\n",
            "tick\n",
            "tick\n",
            "tick\n",
            "tick\n",
            "tick\n",
            "tick\n",
            "tick\n",
            "tick\n",
            "tick\n",
            "tick\n",
            "tick\n",
            "tick\n",
            "tick\n",
            "tick\n",
            "tick\n",
            "tick\n",
            "tick\n",
            "tick\n",
            "tick\n",
            "tick\n",
            "['ORD', 'ATL']\n",
            "JFK\n",
            "['ORD', 'ATL', 'JFK']\n",
            "DEN\n",
            "['ORD', 'ATL', 'JFK', 'DEN']\n",
            "SFO\n",
            "['ORD', 'ATL', 'JFK', 'DEN', 'SFO']\n",
            "LAS\n",
            "['ORD', 'ATL', 'JFK', 'DEN', 'SFO', 'LAS']\n",
            "LAX\n",
            "['ORD', 'ATL', 'JFK', 'DEN', 'SFO', 'LAS', 'LAX']\n",
            "ORD\n",
            "tick\n",
            "tick\n",
            "tick\n",
            "tick\n",
            "tick\n",
            "tick\n",
            "tick\n",
            "tick\n",
            "tick\n",
            "tick\n",
            "tick\n",
            "tick\n",
            "tick\n",
            "tick\n",
            "tick\n",
            "tick\n",
            "tick\n",
            "tick\n",
            "tick\n",
            "tick\n",
            "tick\n",
            "tick\n",
            "tick\n",
            "tick\n",
            "tick\n",
            "tick\n",
            "\n",
            "(Passed.)\n"
          ]
        }
      ],
      "source": [
        "# Test pilot route\n",
        "ports = [\"JFK\", \"DEN\", \"SFO\", \"LAS\", \"LAX\", \"ORD\", \"ATL\"]\n",
        "starting_port = random.sample(ports, 5)\n",
        "for p in starting_port:\n",
        "    itinerary = get_route(segments, p)\n",
        "    assert itinerary[0] == p, \"incorrect port of origin for the itinerary\"\n",
        "    for i, port in enumerate(itinerary[:-1]):\n",
        "        dest = find_dest(segments, port)\n",
        "        assert dest == itinerary[i+1], \"incorrect itinerary\"\n",
        "\n",
        "print(\"\\n(Passed.)\")"
      ]
    },
    {
      "cell_type": "markdown",
      "metadata": {
        "id": "7aLecsqXQN-2"
      },
      "source": [
        "**Fin!** You've reached the end of this problem. Don't forget to restart the\n",
        "kernel and run the entire notebook from top-to-bottom to make sure you did\n",
        "everything correctly. If that is working, try submitting this problem. (Recall\n",
        "that you *must* submit and pass the autograder to get credit for your work!)"
      ]
    }
  ],
  "metadata": {
    "kernelspec": {
      "display_name": "Python 3",
      "language": "python",
      "name": "python3"
    },
    "language_info": {
      "codemirror_mode": {
        "name": "ipython",
        "version": 3
      },
      "file_extension": ".py",
      "mimetype": "text/x-python",
      "name": "python",
      "nbconvert_exporter": "python",
      "pygments_lexer": "ipython3",
      "version": "3.10.12"
    },
    "colab": {
      "provenance": [],
      "include_colab_link": true
    }
  },
  "nbformat": 4,
  "nbformat_minor": 0
}