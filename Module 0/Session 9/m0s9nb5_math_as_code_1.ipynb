{
 "cells": [
  {
   "cell_type": "markdown",
   "metadata": {},
   "source": [
    "# Math as Code: Basics"
   ]
  },
  {
   "cell_type": "markdown",
   "metadata": {},
   "source": [
    "## Introduction"
   ]
  },
  {
   "cell_type": "markdown",
   "metadata": {},
   "source": [
    "In this course, you will be developing algorithms for analyzing data, including those which power:\n",
    "\n",
    "- Linear regression\n",
    "- K-means\n",
    "- K-nearest-neighbors\n",
    "- PCA\n",
    "\n",
    "Python often has modules which can estimate these models for you, but this class's purpose is for you to understand the computational methods which underlie these analytic concepts.\n",
    "\n",
    "Since these concepts are frequently described with *mathematical notation*, it is good to have a sense of how to translate these equations into code."
   ]
  },
  {
   "cell_type": "markdown",
   "metadata": {},
   "source": [
    "## Prerequisites"
   ]
  },
  {
   "cell_type": "markdown",
   "metadata": {},
   "source": [
    "### A Reference for Simple Operations"
   ]
  },
  {
   "cell_type": "markdown",
   "metadata": {},
   "source": [
    "There are many \"simple\" operations you can utilize in Python, such as addition and multiplication. For details on the syntax for these operations and many more, such as matrix multiplication, see [this](https://docs.python.org/3/library/operator.html#mapping-operators-to-functions) part of the documentation. We recommend that you verify that you understand all of the following operations on your own:\n",
    "\n",
    "- Addition\n",
    "- Subtraction\n",
    "- Multiplication\n",
    "- Division, including\n",
    "  - Floor division (`a // b`)\n",
    "  - Modulo, or remainder (`a % b`)\n",
    "- Exponentiation\n",
    "- Negation\n",
    "- Tests for equality (see the section below for some examples)"
   ]
  },
  {
   "cell_type": "markdown",
   "metadata": {},
   "source": [
    "### Notation Conventions"
   ]
  },
  {
   "cell_type": "markdown",
   "metadata": {},
   "source": [
    "In general, we will use the following conventions. For a more complete listing, see the following:  https://en.wikipedia.org/wiki/List_of_mathematical_symbols_by_subject"
   ]
  },
  {
   "cell_type": "markdown",
   "metadata": {},
   "source": [
    "#### Variables\n",
    "\n",
    "\n",
    "- *s* - italic lowercase letters for scalars (e.g. a number)\n",
    "- **x** - bold lowercase letters for vectors (e.g. a 2D point)\n",
    "- **A** - bold uppercase letters for matrices (e.g. a 3D transformation)\n",
    "- *θ* - italic lowercase Greek letters for constants and special variables (e.g. [polar angle *θ*, *theta*](https://en.wikipedia.org/wiki/Spherical_coordinate_system))"
   ]
  },
  {
   "cell_type": "markdown",
   "metadata": {},
   "source": [
    "#### Equality symbols in equations\n",
    "\n",
    "\n",
    "- `=` is for equality (values are the same)\n",
    "- `≠` is for inequality (value are not the same)\n",
    "- `≈` is for approximately equal to (`π ≈ 3.14159`)\n",
    "- `:=` is for definition (A is defined as B)"
   ]
  },
  {
   "cell_type": "code",
   "execution_count": null,
   "metadata": {},
   "outputs": [],
   "source": [
    "## some examples\n",
    "## equality\n",
    "2 == 3"
   ]
  },
  {
   "cell_type": "code",
   "execution_count": null,
   "metadata": {},
   "outputs": [],
   "source": [
    "## inequality\n",
    "2 != 3"
   ]
  },
  {
   "cell_type": "code",
   "execution_count": null,
   "metadata": {},
   "outputs": [],
   "source": [
    "## approximately equal\n",
    "import math\n",
    "print(math.isclose(math.pi, 3.14, rel_tol = 1e-09, abs_tol = 0.0))\n",
    "print(math.isclose(2.005, 2.125, abs_tol = 0.25))\n",
    "\n",
    "## Documentation:\n",
    "## https://docs.python.org/3/library/math.html\n",
    "## https://www.geeksforgeeks.org/python-math-library-isclose-method/"
   ]
  },
  {
   "cell_type": "markdown",
   "metadata": {},
   "source": [
    "## Functions"
   ]
  },
  {
   "cell_type": "markdown",
   "metadata": {},
   "source": [
    "### Functions as Code"
   ]
  },
  {
   "cell_type": "markdown",
   "metadata": {},
   "source": [
    "A function is simply **a map of inputs to outputs.** We often think of programmatic functions as reuseable pieces of code, but they can be used in the exact same way that we use them mathematically. For example, here's the quadratic equation:\n",
    "\n",
    "$$\\text{quad}(a, b, c) = \\frac{-b \\pm \\sqrt{b^2 - 4ac}}{2a}$$"
   ]
  },
  {
   "cell_type": "markdown",
   "metadata": {},
   "source": [
    "... and here's the quadratic equation in Python code:"
   ]
  },
  {
   "cell_type": "code",
   "execution_count": 17,
   "metadata": {},
   "outputs": [],
   "source": [
    "def quadratic_equation(a, b, c):\n",
    "    # Calculate the radicand\n",
    "    radicand = (b ** 2) - (4 * a * c)\n",
    "    pm_term = radicand ** 0.5\n",
    "    # Return the two roots\n",
    "    return (-b + pm_term) / (2 * a), (-b - pm_term) / (2 * a)"
   ]
  },
  {
   "cell_type": "markdown",
   "metadata": {},
   "source": [
    "So, does it work? What are the roots for:\n",
    "\n",
    "$$f(x) = -2x^2 - 9x + 35$$"
   ]
  },
  {
   "cell_type": "code",
   "execution_count": 16,
   "metadata": {},
   "outputs": [
    {
     "data": {
      "text/plain": [
       "(-7.0, 2.5)"
      ]
     },
     "execution_count": 16,
     "metadata": {},
     "output_type": "execute_result"
    }
   ],
   "source": [
    "quadratic_equation(-2, -9, 35)"
   ]
  },
  {
   "cell_type": "markdown",
   "metadata": {},
   "source": [
    "### Piecewise Functions"
   ]
  },
  {
   "cell_type": "markdown",
   "metadata": {},
   "source": [
    "Some functions will use different relationships depending on the input value, *x*.\n",
    "\n",
    "The following function *ƒ* chooses between two \"sub functions\" depending on the input value.\n",
    "\n",
    "\n",
    "$$f(x)=\n",
    "\\begin{cases}\n",
    "    \\frac{x^2-x}{x},& \\text{if } x\\geq 1\\\\\n",
    "    0, & \\text{otherwise}\n",
    "\\end{cases}$$\n",
    "\n",
    "We can implement the same behavior by using `if/else` statements.\n"
   ]
  },
  {
   "cell_type": "code",
   "execution_count": null,
   "metadata": {},
   "outputs": [],
   "source": [
    "def piece(x):\n",
    "    if (x >= 1):\n",
    "        return (math.pow(x, 2) - x) / x\n",
    "    else:\n",
    "        return 0\n",
    "\n",
    "print(piece(5))\n",
    "print(piece(-3))"
   ]
  },
  {
   "cell_type": "markdown",
   "metadata": {},
   "source": [
    "## Series"
   ]
  },
  {
   "cell_type": "markdown",
   "metadata": {},
   "source": [
    "### Summations"
   ]
  },
  {
   "cell_type": "markdown",
   "metadata": {},
   "source": [
    "The Greek letter $\\Sigma$ (Sigma) is for [Summation](https://en.wikipedia.org/wiki/Summation). In other words: summing up some numbers.\n",
    "\n",
    "$$\\sum_{i=1}^{100}i$$\n",
    "\n",
    "In Python, we can build a sequence of numbers and then use `sum()` to calculate the summation."
   ]
  },
  {
   "cell_type": "code",
   "execution_count": 29,
   "metadata": {},
   "outputs": [
    {
     "data": {
      "text/plain": [
       "5050"
      ]
     },
     "execution_count": 29,
     "metadata": {},
     "output_type": "execute_result"
    }
   ],
   "source": [
    "# We need to terminate at 101 because `range()` does not\n",
    "# include the final value.\n",
    "sum(range(1, 101))"
   ]
  },
  {
   "cell_type": "markdown",
   "metadata": {},
   "source": [
    "Let's look at a slightly more complex example.\n",
    "\n",
    "$$\\sum_{i=1}^{100}(2i+1)$$\n"
   ]
  },
  {
   "cell_type": "code",
   "execution_count": 30,
   "metadata": {},
   "outputs": [
    {
     "data": {
      "text/plain": [
       "10200"
      ]
     },
     "execution_count": 30,
     "metadata": {},
     "output_type": "execute_result"
    }
   ],
   "source": [
    "# With a comprehension\n",
    "sum([((2*i) + 1) for i in range(1, 101)])\n",
    "\n",
    "# If we want to use map():\n",
    "numbers = map(lambda i: (2*i) + 1, range(1, 101)) # This is more memory efficient\n",
    "sum(numbers) "
   ]
  },
  {
   "cell_type": "markdown",
   "metadata": {},
   "source": [
    "Summations can have multiple variables (which is almost like a \"nested\" summation).\n",
    "\n",
    "This is the same as nesting a `for` loop. You should evaluate the right-most sigma first, unless the author has enclosed them in parentheses to alter the order. Below is a simple example, and since this example deals with with finite sums, the order does not matter. The best practice, however, is to work from right to left in the summations.\n",
    "\n",
    "$$\\sum_{i=1}^{5}\\sum_{j=2}^{10}(8ij)$$"
   ]
  },
  {
   "cell_type": "code",
   "execution_count": null,
   "metadata": {},
   "outputs": [],
   "source": [
    "# using for loops\n",
    "x = 0\n",
    "for i in range(1,6):\n",
    "    for j in range(2,11):\n",
    "            x += 8*i*j\n",
    "x"
   ]
  },
  {
   "cell_type": "code",
   "execution_count": 28,
   "metadata": {},
   "outputs": [
    {
     "data": {
      "text/plain": [
       "6480"
      ]
     },
     "execution_count": 28,
     "metadata": {},
     "output_type": "execute_result"
    }
   ],
   "source": [
    "# using a comprehension\n",
    "sum([sum([(8*i*j) for j in range(2,11)]) for i in range(1,6)])"
   ]
  },
  {
   "cell_type": "markdown",
   "metadata": {},
   "source": [
    "### Products"
   ]
  },
  {
   "cell_type": "markdown",
   "metadata": {},
   "source": [
    "Products are the multiplicative version of a series. We represent them with the uppercase Greek letter $\\Pi$ (Pi), like this:\n",
    "\n",
    "$$ j = \\prod_{i=1}^{10}i$$"
   ]
  },
  {
   "cell_type": "markdown",
   "metadata": {},
   "source": [
    "This is the same as:\n",
    "\n",
    "$$j = 1 * 2 * 3 * 4 * 5 * 6 * 7 * 8 * 9 * 10$$"
   ]
  },
  {
   "cell_type": "code",
   "execution_count": 31,
   "metadata": {},
   "outputs": [
    {
     "data": {
      "text/plain": [
       "3628800"
      ]
     },
     "execution_count": 31,
     "metadata": {},
     "output_type": "execute_result"
    }
   ],
   "source": [
    "j = 1\n",
    "for i in range(1,11):\n",
    "    j = i*j\n",
    "j\n",
    "\n",
    "# Using the math module\n",
    "from math import prod\n",
    "prod(range(1, 11))"
   ]
  },
  {
   "cell_type": "markdown",
   "metadata": {},
   "source": [
    "Here's a more complicated example."
   ]
  },
  {
   "cell_type": "markdown",
   "metadata": {},
   "source": [
    "$$\\prod_{i=3}^{7}(2i+1)$$\n"
   ]
  },
  {
   "cell_type": "code",
   "execution_count": 24,
   "metadata": {},
   "outputs": [
    {
     "data": {
      "text/plain": [
       "135135"
      ]
     },
     "execution_count": 24,
     "metadata": {},
     "output_type": "execute_result"
    }
   ],
   "source": [
    "prod(map(lambda i: (2 * i) + 1, range(3, 8)))\n",
    "# prod([(2 * i) + 1 for i in range(3, 8)]) # Same idea with a comprehension"
   ]
  },
  {
   "cell_type": "markdown",
   "metadata": {},
   "source": [
    "### (OPTIONAL) `functools.reduce()`"
   ]
  },
  {
   "cell_type": "markdown",
   "metadata": {},
   "source": [
    "The `functools.reduce()` function makes it easy to define summations and products.\n",
    "    \n",
    "Here is how it works:\n",
    "\n",
    "1. Take the first two elements of sequence and apply the function.    \n",
    "2. Apply the same function to the previously obtained result and the next element in the sequence.\n",
    "3. Repeat step 2 until there are no more elements.\n",
    "4. Return the \"reduced\" value."
   ]
  },
  {
   "cell_type": "code",
   "execution_count": null,
   "metadata": {},
   "outputs": [],
   "source": [
    "import functools\n",
    "\n",
    "# initializing list\n",
    "num_list = [1,2,3,4,5,6,7]\n",
    "\n",
    "# using reduce to compute sum of list\n",
    "# note that we are using a lambda function\n",
    "print(\"The sum of the list elements is : \", end=\"\")\n",
    "print(functools.reduce(lambda a, b: a+b, num_list))"
   ]
  },
  {
   "cell_type": "markdown",
   "metadata": {},
   "source": [
    "## Vectors"
   ]
  },
  {
   "cell_type": "markdown",
   "metadata": {},
   "source": [
    "### Norms (or magnitude)"
   ]
  },
  {
   "cell_type": "markdown",
   "metadata": {},
   "source": [
    "For a vector **v**, $‖\\bold{v}‖$ is the [Euclidean norm](https://en.wikipedia.org/wiki/Norm_%28mathematics%29#Euclidean_norm) of **v**. It is also referred to as the \"magnitude\" or \"length\" of a vector.\n",
    "\n",
    "$$\\left \\| \\mathbf{v} \\right \\|$$\n",
    "\n",
    "We can find the magnitude of a vector by using the built-in **numpy** function `linalg.norm`.\n",
    "- This routines computes various norms, depending on the value of the **ord** parameter passed in.\n",
    "- The default value of the ord parameter in numpy.linalg.norm is 2, which is equal to Euclidean distance (or the l2 norm).\n",
    "\n",
    "See the following for more details:\n",
    "\n",
    "- https://numpy.org/devdocs/reference/generated/numpy.linalg.norm.html\n",
    "- https://www.geeksforgeeks.org/find-a-matrix-or-vector-norm-using-numpy/\n",
    "- https://stackoverflow.com/questions/1401712/how-can-the-euclidean-distance-be-calculated-with-numpy"
   ]
  },
  {
   "cell_type": "code",
   "execution_count": 32,
   "metadata": {},
   "outputs": [
    {
     "data": {
      "text/plain": [
       "5.0"
      ]
     },
     "execution_count": 32,
     "metadata": {},
     "output_type": "execute_result"
    }
   ],
   "source": [
    "import numpy as np\n",
    "v = [0, 4, -3]\n",
    "np.linalg.norm([0, 4, -3])"
   ]
  },
  {
   "cell_type": "markdown",
   "metadata": {},
   "source": [
    "### \"Hatted\" Vectors"
   ]
  },
  {
   "cell_type": "markdown",
   "metadata": {},
   "source": [
    "A vector with a \"hat\", $\\hat{\\mathbf{a}}$ typically means one of two things:\n",
    "\n",
    "\n",
    "\n",
    "1. The vector is a [unit vector](https://en.wikipedia.org/wiki/Unit_vector)\n",
    "2. The vector represents \"predictions\" generated by a model\n",
    "   - We'll ignore this second idea for now.\n",
    "\n",
    "In Cartesian space, a unit vector has a magnitude of 1.\n",
    "\n",
    "Let's *normalize* a 3D vector into a unit vector. We will use the sklearn function normalize() to perform this operation."
   ]
  },
  {
   "cell_type": "code",
   "execution_count": null,
   "metadata": {},
   "outputs": [],
   "source": [
    "a = [ 0, 4, -3 ]\n",
    "\n",
    "from sklearn.preprocessing import normalize\n",
    "normalize([a])"
   ]
  },
  {
   "cell_type": "markdown",
   "metadata": {},
   "source": [
    "## Attributions"
   ]
  },
  {
   "cell_type": "markdown",
   "metadata": {},
   "source": [
    "Sections of this notebook are adaptations of:\n",
    "\n",
    "https://github.com/Jam3/math-as-code/blob/master/PYTHON-README.md\n",
    "\n",
    "Under the MIT license:\n",
    "\n",
    "https://github.com/Jam3/math-as-code/blob/master/LICENSE.md"
   ]
  }
 ],
 "metadata": {
  "kernelspec": {
   "display_name": "Python 3",
   "language": "python",
   "name": "python3"
  },
  "language_info": {
   "codemirror_mode": {
    "name": "ipython",
    "version": 3
   },
   "file_extension": ".py",
   "mimetype": "text/x-python",
   "name": "python",
   "nbconvert_exporter": "python",
   "pygments_lexer": "ipython3",
   "version": "3.10.12"
  }
 },
 "nbformat": 4,
 "nbformat_minor": 2
}
