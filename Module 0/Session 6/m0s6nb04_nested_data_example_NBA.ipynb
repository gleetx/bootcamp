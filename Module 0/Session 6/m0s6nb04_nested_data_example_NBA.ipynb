{
  "cells": [
    {
      "cell_type": "markdown",
      "metadata": {
        "id": "view-in-github",
        "colab_type": "text"
      },
      "source": [
        "<a href=\"https://colab.research.google.com/github/gleetx/bootcamp/blob/main/Module%200/Session%206/m0s6nb04_nested_data_example_NBA.ipynb\" target=\"_parent\"><img src=\"https://colab.research.google.com/assets/colab-badge.svg\" alt=\"Open In Colab\"/></a>"
      ]
    },
    {
      "cell_type": "markdown",
      "id": "eed72988",
      "metadata": {
        "id": "eed72988"
      },
      "source": [
        "# Nested Data Structures Example: NBA Player Analysis\n",
        "\n",
        "_Version 1.3_\n",
        "\n",
        "This notebook exercises the concepts of nested data structures in Python.\n",
        "\n",
        "The intent is to demonstrate for the student a methodology for discovering and manipulating these data structures.\n",
        "\n",
        "The focus of this notebook is solely on understanding the nested data structures, so that they can be manipulated in some manner.\n",
        "\n",
        "#### The methodology illustrated here might be required in the format of the first few questions on an exam."
      ]
    },
    {
      "cell_type": "markdown",
      "id": "2c794fd8",
      "metadata": {
        "id": "2c794fd8"
      },
      "source": [
        "### Context:  We will be using some data from the National Basketball Association's (NBA) statistics API for this exercise. On an exam, the context will be provided, but students don't necessarily need to understand the context in detail, to complete the exam exercises.\n",
        "\n",
        "The data is called the matchup stats for when a defensive player is guarding an offensive player during the games of an NBA season. The statistics show how the offensive player performed, using various offensive metrics, while being guarded by the defensive player. They include such metrics as the number of games against each other, the total number of minutes that the defensive player guarded the offensive player, points scored, assists, field goal percentage, and the like. The statistics are compiled over the multiple games that the two players' teams played each other over that season.\n",
        "\n",
        "Analysts compare these matchup statistics with how the offensive player performed over the full season, to assess the defensive player's effectiveness. For example, let's say that the offensive player averaged 20 points per 48 minute game for the season. And then let's say that the offensive player scored 10 points in 48 minutes, while matched up against a particular defender. That defender would be considered very good, because he held the offensive player to half of their points per game."
      ]
    },
    {
      "cell_type": "markdown",
      "id": "5e5c0077",
      "metadata": {
        "id": "5e5c0077"
      },
      "source": [
        "## Objective\n",
        "\n",
        "The raw data is in a json file, which comes to us as a dictionary with embedded dictonaries and lists.\n",
        "\n",
        "For our purposes here, we are simply be working to understand the nested data structure of this json input file.\n",
        "\n",
        "We assume that this would be the first part of a larger data analysis on the exam."
      ]
    },
    {
      "cell_type": "code",
      "source": [
        "!wget https://raw.githubusercontent.com/gt-cse-6040/bootcamp/main/Module%200/Session%206/nba_json.txt"
      ],
      "metadata": {
        "colab": {
          "base_uri": "https://localhost:8080/"
        },
        "id": "m_xkempWi7qd",
        "outputId": "7f7f2c66-0dea-4202-af6c-3109d780a361"
      },
      "id": "m_xkempWi7qd",
      "execution_count": 1,
      "outputs": [
        {
          "output_type": "stream",
          "name": "stdout",
          "text": [
            "--2024-02-19 00:19:24--  https://raw.githubusercontent.com/gt-cse-6040/bootcamp/main/Module%200/Session%206/nba_json.txt\n",
            "Resolving raw.githubusercontent.com (raw.githubusercontent.com)... 185.199.108.133, 185.199.109.133, 185.199.110.133, ...\n",
            "Connecting to raw.githubusercontent.com (raw.githubusercontent.com)|185.199.108.133|:443... connected.\n",
            "HTTP request sent, awaiting response... 200 OK\n",
            "Length: 8903 (8.7K) [text/plain]\n",
            "Saving to: ‘nba_json.txt’\n",
            "\n",
            "\rnba_json.txt          0%[                    ]       0  --.-KB/s               \rnba_json.txt        100%[===================>]   8.69K  --.-KB/s    in 0s      \n",
            "\n",
            "2024-02-19 00:19:24 (45.0 MB/s) - ‘nba_json.txt’ saved [8903/8903]\n",
            "\n"
          ]
        }
      ]
    },
    {
      "cell_type": "markdown",
      "id": "e551d0d2",
      "metadata": {
        "id": "e551d0d2"
      },
      "source": [
        "## The data file\n",
        "\n",
        "#### nba_json.txt\n",
        "    This is the raw data, scraped from the NBA API. We will put this into a variable, nested, which will be a list of dictionaries.\n",
        "\n",
        "Don't worry about the packages or syntax here to import from the json file, as you will learn about these later in the course."
      ]
    },
    {
      "cell_type": "code",
      "execution_count": 2,
      "id": "47e944d1",
      "metadata": {
        "scrolled": true,
        "id": "47e944d1"
      },
      "outputs": [],
      "source": [
        "# import the required package for bringing in the json file\n",
        "import ast\n",
        "\n",
        "# reading the data from the json file\n",
        "with open('nba_json.txt') as f:\n",
        "    data = f.readlines()\n",
        "\n",
        "nested = [] # this is going to be our nested data structure\n",
        "#put each line(string) into a dictionary\n",
        "for line in data:\n",
        "    result = ast.literal_eval(line)\n",
        "#     print(result)\n",
        "    nested.append(result)"
      ]
    },
    {
      "cell_type": "markdown",
      "id": "0c8ebaec",
      "metadata": {
        "id": "0c8ebaec"
      },
      "source": [
        "## We want to understand the elements of the nested data structure, and how to address each of them.\n",
        "\n",
        "What is the overall data type of the variable nested?"
      ]
    },
    {
      "cell_type": "code",
      "execution_count": 3,
      "id": "7920cd61",
      "metadata": {
        "scrolled": true,
        "id": "7920cd61",
        "outputId": "13ca6715-4fe8-4fdb-a170-ba7bd56713d3",
        "colab": {
          "base_uri": "https://localhost:8080/"
        }
      },
      "outputs": [
        {
          "output_type": "stream",
          "name": "stdout",
          "text": [
            "<class 'list'>\n"
          ]
        }
      ],
      "source": [
        "print(type(nested))"
      ]
    },
    {
      "cell_type": "markdown",
      "id": "cc28034a",
      "metadata": {
        "id": "cc28034a"
      },
      "source": [
        "#### The variable nested is a list, so let's understand what that means.\n",
        "\n",
        "We know that a list will have one or more elements, and we use square brackets to address each element in the list. The list indices start at 0 and go up to n-1, where n is the number of elements in the list.\n",
        "\n",
        "The code below loops through this list and prints the data type of each element in the list."
      ]
    },
    {
      "cell_type": "code",
      "source": [
        "print(nested)"
      ],
      "metadata": {
        "id": "sKWeZxOuvdNx",
        "outputId": "d4bf0a04-07f7-488b-c6ed-2257cebdd916",
        "colab": {
          "base_uri": "https://localhost:8080/"
        }
      },
      "id": "sKWeZxOuvdNx",
      "execution_count": 4,
      "outputs": [
        {
          "output_type": "stream",
          "name": "stdout",
          "text": [
            "[{'resource': 'leagueseasonmatchups', 'parameters': {'LeagueID': '00', 'Season': '2019-20', 'SeasonType': 'Regular Season', 'PORound': 0, 'PerMode': 'Totals', 'DefTeamID': None, 'OffTeamID': None, 'OffPlayerID': None, 'DefPlayerID': 202329}, 'resultSets': [{'name': 'SeasonMatchups', 'headers': ['SEASON_ID', 'OFF_PLAYER_ID', 'OFF_PLAYER_NAME', 'DEF_PLAYER_ID', 'DEF_PLAYER_NAME', 'GP', 'MATCHUP_MIN', 'PARTIAL_POSS', 'PLAYER_PTS', 'TEAM_PTS', 'MATCHUP_AST', 'MATCHUP_TOV', 'MATCHUP_BLK', 'MATCHUP_FGM', 'MATCHUP_FGA', 'MATCHUP_FG_PCT', 'MATCHUP_FG3M', 'MATCHUP_FG3A', 'MATCHUP_FG3_PCT', 'HELP_BLK', 'HELP_FGM', 'HELP_FGA', 'HELP_FG_PERC', 'MATCHUP_FTM', 'MATCHUP_FTA', 'SFL', 'MATCHUP_TIME_SEC'], 'rowSet': [['22019', 1629060, 'Rui Hachimura', 202329, 'Al-Farouq Aminu', 1, '6:45', 31.9, 4, 47, 1, 0, 0, 2, 5, 0.4, 0, 0, 0.0, 0, 0, 0, 0, 0, 0, 0, 404.7], ['22019', 1626168, 'Trey Lyles', 202329, 'Al-Farouq Aminu', 1, '7:31', 30.5, 3, 22, 0, 1, 0, 1, 3, 0.333, 1, 2, 0.5, 0, 0, 0, 0, 0, 0, 0, 451.1], ['22019', 1628384, 'OG Anunoby', 202329, 'Al-Farouq Aminu', 3, '5:56', 29.3, 5, 37, 1, 1, 1, 2, 4, 0.5, 1, 2, 0.5, 0, 0, 0, 0, 0, 0, 0, 355.6], ['22019', 201567, 'Kevin Love', 202329, 'Al-Farouq Aminu', 2, '5:17', 25.0, 4, 14, 0, 1, 0, 2, 3, 0.667, 0, 1, 0.0, 0, 0, 0, 0, 0, 0, 0, 316.8]]}]}, {'resource': 'leagueseasonmatchups', 'parameters': {'LeagueID': '00', 'Season': '2019-20', 'SeasonType': 'Regular Season', 'PORound': 0, 'PerMode': 'Totals', 'DefTeamID': None, 'OffTeamID': None, 'OffPlayerID': None, 'DefPlayerID': 1628389}, 'resultSets': [{'name': 'SeasonMatchups', 'headers': ['SEASON_ID', 'OFF_PLAYER_ID', 'OFF_PLAYER_NAME', 'DEF_PLAYER_ID', 'DEF_PLAYER_NAME', 'GP', 'MATCHUP_MIN', 'PARTIAL_POSS', 'PLAYER_PTS', 'TEAM_PTS', 'MATCHUP_AST', 'MATCHUP_TOV', 'MATCHUP_BLK', 'MATCHUP_FGM', 'MATCHUP_FGA', 'MATCHUP_FG_PCT', 'MATCHUP_FG3M', 'MATCHUP_FG3A', 'MATCHUP_FG3_PCT', 'HELP_BLK', 'HELP_FGM', 'HELP_FGA', 'HELP_FG_PERC', 'MATCHUP_FTM', 'MATCHUP_FTA', 'SFL', 'MATCHUP_TIME_SEC'], 'rowSet': [['22019', 202696, 'Nikola Vucevic', 1628389, 'Bam Adebayo', 4, '19:44', 97.5, 22, 100, 8, 2, 0, 10, 22, 0.455, 2, 5, 0.4, 0, 0, 0, 0, 0, 0, 0, 1184.1], ['22019', 203954, 'Joel Embiid', 1628389, 'Bam Adebayo', 4, '18:03', 90.8, 31, 79, 2, 1, 0, 11, 23, 0.478, 2, 5, 0.4, 0, 0, 0, 0, 7, 9, 5, 1083.1], ['22019', 1628381, 'John Collins', 1628389, 'Bam Adebayo', 3, '16:54', 89.1, 10, 66, 1, 1, 2, 4, 13, 0.308, 2, 5, 0.4, 0, 0, 0, 0, 0, 0, 0, 1014.1], ['22019', 1626167, 'Myles Turner', 1628389, 'Bam Adebayo', 3, '17:10', 85.4, 13, 65, 3, 1, 1, 4, 10, 0.4, 3, 6, 0.5, 0, 0, 0, 0, 2, 2, 1, 1029.8]]}]}, {'resource': 'leagueseasonmatchups', 'parameters': {'LeagueID': '00', 'Season': '2019-20', 'SeasonType': 'Regular Season', 'PORound': 0, 'PerMode': 'Totals', 'DefTeamID': None, 'OffTeamID': None, 'OffPlayerID': None, 'DefPlayerID': 1629638}, 'resultSets': [{'name': 'SeasonMatchups', 'headers': ['SEASON_ID', 'OFF_PLAYER_ID', 'OFF_PLAYER_NAME', 'DEF_PLAYER_ID', 'DEF_PLAYER_NAME', 'GP', 'MATCHUP_MIN', 'PARTIAL_POSS', 'PLAYER_PTS', 'TEAM_PTS', 'MATCHUP_AST', 'MATCHUP_TOV', 'MATCHUP_BLK', 'MATCHUP_FGM', 'MATCHUP_FGA', 'MATCHUP_FG_PCT', 'MATCHUP_FG3M', 'MATCHUP_FG3A', 'MATCHUP_FG3_PCT', 'HELP_BLK', 'HELP_FGM', 'HELP_FGA', 'HELP_FG_PERC', 'MATCHUP_FTM', 'MATCHUP_FTA', 'SFL', 'MATCHUP_TIME_SEC'], 'rowSet': [['22019', 203552, 'Seth Curry', 1629638, 'Nickeil Alexander-Walker', 3, '6:30', 32.4, 5, 27, 0, 2, 0, 2, 4, 0.5, 1, 2, 0.5, 0, 0, 0, 0, 0, 0, 0, 390.1], ['22019', 1629010, 'Jerome Robinson', 1629638, 'Nickeil Alexander-Walker', 3, '5:18', 31.4, 0, 37, 0, 0, 0, 0, 2, 0.0, 0, 1, 0.0, 0, 0, 0, 0, 0, 0, 0, 317.8], ['22019', 203903, 'Jordan Clarkson', 1629638, 'Nickeil Alexander-Walker', 2, '6:22', 30.8, 16, 34, 0, 0, 1, 5, 8, 0.625, 4, 5, 0.8, 0, 0, 0, 0, 2, 2, 1, 381.6]]}]}, {'resource': 'leagueseasonmatchups', 'parameters': {'LeagueID': '00', 'Season': '2019-20', 'SeasonType': 'Regular Season', 'PORound': 0, 'PerMode': 'Totals', 'DefTeamID': None, 'OffTeamID': None, 'OffPlayerID': None, 'DefPlayerID': 1628960}, 'resultSets': [{'name': 'SeasonMatchups', 'headers': ['SEASON_ID', 'OFF_PLAYER_ID', 'OFF_PLAYER_NAME', 'DEF_PLAYER_ID', 'DEF_PLAYER_NAME', 'GP', 'MATCHUP_MIN', 'PARTIAL_POSS', 'PLAYER_PTS', 'TEAM_PTS', 'MATCHUP_AST', 'MATCHUP_TOV', 'MATCHUP_BLK', 'MATCHUP_FGM', 'MATCHUP_FGA', 'MATCHUP_FG_PCT', 'MATCHUP_FG3M', 'MATCHUP_FG3A', 'MATCHUP_FG3_PCT', 'HELP_BLK', 'HELP_FGM', 'HELP_FGA', 'HELP_FG_PERC', 'MATCHUP_FTM', 'MATCHUP_FTA', 'SFL', 'MATCHUP_TIME_SEC'], 'rowSet': [['22019', 1628378, 'Donovan Mitchell', 1628960, 'Grayson Allen', 3, '6:44', 37.4, 11, 46, 3, 1, 0, 5, 14, 0.357, 1, 3, 0.333, 0, 0, 0, 0, 0, 0, 0, 404.4], ['22019', 1627854, 'Bryn Forbes', 1628960, 'Grayson Allen', 2, '6:60', 36.7, 4, 44, 1, 0, 0, 2, 3, 0.667, 0, 1, 0.0, 0, 0, 0, 0, 0, 0, 0, 419.9], ['22019', 2594, 'Kyle Korver', 1628960, 'Grayson Allen', 1, '6:10', 34.8, 3, 27, 0, 0, 0, 1, 1, 1.0, 1, 1, 1.0, 0, 0, 0, 0, 0, 0, 0, 370.3]]}]}, {'resource': 'leagueseasonmatchups', 'parameters': {'LeagueID': '00', 'Season': '2019-20', 'SeasonType': 'Regular Season', 'PORound': 0, 'PerMode': 'Totals', 'DefTeamID': None, 'OffTeamID': None, 'OffPlayerID': None, 'DefPlayerID': 1628386}, 'resultSets': [{'name': 'SeasonMatchups', 'headers': ['SEASON_ID', 'OFF_PLAYER_ID', 'OFF_PLAYER_NAME', 'DEF_PLAYER_ID', 'DEF_PLAYER_NAME', 'GP', 'MATCHUP_MIN', 'PARTIAL_POSS', 'PLAYER_PTS', 'TEAM_PTS', 'MATCHUP_AST', 'MATCHUP_TOV', 'MATCHUP_BLK', 'MATCHUP_FGM', 'MATCHUP_FGA', 'MATCHUP_FG_PCT', 'MATCHUP_FG3M', 'MATCHUP_FG3A', 'MATCHUP_FG3_PCT', 'HELP_BLK', 'HELP_FGM', 'HELP_FGA', 'HELP_FG_PERC', 'MATCHUP_FTM', 'MATCHUP_FTA', 'SFL', 'MATCHUP_TIME_SEC'], 'rowSet': [['22019', 202696, 'Nikola Vucevic', 1628386, 'Jarrett Allen', 3, '22:27', 108.3, 21, 129, 9, 4, 2, 9, 26, 0.346, 0, 3, 0.0, 0, 0, 0, 0, 3, 3, 1, 1346.6], ['22019', 203083, 'Andre Drummond', 1628386, 'Jarrett Allen', 3, '20:21', 95.5, 21, 100, 4, 4, 5, 10, 23, 0.435, 0, 0, 0.0, 0, 0, 0, 0, 1, 4, 2, 1220.8], ['22019', 1628389, 'Bam Adebayo', 1628386, 'Jarrett Allen', 3, '20:19', 95.1, 27, 93, 7, 1, 0, 12, 21, 0.571, 0, 0, 0.0, 0, 0, 0, 0, 3, 4, 2, 1219.1], ['22019', 1628464, 'Daniel Theis', 1628386, 'Jarrett Allen', 4, '16:24', 89.2, 13, 83, 3, 0, 1, 6, 12, 0.5, 1, 2, 0.5, 0, 0, 0, 0, 0, 0, 0, 984.2]]}]}, {'resource': 'leagueseasonmatchups', 'parameters': {'LeagueID': '00', 'Season': '2019-20', 'SeasonType': 'Regular Season', 'PORound': 0, 'PerMode': 'Totals', 'DefTeamID': None, 'OffTeamID': None, 'OffPlayerID': None, 'DefPlayerID': 203937}, 'resultSets': [{'name': 'SeasonMatchups', 'headers': ['SEASON_ID', 'OFF_PLAYER_ID', 'OFF_PLAYER_NAME', 'DEF_PLAYER_ID', 'DEF_PLAYER_NAME', 'GP', 'MATCHUP_MIN', 'PARTIAL_POSS', 'PLAYER_PTS', 'TEAM_PTS', 'MATCHUP_AST', 'MATCHUP_TOV', 'MATCHUP_BLK', 'MATCHUP_FGM', 'MATCHUP_FGA', 'MATCHUP_FG_PCT', 'MATCHUP_FG3M', 'MATCHUP_FG3A', 'MATCHUP_FG3_PCT', 'HELP_BLK', 'HELP_FGM', 'HELP_FGA', 'HELP_FG_PERC', 'MATCHUP_FTM', 'MATCHUP_FTA', 'SFL', 'MATCHUP_TIME_SEC'], 'rowSet': [['22019', 203084, 'Harrison Barnes', 203937, 'Kyle Anderson', 4, '11:22', 51.6, 17, 51, 0, 0, 0, 6, 10, 0.6, 3, 5, 0.6, 0, 0, 0, 0, 2, 2, 1, 682.1], ['22019', 204060, 'Joe Ingles', 203937, 'Kyle Anderson', 3, '9:57', 50.7, 21, 62, 2, 1, 1, 7, 12, 0.583, 6, 11, 0.545, 0, 0, 0, 0, 1, 1, 1, 597.0], ['22019', 203932, 'Aaron Gordon', 203937, 'Kyle Anderson', 2, '10:39', 50.4, 6, 52, 5, 1, 0, 3, 7, 0.429, 0, 2, 0.0, 0, 0, 0, 0, 0, 0, 0, 638.6], ['22019', 202357, 'Nemanja Bjelica', 203937, 'Kyle Anderson', 4, '8:60', 48.9, 3, 41, 3, 1, 0, 1, 2, 0.5, 1, 2, 0.5, 0, 0, 0, 0, 0, 0, 0, 539.9]]}]}, {'resource': 'leagueseasonmatchups', 'parameters': {'LeagueID': '00', 'Season': '2019-20', 'SeasonType': 'Regular Season', 'PORound': 0, 'PerMode': 'Totals', 'DefTeamID': None, 'OffTeamID': None, 'OffPlayerID': None, 'DefPlayerID': 203507}, 'resultSets': [{'name': 'SeasonMatchups', 'headers': ['SEASON_ID', 'OFF_PLAYER_ID', 'OFF_PLAYER_NAME', 'DEF_PLAYER_ID', 'DEF_PLAYER_NAME', 'GP', 'MATCHUP_MIN', 'PARTIAL_POSS', 'PLAYER_PTS', 'TEAM_PTS', 'MATCHUP_AST', 'MATCHUP_TOV', 'MATCHUP_BLK', 'MATCHUP_FGM', 'MATCHUP_FGA', 'MATCHUP_FG_PCT', 'MATCHUP_FG3M', 'MATCHUP_FG3A', 'MATCHUP_FG3_PCT', 'HELP_BLK', 'HELP_FGM', 'HELP_FGA', 'HELP_FG_PERC', 'MATCHUP_FTM', 'MATCHUP_FTA', 'SFL', 'MATCHUP_TIME_SEC'], 'rowSet': [['22019', 1628374, 'Lauri Markkanen', 203507, 'Giannis Antetokounmpo', 4, '27:05', 145.0, 11, 123, 0, 4, 1, 4, 22, 0.182, 2, 13, 0.154, 0, 0, 0, 0, 1, 2, 1, 1624.5], ['22019', 201567, 'Kevin Love', 203507, 'Giannis Antetokounmpo', 3, '18:18', 85.6, 23, 91, 4, 4, 0, 9, 15, 0.6, 5, 10, 0.5, 0, 0, 0, 0, 0, 0, 0, 1097.9], ['22019', 1626167, 'Myles Turner', 203507, 'Giannis Antetokounmpo', 3, '17:08', 83.4, 5, 51, 1, 2, 0, 2, 8, 0.25, 0, 4, 0.0, 0, 0, 0, 0, 1, 2, 1, 1027.9], ['22019', 1627732, 'Ben Simmons', 203507, 'Giannis Antetokounmpo', 3, '15:37', 81.1, 5, 74, 11, 3, 0, 2, 4, 0.5, 0, 0, 0.0, 0, 0, 0, 0, 1, 4, 1, 937.2]]}]}]\n"
          ]
        }
      ]
    },
    {
      "cell_type": "code",
      "execution_count": 5,
      "id": "2514a0f8",
      "metadata": {
        "scrolled": true,
        "id": "2514a0f8",
        "outputId": "9c56dc61-772c-4a37-94bc-2911945cd0d8",
        "colab": {
          "base_uri": "https://localhost:8080/"
        }
      },
      "outputs": [
        {
          "output_type": "stream",
          "name": "stdout",
          "text": [
            "<class 'dict'>\n",
            "<class 'dict'>\n",
            "<class 'dict'>\n",
            "<class 'dict'>\n",
            "<class 'dict'>\n",
            "<class 'dict'>\n",
            "<class 'dict'>\n"
          ]
        }
      ],
      "source": [
        "for i in nested:  #loop over the elements of the list\n",
        "    print(type(i))"
      ]
    },
    {
      "cell_type": "markdown",
      "id": "9941772a",
      "metadata": {
        "id": "9941772a"
      },
      "source": [
        "#### We see that the list has 7 elements, and that each element of the list is a dictionary.\n",
        "\n",
        "#### So we have a list of dictionaries.\n",
        "\n",
        "#### Let's look at the dictionary that is the first element in the list. Pay attention to the notation that we are using."
      ]
    },
    {
      "cell_type": "code",
      "execution_count": 6,
      "id": "531c8e80",
      "metadata": {
        "scrolled": true,
        "id": "531c8e80",
        "outputId": "acc19fc9-dcc2-4658-e61c-1bf66da1ca07",
        "colab": {
          "base_uri": "https://localhost:8080/"
        }
      },
      "outputs": [
        {
          "output_type": "stream",
          "name": "stdout",
          "text": [
            "nested_first_dict= {'resource': 'leagueseasonmatchups', 'parameters': {'LeagueID': '00', 'Season': '2019-20', 'SeasonType': 'Regular Season', 'PORound': 0, 'PerMode': 'Totals', 'DefTeamID': None, 'OffTeamID': None, 'OffPlayerID': None, 'DefPlayerID': 202329}, 'resultSets': [{'name': 'SeasonMatchups', 'headers': ['SEASON_ID', 'OFF_PLAYER_ID', 'OFF_PLAYER_NAME', 'DEF_PLAYER_ID', 'DEF_PLAYER_NAME', 'GP', 'MATCHUP_MIN', 'PARTIAL_POSS', 'PLAYER_PTS', 'TEAM_PTS', 'MATCHUP_AST', 'MATCHUP_TOV', 'MATCHUP_BLK', 'MATCHUP_FGM', 'MATCHUP_FGA', 'MATCHUP_FG_PCT', 'MATCHUP_FG3M', 'MATCHUP_FG3A', 'MATCHUP_FG3_PCT', 'HELP_BLK', 'HELP_FGM', 'HELP_FGA', 'HELP_FG_PERC', 'MATCHUP_FTM', 'MATCHUP_FTA', 'SFL', 'MATCHUP_TIME_SEC'], 'rowSet': [['22019', 1629060, 'Rui Hachimura', 202329, 'Al-Farouq Aminu', 1, '6:45', 31.9, 4, 47, 1, 0, 0, 2, 5, 0.4, 0, 0, 0.0, 0, 0, 0, 0, 0, 0, 0, 404.7], ['22019', 1626168, 'Trey Lyles', 202329, 'Al-Farouq Aminu', 1, '7:31', 30.5, 3, 22, 0, 1, 0, 1, 3, 0.333, 1, 2, 0.5, 0, 0, 0, 0, 0, 0, 0, 451.1], ['22019', 1628384, 'OG Anunoby', 202329, 'Al-Farouq Aminu', 3, '5:56', 29.3, 5, 37, 1, 1, 1, 2, 4, 0.5, 1, 2, 0.5, 0, 0, 0, 0, 0, 0, 0, 355.6], ['22019', 201567, 'Kevin Love', 202329, 'Al-Farouq Aminu', 2, '5:17', 25.0, 4, 14, 0, 1, 0, 2, 3, 0.667, 0, 1, 0.0, 0, 0, 0, 0, 0, 0, 0, 316.8]]}]}\n"
          ]
        }
      ],
      "source": [
        "# display the first dictionary in the list\n",
        "# Using list notation to address this element\n",
        "print(\"nested_first_dict=\",nested[0])"
      ]
    },
    {
      "cell_type": "markdown",
      "id": "3fd411b8",
      "metadata": {
        "id": "3fd411b8"
      },
      "source": [
        "Let's take this out to Python Tutor to visualize.\n",
        "\n",
        "[Python Tutor](https://pythontutor.com/visualize.html#mode=display)\n"
      ]
    },
    {
      "cell_type": "markdown",
      "id": "a65a6f50",
      "metadata": {
        "id": "a65a6f50"
      },
      "source": [
        "#### Note that this first dict in 'nested' is for the player Al-Farouq Aminu, with the player_id 202329.\n",
        "\n",
        "How would we get the second player in 'nested'?"
      ]
    },
    {
      "cell_type": "code",
      "execution_count": 7,
      "id": "76ed006d",
      "metadata": {
        "id": "76ed006d",
        "outputId": "89498bfb-6ff5-47f4-fe42-92da106b46eb",
        "colab": {
          "base_uri": "https://localhost:8080/"
        }
      },
      "outputs": [
        {
          "output_type": "stream",
          "name": "stdout",
          "text": [
            "{'resource': 'leagueseasonmatchups', 'parameters': {'LeagueID': '00', 'Season': '2019-20', 'SeasonType': 'Regular Season', 'PORound': 0, 'PerMode': 'Totals', 'DefTeamID': None, 'OffTeamID': None, 'OffPlayerID': None, 'DefPlayerID': 1628389}, 'resultSets': [{'name': 'SeasonMatchups', 'headers': ['SEASON_ID', 'OFF_PLAYER_ID', 'OFF_PLAYER_NAME', 'DEF_PLAYER_ID', 'DEF_PLAYER_NAME', 'GP', 'MATCHUP_MIN', 'PARTIAL_POSS', 'PLAYER_PTS', 'TEAM_PTS', 'MATCHUP_AST', 'MATCHUP_TOV', 'MATCHUP_BLK', 'MATCHUP_FGM', 'MATCHUP_FGA', 'MATCHUP_FG_PCT', 'MATCHUP_FG3M', 'MATCHUP_FG3A', 'MATCHUP_FG3_PCT', 'HELP_BLK', 'HELP_FGM', 'HELP_FGA', 'HELP_FG_PERC', 'MATCHUP_FTM', 'MATCHUP_FTA', 'SFL', 'MATCHUP_TIME_SEC'], 'rowSet': [['22019', 202696, 'Nikola Vucevic', 1628389, 'Bam Adebayo', 4, '19:44', 97.5, 22, 100, 8, 2, 0, 10, 22, 0.455, 2, 5, 0.4, 0, 0, 0, 0, 0, 0, 0, 1184.1], ['22019', 203954, 'Joel Embiid', 1628389, 'Bam Adebayo', 4, '18:03', 90.8, 31, 79, 2, 1, 0, 11, 23, 0.478, 2, 5, 0.4, 0, 0, 0, 0, 7, 9, 5, 1083.1], ['22019', 1628381, 'John Collins', 1628389, 'Bam Adebayo', 3, '16:54', 89.1, 10, 66, 1, 1, 2, 4, 13, 0.308, 2, 5, 0.4, 0, 0, 0, 0, 0, 0, 0, 1014.1], ['22019', 1626167, 'Myles Turner', 1628389, 'Bam Adebayo', 3, '17:10', 85.4, 13, 65, 3, 1, 1, 4, 10, 0.4, 3, 6, 0.5, 0, 0, 0, 0, 2, 2, 1, 1029.8]]}]}\n"
          ]
        }
      ],
      "source": [
        "# display the second dictionary in the list\n",
        "# Using list notation to address this element\n",
        "print(nested[1])"
      ]
    },
    {
      "cell_type": "markdown",
      "id": "e65d64c7",
      "metadata": {
        "id": "e65d64c7"
      },
      "source": [
        "#### We can see that this is a dictionary (the squiggly brackets at the very beginning and end) and that it has other nested data elements within the dictionary.\n",
        "\n",
        "Let's look at the dictionary to see if we can visualize its structure.\n",
        "\n",
        "We will do this in two steps.\n",
        "\n",
        "First, we want to know the keys of the dictionary. This will tell us the \"top level\" data elements.\n",
        "\n",
        "Then, we will output an element of the list (the dictionary), put it into a markdown cell, and see if we can use CRLF's and indentations to visualize the dictionary and its nested elements."
      ]
    },
    {
      "cell_type": "code",
      "execution_count": 8,
      "id": "eb261382",
      "metadata": {
        "scrolled": true,
        "id": "eb261382",
        "outputId": "09f17436-2a32-46e1-fc17-94da9c362c15",
        "colab": {
          "base_uri": "https://localhost:8080/"
        }
      },
      "outputs": [
        {
          "output_type": "stream",
          "name": "stdout",
          "text": [
            "dict_keys(['resource', 'parameters', 'resultSets'])\n"
          ]
        }
      ],
      "source": [
        "# First, what are the keys of the dictionary?\n",
        "# Remember that each element of \"nested\" is a dictionary\n",
        "# So nested[i] defines each dictionary in the list of dicts\n",
        "print(nested[0].keys())\n"
      ]
    },
    {
      "cell_type": "markdown",
      "id": "88a46f3a",
      "metadata": {
        "id": "88a46f3a"
      },
      "source": [
        "#### So the dictionary has 3 keys.\n",
        "\n",
        "Now let's output the first of the list elements from nested, a dictionary.\n"
      ]
    },
    {
      "cell_type": "code",
      "execution_count": 9,
      "id": "96614075",
      "metadata": {
        "scrolled": true,
        "id": "96614075",
        "outputId": "31a3e702-0fa9-4705-d3e3-814dbd000f92",
        "colab": {
          "base_uri": "https://localhost:8080/"
        }
      },
      "outputs": [
        {
          "output_type": "stream",
          "name": "stdout",
          "text": [
            "{'resource': 'leagueseasonmatchups', 'parameters': {'LeagueID': '00', 'Season': '2019-20', 'SeasonType': 'Regular Season', 'PORound': 0, 'PerMode': 'Totals', 'DefTeamID': None, 'OffTeamID': None, 'OffPlayerID': None, 'DefPlayerID': 202329}, 'resultSets': [{'name': 'SeasonMatchups', 'headers': ['SEASON_ID', 'OFF_PLAYER_ID', 'OFF_PLAYER_NAME', 'DEF_PLAYER_ID', 'DEF_PLAYER_NAME', 'GP', 'MATCHUP_MIN', 'PARTIAL_POSS', 'PLAYER_PTS', 'TEAM_PTS', 'MATCHUP_AST', 'MATCHUP_TOV', 'MATCHUP_BLK', 'MATCHUP_FGM', 'MATCHUP_FGA', 'MATCHUP_FG_PCT', 'MATCHUP_FG3M', 'MATCHUP_FG3A', 'MATCHUP_FG3_PCT', 'HELP_BLK', 'HELP_FGM', 'HELP_FGA', 'HELP_FG_PERC', 'MATCHUP_FTM', 'MATCHUP_FTA', 'SFL', 'MATCHUP_TIME_SEC'], 'rowSet': [['22019', 1629060, 'Rui Hachimura', 202329, 'Al-Farouq Aminu', 1, '6:45', 31.9, 4, 47, 1, 0, 0, 2, 5, 0.4, 0, 0, 0.0, 0, 0, 0, 0, 0, 0, 0, 404.7], ['22019', 1626168, 'Trey Lyles', 202329, 'Al-Farouq Aminu', 1, '7:31', 30.5, 3, 22, 0, 1, 0, 1, 3, 0.333, 1, 2, 0.5, 0, 0, 0, 0, 0, 0, 0, 451.1], ['22019', 1628384, 'OG Anunoby', 202329, 'Al-Farouq Aminu', 3, '5:56', 29.3, 5, 37, 1, 1, 1, 2, 4, 0.5, 1, 2, 0.5, 0, 0, 0, 0, 0, 0, 0, 355.6], ['22019', 201567, 'Kevin Love', 202329, 'Al-Farouq Aminu', 2, '5:17', 25.0, 4, 14, 0, 1, 0, 2, 3, 0.667, 0, 1, 0.0, 0, 0, 0, 0, 0, 0, 0, 316.8]]}]}\n"
          ]
        }
      ],
      "source": [
        "# Again, note the list notation to address the dictionary\n",
        "print(nested[0])"
      ]
    },
    {
      "cell_type": "code",
      "execution_count": 11,
      "id": "855d095b",
      "metadata": {
        "scrolled": true,
        "id": "855d095b"
      },
      "outputs": [],
      "source": [
        "# another way of outputting the variable\n",
        "\n",
        "#nested[0]"
      ]
    },
    {
      "cell_type": "markdown",
      "id": "77a29d6b",
      "metadata": {
        "id": "77a29d6b"
      },
      "source": [
        "#### Note the differences in how Python formats the two outputs, using print() versus just calling the variable to output.\n",
        "\n",
        "1.  With print(), you just get the output on lines, with the next line just picking up wherever the text is.\n",
        "\n",
        "2.  With the variable called directly, though, we can see that it formats the output to show the structure of the nested elements, starting a new row for each new element at that level.\n",
        "\n",
        "3.  One note on displaying variables in these two manners. The second manner only outputs if it is the last line of the cell. If you want to display a variable in the middle of the cell, with code after it, you must use print()."
      ]
    },
    {
      "cell_type": "markdown",
      "id": "efe90dc2",
      "metadata": {
        "id": "efe90dc2"
      },
      "source": [
        "#### Now let's visualize the dictionary.\n",
        "\n",
        "We know the three top-level keys, so let's set those first, by putting them onto their own lines.Note that we have truncated the 'resultSets' values, for brevity.\n",
        "\n",
        "##### resource\n",
        "    This defines the NBA API endpoint that we called to bring back this data. Simple key-value pair.\n",
        "\n",
        "##### parameters\n",
        "    Defines the parameters/variables that we passed to the API endpoint, to tell it which data to select and send back to us. We can see that this is a key, with a dictionary as the value (squiggly braces).\n",
        "\n",
        "##### resultSets\n",
        "    This is the player matchup data that we will be putting into our Pandas data frame. We can see that this is a key, with a list as the value (square brackets). We can also see that there appear to be dictionaries and lists within this list, and we will examine this later.\n",
        "\n",
        "\n",
        "{'resource': 'leagueseasonmatchups',\n",
        "\n",
        "'parameters': {'LeagueID': '00', 'Season': '2019-20', 'SeasonType': 'Regular Season', 'PORound': 0, 'PerMode': 'Totals', 'DefTeamID': None, 'OffTeamID': None, 'OffPlayerID': None, 'DefPlayerID': 203500},\n",
        "\n",
        "'resultSets': [{'name': 'SeasonMatchups', 'headers': ['SEASON_ID', 'OFF_PLAYER_ID', 'OFF_PLAYER_NAME', 'DEF_PLAYER_ID', 'DEF_PLAYER_NAME', 'GP', 'MATCHUP_MIN', 'PARTIAL_POSS', 'PLAYER_PTS', 'TEAM_PTS', 'MATCHUP_AST', 'MATCHUP_TOV', 'MATCHUP_BLK', 'MATCHUP_FGM', 'MATCHUP_FGA', 'MATCHUP_FG_PCT', 'MATCHUP_FG3M', 'MATCHUP_FG3A', 'MATCHUP_FG3_PCT', 'HELP_BLK', 'HELP_FGM', 'HELP_FGA', 'HELP_FG_PERC', 'MATCHUP_FTM', 'MATCHUP_FTA', 'SFL', 'MATCHUP_TIME_SEC'], 'rowSet': [['22019', 1629060, 'Rui Hachimura', 202329, 'Al-Farouq Aminu', 1, '6:45', 31.9, 4, 47, 1, 0, 0, 2, 5, 0.4, 0, 0, 0.0, 0, 0, 0, 0, 0, 0, 0, 404.7],}]}"
      ]
    },
    {
      "cell_type": "markdown",
      "id": "4bcaadae",
      "metadata": {
        "id": "4bcaadae"
      },
      "source": [
        "#### Now let's loop over the keys of this dictionary, to display the value of each.\n",
        "\n",
        "This is just a standard Python loop over a dict.\n"
      ]
    },
    {
      "cell_type": "code",
      "execution_count": 12,
      "id": "e2bf11ca",
      "metadata": {
        "id": "e2bf11ca",
        "outputId": "3ff98196-fe37-4764-a786-916011e2e5c4",
        "colab": {
          "base_uri": "https://localhost:8080/"
        }
      },
      "outputs": [
        {
          "output_type": "stream",
          "name": "stdout",
          "text": [
            "key: resource\n",
            "value: leagueseasonmatchups \n",
            "\n",
            "key: parameters\n",
            "value: {'LeagueID': '00', 'Season': '2019-20', 'SeasonType': 'Regular Season', 'PORound': 0, 'PerMode': 'Totals', 'DefTeamID': None, 'OffTeamID': None, 'OffPlayerID': None, 'DefPlayerID': 202329} \n",
            "\n",
            "key: resultSets\n",
            "value: [{'name': 'SeasonMatchups', 'headers': ['SEASON_ID', 'OFF_PLAYER_ID', 'OFF_PLAYER_NAME', 'DEF_PLAYER_ID', 'DEF_PLAYER_NAME', 'GP', 'MATCHUP_MIN', 'PARTIAL_POSS', 'PLAYER_PTS', 'TEAM_PTS', 'MATCHUP_AST', 'MATCHUP_TOV', 'MATCHUP_BLK', 'MATCHUP_FGM', 'MATCHUP_FGA', 'MATCHUP_FG_PCT', 'MATCHUP_FG3M', 'MATCHUP_FG3A', 'MATCHUP_FG3_PCT', 'HELP_BLK', 'HELP_FGM', 'HELP_FGA', 'HELP_FG_PERC', 'MATCHUP_FTM', 'MATCHUP_FTA', 'SFL', 'MATCHUP_TIME_SEC'], 'rowSet': [['22019', 1629060, 'Rui Hachimura', 202329, 'Al-Farouq Aminu', 1, '6:45', 31.9, 4, 47, 1, 0, 0, 2, 5, 0.4, 0, 0, 0.0, 0, 0, 0, 0, 0, 0, 0, 404.7], ['22019', 1626168, 'Trey Lyles', 202329, 'Al-Farouq Aminu', 1, '7:31', 30.5, 3, 22, 0, 1, 0, 1, 3, 0.333, 1, 2, 0.5, 0, 0, 0, 0, 0, 0, 0, 451.1], ['22019', 1628384, 'OG Anunoby', 202329, 'Al-Farouq Aminu', 3, '5:56', 29.3, 5, 37, 1, 1, 1, 2, 4, 0.5, 1, 2, 0.5, 0, 0, 0, 0, 0, 0, 0, 355.6], ['22019', 201567, 'Kevin Love', 202329, 'Al-Farouq Aminu', 2, '5:17', 25.0, 4, 14, 0, 1, 0, 2, 3, 0.667, 0, 1, 0.0, 0, 0, 0, 0, 0, 0, 0, 316.8]]}] \n",
            "\n"
          ]
        }
      ],
      "source": [
        "# loop over the dictionary, display the key and value pair\n",
        "for k,v in nested[0].items():\n",
        "    print(\"key:\", k)\n",
        "    print(\"value:\",v,\"\\n\")\n"
      ]
    },
    {
      "cell_type": "code",
      "execution_count": 13,
      "id": "e53e5212",
      "metadata": {
        "id": "e53e5212",
        "outputId": "ed3e5142-52e5-4141-d8a4-62c92c0e12ed",
        "colab": {
          "base_uri": "https://localhost:8080/"
        }
      },
      "outputs": [
        {
          "output_type": "stream",
          "name": "stdout",
          "text": [
            "leagueseasonmatchups\n",
            "\n",
            "\n",
            "{'LeagueID': '00', 'Season': '2019-20', 'SeasonType': 'Regular Season', 'PORound': 0, 'PerMode': 'Totals', 'DefTeamID': None, 'OffTeamID': None, 'OffPlayerID': None, 'DefPlayerID': 202329}\n",
            "\n",
            "\n",
            "[{'name': 'SeasonMatchups', 'headers': ['SEASON_ID', 'OFF_PLAYER_ID', 'OFF_PLAYER_NAME', 'DEF_PLAYER_ID', 'DEF_PLAYER_NAME', 'GP', 'MATCHUP_MIN', 'PARTIAL_POSS', 'PLAYER_PTS', 'TEAM_PTS', 'MATCHUP_AST', 'MATCHUP_TOV', 'MATCHUP_BLK', 'MATCHUP_FGM', 'MATCHUP_FGA', 'MATCHUP_FG_PCT', 'MATCHUP_FG3M', 'MATCHUP_FG3A', 'MATCHUP_FG3_PCT', 'HELP_BLK', 'HELP_FGM', 'HELP_FGA', 'HELP_FG_PERC', 'MATCHUP_FTM', 'MATCHUP_FTA', 'SFL', 'MATCHUP_TIME_SEC'], 'rowSet': [['22019', 1629060, 'Rui Hachimura', 202329, 'Al-Farouq Aminu', 1, '6:45', 31.9, 4, 47, 1, 0, 0, 2, 5, 0.4, 0, 0, 0.0, 0, 0, 0, 0, 0, 0, 0, 404.7], ['22019', 1626168, 'Trey Lyles', 202329, 'Al-Farouq Aminu', 1, '7:31', 30.5, 3, 22, 0, 1, 0, 1, 3, 0.333, 1, 2, 0.5, 0, 0, 0, 0, 0, 0, 0, 451.1], ['22019', 1628384, 'OG Anunoby', 202329, 'Al-Farouq Aminu', 3, '5:56', 29.3, 5, 37, 1, 1, 1, 2, 4, 0.5, 1, 2, 0.5, 0, 0, 0, 0, 0, 0, 0, 355.6], ['22019', 201567, 'Kevin Love', 202329, 'Al-Farouq Aminu', 2, '5:17', 25.0, 4, 14, 0, 1, 0, 2, 3, 0.667, 0, 1, 0.0, 0, 0, 0, 0, 0, 0, 0, 316.8]]}]\n"
          ]
        }
      ],
      "source": [
        "# Let's output individual keys\n",
        "# Notice the hierarchy of how we are addressing the dict, which is an element of the list\n",
        "print(nested[0]['resource'])\n",
        "print(\"\\n\")\n",
        "print(nested[0]['parameters'])\n",
        "print(\"\\n\")\n",
        "print(nested[0]['resultSets'])"
      ]
    },
    {
      "cell_type": "markdown",
      "id": "7695e73e",
      "metadata": {
        "id": "7695e73e"
      },
      "source": [
        "#### We can see that the key 'parameters' has a dictionary as its value. Let's loop over the keys of this dictionary and output the values.\n",
        "\n",
        "This is practice for us to get our syntax correct for our nesting."
      ]
    },
    {
      "cell_type": "code",
      "execution_count": 14,
      "id": "b94054b1",
      "metadata": {
        "scrolled": false,
        "id": "b94054b1",
        "outputId": "2459cc28-96b2-49e3-8505-afda4ebc5f7f",
        "colab": {
          "base_uri": "https://localhost:8080/"
        }
      },
      "outputs": [
        {
          "output_type": "stream",
          "name": "stdout",
          "text": [
            "key-value pairs in a loop\n",
            "key: LeagueID\n",
            "value: 00 \n",
            "\n",
            "key: Season\n",
            "value: 2019-20 \n",
            "\n",
            "key: SeasonType\n",
            "value: Regular Season \n",
            "\n",
            "key: PORound\n",
            "value: 0 \n",
            "\n",
            "key: PerMode\n",
            "value: Totals \n",
            "\n",
            "key: DefTeamID\n",
            "value: None \n",
            "\n",
            "key: OffTeamID\n",
            "value: None \n",
            "\n",
            "key: OffPlayerID\n",
            "value: None \n",
            "\n",
            "key: DefPlayerID\n",
            "value: 202329 \n",
            "\n"
          ]
        }
      ],
      "source": [
        "# Note the next level down of syntax\n",
        "print('key-value pairs in a loop')\n",
        "for k,v in nested[0]['parameters'].items():\n",
        "    print(\"key:\", k)\n",
        "    print(\"value:\",v,\"\\n\")"
      ]
    },
    {
      "cell_type": "code",
      "execution_count": 15,
      "id": "6a6fcf9b",
      "metadata": {
        "id": "6a6fcf9b",
        "outputId": "c3cd6756-fbd3-4167-e0e4-e74173083360",
        "colab": {
          "base_uri": "https://localhost:8080/"
        }
      },
      "outputs": [
        {
          "output_type": "stream",
          "name": "stdout",
          "text": [
            "single value of a key\n",
            "2019-20\n"
          ]
        }
      ],
      "source": [
        "# Output a single value from a selected key within the dict\n",
        "# Note that we are THREE levels down to address an individual key\n",
        "print('single value of a key')\n",
        "print(nested[0]['parameters']['Season'])"
      ]
    },
    {
      "cell_type": "markdown",
      "id": "93865d15",
      "metadata": {
        "id": "93865d15"
      },
      "source": [
        "#### Now let's look at the resultSets key, with a list as its value.\n",
        "\n",
        "1. Output the list that is the value for this key.\n",
        "\n",
        "2. Loop over the list, to see the individual elements of it."
      ]
    },
    {
      "cell_type": "code",
      "execution_count": 16,
      "id": "88d1dcd8",
      "metadata": {
        "id": "88d1dcd8",
        "outputId": "aa83193f-267a-4f8a-ac6c-a2244f9da70a",
        "colab": {
          "base_uri": "https://localhost:8080/"
        }
      },
      "outputs": [
        {
          "output_type": "stream",
          "name": "stdout",
          "text": [
            "[{'name': 'SeasonMatchups', 'headers': ['SEASON_ID', 'OFF_PLAYER_ID', 'OFF_PLAYER_NAME', 'DEF_PLAYER_ID', 'DEF_PLAYER_NAME', 'GP', 'MATCHUP_MIN', 'PARTIAL_POSS', 'PLAYER_PTS', 'TEAM_PTS', 'MATCHUP_AST', 'MATCHUP_TOV', 'MATCHUP_BLK', 'MATCHUP_FGM', 'MATCHUP_FGA', 'MATCHUP_FG_PCT', 'MATCHUP_FG3M', 'MATCHUP_FG3A', 'MATCHUP_FG3_PCT', 'HELP_BLK', 'HELP_FGM', 'HELP_FGA', 'HELP_FG_PERC', 'MATCHUP_FTM', 'MATCHUP_FTA', 'SFL', 'MATCHUP_TIME_SEC'], 'rowSet': [['22019', 1629060, 'Rui Hachimura', 202329, 'Al-Farouq Aminu', 1, '6:45', 31.9, 4, 47, 1, 0, 0, 2, 5, 0.4, 0, 0, 0.0, 0, 0, 0, 0, 0, 0, 0, 404.7], ['22019', 1626168, 'Trey Lyles', 202329, 'Al-Farouq Aminu', 1, '7:31', 30.5, 3, 22, 0, 1, 0, 1, 3, 0.333, 1, 2, 0.5, 0, 0, 0, 0, 0, 0, 0, 451.1], ['22019', 1628384, 'OG Anunoby', 202329, 'Al-Farouq Aminu', 3, '5:56', 29.3, 5, 37, 1, 1, 1, 2, 4, 0.5, 1, 2, 0.5, 0, 0, 0, 0, 0, 0, 0, 355.6], ['22019', 201567, 'Kevin Love', 202329, 'Al-Farouq Aminu', 2, '5:17', 25.0, 4, 14, 0, 1, 0, 2, 3, 0.667, 0, 1, 0.0, 0, 0, 0, 0, 0, 0, 0, 316.8]]}]\n"
          ]
        }
      ],
      "source": [
        "# Item #1\n",
        "# output the value of the resultSets key\n",
        "# again, note the levels to get down to it\n",
        "print(nested[0]['resultSets'])"
      ]
    },
    {
      "cell_type": "code",
      "execution_count": 17,
      "id": "144f7544",
      "metadata": {
        "scrolled": true,
        "id": "144f7544",
        "outputId": "caab96c3-f36c-44c1-ae10-04a7e96395c1",
        "colab": {
          "base_uri": "https://localhost:8080/"
        }
      },
      "outputs": [
        {
          "output_type": "execute_result",
          "data": {
            "text/plain": [
              "[{'name': 'SeasonMatchups',\n",
              "  'headers': ['SEASON_ID',\n",
              "   'OFF_PLAYER_ID',\n",
              "   'OFF_PLAYER_NAME',\n",
              "   'DEF_PLAYER_ID',\n",
              "   'DEF_PLAYER_NAME',\n",
              "   'GP',\n",
              "   'MATCHUP_MIN',\n",
              "   'PARTIAL_POSS',\n",
              "   'PLAYER_PTS',\n",
              "   'TEAM_PTS',\n",
              "   'MATCHUP_AST',\n",
              "   'MATCHUP_TOV',\n",
              "   'MATCHUP_BLK',\n",
              "   'MATCHUP_FGM',\n",
              "   'MATCHUP_FGA',\n",
              "   'MATCHUP_FG_PCT',\n",
              "   'MATCHUP_FG3M',\n",
              "   'MATCHUP_FG3A',\n",
              "   'MATCHUP_FG3_PCT',\n",
              "   'HELP_BLK',\n",
              "   'HELP_FGM',\n",
              "   'HELP_FGA',\n",
              "   'HELP_FG_PERC',\n",
              "   'MATCHUP_FTM',\n",
              "   'MATCHUP_FTA',\n",
              "   'SFL',\n",
              "   'MATCHUP_TIME_SEC'],\n",
              "  'rowSet': [['22019',\n",
              "    1629060,\n",
              "    'Rui Hachimura',\n",
              "    202329,\n",
              "    'Al-Farouq Aminu',\n",
              "    1,\n",
              "    '6:45',\n",
              "    31.9,\n",
              "    4,\n",
              "    47,\n",
              "    1,\n",
              "    0,\n",
              "    0,\n",
              "    2,\n",
              "    5,\n",
              "    0.4,\n",
              "    0,\n",
              "    0,\n",
              "    0.0,\n",
              "    0,\n",
              "    0,\n",
              "    0,\n",
              "    0,\n",
              "    0,\n",
              "    0,\n",
              "    0,\n",
              "    404.7],\n",
              "   ['22019',\n",
              "    1626168,\n",
              "    'Trey Lyles',\n",
              "    202329,\n",
              "    'Al-Farouq Aminu',\n",
              "    1,\n",
              "    '7:31',\n",
              "    30.5,\n",
              "    3,\n",
              "    22,\n",
              "    0,\n",
              "    1,\n",
              "    0,\n",
              "    1,\n",
              "    3,\n",
              "    0.333,\n",
              "    1,\n",
              "    2,\n",
              "    0.5,\n",
              "    0,\n",
              "    0,\n",
              "    0,\n",
              "    0,\n",
              "    0,\n",
              "    0,\n",
              "    0,\n",
              "    451.1],\n",
              "   ['22019',\n",
              "    1628384,\n",
              "    'OG Anunoby',\n",
              "    202329,\n",
              "    'Al-Farouq Aminu',\n",
              "    3,\n",
              "    '5:56',\n",
              "    29.3,\n",
              "    5,\n",
              "    37,\n",
              "    1,\n",
              "    1,\n",
              "    1,\n",
              "    2,\n",
              "    4,\n",
              "    0.5,\n",
              "    1,\n",
              "    2,\n",
              "    0.5,\n",
              "    0,\n",
              "    0,\n",
              "    0,\n",
              "    0,\n",
              "    0,\n",
              "    0,\n",
              "    0,\n",
              "    355.6],\n",
              "   ['22019',\n",
              "    201567,\n",
              "    'Kevin Love',\n",
              "    202329,\n",
              "    'Al-Farouq Aminu',\n",
              "    2,\n",
              "    '5:17',\n",
              "    25.0,\n",
              "    4,\n",
              "    14,\n",
              "    0,\n",
              "    1,\n",
              "    0,\n",
              "    2,\n",
              "    3,\n",
              "    0.667,\n",
              "    0,\n",
              "    1,\n",
              "    0.0,\n",
              "    0,\n",
              "    0,\n",
              "    0,\n",
              "    0,\n",
              "    0,\n",
              "    0,\n",
              "    0,\n",
              "    316.8]]}]"
            ]
          },
          "metadata": {},
          "execution_count": 17
        }
      ],
      "source": [
        "# Second way of displaying item #1\n",
        "nested[0]['resultSets']"
      ]
    },
    {
      "cell_type": "code",
      "execution_count": 19,
      "id": "3ff24670",
      "metadata": {
        "scrolled": true,
        "id": "3ff24670",
        "outputId": "e3a94896-143d-484e-c27b-465502fe570d",
        "colab": {
          "base_uri": "https://localhost:8080/"
        }
      },
      "outputs": [
        {
          "output_type": "stream",
          "name": "stdout",
          "text": [
            "{'name': 'SeasonMatchups', 'headers': ['SEASON_ID', 'OFF_PLAYER_ID', 'OFF_PLAYER_NAME', 'DEF_PLAYER_ID', 'DEF_PLAYER_NAME', 'GP', 'MATCHUP_MIN', 'PARTIAL_POSS', 'PLAYER_PTS', 'TEAM_PTS', 'MATCHUP_AST', 'MATCHUP_TOV', 'MATCHUP_BLK', 'MATCHUP_FGM', 'MATCHUP_FGA', 'MATCHUP_FG_PCT', 'MATCHUP_FG3M', 'MATCHUP_FG3A', 'MATCHUP_FG3_PCT', 'HELP_BLK', 'HELP_FGM', 'HELP_FGA', 'HELP_FG_PERC', 'MATCHUP_FTM', 'MATCHUP_FTA', 'SFL', 'MATCHUP_TIME_SEC'], 'rowSet': [['22019', 1629060, 'Rui Hachimura', 202329, 'Al-Farouq Aminu', 1, '6:45', 31.9, 4, 47, 1, 0, 0, 2, 5, 0.4, 0, 0, 0.0, 0, 0, 0, 0, 0, 0, 0, 404.7], ['22019', 1626168, 'Trey Lyles', 202329, 'Al-Farouq Aminu', 1, '7:31', 30.5, 3, 22, 0, 1, 0, 1, 3, 0.333, 1, 2, 0.5, 0, 0, 0, 0, 0, 0, 0, 451.1], ['22019', 1628384, 'OG Anunoby', 202329, 'Al-Farouq Aminu', 3, '5:56', 29.3, 5, 37, 1, 1, 1, 2, 4, 0.5, 1, 2, 0.5, 0, 0, 0, 0, 0, 0, 0, 355.6], ['22019', 201567, 'Kevin Love', 202329, 'Al-Farouq Aminu', 2, '5:17', 25.0, 4, 14, 0, 1, 0, 2, 3, 0.667, 0, 1, 0.0, 0, 0, 0, 0, 0, 0, 0, 316.8]]}\n",
            "\n",
            "\n",
            "next i\n"
          ]
        }
      ],
      "source": [
        "# Item #2\n",
        "# Loop over the list that makes up this value\n",
        "for i in nested[0]['resultSets']:\n",
        "    print(i)\n",
        "    print('\\n')\n",
        "    print(\"next i\")"
      ]
    },
    {
      "cell_type": "markdown",
      "id": "fdf7c707",
      "metadata": {
        "id": "fdf7c707"
      },
      "source": [
        "#### This is very interesting, in that we can see that, although this is a list, there is only a single element in the list.\n",
        "\n",
        "#### That element is a dictionary, as evidenced by the squiggly brackets framing the data.\n",
        "\n",
        "While we went through a looping syntax to display this dict, let's address it directly.\n",
        "\n",
        "Since this dict is the first element of the list (that makes up the value in the key-value pair), note the syntax to get down to it. This syntax builds on what we had above."
      ]
    },
    {
      "cell_type": "code",
      "execution_count": 21,
      "id": "ea147933",
      "metadata": {
        "scrolled": true,
        "id": "ea147933",
        "outputId": "1bf14cb7-4e1b-4868-9976-c2ac0b5d7f2e",
        "colab": {
          "base_uri": "https://localhost:8080/"
        }
      },
      "outputs": [
        {
          "output_type": "stream",
          "name": "stdout",
          "text": [
            "{'name': 'SeasonMatchups', 'headers': ['SEASON_ID', 'OFF_PLAYER_ID', 'OFF_PLAYER_NAME', 'DEF_PLAYER_ID', 'DEF_PLAYER_NAME', 'GP', 'MATCHUP_MIN', 'PARTIAL_POSS', 'PLAYER_PTS', 'TEAM_PTS', 'MATCHUP_AST', 'MATCHUP_TOV', 'MATCHUP_BLK', 'MATCHUP_FGM', 'MATCHUP_FGA', 'MATCHUP_FG_PCT', 'MATCHUP_FG3M', 'MATCHUP_FG3A', 'MATCHUP_FG3_PCT', 'HELP_BLK', 'HELP_FGM', 'HELP_FGA', 'HELP_FG_PERC', 'MATCHUP_FTM', 'MATCHUP_FTA', 'SFL', 'MATCHUP_TIME_SEC'], 'rowSet': [['22019', 1629060, 'Rui Hachimura', 202329, 'Al-Farouq Aminu', 1, '6:45', 31.9, 4, 47, 1, 0, 0, 2, 5, 0.4, 0, 0, 0.0, 0, 0, 0, 0, 0, 0, 0, 404.7], ['22019', 1626168, 'Trey Lyles', 202329, 'Al-Farouq Aminu', 1, '7:31', 30.5, 3, 22, 0, 1, 0, 1, 3, 0.333, 1, 2, 0.5, 0, 0, 0, 0, 0, 0, 0, 451.1], ['22019', 1628384, 'OG Anunoby', 202329, 'Al-Farouq Aminu', 3, '5:56', 29.3, 5, 37, 1, 1, 1, 2, 4, 0.5, 1, 2, 0.5, 0, 0, 0, 0, 0, 0, 0, 355.6], ['22019', 201567, 'Kevin Love', 202329, 'Al-Farouq Aminu', 2, '5:17', 25.0, 4, 14, 0, 1, 0, 2, 3, 0.667, 0, 1, 0.0, 0, 0, 0, 0, 0, 0, 0, 316.8]]}\n"
          ]
        }
      ],
      "source": [
        "# address the list directly, notice the square bracket and index syntax,\n",
        "# which is standard for addressing the elements of a list.\n",
        "# this is the first item in the list\n",
        "print(nested[0]['resultSets'][0])"
      ]
    },
    {
      "cell_type": "markdown",
      "id": "d1129219",
      "metadata": {
        "id": "d1129219"
      },
      "source": [
        "#### So what are the keys that make up this dictionary? Use the same syntax as above to list them.\n"
      ]
    },
    {
      "cell_type": "code",
      "execution_count": 22,
      "id": "2ce55c71",
      "metadata": {
        "id": "2ce55c71",
        "outputId": "51d28bad-c732-40ac-874e-d95da1d2758a",
        "colab": {
          "base_uri": "https://localhost:8080/"
        }
      },
      "outputs": [
        {
          "output_type": "stream",
          "name": "stdout",
          "text": [
            "key-value pairs in a loop\n",
            "key: name\n",
            "value: SeasonMatchups \n",
            "\n",
            "key: headers\n",
            "value: ['SEASON_ID', 'OFF_PLAYER_ID', 'OFF_PLAYER_NAME', 'DEF_PLAYER_ID', 'DEF_PLAYER_NAME', 'GP', 'MATCHUP_MIN', 'PARTIAL_POSS', 'PLAYER_PTS', 'TEAM_PTS', 'MATCHUP_AST', 'MATCHUP_TOV', 'MATCHUP_BLK', 'MATCHUP_FGM', 'MATCHUP_FGA', 'MATCHUP_FG_PCT', 'MATCHUP_FG3M', 'MATCHUP_FG3A', 'MATCHUP_FG3_PCT', 'HELP_BLK', 'HELP_FGM', 'HELP_FGA', 'HELP_FG_PERC', 'MATCHUP_FTM', 'MATCHUP_FTA', 'SFL', 'MATCHUP_TIME_SEC'] \n",
            "\n",
            "key: rowSet\n",
            "value: [['22019', 1629060, 'Rui Hachimura', 202329, 'Al-Farouq Aminu', 1, '6:45', 31.9, 4, 47, 1, 0, 0, 2, 5, 0.4, 0, 0, 0.0, 0, 0, 0, 0, 0, 0, 0, 404.7], ['22019', 1626168, 'Trey Lyles', 202329, 'Al-Farouq Aminu', 1, '7:31', 30.5, 3, 22, 0, 1, 0, 1, 3, 0.333, 1, 2, 0.5, 0, 0, 0, 0, 0, 0, 0, 451.1], ['22019', 1628384, 'OG Anunoby', 202329, 'Al-Farouq Aminu', 3, '5:56', 29.3, 5, 37, 1, 1, 1, 2, 4, 0.5, 1, 2, 0.5, 0, 0, 0, 0, 0, 0, 0, 355.6], ['22019', 201567, 'Kevin Love', 202329, 'Al-Farouq Aminu', 2, '5:17', 25.0, 4, 14, 0, 1, 0, 2, 3, 0.667, 0, 1, 0.0, 0, 0, 0, 0, 0, 0, 0, 316.8]] \n",
            "\n"
          ]
        }
      ],
      "source": [
        "# Note the next level down of syntax\n",
        "# remember that we are still only looking at the first element of the list\n",
        "print('key-value pairs in a loop')\n",
        "for k,v in nested[0]['resultSets'][0].items():\n",
        "    print(\"key:\", k)\n",
        "    print(\"value:\",v,\"\\n\")"
      ]
    },
    {
      "cell_type": "markdown",
      "id": "dce8d9ac",
      "metadata": {
        "id": "dce8d9ac"
      },
      "source": [
        "#### These key-value pairs are getting down to the data that we would be seeking for our analysis.\n",
        "\n",
        "What is in the value field for the \"headers\" key (the list) would be statistics names that we are analyzing. Were we to put this data into a row and column format (such as Excel or pandas), we can see that these are the column headers.\n",
        "\n",
        "Let's directly address this list."
      ]
    },
    {
      "cell_type": "code",
      "execution_count": 23,
      "id": "ee3a1f68",
      "metadata": {
        "scrolled": false,
        "id": "ee3a1f68",
        "outputId": "d4e61c6d-3fe2-4404-ed7e-6be9f2f8bdd0",
        "colab": {
          "base_uri": "https://localhost:8080/"
        }
      },
      "outputs": [
        {
          "output_type": "execute_result",
          "data": {
            "text/plain": [
              "['SEASON_ID',\n",
              " 'OFF_PLAYER_ID',\n",
              " 'OFF_PLAYER_NAME',\n",
              " 'DEF_PLAYER_ID',\n",
              " 'DEF_PLAYER_NAME']"
            ]
          },
          "metadata": {},
          "execution_count": 23
        }
      ],
      "source": [
        "nested[0]['resultSets'][0]['headers'][0:5]"
      ]
    },
    {
      "cell_type": "markdown",
      "id": "333b4c22",
      "metadata": {
        "id": "333b4c22"
      },
      "source": [
        "#### Let's look at the \"rowset\" key, and its values.\n",
        "\n",
        "The square brackets at the very start and end of the value tell us that this is a list. Additionally, we can see that each of the individual elements is also a list, so this is a list of lists.\n",
        "\n",
        "How do we address the top level list? Same as we just did for the \"headers\" key-value pair. Note that the 'S' in 'rowSet' is capitalized, so we don't run into an error that could throw us off."
      ]
    },
    {
      "cell_type": "code",
      "execution_count": 26,
      "id": "9b6ea14a",
      "metadata": {
        "id": "9b6ea14a",
        "outputId": "5271f0e7-47c8-4812-fff1-7d5d307666ed",
        "colab": {
          "base_uri": "https://localhost:8080/"
        }
      },
      "outputs": [
        {
          "output_type": "stream",
          "name": "stdout",
          "text": [
            "[['22019', 1629060, 'Rui Hachimura', 202329, 'Al-Farouq Aminu', 1, '6:45', 31.9, 4, 47, 1, 0, 0, 2, 5, 0.4, 0, 0, 0.0, 0, 0, 0, 0, 0, 0, 0, 404.7], ['22019', 1626168, 'Trey Lyles', 202329, 'Al-Farouq Aminu', 1, '7:31', 30.5, 3, 22, 0, 1, 0, 1, 3, 0.333, 1, 2, 0.5, 0, 0, 0, 0, 0, 0, 0, 451.1], ['22019', 1628384, 'OG Anunoby', 202329, 'Al-Farouq Aminu', 3, '5:56', 29.3, 5, 37, 1, 1, 1, 2, 4, 0.5, 1, 2, 0.5, 0, 0, 0, 0, 0, 0, 0, 355.6], ['22019', 201567, 'Kevin Love', 202329, 'Al-Farouq Aminu', 2, '5:17', 25.0, 4, 14, 0, 1, 0, 2, 3, 0.667, 0, 1, 0.0, 0, 0, 0, 0, 0, 0, 0, 316.8]]\n",
            "[['22019', 1629060, 'Rui Hachimura', 202329, 'Al-Farouq Aminu', 1, '6:45', 31.9, 4, 47, 1, 0, 0, 2, 5, 0.4, 0, 0, 0.0, 0, 0, 0, 0, 0, 0, 0, 404.7], ['22019', 1626168, 'Trey Lyles', 202329, 'Al-Farouq Aminu', 1, '7:31', 30.5, 3, 22, 0, 1, 0, 1, 3, 0.333, 1, 2, 0.5, 0, 0, 0, 0, 0, 0, 0, 451.1], ['22019', 1628384, 'OG Anunoby', 202329, 'Al-Farouq Aminu', 3, '5:56', 29.3, 5, 37, 1, 1, 1, 2, 4, 0.5, 1, 2, 0.5, 0, 0, 0, 0, 0, 0, 0, 355.6], ['22019', 201567, 'Kevin Love', 202329, 'Al-Farouq Aminu', 2, '5:17', 25.0, 4, 14, 0, 1, 0, 2, 3, 0.667, 0, 1, 0.0, 0, 0, 0, 0, 0, 0, 0, 316.8]]\n"
          ]
        }
      ],
      "source": [
        "print(nested[0]['resultSets'][0]['rowSet'])\n",
        "print(nested[0]['resultSets'][0]['rowSet'])"
      ]
    },
    {
      "cell_type": "markdown",
      "id": "0f51d21e",
      "metadata": {
        "id": "0f51d21e"
      },
      "source": [
        "#### OK, so this gives us the list of lists, now how do we address each of the list elements?\n",
        "\n",
        "Just address them using the standard index notation.\n",
        "\n",
        "For example, the first item in any list is just list[0]. So the first item in the rowset list is:"
      ]
    },
    {
      "cell_type": "code",
      "execution_count": 25,
      "id": "a2f0e62f",
      "metadata": {
        "scrolled": false,
        "id": "a2f0e62f",
        "outputId": "6de202c5-0f63-4475-c67d-ea070bcff81e",
        "colab": {
          "base_uri": "https://localhost:8080/"
        }
      },
      "outputs": [
        {
          "output_type": "stream",
          "name": "stdout",
          "text": [
            "['22019', 1629060, 'Rui Hachimura', 202329, 'Al-Farouq Aminu', 1]\n"
          ]
        }
      ],
      "source": [
        "print(nested[0]['resultSets'][0]['rowSet'][0][0:6])"
      ]
    },
    {
      "cell_type": "markdown",
      "id": "bb61d6af",
      "metadata": {
        "id": "bb61d6af"
      },
      "source": [
        "#### Finally, we might want to look at the individual data points in this list, which is the lowest level in our nested data structure.\n",
        "\n"
      ]
    },
    {
      "cell_type": "code",
      "execution_count": 27,
      "id": "3fde21fb",
      "metadata": {
        "id": "3fde21fb",
        "outputId": "582f8da1-83f6-4cbb-93bc-5a4fe763917b",
        "colab": {
          "base_uri": "https://localhost:8080/"
        }
      },
      "outputs": [
        {
          "output_type": "stream",
          "name": "stdout",
          "text": [
            "22019\n",
            "1629060\n",
            "Rui Hachimura\n",
            "202329\n",
            "Al-Farouq Aminu\n",
            "1\n",
            "6:45\n",
            "31.9\n",
            "4\n",
            "47\n",
            "1\n",
            "0\n",
            "0\n",
            "2\n",
            "5\n",
            "0.4\n",
            "0\n",
            "0\n",
            "0.0\n",
            "0\n",
            "0\n",
            "0\n",
            "0\n",
            "0\n",
            "0\n",
            "0\n",
            "404.7\n",
            "\n",
            "direct address of data elements\n",
            "22019\n",
            "1629060\n"
          ]
        }
      ],
      "source": [
        "# we can do this in a loop\n",
        "for data_element in nested[0]['resultSets'][0]['rowSet'][0]:\n",
        "    print(data_element)\n",
        "\n",
        "# or we can address each data element directly\n",
        "print(\"\\ndirect address of data elements\")\n",
        "print(nested[0]['resultSets'][0]['rowSet'][0][0])\n",
        "print(nested[0]['resultSets'][0]['rowSet'][0][1])"
      ]
    },
    {
      "cell_type": "markdown",
      "id": "5005b390",
      "metadata": {
        "id": "5005b390"
      },
      "source": [
        "### To review what we have done here, let's look at the syntax of the various levels of the 'nested' data structure."
      ]
    },
    {
      "cell_type": "code",
      "execution_count": 28,
      "id": "832fda86",
      "metadata": {
        "id": "832fda86",
        "outputId": "0d392498-afb9-4d74-8115-619cd1ba4401",
        "colab": {
          "base_uri": "https://localhost:8080/"
        }
      },
      "outputs": [
        {
          "output_type": "stream",
          "name": "stdout",
          "text": [
            "<class 'dict'>\n",
            "<class 'dict'>\n",
            "<class 'dict'>\n",
            "<class 'dict'>\n",
            "<class 'dict'>\n",
            "<class 'dict'>\n",
            "<class 'dict'>\n"
          ]
        }
      ],
      "source": [
        "# At the top level, nested is a list of dicts.\n",
        "for i in nested:  #loop over the elements of the list\n",
        "    print(type(i))"
      ]
    },
    {
      "cell_type": "code",
      "execution_count": 29,
      "id": "040e0f59",
      "metadata": {
        "id": "040e0f59",
        "outputId": "37f443f5-a41a-4cac-eea8-8091165b5f01",
        "colab": {
          "base_uri": "https://localhost:8080/"
        }
      },
      "outputs": [
        {
          "output_type": "stream",
          "name": "stdout",
          "text": [
            "{'resource': 'leagueseasonmatchups', 'parameters': {'LeagueID': '00', 'Season': '2019-20', 'SeasonType': 'Regular Season', 'PORound': 0, 'PerMode': 'Totals', 'DefTeamID': None, 'OffTeamID': None, 'OffPlayerID': None, 'DefPlayerID': 202329}, 'resultSets': [{'name': 'SeasonMatchups', 'headers': ['SEASON_ID', 'OFF_PLAYER_ID', 'OFF_PLAYER_NAME', 'DEF_PLAYER_ID', 'DEF_PLAYER_NAME', 'GP', 'MATCHUP_MIN', 'PARTIAL_POSS', 'PLAYER_PTS', 'TEAM_PTS', 'MATCHUP_AST', 'MATCHUP_TOV', 'MATCHUP_BLK', 'MATCHUP_FGM', 'MATCHUP_FGA', 'MATCHUP_FG_PCT', 'MATCHUP_FG3M', 'MATCHUP_FG3A', 'MATCHUP_FG3_PCT', 'HELP_BLK', 'HELP_FGM', 'HELP_FGA', 'HELP_FG_PERC', 'MATCHUP_FTM', 'MATCHUP_FTA', 'SFL', 'MATCHUP_TIME_SEC'], 'rowSet': [['22019', 1629060, 'Rui Hachimura', 202329, 'Al-Farouq Aminu', 1, '6:45', 31.9, 4, 47, 1, 0, 0, 2, 5, 0.4, 0, 0, 0.0, 0, 0, 0, 0, 0, 0, 0, 404.7], ['22019', 1626168, 'Trey Lyles', 202329, 'Al-Farouq Aminu', 1, '7:31', 30.5, 3, 22, 0, 1, 0, 1, 3, 0.333, 1, 2, 0.5, 0, 0, 0, 0, 0, 0, 0, 451.1], ['22019', 1628384, 'OG Anunoby', 202329, 'Al-Farouq Aminu', 3, '5:56', 29.3, 5, 37, 1, 1, 1, 2, 4, 0.5, 1, 2, 0.5, 0, 0, 0, 0, 0, 0, 0, 355.6], ['22019', 201567, 'Kevin Love', 202329, 'Al-Farouq Aminu', 2, '5:17', 25.0, 4, 14, 0, 1, 0, 2, 3, 0.667, 0, 1, 0.0, 0, 0, 0, 0, 0, 0, 0, 316.8]]}]}\n"
          ]
        }
      ],
      "source": [
        "# to address each dict directly, we must use list index notation\n",
        "# not using print() here, to cut down on the output\n",
        "print(nested[0])\n",
        "# display(nested[1])  # etc etc etc"
      ]
    },
    {
      "cell_type": "code",
      "execution_count": 30,
      "id": "337f0655",
      "metadata": {
        "id": "337f0655",
        "outputId": "2ed0b19c-78d8-40b3-bd44-ad2d8f340f7c",
        "colab": {
          "base_uri": "https://localhost:8080/",
          "height": 52
        }
      },
      "outputs": [
        {
          "output_type": "display_data",
          "data": {
            "text/plain": [
              "dict_keys(['resource', 'parameters', 'resultSets'])"
            ]
          },
          "metadata": {}
        },
        {
          "output_type": "display_data",
          "data": {
            "text/plain": [
              "dict_keys(['resource', 'parameters', 'resultSets'])"
            ]
          },
          "metadata": {}
        }
      ],
      "source": [
        "# each of these elements themselves are dicts, with 3 keys\n",
        "display(nested[0].keys())\n",
        "display(nested[1].keys())"
      ]
    },
    {
      "cell_type": "code",
      "execution_count": 31,
      "id": "2b6a9b7e",
      "metadata": {
        "id": "2b6a9b7e",
        "outputId": "3560951f-92b1-46d5-f102-111eef8275f2",
        "colab": {
          "base_uri": "https://localhost:8080/"
        }
      },
      "outputs": [
        {
          "output_type": "stream",
          "name": "stdout",
          "text": [
            "key: resource\n",
            "value: leagueseasonmatchups \n",
            "\n",
            "key: parameters\n",
            "value: {'LeagueID': '00', 'Season': '2019-20', 'SeasonType': 'Regular Season', 'PORound': 0, 'PerMode': 'Totals', 'DefTeamID': None, 'OffTeamID': None, 'OffPlayerID': None, 'DefPlayerID': 202329} \n",
            "\n",
            "key: resultSets\n",
            "value: [{'name': 'SeasonMatchups', 'headers': ['SEASON_ID', 'OFF_PLAYER_ID', 'OFF_PLAYER_NAME', 'DEF_PLAYER_ID', 'DEF_PLAYER_NAME', 'GP', 'MATCHUP_MIN', 'PARTIAL_POSS', 'PLAYER_PTS', 'TEAM_PTS', 'MATCHUP_AST', 'MATCHUP_TOV', 'MATCHUP_BLK', 'MATCHUP_FGM', 'MATCHUP_FGA', 'MATCHUP_FG_PCT', 'MATCHUP_FG3M', 'MATCHUP_FG3A', 'MATCHUP_FG3_PCT', 'HELP_BLK', 'HELP_FGM', 'HELP_FGA', 'HELP_FG_PERC', 'MATCHUP_FTM', 'MATCHUP_FTA', 'SFL', 'MATCHUP_TIME_SEC'], 'rowSet': [['22019', 1629060, 'Rui Hachimura', 202329, 'Al-Farouq Aminu', 1, '6:45', 31.9, 4, 47, 1, 0, 0, 2, 5, 0.4, 0, 0, 0.0, 0, 0, 0, 0, 0, 0, 0, 404.7], ['22019', 1626168, 'Trey Lyles', 202329, 'Al-Farouq Aminu', 1, '7:31', 30.5, 3, 22, 0, 1, 0, 1, 3, 0.333, 1, 2, 0.5, 0, 0, 0, 0, 0, 0, 0, 451.1], ['22019', 1628384, 'OG Anunoby', 202329, 'Al-Farouq Aminu', 3, '5:56', 29.3, 5, 37, 1, 1, 1, 2, 4, 0.5, 1, 2, 0.5, 0, 0, 0, 0, 0, 0, 0, 355.6], ['22019', 201567, 'Kevin Love', 202329, 'Al-Farouq Aminu', 2, '5:17', 25.0, 4, 14, 0, 1, 0, 2, 3, 0.667, 0, 1, 0.0, 0, 0, 0, 0, 0, 0, 0, 316.8]]}] \n",
            "\n"
          ]
        }
      ],
      "source": [
        "# each key-value pair is its own data structure\n",
        "# loop over the dictionary, display the key and value pair\n",
        "# commenting out the print() statements to cut down on the output\n",
        "for k,v in nested[0].items():\n",
        "    print(\"key:\", k)\n",
        "    print(\"value:\",v,\"\\n\")\n",
        "    continue"
      ]
    },
    {
      "cell_type": "code",
      "execution_count": 32,
      "id": "1c0f79cb",
      "metadata": {
        "id": "1c0f79cb",
        "outputId": "58921818-c7a7-4dc4-f3cc-ed8bc2a96bf9",
        "colab": {
          "base_uri": "https://localhost:8080/"
        }
      },
      "outputs": [
        {
          "output_type": "stream",
          "name": "stdout",
          "text": [
            "leagueseasonmatchups\n",
            "\n",
            "\n",
            "{'LeagueID': '00', 'Season': '2019-20', 'SeasonType': 'Regular Season', 'PORound': 0, 'PerMode': 'Totals', 'DefTeamID': None, 'OffTeamID': None, 'OffPlayerID': None, 'DefPlayerID': 202329}\n",
            "\n",
            "\n",
            "[{'name': 'SeasonMatchups', 'headers': ['SEASON_ID', 'OFF_PLAYER_ID', 'OFF_PLAYER_NAME', 'DEF_PLAYER_ID', 'DEF_PLAYER_NAME', 'GP', 'MATCHUP_MIN', 'PARTIAL_POSS', 'PLAYER_PTS', 'TEAM_PTS', 'MATCHUP_AST', 'MATCHUP_TOV', 'MATCHUP_BLK', 'MATCHUP_FGM', 'MATCHUP_FGA', 'MATCHUP_FG_PCT', 'MATCHUP_FG3M', 'MATCHUP_FG3A', 'MATCHUP_FG3_PCT', 'HELP_BLK', 'HELP_FGM', 'HELP_FGA', 'HELP_FG_PERC', 'MATCHUP_FTM', 'MATCHUP_FTA', 'SFL', 'MATCHUP_TIME_SEC'], 'rowSet': [['22019', 1629060, 'Rui Hachimura', 202329, 'Al-Farouq Aminu', 1, '6:45', 31.9, 4, 47, 1, 0, 0, 2, 5, 0.4, 0, 0, 0.0, 0, 0, 0, 0, 0, 0, 0, 404.7], ['22019', 1626168, 'Trey Lyles', 202329, 'Al-Farouq Aminu', 1, '7:31', 30.5, 3, 22, 0, 1, 0, 1, 3, 0.333, 1, 2, 0.5, 0, 0, 0, 0, 0, 0, 0, 451.1], ['22019', 1628384, 'OG Anunoby', 202329, 'Al-Farouq Aminu', 3, '5:56', 29.3, 5, 37, 1, 1, 1, 2, 4, 0.5, 1, 2, 0.5, 0, 0, 0, 0, 0, 0, 0, 355.6], ['22019', 201567, 'Kevin Love', 202329, 'Al-Farouq Aminu', 2, '5:17', 25.0, 4, 14, 0, 1, 0, 2, 3, 0.667, 0, 1, 0.0, 0, 0, 0, 0, 0, 0, 0, 316.8]]}]\n"
          ]
        }
      ],
      "source": [
        "# Now we can address the 3 keys directly\n",
        "# Notice the hierarchy of how we are addressing the dict, which is an element of the list\n",
        "print(nested[0]['resource'])\n",
        "print(\"\\n\")\n",
        "print(nested[0]['parameters'])\n",
        "print(\"\\n\")\n",
        "print(nested[0]['resultSets'])"
      ]
    },
    {
      "cell_type": "code",
      "execution_count": 33,
      "id": "b63614a9",
      "metadata": {
        "id": "b63614a9",
        "outputId": "0a0d3e87-dcc0-4513-ce62-99838410fab1",
        "colab": {
          "base_uri": "https://localhost:8080/"
        }
      },
      "outputs": [
        {
          "output_type": "stream",
          "name": "stdout",
          "text": [
            "[{'name': 'SeasonMatchups', 'headers': ['SEASON_ID', 'OFF_PLAYER_ID', 'OFF_PLAYER_NAME', 'DEF_PLAYER_ID', 'DEF_PLAYER_NAME', 'GP', 'MATCHUP_MIN', 'PARTIAL_POSS', 'PLAYER_PTS', 'TEAM_PTS', 'MATCHUP_AST', 'MATCHUP_TOV', 'MATCHUP_BLK', 'MATCHUP_FGM', 'MATCHUP_FGA', 'MATCHUP_FG_PCT', 'MATCHUP_FG3M', 'MATCHUP_FG3A', 'MATCHUP_FG3_PCT', 'HELP_BLK', 'HELP_FGM', 'HELP_FGA', 'HELP_FG_PERC', 'MATCHUP_FTM', 'MATCHUP_FTA', 'SFL', 'MATCHUP_TIME_SEC'], 'rowSet': [['22019', 1629060, 'Rui Hachimura', 202329, 'Al-Farouq Aminu', 1, '6:45', 31.9, 4, 47, 1, 0, 0, 2, 5, 0.4, 0, 0, 0.0, 0, 0, 0, 0, 0, 0, 0, 404.7], ['22019', 1626168, 'Trey Lyles', 202329, 'Al-Farouq Aminu', 1, '7:31', 30.5, 3, 22, 0, 1, 0, 1, 3, 0.333, 1, 2, 0.5, 0, 0, 0, 0, 0, 0, 0, 451.1], ['22019', 1628384, 'OG Anunoby', 202329, 'Al-Farouq Aminu', 3, '5:56', 29.3, 5, 37, 1, 1, 1, 2, 4, 0.5, 1, 2, 0.5, 0, 0, 0, 0, 0, 0, 0, 355.6], ['22019', 201567, 'Kevin Love', 202329, 'Al-Farouq Aminu', 2, '5:17', 25.0, 4, 14, 0, 1, 0, 2, 3, 0.667, 0, 1, 0.0, 0, 0, 0, 0, 0, 0, 0, 316.8]]}]\n"
          ]
        }
      ],
      "source": [
        "# We see that the 'resultSets' key has the values we need\n",
        "# so output the value of the resultSets key\n",
        "# again, note the levels to get down to it\n",
        "print(nested[0]['resultSets'])"
      ]
    },
    {
      "cell_type": "code",
      "execution_count": 34,
      "id": "95d4f55c",
      "metadata": {
        "id": "95d4f55c",
        "outputId": "0e8e0b0a-7c4d-4555-b210-112802d25f13",
        "colab": {
          "base_uri": "https://localhost:8080/"
        }
      },
      "outputs": [
        {
          "output_type": "execute_result",
          "data": {
            "text/plain": [
              "['SEASON_ID',\n",
              " 'OFF_PLAYER_ID',\n",
              " 'OFF_PLAYER_NAME',\n",
              " 'DEF_PLAYER_ID',\n",
              " 'DEF_PLAYER_NAME',\n",
              " 'GP',\n",
              " 'MATCHUP_MIN',\n",
              " 'PARTIAL_POSS',\n",
              " 'PLAYER_PTS',\n",
              " 'TEAM_PTS',\n",
              " 'MATCHUP_AST',\n",
              " 'MATCHUP_TOV',\n",
              " 'MATCHUP_BLK',\n",
              " 'MATCHUP_FGM',\n",
              " 'MATCHUP_FGA',\n",
              " 'MATCHUP_FG_PCT',\n",
              " 'MATCHUP_FG3M',\n",
              " 'MATCHUP_FG3A',\n",
              " 'MATCHUP_FG3_PCT',\n",
              " 'HELP_BLK',\n",
              " 'HELP_FGM',\n",
              " 'HELP_FGA',\n",
              " 'HELP_FG_PERC',\n",
              " 'MATCHUP_FTM',\n",
              " 'MATCHUP_FTA',\n",
              " 'SFL',\n",
              " 'MATCHUP_TIME_SEC']"
            ]
          },
          "metadata": {},
          "execution_count": 34
        }
      ],
      "source": [
        "# 'resultSets' has 3 keys, and we are interested in two of them\n",
        "# the 'headers' key contains the column headers that we want for our data analysis\n",
        "nested[0]['resultSets'][0]['headers']"
      ]
    },
    {
      "cell_type": "code",
      "execution_count": 35,
      "id": "bf68b0b2",
      "metadata": {
        "id": "bf68b0b2",
        "outputId": "523af900-f93d-4681-81ea-af26be88ae31",
        "colab": {
          "base_uri": "https://localhost:8080/"
        }
      },
      "outputs": [
        {
          "output_type": "stream",
          "name": "stdout",
          "text": [
            "[['22019', 1629060, 'Rui Hachimura', 202329, 'Al-Farouq Aminu', 1, '6:45', 31.9, 4, 47, 1, 0, 0, 2, 5, 0.4, 0, 0, 0.0, 0, 0, 0, 0, 0, 0, 0, 404.7], ['22019', 1626168, 'Trey Lyles', 202329, 'Al-Farouq Aminu', 1, '7:31', 30.5, 3, 22, 0, 1, 0, 1, 3, 0.333, 1, 2, 0.5, 0, 0, 0, 0, 0, 0, 0, 451.1], ['22019', 1628384, 'OG Anunoby', 202329, 'Al-Farouq Aminu', 3, '5:56', 29.3, 5, 37, 1, 1, 1, 2, 4, 0.5, 1, 2, 0.5, 0, 0, 0, 0, 0, 0, 0, 355.6], ['22019', 201567, 'Kevin Love', 202329, 'Al-Farouq Aminu', 2, '5:17', 25.0, 4, 14, 0, 1, 0, 2, 3, 0.667, 0, 1, 0.0, 0, 0, 0, 0, 0, 0, 0, 316.8]]\n"
          ]
        }
      ],
      "source": [
        "# the 'rowsets' key has the player full set of player data\n",
        "print(nested[0]['resultSets'][0]['rowSet'])"
      ]
    },
    {
      "cell_type": "code",
      "execution_count": 36,
      "id": "85476ba4",
      "metadata": {
        "id": "85476ba4",
        "outputId": "e94d380c-627f-4034-a2c0-bc0fd2383419",
        "colab": {
          "base_uri": "https://localhost:8080/"
        }
      },
      "outputs": [
        {
          "output_type": "stream",
          "name": "stdout",
          "text": [
            "[['22019', 1629060, 'Rui Hachimura', 202329, 'Al-Farouq Aminu', 1, '6:45', 31.9, 4, 47, 1, 0, 0, 2, 5, 0.4, 0, 0, 0.0, 0, 0, 0, 0, 0, 0, 0, 404.7], ['22019', 1626168, 'Trey Lyles', 202329, 'Al-Farouq Aminu', 1, '7:31', 30.5, 3, 22, 0, 1, 0, 1, 3, 0.333, 1, 2, 0.5, 0, 0, 0, 0, 0, 0, 0, 451.1], ['22019', 1628384, 'OG Anunoby', 202329, 'Al-Farouq Aminu', 3, '5:56', 29.3, 5, 37, 1, 1, 1, 2, 4, 0.5, 1, 2, 0.5, 0, 0, 0, 0, 0, 0, 0, 355.6], ['22019', 201567, 'Kevin Love', 202329, 'Al-Farouq Aminu', 2, '5:17', 25.0, 4, 14, 0, 1, 0, 2, 3, 0.667, 0, 1, 0.0, 0, 0, 0, 0, 0, 0, 0, 316.8]]\n"
          ]
        }
      ],
      "source": [
        "# the 'rowsets' key has the player full set of player data\n",
        "print(nested[0]['resultSets'][0]['rowSet'])"
      ]
    },
    {
      "cell_type": "code",
      "execution_count": 37,
      "id": "91a1a30d",
      "metadata": {
        "id": "91a1a30d",
        "outputId": "8afdcdf3-2f75-4378-e936-40360ff8645a",
        "colab": {
          "base_uri": "https://localhost:8080/"
        }
      },
      "outputs": [
        {
          "output_type": "stream",
          "name": "stdout",
          "text": [
            "['22019', 1629060, 'Rui Hachimura', 202329, 'Al-Farouq Aminu', 1, '6:45', 31.9, 4, 47, 1, 0, 0, 2, 5, 0.4, 0, 0, 0.0, 0, 0, 0, 0, 0, 0, 0, 404.7]\n"
          ]
        }
      ],
      "source": [
        "# and the value of the 'rowset' key is a list of lists, with each\n",
        "# of the component lists containing a row of statistical data\n",
        "# so we use the list index notation to address each element list\n",
        "print(nested[0]['resultSets'][0]['rowSet'][0])"
      ]
    },
    {
      "cell_type": "code",
      "execution_count": 38,
      "id": "d7bd4cdc",
      "metadata": {
        "id": "d7bd4cdc",
        "outputId": "c73cbd34-1ee4-47e7-e594-1a5e369e25dd",
        "colab": {
          "base_uri": "https://localhost:8080/"
        }
      },
      "outputs": [
        {
          "output_type": "stream",
          "name": "stdout",
          "text": [
            "22019\n"
          ]
        }
      ],
      "source": [
        "# At the lowest level, each of these individual data elements makes up\n",
        "# the list of statistics for the player matchup.\n",
        "# So we again use the list index notation to address each individual statistic.\n",
        "print(nested[0]['resultSets'][0]['rowSet'][0][0])"
      ]
    },
    {
      "cell_type": "markdown",
      "id": "1935e0d6",
      "metadata": {
        "id": "1935e0d6"
      },
      "source": [
        "#### What are your questions on addressing this nested data set?"
      ]
    },
    {
      "cell_type": "code",
      "execution_count": null,
      "id": "b383d319",
      "metadata": {
        "id": "b383d319"
      },
      "outputs": [],
      "source": []
    }
  ],
  "metadata": {
    "kernelspec": {
      "display_name": "Python 3 (ipykernel)",
      "language": "python",
      "name": "python3"
    },
    "language_info": {
      "codemirror_mode": {
        "name": "ipython",
        "version": 3
      },
      "file_extension": ".py",
      "mimetype": "text/x-python",
      "name": "python",
      "nbconvert_exporter": "python",
      "pygments_lexer": "ipython3",
      "version": "3.9.13"
    },
    "colab": {
      "provenance": [],
      "include_colab_link": true
    }
  },
  "nbformat": 4,
  "nbformat_minor": 5
}