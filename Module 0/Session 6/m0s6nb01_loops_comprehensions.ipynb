{
  "cells": [
    {
      "cell_type": "markdown",
      "metadata": {
        "id": "view-in-github",
        "colab_type": "text"
      },
      "source": [
        "<a href=\"https://colab.research.google.com/github/gleetx/bootcamp/blob/main/Module%200/Session%206/m0s6nb01_loops_comprehensions.ipynb\" target=\"_parent\"><img src=\"https://colab.research.google.com/assets/colab-badge.svg\" alt=\"Open In Colab\"/></a>"
      ]
    },
    {
      "cell_type": "markdown",
      "id": "b389798d",
      "metadata": {
        "id": "b389798d"
      },
      "source": [
        "# Loops and Comprehensions"
      ]
    },
    {
      "cell_type": "markdown",
      "id": "3deb3c0d",
      "metadata": {
        "id": "3deb3c0d"
      },
      "source": [
        "1. **Python Loops**\n",
        "2. **Comprehensions:  Lists and Dicts**\n",
        "\n"
      ]
    },
    {
      "cell_type": "markdown",
      "id": "0c45749d",
      "metadata": {
        "id": "0c45749d"
      },
      "source": [
        "## Python Loop Types"
      ]
    },
    {
      "cell_type": "markdown",
      "id": "d394674b",
      "metadata": {
        "id": "d394674b"
      },
      "source": [
        "### 1. Iterate over a sequence, using a `for` loop"
      ]
    },
    {
      "cell_type": "code",
      "execution_count": 32,
      "id": "e21f5dd8",
      "metadata": {
        "scrolled": true,
        "id": "e21f5dd8",
        "outputId": "83d5cf17-97cd-47e3-d57d-c3dcb05bd4cf",
        "colab": {
          "base_uri": "https://localhost:8080/"
        }
      },
      "outputs": [
        {
          "metadata": {
            "tags": null
          },
          "name": "stdout",
          "output_type": "stream",
          "text": [
            "List Iteration\n",
            "msa\n",
            "cse\n",
            "6040\n"
          ]
        }
      ],
      "source": [
        "# Iterating over a list\n",
        "print(\"List Iteration\")\n",
        "\n",
        "l = [\"msa\", \"cse\", \"6040\"]\n",
        "for i in l:\n",
        "    print(i)"
      ]
    },
    {
      "cell_type": "code",
      "execution_count": 33,
      "id": "b421bac0",
      "metadata": {
        "id": "b421bac0",
        "outputId": "d97a1c12-e0e6-47ce-c94b-05583366b48d",
        "colab": {
          "base_uri": "https://localhost:8080/"
        }
      },
      "outputs": [
        {
          "metadata": {
            "tags": null
          },
          "name": "stdout",
          "output_type": "stream",
          "text": [
            "\n",
            "Tuple Iteration\n",
            "msa\n",
            "cse\n",
            "6040\n"
          ]
        }
      ],
      "source": [
        "# Iterating over a tuple (immutable)\n",
        "\n",
        "print(\"\\nTuple Iteration\")\n",
        "\n",
        "t = (\"msa\", \"cse\", \"6040\")\n",
        "for i in t:\n",
        "    print(i)"
      ]
    },
    {
      "cell_type": "code",
      "execution_count": 34,
      "id": "4a1a5e5d",
      "metadata": {
        "id": "4a1a5e5d",
        "outputId": "3d3e7f6b-398b-4a36-d19c-fab1836fcb5b",
        "colab": {
          "base_uri": "https://localhost:8080/"
        }
      },
      "outputs": [
        {
          "metadata": {
            "tags": null
          },
          "name": "stdout",
          "output_type": "stream",
          "text": [
            "\n",
            "String Iteration\n",
            "m\n",
            "s\n",
            "a\n",
            " \n",
            "c\n",
            "s\n",
            "e\n",
            " \n",
            "6\n",
            "0\n",
            "4\n",
            "0\n"
          ]
        }
      ],
      "source": [
        "# Iterating over a String\n",
        "print(\"\\nString Iteration\")\n",
        "s = \"msa cse 6040\"\n",
        "for i in s :\n",
        "    print(i)"
      ]
    },
    {
      "cell_type": "code",
      "execution_count": 35,
      "id": "2b759d14",
      "metadata": {
        "id": "2b759d14",
        "outputId": "899685e1-2b74-4465-8d7b-bffe7d9860de",
        "colab": {
          "base_uri": "https://localhost:8080/"
        }
      },
      "outputs": [
        {
          "metadata": {
            "tags": null
          },
          "name": "stdout",
          "output_type": "stream",
          "text": [
            "\n",
            "Dictionary Iteration\n",
            "0 : msa\n",
            "1 : cse\n",
            "2 : 6040\n",
            "{'0': 'msa', '1': 'cse', '2': '6040'}\n"
          ]
        }
      ],
      "source": [
        "# Iterating over dictionary\n",
        "print(\"\\nDictionary Iteration\")\n",
        "d = dict()\n",
        "d['0'] = \"msa\"\n",
        "d['1'] = \"cse\"\n",
        "d['2'] = '6040'\n",
        "\n",
        "for i in d :\n",
        "    print(\"{} : {}\".format(i , d[i]))\n",
        "\n",
        "print(d)"
      ]
    },
    {
      "cell_type": "code",
      "execution_count": 36,
      "id": "6969c65e",
      "metadata": {
        "id": "6969c65e",
        "outputId": "2b703e51-7737-4180-823c-94739f638b67",
        "colab": {
          "base_uri": "https://localhost:8080/"
        }
      },
      "outputs": [
        {
          "metadata": {
            "tags": null
          },
          "name": "stdout",
          "output_type": "stream",
          "text": [
            "\n",
            "Set Iteration\n",
            "1\n",
            "2\n",
            "3\n",
            "4\n",
            "5\n",
            "6\n"
          ]
        }
      ],
      "source": [
        "#Iterating over a set\n",
        "print(\"\\nSet Iteration\")\n",
        "set1 = {1,2,3,4,5,6}\n",
        "for i in set1:\n",
        "    print(i)"
      ]
    },
    {
      "cell_type": "markdown",
      "id": "f4d30267",
      "metadata": {
        "id": "f4d30267"
      },
      "source": [
        "### 2. Iterating over a sequence by index, using a `for` loop"
      ]
    },
    {
      "cell_type": "code",
      "execution_count": 37,
      "id": "0b9075e2",
      "metadata": {
        "id": "0b9075e2",
        "outputId": "c65bef41-4421-48c7-9b7f-e8878a8a905c",
        "colab": {
          "base_uri": "https://localhost:8080/"
        }
      },
      "outputs": [
        {
          "metadata": {
            "tags": null
          },
          "name": "stdout",
          "output_type": "stream",
          "text": [
            "0\n",
            "1\n",
            "2\n"
          ]
        }
      ],
      "source": [
        "course_list = ['msa' , 'cse' , '6040']\n",
        "\n",
        "# output the index number\n",
        "for index in range(len(course_list)):\n",
        "    print(index)"
      ]
    },
    {
      "cell_type": "code",
      "execution_count": 38,
      "id": "4c786317",
      "metadata": {
        "id": "4c786317",
        "outputId": "29d75308-bd75-425a-e91f-edb21644e974",
        "colab": {
          "base_uri": "https://localhost:8080/"
        }
      },
      "outputs": [
        {
          "metadata": {
            "tags": null
          },
          "name": "stdout",
          "output_type": "stream",
          "text": [
            "msa\n",
            "cse\n",
            "6040\n"
          ]
        }
      ],
      "source": [
        "# output the value at the index\n",
        "for index in range(len(course_list)):\n",
        "    print(course_list[index])"
      ]
    },
    {
      "cell_type": "markdown",
      "id": "8f911867",
      "metadata": {
        "id": "8f911867"
      },
      "source": [
        "#### Very useful - range() function  -- Recall that we went over this in detail previously"
      ]
    },
    {
      "cell_type": "markdown",
      "id": "d8f1241f",
      "metadata": {
        "id": "d8f1241f"
      },
      "source": [
        "Please look at this link for more details - https://cs.stanford.edu/people/nick/py/python-range.html"
      ]
    },
    {
      "cell_type": "code",
      "execution_count": 39,
      "id": "a333a05b",
      "metadata": {
        "id": "a333a05b"
      },
      "outputs": [],
      "source": [
        "a = list(range(10))\n",
        "b = list(range(5,10))\n",
        "c = list(range(0,10,3))"
      ]
    },
    {
      "cell_type": "code",
      "execution_count": 40,
      "id": "24fec3b5",
      "metadata": {
        "id": "24fec3b5",
        "outputId": "3c8a2359-478b-4140-f9d0-d123304320bd",
        "colab": {
          "base_uri": "https://localhost:8080/"
        }
      },
      "outputs": [
        {
          "metadata": {
            "tags": null
          },
          "name": "stdout",
          "output_type": "stream",
          "text": [
            "One argument form - [0, 1, 2, 3, 4, 5, 6, 7, 8, 9]\n",
            "Two argument form - [5, 6, 7, 8, 9]\n",
            "Three argument form - [0, 3, 6, 9]\n"
          ]
        }
      ],
      "source": [
        "print('One argument form - {}'.format(a))\n",
        "print('Two argument form - {}'.format(b))\n",
        "print('Three argument form - {}'.format(c))"
      ]
    },
    {
      "cell_type": "markdown",
      "id": "9158466b",
      "metadata": {
        "id": "9158466b"
      },
      "source": [
        "#### So what have we done here?"
      ]
    },
    {
      "cell_type": "code",
      "source": [
        "new_list = []\n",
        "for n in range(10):\n",
        "  new_list.append(n)\n",
        "print(new_list)"
      ],
      "metadata": {
        "id": "xOE82kxLpVUc",
        "outputId": "8e0b669f-8818-4904-921a-68fa3f81c29d",
        "colab": {
          "base_uri": "https://localhost:8080/"
        }
      },
      "id": "xOE82kxLpVUc",
      "execution_count": 41,
      "outputs": [
        {
          "metadata": {
            "tags": null
          },
          "name": "stdout",
          "output_type": "stream",
          "text": [
            "[0, 1, 2, 3, 4, 5, 6, 7, 8, 9]\n"
          ]
        }
      ]
    },
    {
      "cell_type": "code",
      "execution_count": 42,
      "id": "2d973d47",
      "metadata": {
        "id": "2d973d47",
        "outputId": "9d44c2df-232b-4277-fc06-791b0330c1e4",
        "colab": {
          "base_uri": "https://localhost:8080/",
          "height": 35
        }
      },
      "outputs": [
        {
          "data": {
            "text/plain": [
              "[0, 1, 2, 3, 4, 5, 6, 7, 8, 9]"
            ]
          },
          "metadata": {},
          "output_type": "display_data"
        }
      ],
      "source": [
        "# same as above\n",
        "range_list = []\n",
        "for x in range(10):\n",
        "    range_list.append(x)\n",
        "display(range_list)"
      ]
    },
    {
      "cell_type": "code",
      "source": [],
      "metadata": {
        "id": "nS24hkkIpPm-"
      },
      "id": "nS24hkkIpPm-",
      "execution_count": 42,
      "outputs": []
    },
    {
      "cell_type": "markdown",
      "id": "eb5790df",
      "metadata": {
        "id": "eb5790df"
      },
      "source": [
        "# Topic 2 -  Comprehensions in Python"
      ]
    },
    {
      "cell_type": "markdown",
      "id": "8a994dea",
      "metadata": {
        "id": "8a994dea"
      },
      "source": [
        "1. List Comprehension\n",
        "2. Dictionary Comprehension"
      ]
    },
    {
      "cell_type": "markdown",
      "id": "0cb7233f",
      "metadata": {
        "id": "0cb7233f"
      },
      "source": [
        "### 1. List Comprehension"
      ]
    },
    {
      "cell_type": "markdown",
      "id": "df482063",
      "metadata": {
        "id": "df482063"
      },
      "source": [
        "A list comprehension consists of the following parts -\n",
        "1. An Input Sequence.\n",
        "2. A Variable representing members of the input sequence.\n",
        "3. An optional Conditional Expression.\n",
        "4. An Output Expression producing elements of the output list from members of the Input Sequence that satisfy the predicate."
      ]
    },
    {
      "cell_type": "markdown",
      "id": "5e6f2c17",
      "metadata": {
        "id": "5e6f2c17"
      },
      "source": [
        "![list_format.png](https://github.com/gt-cse-6040/bootcamp/blob/main/Module%200/Session%206/list_format.png?raw=1)"
      ]
    },
    {
      "cell_type": "code",
      "execution_count": 43,
      "id": "a673591c",
      "metadata": {
        "id": "a673591c",
        "outputId": "c63faad2-4bce-448c-b741-cfdcfbf33abd",
        "colab": {
          "base_uri": "https://localhost:8080/",
          "height": 35
        }
      },
      "outputs": [
        {
          "data": {
            "text/plain": [
              "[0, 1, 2, 3, 4, 5, 6, 7, 8, 9]"
            ]
          },
          "metadata": {},
          "output_type": "display_data"
        }
      ],
      "source": [
        "# loop format -- recall from above\n",
        "range_list = []\n",
        "for x in range(10):\n",
        "    range_list.append(x)\n",
        "display(range_list)"
      ]
    },
    {
      "cell_type": "code",
      "source": [
        "display([i for i in range(10)])"
      ],
      "metadata": {
        "id": "jxLn88dmqGJQ",
        "outputId": "8af6e97b-2892-4c56-a73e-7f7e93f5bad5",
        "colab": {
          "base_uri": "https://localhost:8080/",
          "height": 35
        }
      },
      "id": "jxLn88dmqGJQ",
      "execution_count": 44,
      "outputs": [
        {
          "data": {
            "text/plain": [
              "[0, 1, 2, 3, 4, 5, 6, 7, 8, 9]"
            ]
          },
          "metadata": {},
          "output_type": "display_data"
        }
      ]
    },
    {
      "cell_type": "code",
      "execution_count": 45,
      "id": "408d1810",
      "metadata": {
        "id": "408d1810",
        "outputId": "5beaacf8-862b-43b1-870c-01b94de160dd",
        "colab": {
          "base_uri": "https://localhost:8080/",
          "height": 35
        }
      },
      "outputs": [
        {
          "data": {
            "text/plain": [
              "[0, 1, 2, 3, 4, 5, 6, 7, 8, 9]"
            ]
          },
          "metadata": {},
          "output_type": "display_data"
        }
      ],
      "source": [
        "# comprehension format\n",
        "range_list_comp = [x for x in range(10)]\n",
        "display(range_list_comp)"
      ]
    },
    {
      "cell_type": "markdown",
      "id": "dacd23d5",
      "metadata": {
        "id": "dacd23d5"
      },
      "source": [
        "#### Now let's add a level of complexity.\n",
        "\n",
        "Let's create a list of mixed integers and strings, and only output a result if the input is an integer."
      ]
    },
    {
      "cell_type": "code",
      "execution_count": 46,
      "id": "69bfcb83",
      "metadata": {
        "id": "69bfcb83",
        "outputId": "7a8df366-bf66-4e6b-f495-3143bb8060df",
        "colab": {
          "base_uri": "https://localhost:8080/"
        }
      },
      "outputs": [
        {
          "data": {
            "text/plain": [
              "[1, '4', 9, 'a', 0, 4]"
            ]
          },
          "execution_count": 46,
          "metadata": {},
          "output_type": "execute_result"
        }
      ],
      "source": [
        "a_list = [1, '4', 9, 'a', 0, 4]\n",
        "a_list"
      ]
    },
    {
      "cell_type": "code",
      "execution_count": 47,
      "id": "44853acc",
      "metadata": {
        "id": "44853acc",
        "outputId": "3354b5c1-28c3-42ab-f49b-3ac1ba2cd8a8",
        "colab": {
          "base_uri": "https://localhost:8080/"
        }
      },
      "outputs": [
        {
          "data": {
            "text/plain": [
              "[1, 81, 0, 16, 1, 81, 0, 16]"
            ]
          },
          "execution_count": 47,
          "metadata": {},
          "output_type": "execute_result"
        }
      ],
      "source": [
        "tsq_list = []\n",
        "for e in a_list:\n",
        "    if(type(e) == int):\n",
        "        sq_list.append(e*e)\n",
        "\n",
        "sq_list"
      ]
    },
    {
      "cell_type": "markdown",
      "id": "ac85630d",
      "metadata": {
        "id": "ac85630d"
      },
      "source": [
        "![Screen%20Shot%202022-08-27%20at%206.23.51%20PM.png](https://github.com/gt-cse-6040/bootcamp/blob/main/Module%200/Session%206/list_format_2.png?raw=1)"
      ]
    },
    {
      "cell_type": "code",
      "execution_count": 48,
      "id": "0b8beb51",
      "metadata": {
        "id": "0b8beb51",
        "outputId": "16504a37-7157-4b5b-cf82-ab824299fa8c",
        "colab": {
          "base_uri": "https://localhost:8080/"
        }
      },
      "outputs": [
        {
          "data": {
            "text/plain": [
              "[1, '4', 9, 'a', 0, 4]"
            ]
          },
          "execution_count": 48,
          "metadata": {},
          "output_type": "execute_result"
        }
      ],
      "source": [
        "\n",
        "a_list"
      ]
    },
    {
      "cell_type": "code",
      "execution_count": 49,
      "id": "ce438b10",
      "metadata": {
        "id": "ce438b10",
        "outputId": "418e30e3-d13b-4b8e-8b37-5c107fe6b5d2",
        "colab": {
          "base_uri": "https://localhost:8080/"
        }
      },
      "outputs": [
        {
          "metadata": {
            "tags": null
          },
          "name": "stdout",
          "output_type": "stream",
          "text": [
            "[1, 81, 0, 16]\n"
          ]
        }
      ],
      "source": [
        "squared_ints = [e**2 for e in a_list if type(e) == int]\n",
        "print(squared_ints)"
      ]
    },
    {
      "cell_type": "markdown",
      "id": "51287966",
      "metadata": {
        "id": "51287966"
      },
      "source": [
        "#### Another example"
      ]
    },
    {
      "cell_type": "code",
      "execution_count": 50,
      "id": "5dbb5ec4",
      "metadata": {
        "id": "5dbb5ec4"
      },
      "outputs": [],
      "source": [
        "\n",
        "my_list = [1,2,3,4,5,6,7,8,9,10]"
      ]
    },
    {
      "cell_type": "code",
      "execution_count": 51,
      "id": "6382d698",
      "metadata": {
        "id": "6382d698",
        "outputId": "382bdb2d-3719-4375-d23c-3fb2bd199fe5",
        "colab": {
          "base_uri": "https://localhost:8080/"
        }
      },
      "outputs": [
        {
          "data": {
            "text/plain": [
              "[2, 4, 6, 8, 10]"
            ]
          },
          "execution_count": 51,
          "metadata": {},
          "output_type": "execute_result"
        }
      ],
      "source": [
        "# using a loop\n",
        "new_list_loop = []\n",
        "for number in my_list:\n",
        "    # using modulus operator, which returns the remainder of a division\n",
        "    # so this statement only returns even numbers\n",
        "    if number % 2 == 0:\n",
        "        new_list_loop.append(number)\n",
        "\n",
        "new_list_loop"
      ]
    },
    {
      "cell_type": "code",
      "execution_count": 52,
      "id": "eeeab2f3",
      "metadata": {
        "id": "eeeab2f3",
        "outputId": "48c914b4-1f23-4417-f27c-09cd9e72a561",
        "colab": {
          "base_uri": "https://localhost:8080/"
        }
      },
      "outputs": [
        {
          "data": {
            "text/plain": [
              "[2, 4, 6, 8, 10]"
            ]
          },
          "execution_count": 52,
          "metadata": {},
          "output_type": "execute_result"
        }
      ],
      "source": [
        "\n",
        "# list comprehension\n",
        "new_list_comp = [number for number in my_list if number % 2 == 0]\n",
        "new_list_comp"
      ]
    },
    {
      "cell_type": "code",
      "execution_count": 53,
      "id": "12a937d5",
      "metadata": {
        "id": "12a937d5",
        "outputId": "6d19bf09-c147-4372-e6fa-8e2eaf606583",
        "colab": {
          "base_uri": "https://localhost:8080/"
        }
      },
      "outputs": [
        {
          "data": {
            "text/plain": [
              "[15, 2, 15, 4, 15, 6, 15, 8, 15, 10]"
            ]
          },
          "execution_count": 53,
          "metadata": {},
          "output_type": "execute_result"
        }
      ],
      "source": [
        "# loop using if else\n",
        "new_list_loop_2 = []\n",
        "for number in my_list:\n",
        "    # using modulus operator, which returns the remainder of a division\n",
        "    # so this statement only returns even numbers\n",
        "    if number % 2 == 0:\n",
        "        new_list_loop_2.append(number)\n",
        "    else:\n",
        "        new_list_loop_2.append(15)\n",
        "\n",
        "new_list_loop_2"
      ]
    },
    {
      "cell_type": "code",
      "execution_count": 54,
      "id": "f2a8474d",
      "metadata": {
        "id": "f2a8474d",
        "outputId": "3495bc58-4004-4abf-ca15-504b4c9a3e9e",
        "colab": {
          "base_uri": "https://localhost:8080/"
        }
      },
      "outputs": [
        {
          "data": {
            "text/plain": [
              "[15, 2, 15, 4, 15, 6, 15, 8, 15, 10]"
            ]
          },
          "execution_count": 54,
          "metadata": {},
          "output_type": "execute_result"
        }
      ],
      "source": [
        "new_list_1 = [number if number % 2 == 0 else 15 for number in my_list ]\n",
        "new_list_1"
      ]
    },
    {
      "cell_type": "code",
      "execution_count": 55,
      "id": "b0682d8d",
      "metadata": {
        "id": "b0682d8d",
        "outputId": "f65653a2-cbb1-4da7-a883-1998de7714dc",
        "colab": {
          "base_uri": "https://localhost:8080/"
        }
      },
      "outputs": [
        {
          "data": {
            "text/plain": [
              "['PINK', 'WHITE', 'BLUE', 'BLACK', 'PURPLE']"
            ]
          },
          "execution_count": 55,
          "metadata": {},
          "output_type": "execute_result"
        }
      ],
      "source": [
        "# string function in the comprehension\n",
        "colors = [\"pink\", \"white\", \"blue\", \"black\", \"purple\"]\n",
        "[color.upper() for color in colors]"
      ]
    },
    {
      "cell_type": "markdown",
      "id": "9ae15e01",
      "metadata": {
        "id": "9ae15e01"
      },
      "source": [
        "#### What if we want to take a list of names and change their format to be last name, first name?\n",
        "\n",
        "Simple two step process, using list comprehensions. Note that there are `many ways` you can perform this operation, and we are just showing a simple way, to illustrate using comprehensions."
      ]
    },
    {
      "cell_type": "code",
      "execution_count": 57,
      "id": "ce28c02e",
      "metadata": {
        "id": "ce28c02e"
      },
      "outputs": [],
      "source": [
        "# list of names\n",
        "presidents_usa = [\"George Washington\", \"John Adams\",\"Thomas Jefferson\",\"James Madison\",\"James Monroe\",\"Andrew Jackson\"]"
      ]
    },
    {
      "cell_type": "code",
      "execution_count": 59,
      "id": "eb8047d1",
      "metadata": {
        "id": "eb8047d1",
        "outputId": "c1b19c35-4f4b-4e26-a344-475806f4d833",
        "colab": {
          "base_uri": "https://localhost:8080/"
        }
      },
      "outputs": [
        {
          "output_type": "execute_result",
          "data": {
            "text/plain": [
              "[['George', 'Washington'],\n",
              " ['John', 'Adams'],\n",
              " ['Thomas', 'Jefferson'],\n",
              " ['James', 'Madison'],\n",
              " ['James', 'Monroe'],\n",
              " ['Andrew', 'Jackson']]"
            ]
          },
          "metadata": {},
          "execution_count": 59
        }
      ],
      "source": [
        "# divide the names into first and last name elements\n",
        "split_names = [name.split(\" \") for name in presidents_usa]\n",
        "#split_names = [tuple(name.split(\" \")) for name in presidents_usa]  # just tried tuple for fun.  Works!\n",
        "split_names"
      ]
    },
    {
      "cell_type": "markdown",
      "id": "9ff216b7",
      "metadata": {
        "id": "9ff216b7"
      },
      "source": [
        "#### Now let's put them back together, in a last name, first name format"
      ]
    },
    {
      "cell_type": "code",
      "execution_count": 60,
      "id": "db71fc15",
      "metadata": {
        "id": "db71fc15",
        "outputId": "f7127916-70d0-4b6a-a1c8-42292ffc2f71",
        "colab": {
          "base_uri": "https://localhost:8080/"
        }
      },
      "outputs": [
        {
          "output_type": "execute_result",
          "data": {
            "text/plain": [
              "['Washington, George',\n",
              " 'Adams, John',\n",
              " 'Jefferson, Thomas',\n",
              " 'Madison, James',\n",
              " 'Monroe, James',\n",
              " 'Jackson, Andrew']"
            ]
          },
          "metadata": {},
          "execution_count": 60
        }
      ],
      "source": [
        "swapped_list = [split_name[1] + \", \" + split_name[0] for split_name in split_names]\n",
        "swapped_list"
      ]
    },
    {
      "cell_type": "markdown",
      "id": "2a9e5bc0",
      "metadata": {
        "id": "2a9e5bc0"
      },
      "source": [
        "Let's now try to make this matrix using comprehensions. It will need a nested comprehension\n",
        "![Screen%20Shot%202022-08-27%20at%206.35.38%20PM.png](https://github.com/gt-cse-6040/bootcamp/blob/main/Module%200/Session%206/matrix.png?raw=1)"
      ]
    },
    {
      "cell_type": "code",
      "execution_count": 66,
      "id": "a1522c5c",
      "metadata": {
        "id": "a1522c5c",
        "outputId": "313b69d6-f326-4acb-f7a8-9308f56a0695",
        "colab": {
          "base_uri": "https://localhost:8080/"
        }
      },
      "outputs": [
        {
          "output_type": "execute_result",
          "data": {
            "text/plain": [
              "[[1, 0, 0], [0, 1, 0], [0, 0, 1]]"
            ]
          },
          "metadata": {},
          "execution_count": 66
        }
      ],
      "source": [
        "cols = []   # this code is focusing on the indices and entering 0 or 1 as the value\n",
        "rows = []\n",
        "for row in range(3):   # start with looking at the first row\n",
        "    for col in range(3):   # in that row, look at the first \"col\" entry\n",
        "        if(col == row):\n",
        "            cols.append(1)   # If row and col indices are equal, put a 1 else put a zero\n",
        "        else:\n",
        "            cols.append(0)\n",
        "    rows.append(cols)\n",
        "    cols = []  # resetting cols.  If don't do this, will keep appending to the same row and we will get a 3 x 9 matrix\n",
        "rows"
      ]
    },
    {
      "cell_type": "code",
      "execution_count": 62,
      "id": "c34440e5",
      "metadata": {
        "id": "c34440e5"
      },
      "outputs": [],
      "source": [
        "identity_matrix = [ [ 1 if item_idx == row_idx else 0 for item_idx in range(0, 3) ] for row_idx in range(0, 3) ]"
      ]
    },
    {
      "cell_type": "code",
      "execution_count": 63,
      "id": "5d7d0ae1",
      "metadata": {
        "id": "5d7d0ae1",
        "outputId": "e95f81a0-efe4-4e28-b431-1fdb1ab0c1b1",
        "colab": {
          "base_uri": "https://localhost:8080/"
        }
      },
      "outputs": [
        {
          "output_type": "execute_result",
          "data": {
            "text/plain": [
              "[[1, 0, 0], [0, 1, 0], [0, 0, 1]]"
            ]
          },
          "metadata": {},
          "execution_count": 63
        }
      ],
      "source": [
        "identity_matrix"
      ]
    },
    {
      "cell_type": "markdown",
      "id": "4473ecb0",
      "metadata": {
        "id": "4473ecb0"
      },
      "source": [
        "### 2. Dictionary Comprehension"
      ]
    },
    {
      "cell_type": "markdown",
      "id": "9dc72bff",
      "metadata": {
        "id": "9dc72bff"
      },
      "source": [
        "![dict_comp_format_2.png](https://github.com/gt-cse-6040/bootcamp/blob/main/Module%200/Session%206/dict_comp_format_2.png?raw=1)"
      ]
    },
    {
      "cell_type": "markdown",
      "id": "98718f75",
      "metadata": {
        "id": "98718f75"
      },
      "source": [
        "#### Let's look at an example, using a single variable to create the key: value pair."
      ]
    },
    {
      "cell_type": "code",
      "execution_count": 67,
      "id": "4d51c8f9",
      "metadata": {
        "id": "4d51c8f9",
        "outputId": "db44cd7a-d251-4760-aebe-ea734e4826c9",
        "colab": {
          "base_uri": "https://localhost:8080/"
        }
      },
      "outputs": [
        {
          "output_type": "execute_result",
          "data": {
            "text/plain": [
              "{1: 1, 2: 4, 3: 9, 4: 16, 5: 25, 6: 36, 7: 49, 8: 64, 9: 81, 10: 100}"
            ]
          },
          "metadata": {},
          "execution_count": 67
        }
      ],
      "source": [
        "\n",
        "# create dictionary using for loop\n",
        "loop_dict = {}  # create empty dict\n",
        "for num in range(1,11):\n",
        "    loop_dict[num] = num*num\n",
        "\n",
        "loop_dict"
      ]
    },
    {
      "cell_type": "markdown",
      "id": "f6318a3d",
      "metadata": {
        "id": "f6318a3d"
      },
      "source": [
        "![dict_comp_format.png](https://github.com/gt-cse-6040/bootcamp/blob/main/Module%200/Session%206/dict_comp_format.png?raw=1)"
      ]
    },
    {
      "cell_type": "code",
      "execution_count": 68,
      "id": "c5332987",
      "metadata": {
        "id": "c5332987",
        "outputId": "8c6c4ab5-fe4f-4be5-9668-37638575ccdb",
        "colab": {
          "base_uri": "https://localhost:8080/"
        }
      },
      "outputs": [
        {
          "output_type": "execute_result",
          "data": {
            "text/plain": [
              "{1: 1, 2: 4, 3: 9, 4: 16, 5: 25, 6: 36, 7: 49, 8: 64, 9: 81, 10: 100}"
            ]
          },
          "metadata": {},
          "execution_count": 68
        }
      ],
      "source": [
        "comp_dict = {num: num*num for num in range(1,11)}\n",
        "comp_dict"
      ]
    },
    {
      "cell_type": "markdown",
      "id": "9d0f31a8",
      "metadata": {
        "id": "9d0f31a8"
      },
      "source": [
        "#### What about dictionary comprehension with an if statement?\n",
        "\n",
        "![dict_comp_format_3.png](https://github.com/gt-cse-6040/bootcamp/blob/main/Module%200/Session%206/dict_comp_format_3.png?raw=1)"
      ]
    },
    {
      "cell_type": "code",
      "execution_count": 70,
      "id": "5faf82e6",
      "metadata": {
        "id": "5faf82e6"
      },
      "outputs": [],
      "source": [
        "# a list of 3 dictionaries\n",
        "persons = [\n",
        "    {\n",
        "        'name': 'Vuduc',\n",
        "        'age': 40,\n",
        "        'title': 'Data Scientist'\n",
        "    },\n",
        "    {\n",
        "        'name': 'Sokol',\n",
        "        'age': 45,\n",
        "        'title': 'Data Engineer'\n",
        "    },\n",
        "    {\n",
        "        'name': 'Wooley',\n",
        "        'age': 43,\n",
        "        'title': 'Program Director'\n",
        "    }\n",
        "]"
      ]
    },
    {
      "cell_type": "code",
      "execution_count": 71,
      "id": "c49d4127",
      "metadata": {
        "id": "c49d4127"
      },
      "outputs": [],
      "source": [
        "# use a loop to create the dictionary\n",
        "data_employees_loop = {}\n",
        "for p in persons:\n",
        "    if 'Data' in p['title']:\n",
        "        data_employees_loop[p['name']] = p['title']  # assigning the value of ''name' as a key and assigning the value of 'title' as the new key-value\n",
        "#     else:\n",
        "#         print(p['name'])"
      ]
    },
    {
      "cell_type": "code",
      "execution_count": 73,
      "id": "234d9d2c",
      "metadata": {
        "id": "234d9d2c",
        "outputId": "928f315c-d519-4a7b-c22d-f1fcba4320b8",
        "colab": {
          "base_uri": "https://localhost:8080/"
        }
      },
      "outputs": [
        {
          "output_type": "execute_result",
          "data": {
            "text/plain": [
              "{'Vuduc': 'Data Scientist', 'Sokol': 'Data Engineer'}"
            ]
          },
          "metadata": {},
          "execution_count": 73
        }
      ],
      "source": [
        "data_employees_loop"
      ]
    },
    {
      "cell_type": "code",
      "execution_count": 78,
      "id": "07e8ec51",
      "metadata": {
        "id": "07e8ec51"
      },
      "outputs": [],
      "source": [
        "# create using dictionary comprehension\n",
        "data_employees_comprehension = {p['name']:p['title'] for p in persons if 'Data' in p['title']}\n",
        "# data_employees_comprehension = {p['name']:\"even\" for p in persons if 'Data' in p['title']}  # eg. of just giving a constant value based on a filter."
      ]
    },
    {
      "cell_type": "code",
      "execution_count": 79,
      "id": "23151da1",
      "metadata": {
        "id": "23151da1",
        "outputId": "a9e950b7-4d4a-46cb-bc5a-768ab8a5749e",
        "colab": {
          "base_uri": "https://localhost:8080/"
        }
      },
      "outputs": [
        {
          "output_type": "execute_result",
          "data": {
            "text/plain": [
              "{'Vuduc': 'Data Scientist', 'Sokol': 'Data Engineer'}"
            ]
          },
          "metadata": {},
          "execution_count": 79
        }
      ],
      "source": [
        "data_employees_comprehension"
      ]
    },
    {
      "cell_type": "markdown",
      "id": "335c7783",
      "metadata": {
        "id": "335c7783"
      },
      "source": [
        "### What are your questions on list and dictionary comprehensions?"
      ]
    }
  ],
  "metadata": {
    "kernelspec": {
      "display_name": "Python 3 (ipykernel)",
      "language": "python",
      "name": "python3"
    },
    "language_info": {
      "codemirror_mode": {
        "name": "ipython",
        "version": 3
      },
      "file_extension": ".py",
      "mimetype": "text/x-python",
      "name": "python",
      "nbconvert_exporter": "python",
      "pygments_lexer": "ipython3",
      "version": "3.9.13"
    },
    "colab": {
      "provenance": [],
      "include_colab_link": true
    }
  },
  "nbformat": 4,
  "nbformat_minor": 5
}