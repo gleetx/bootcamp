{
  "cells": [
    {
      "cell_type": "markdown",
      "metadata": {
        "id": "view-in-github",
        "colab_type": "text"
      },
      "source": [
        "<a href=\"https://colab.research.google.com/github/gt-cse-6040/bootcamp/blob/main/Module%200/Session%2011/working_MT1%20Hard%20Debugging.ipynb\" target=\"_parent\"><img src=\"https://colab.research.google.com/assets/colab-badge.svg\" alt=\"Open In Colab\"/></a>"
      ]
    },
    {
      "cell_type": "markdown",
      "id": "6b557f37",
      "metadata": {
        "nbgrader": {
          "grade": false,
          "locked": true,
          "solution": false
        },
        "tags": [
          "notebook_header"
        ],
        "id": "6b557f37"
      },
      "source": [
        "# Debugging Bad Solutions: #\n",
        "## From Midterm 1, Spring 2023 - 2 and 3 Point Exercises ##\n",
        "\n",
        "**Purpose:**\n",
        "On the exams you may initially write solutions that do not pass the test cases. That's okay! You will need to debug your code to determine what is causing the issue(s) and then figure out to how fix them. So how can we get better at debugging? We practice!\n",
        "\n",
        "Below are four 1 point exercises from the Spring 2023 Midterm 1. We have pre-written solutions for each exercise that are \"bad\" in one or more ways. Our solutions may contain one or more logic and/or syntax errors. Can you find and fix the issues in each exercise and pass all of the test cases?\n",
        "\n",
        "Right before each exercise test cell, there is a block of text explaining the variables available to you for debugging. You may use these to test your code and can print/display them as needed.\n",
        "\n",
        "<br/>\n",
        "\n",
        "**Exercise point breakdown:**\n",
        "\n",
        "- Exercise 2: **3** points\n",
        "- Exercise 8: **2** points\n",
        "- Exercise 9: **3** points\n"
      ]
    },
    {
      "cell_type": "markdown",
      "id": "44bea3e0",
      "metadata": {
        "nbgrader": {
          "grade": false,
          "locked": true,
          "solution": false
        },
        "tags": [
          "topic_intro"
        ],
        "id": "44bea3e0"
      },
      "source": [
        "# Background: Mining for Friends #\n",
        "\n",
        "In this notebook, you will analyze social media data from Twitter and FourSquare. Your ultimate goal will be to help people find others with common interests.\n",
        "\n",
        "The (anonymized) data consists of the following:\n",
        "\n",
        "- A collection of places, or _points of interest_ (POIs), like restaurants, movie theaters, post offices, museums, and so on.\n",
        "- A database of cities.\n",
        "- A collection of _check-ins_, that is, the places that a specific person has visited.\n",
        "- Existing _connections_, that is, \"who follows whom\" type relationships.\n",
        "\n",
        "We will analyze this data and then, by the very last exercise, create a function that can, for a given person, recommend other people they might be compatible with based on their affinity for the same places.\n",
        "\n",
        "Start by running the next cell, which will set up some of the code and data you'll need later."
      ]
    },
    {
      "cell_type": "code",
      "execution_count": null,
      "id": "45ea22cf",
      "metadata": {
        "id": "45ea22cf",
        "colab": {
          "base_uri": "https://localhost:8080/"
        },
        "outputId": "6d408c4f-b0e8-474f-8fb8-efd44b4d1a9f"
      },
      "outputs": [
        {
          "output_type": "stream",
          "name": "stdout",
          "text": [
            "Collecting dill\n",
            "  Downloading dill-0.3.7-py3-none-any.whl (115 kB)\n",
            "\u001b[?25l     \u001b[90m━━━━━━━━━━━━━━━━━━━━━━━━━━━━━━━━━━━━━━━━\u001b[0m \u001b[32m0.0/115.3 kB\u001b[0m \u001b[31m?\u001b[0m eta \u001b[36m-:--:--\u001b[0m\r\u001b[2K     \u001b[91m━━━━━━━━━━━━━━━━━━━━━━━━━━━━━━━━━━━━━━━\u001b[0m\u001b[90m╺\u001b[0m \u001b[32m112.6/115.3 kB\u001b[0m \u001b[31m3.6 MB/s\u001b[0m eta \u001b[36m0:00:01\u001b[0m\r\u001b[2K     \u001b[90m━━━━━━━━━━━━━━━━━━━━━━━━━━━━━━━━━━━━━━━━\u001b[0m \u001b[32m115.3/115.3 kB\u001b[0m \u001b[31m2.9 MB/s\u001b[0m eta \u001b[36m0:00:00\u001b[0m\n",
            "\u001b[?25hInstalling collected packages: dill\n",
            "Successfully installed dill-0.3.7\n"
          ]
        }
      ],
      "source": [
        "# # !python --version\n",
        "!pip install dill\n",
        "import dill as pickle"
      ]
    },
    {
      "cell_type": "code",
      "execution_count": null,
      "id": "25c65a7b",
      "metadata": {
        "nbgrader": {
          "grade": false,
          "locked": true,
          "solution": false
        },
        "tags": [
          "global_imports"
        ],
        "id": "25c65a7b"
      },
      "outputs": [],
      "source": [
        "### Global Imports\n",
        "# Some functionality needed by the notebook and demo cells:\n",
        "from pprint import pprint, pformat\n",
        "import math\n",
        "\n",
        "def status_msg(s, time=None):\n",
        "    from datetime import datetime\n",
        "    if time is None:\n",
        "        time = datetime.now()\n",
        "    print(f\"[{time}] {s}\")\n",
        "\n",
        "def load_json(filename):\n",
        "    from json import load\n",
        "    with open(filename, \"rt\") as fp:\n",
        "        return load(fp)\n",
        "    return None\n",
        "\n",
        "def save_json(filename, obj):\n",
        "    from json import dump\n",
        "    with open(filename, \"w\") as fp:\n",
        "        dump(obj, fp, indent=2)\n",
        "\n",
        "def load_pickle(filename):\n",
        "    from pickle import load\n",
        "    with open(filename, \"rb\") as fp:\n",
        "        return load(fp)\n",
        "    return None\n",
        "\n",
        "def save_pickle(filename, obj):\n",
        "    from pickle import dump\n",
        "    with open(filename, \"wb\") as fp:\n",
        "        dump(obj, fp)\n",
        "\n",
        "def choose_ext(s, ext_map):\n",
        "    for ext in ext_map:\n",
        "        if s[-(len(ext)+1):] == f\".{ext}\":\n",
        "            return ext_map[ext]\n",
        "    return None\n",
        "\n",
        "def load_database(basename, tag=None, sample=None, pathname=\"\"):\n",
        "    filename = pathname + basename\n",
        "    status_msg(f\"Loading {tag+' ' if tag is not None else ''}[{filename}] ...\")\n",
        "    loader = choose_ext(basename, {'pickle': load_pickle, 'json': load_json})\n",
        "    assert loader is not None, \"*** Unrecognized file extension. ***\"\n",
        "    database = loader(filename)\n",
        "    status_msg(\"... done!\")\n",
        "    print(f\"\\nThis data has {len(database):,} entries.\")\n",
        "    if sample is not None and isinstance(database, dict):\n",
        "        print(\"\\nHere is a sample:\\n\")\n",
        "        pprint({key: database[key] for key in sample})\n",
        "    return database\n",
        "\n",
        "def save_database(database, basename, tag=None, sample=None, pathname=\"\"):\n",
        "    if sample is not None and isinstance(database, dict):\n",
        "        database = {key: database[key] for key in sample}\n",
        "    print(f\"This data has {len(database):,} entries.\")\n",
        "    filename = pathname + basename\n",
        "    status_msg(f\"\\nSaving {tag+' ' if tag is not None else ''}[{filename}] ...\")\n",
        "    saver = choose_ext(basename, {'pickle': save_pickle, 'json': save_json})\n",
        "    assert saver is not None, \"*** Unrecognized file extension. ***\"\n",
        "    saver(filename, database)\n",
        "    status_msg(\"... done!\")\n",
        "\n",
        "def sample_dict(d, k=1):\n",
        "    \"\"\"Extract a sample of at most `k` key-value pairs from the dictionary `d`.\"\"\"\n",
        "    assert k >= 0, f\"*** The number of samples must be nonnegative (k={k}). ***\"\n",
        "    from random import sample\n",
        "    keys = sample(d.keys(), min(k, len(list(d.keys()))))\n",
        "    return {k: d[k] for k in keys}\n",
        "\n",
        "def sample_safely(x, k):\n",
        "    \"\"\"Returns a set of at most `k` uniform-random samples from `x`.\"\"\"\n",
        "    from random import sample\n",
        "    return set(sample(x, min(k, len(x))))\n",
        "\n",
        "def subset_dict(d, ks):\n",
        "    \"\"\"Returns a subset of the dictionary `d` for the keys `ks`.\"\"\"\n",
        "    return {k: v for k, v in d.items() if k in ks}\n",
        "\n",
        "def enum_map(x):\n",
        "    map_dict = {e: k for k, e in enumerate(x)}\n",
        "    return lambda i: map_dict[i]\n",
        "\n",
        "def remap_dict(d, map_key=lambda k: k, map_val=lambda k: k):\n",
        "    \"\"\"Relabel the key-value pairs of a dictionary.\"\"\"\n",
        "    assert len(set(map_key(k) for k in d.keys())) == len(d.keys()), '*** `map_key` is not one to one ***'\n",
        "#    assert len(set(map_val(k) for k in d.values())) == len(d.values()), '*** `map_val` is not one to one ***'\n",
        "    return {map_key(k): map_val(v) for k, v in d.items()}\n",
        "\n",
        "def remap_set(s, map_fun=lambda e: e):\n",
        "    \"\"\"Relabel the elements of a set.\"\"\"\n",
        "    s_new = {map_fun(e) for e in s}\n",
        "    assert len(s_new) == len(s), \"*** `map_fun` is not one to one ***\"\n",
        "    return s_new"
      ]
    },
    {
      "cell_type": "code",
      "execution_count": null,
      "id": "cbf54b79",
      "metadata": {
        "id": "cbf54b79",
        "colab": {
          "base_uri": "https://localhost:8080/"
        },
        "outputId": "6178d217-2925-456d-87fa-ebf8bef2cbbe"
      },
      "outputs": [
        {
          "output_type": "stream",
          "name": "stdout",
          "text": [
            "--2023-12-11 21:50:43--  https://raw.githubusercontent.com/gt-cse-6040/bootcamp/main/Module%200/Session%2011/Colab%20Support%20Files/active_users.pickle\n",
            "Resolving raw.githubusercontent.com (raw.githubusercontent.com)... 185.199.108.133, 185.199.109.133, 185.199.110.133, ...\n",
            "Connecting to raw.githubusercontent.com (raw.githubusercontent.com)|185.199.108.133|:443... connected.\n",
            "HTTP request sent, awaiting response... 200 OK\n",
            "Length: 404627 (395K) [application/octet-stream]\n",
            "Saving to: ‘active_users.pickle’\n",
            "\n",
            "\ractive_users.pickle   0%[                    ]       0  --.-KB/s               \ractive_users.pickle 100%[===================>] 395.14K  --.-KB/s    in 0.05s   \n",
            "\n",
            "2023-12-11 21:50:43 (8.06 MB/s) - ‘active_users.pickle’ saved [404627/404627]\n",
            "\n",
            "--2023-12-11 21:50:43--  https://raw.githubusercontent.com/gt-cse-6040/bootcamp/main/Module%200/Session%2011/Colab%20Support%20Files/cc_visit_counts.pickle\n",
            "Resolving raw.githubusercontent.com (raw.githubusercontent.com)... 185.199.108.133, 185.199.109.133, 185.199.110.133, ...\n",
            "Connecting to raw.githubusercontent.com (raw.githubusercontent.com)|185.199.108.133|:443... connected.\n",
            "HTTP request sent, awaiting response... 200 OK\n",
            "Length: 1954 (1.9K) [application/octet-stream]\n",
            "Saving to: ‘cc_visit_counts.pickle’\n",
            "\n",
            "cc_visit_counts.pic 100%[===================>]   1.91K  --.-KB/s    in 0s      \n",
            "\n",
            "2023-12-11 21:50:43 (25.1 MB/s) - ‘cc_visit_counts.pickle’ saved [1954/1954]\n",
            "\n",
            "--2023-12-11 21:50:43--  https://raw.githubusercontent.com/gt-cse-6040/bootcamp/main/Module%200/Session%2011/Colab%20Support%20Files/checkins2.pickle\n",
            "Resolving raw.githubusercontent.com (raw.githubusercontent.com)... 185.199.108.133, 185.199.109.133, 185.199.110.133, ...\n",
            "Connecting to raw.githubusercontent.com (raw.githubusercontent.com)|185.199.108.133|:443... connected.\n",
            "HTTP request sent, awaiting response... 200 OK\n",
            "Length: 23756407 (23M) [application/octet-stream]\n",
            "Saving to: ‘checkins2.pickle’\n",
            "\n",
            "checkins2.pickle    100%[===================>]  22.66M   150MB/s    in 0.2s    \n",
            "\n",
            "2023-12-11 21:50:43 (150 MB/s) - ‘checkins2.pickle’ saved [23756407/23756407]\n",
            "\n",
            "--2023-12-11 21:50:43--  https://raw.githubusercontent.com/gt-cse-6040/bootcamp/main/Module%200/Session%2011/Colab%20Support%20Files/cities.pickle\n",
            "Resolving raw.githubusercontent.com (raw.githubusercontent.com)... 185.199.108.133, 185.199.111.133, 185.199.109.133, ...\n",
            "Connecting to raw.githubusercontent.com (raw.githubusercontent.com)|185.199.108.133|:443... connected.\n",
            "HTTP request sent, awaiting response... 200 OK\n",
            "Length: 23984 (23K) [application/octet-stream]\n",
            "Saving to: ‘cities.pickle’\n",
            "\n",
            "cities.pickle       100%[===================>]  23.42K  --.-KB/s    in 0.002s  \n",
            "\n",
            "2023-12-11 21:50:43 (14.0 MB/s) - ‘cities.pickle’ saved [23984/23984]\n",
            "\n",
            "--2023-12-11 21:50:43--  https://raw.githubusercontent.com/gt-cse-6040/bootcamp/main/Module%200/Session%2011/Colab%20Support%20Files/connection_vectors.pickle\n",
            "Resolving raw.githubusercontent.com (raw.githubusercontent.com)... 185.199.108.133, 185.199.110.133, 185.199.111.133, ...\n",
            "Connecting to raw.githubusercontent.com (raw.githubusercontent.com)|185.199.108.133|:443... connected.\n",
            "HTTP request sent, awaiting response... 200 OK\n",
            "Length: 6885585 (6.6M) [application/octet-stream]\n",
            "Saving to: ‘connection_vectors.pickle’\n",
            "\n",
            "connection_vectors. 100%[===================>]   6.57M  --.-KB/s    in 0.1s    \n",
            "\n",
            "2023-12-11 21:50:44 (68.7 MB/s) - ‘connection_vectors.pickle’ saved [6885585/6885585]\n",
            "\n",
            "--2023-12-11 21:50:44--  https://raw.githubusercontent.com/gt-cse-6040/bootcamp/main/Module%200/Session%2011/Colab%20Support%20Files/connections.pickle\n",
            "Resolving raw.githubusercontent.com (raw.githubusercontent.com)... 185.199.108.133, 185.199.109.133, 185.199.110.133, ...\n",
            "Connecting to raw.githubusercontent.com (raw.githubusercontent.com)|185.199.108.133|:443... connected.\n",
            "HTTP request sent, awaiting response... 200 OK\n",
            "Length: 7084309 (6.8M) [application/octet-stream]\n",
            "Saving to: ‘connections.pickle’\n",
            "\n",
            "connections.pickle  100%[===================>]   6.76M  --.-KB/s    in 0.09s   \n",
            "\n",
            "2023-12-11 21:50:44 (74.8 MB/s) - ‘connections.pickle’ saved [7084309/7084309]\n",
            "\n",
            "--2023-12-11 21:50:44--  https://raw.githubusercontent.com/gt-cse-6040/bootcamp/main/Module%200/Session%2011/Colab%20Support%20Files/filtered_pois.pickle\n",
            "Resolving raw.githubusercontent.com (raw.githubusercontent.com)... 185.199.108.133, 185.199.109.133, 185.199.110.133, ...\n",
            "Connecting to raw.githubusercontent.com (raw.githubusercontent.com)|185.199.108.133|:443... connected.\n",
            "HTTP request sent, awaiting response... 200 OK\n",
            "Length: 6152386 (5.9M) [application/octet-stream]\n",
            "Saving to: ‘filtered_pois.pickle’\n",
            "\n",
            "filtered_pois.pickl 100%[===================>]   5.87M  --.-KB/s    in 0.09s   \n",
            "\n",
            "2023-12-11 21:50:44 (64.9 MB/s) - ‘filtered_pois.pickle’ saved [6152386/6152386]\n",
            "\n",
            "--2023-12-11 21:50:44--  https://raw.githubusercontent.com/gt-cse-6040/bootcamp/main/Module%200/Session%2011/Colab%20Support%20Files/food_and_drink_types.pickle\n",
            "Resolving raw.githubusercontent.com (raw.githubusercontent.com)... 185.199.111.133, 185.199.108.133, 185.199.110.133, ...\n",
            "Connecting to raw.githubusercontent.com (raw.githubusercontent.com)|185.199.111.133|:443... connected.\n",
            "HTTP request sent, awaiting response... 200 OK\n",
            "Length: 1587 (1.5K) [application/octet-stream]\n",
            "Saving to: ‘food_and_drink_types.pickle’\n",
            "\n",
            "food_and_drink_type 100%[===================>]   1.55K  --.-KB/s    in 0s      \n",
            "\n",
            "2023-12-11 21:50:44 (29.0 MB/s) - ‘food_and_drink_types.pickle’ saved [1587/1587]\n",
            "\n",
            "--2023-12-11 21:50:44--  https://raw.githubusercontent.com/gt-cse-6040/bootcamp/main/Module%200/Session%2011/Colab%20Support%20Files/pois2.pickle\n",
            "Resolving raw.githubusercontent.com (raw.githubusercontent.com)... 185.199.108.133, 185.199.109.133, 185.199.110.133, ...\n",
            "Connecting to raw.githubusercontent.com (raw.githubusercontent.com)|185.199.108.133|:443... connected.\n",
            "HTTP request sent, awaiting response... 200 OK\n",
            "Length: 23442242 (22M) [application/octet-stream]\n",
            "Saving to: ‘pois2.pickle’\n",
            "\n",
            "pois2.pickle        100%[===================>]  22.36M   107MB/s    in 0.2s    \n",
            "\n",
            "2023-12-11 21:50:44 (107 MB/s) - ‘pois2.pickle’ saved [23442242/23442242]\n",
            "\n",
            "--2023-12-11 21:50:44--  https://raw.githubusercontent.com/gt-cse-6040/bootcamp/main/Module%200/Session%2011/Colab%20Support%20Files/sims.pickle\n",
            "Resolving raw.githubusercontent.com (raw.githubusercontent.com)... 185.199.109.133, 185.199.108.133, 185.199.111.133, ...\n",
            "Connecting to raw.githubusercontent.com (raw.githubusercontent.com)|185.199.109.133|:443... connected.\n",
            "HTTP request sent, awaiting response... 200 OK\n",
            "Length: 1474810 (1.4M) [application/octet-stream]\n",
            "Saving to: ‘sims.pickle’\n",
            "\n",
            "sims.pickle         100%[===================>]   1.41M  --.-KB/s    in 0.07s   \n",
            "\n",
            "2023-12-11 21:50:45 (21.3 MB/s) - ‘sims.pickle’ saved [1474810/1474810]\n",
            "\n",
            "--2023-12-11 21:50:45--  https://raw.githubusercontent.com/gt-cse-6040/bootcamp/main/Module%200/Session%2011/Colab%20Support%20Files/visit_vectors.pickle\n",
            "Resolving raw.githubusercontent.com (raw.githubusercontent.com)... 185.199.108.133, 185.199.109.133, 185.199.110.133, ...\n",
            "Connecting to raw.githubusercontent.com (raw.githubusercontent.com)|185.199.108.133|:443... connected.\n",
            "HTTP request sent, awaiting response... 200 OK\n",
            "Length: 1361573 (1.3M) [application/octet-stream]\n",
            "Saving to: ‘visit_vectors.pickle’\n",
            "\n",
            "visit_vectors.pickl 100%[===================>]   1.30M  --.-KB/s    in 0.07s   \n",
            "\n",
            "2023-12-11 21:50:45 (19.6 MB/s) - ‘visit_vectors.pickle’ saved [1361573/1361573]\n",
            "\n",
            "--2023-12-11 21:50:45--  https://raw.githubusercontent.com/gt-cse-6040/bootcamp/main/Module%200/Session%2011/Colab%20Support%20Files/tc_2\n",
            "Resolving raw.githubusercontent.com (raw.githubusercontent.com)... 185.199.108.133, 185.199.111.133, 185.199.110.133, ...\n",
            "Connecting to raw.githubusercontent.com (raw.githubusercontent.com)|185.199.108.133|:443... connected.\n",
            "HTTP request sent, awaiting response... 200 OK\n",
            "Length: 99428 (97K) [text/plain]\n",
            "Saving to: ‘tc_2’\n",
            "\n",
            "tc_2                100%[===================>]  97.10K  --.-KB/s    in 0.03s   \n",
            "\n",
            "2023-12-11 21:50:45 (3.20 MB/s) - ‘tc_2’ saved [99428/99428]\n",
            "\n",
            "--2023-12-11 21:50:45--  https://raw.githubusercontent.com/gt-cse-6040/bootcamp/main/Module%200/Session%2011/Colab%20Support%20Files/tc_8\n",
            "Resolving raw.githubusercontent.com (raw.githubusercontent.com)... 185.199.111.133, 185.199.109.133, 185.199.110.133, ...\n",
            "Connecting to raw.githubusercontent.com (raw.githubusercontent.com)|185.199.111.133|:443... connected.\n",
            "HTTP request sent, awaiting response... 200 OK\n",
            "Length: 15268 (15K) [text/plain]\n",
            "Saving to: ‘tc_8’\n",
            "\n",
            "tc_8                100%[===================>]  14.91K  --.-KB/s    in 0.001s  \n",
            "\n",
            "2023-12-11 21:50:45 (12.1 MB/s) - ‘tc_8’ saved [15268/15268]\n",
            "\n",
            "--2023-12-11 21:50:45--  https://raw.githubusercontent.com/gt-cse-6040/bootcamp/main/Module%200/Session%2011/Colab%20Support%20Files/tc_9\n",
            "Resolving raw.githubusercontent.com (raw.githubusercontent.com)... 185.199.110.133, 185.199.109.133, 185.199.108.133, ...\n",
            "Connecting to raw.githubusercontent.com (raw.githubusercontent.com)|185.199.110.133|:443... connected.\n",
            "HTTP request sent, awaiting response... 200 OK\n",
            "Length: 18852 (18K) [text/plain]\n",
            "Saving to: ‘tc_9’\n",
            "\n",
            "tc_9                100%[===================>]  18.41K  --.-KB/s    in 0s      \n",
            "\n",
            "2023-12-11 21:50:45 (89.8 MB/s) - ‘tc_9’ saved [18852/18852]\n",
            "\n",
            "/content/tester_fw\n",
            "--2023-12-11 21:50:45--  https://raw.githubusercontent.com/gt-cse-6040/bootcamp/main/Module%200/Session%2011/Colab%20Support%20Files/tester_fw/__init__.py\n",
            "Resolving raw.githubusercontent.com (raw.githubusercontent.com)... 185.199.111.133, 185.199.108.133, 185.199.110.133, ...\n",
            "Connecting to raw.githubusercontent.com (raw.githubusercontent.com)|185.199.111.133|:443... connected.\n",
            "HTTP request sent, awaiting response... 200 OK\n",
            "Length: 4701 (4.6K) [text/plain]\n",
            "Saving to: ‘__init__.py’\n",
            "\n",
            "__init__.py         100%[===================>]   4.59K  --.-KB/s    in 0s      \n",
            "\n",
            "2023-12-11 21:50:46 (41.8 MB/s) - ‘__init__.py’ saved [4701/4701]\n",
            "\n",
            "--2023-12-11 21:50:46--  https://raw.githubusercontent.com/gt-cse-6040/bootcamp/main/Module%200/Session%2011/Colab%20Support%20Files/tester_fw/test_utils.py\n",
            "Resolving raw.githubusercontent.com (raw.githubusercontent.com)... 185.199.108.133, 185.199.109.133, 185.199.110.133, ...\n",
            "Connecting to raw.githubusercontent.com (raw.githubusercontent.com)|185.199.108.133|:443... connected.\n",
            "HTTP request sent, awaiting response... 200 OK\n",
            "Length: 3997 (3.9K) [text/plain]\n",
            "Saving to: ‘test_utils.py’\n",
            "\n",
            "test_utils.py       100%[===================>]   3.90K  --.-KB/s    in 0s      \n",
            "\n",
            "2023-12-11 21:50:46 (55.6 MB/s) - ‘test_utils.py’ saved [3997/3997]\n",
            "\n",
            "--2023-12-11 21:50:46--  https://raw.githubusercontent.com/gt-cse-6040/bootcamp/main/Module%200/Session%2011/Colab%20Support%20Files/tester_fw/testers.py\n",
            "Resolving raw.githubusercontent.com (raw.githubusercontent.com)... 185.199.108.133, 185.199.109.133, 185.199.110.133, ...\n",
            "Connecting to raw.githubusercontent.com (raw.githubusercontent.com)|185.199.108.133|:443... connected.\n",
            "HTTP request sent, awaiting response... 200 OK\n",
            "Length: 4468 (4.4K) [text/plain]\n",
            "Saving to: ‘testers.py’\n",
            "\n",
            "testers.py          100%[===================>]   4.36K  --.-KB/s    in 0s      \n",
            "\n",
            "2023-12-11 21:50:46 (34.3 MB/s) - ‘testers.py’ saved [4468/4468]\n",
            "\n",
            "/content\n"
          ]
        }
      ],
      "source": [
        "# # import files\n",
        "!wget https://raw.githubusercontent.com/gt-cse-6040/bootcamp/main/Module%200/Session%2011/Colab%20Support%20Files/active_users.pickle\n",
        "!wget https://raw.githubusercontent.com/gt-cse-6040/bootcamp/main/Module%200/Session%2011/Colab%20Support%20Files/cc_visit_counts.pickle\n",
        "!wget https://raw.githubusercontent.com/gt-cse-6040/bootcamp/main/Module%200/Session%2011/Colab%20Support%20Files/checkins2.pickle\n",
        "!wget https://raw.githubusercontent.com/gt-cse-6040/bootcamp/main/Module%200/Session%2011/Colab%20Support%20Files/cities.pickle\n",
        "!wget https://raw.githubusercontent.com/gt-cse-6040/bootcamp/main/Module%200/Session%2011/Colab%20Support%20Files/connection_vectors.pickle\n",
        "!wget https://raw.githubusercontent.com/gt-cse-6040/bootcamp/main/Module%200/Session%2011/Colab%20Support%20Files/connections.pickle\n",
        "!wget https://raw.githubusercontent.com/gt-cse-6040/bootcamp/main/Module%200/Session%2011/Colab%20Support%20Files/filtered_pois.pickle\n",
        "!wget https://raw.githubusercontent.com/gt-cse-6040/bootcamp/main/Module%200/Session%2011/Colab%20Support%20Files/food_and_drink_types.pickle\n",
        "!wget https://raw.githubusercontent.com/gt-cse-6040/bootcamp/main/Module%200/Session%2011/Colab%20Support%20Files/pois2.pickle\n",
        "!wget https://raw.githubusercontent.com/gt-cse-6040/bootcamp/main/Module%200/Session%2011/Colab%20Support%20Files/sims.pickle\n",
        "!wget https://raw.githubusercontent.com/gt-cse-6040/bootcamp/main/Module%200/Session%2011/Colab%20Support%20Files/visit_vectors.pickle\n",
        "!wget https://raw.githubusercontent.com/gt-cse-6040/bootcamp/main/Module%200/Session%2011/Colab%20Support%20Files/tc_2\n",
        "!wget https://raw.githubusercontent.com/gt-cse-6040/bootcamp/main/Module%200/Session%2011/Colab%20Support%20Files/tc_8\n",
        "!wget https://raw.githubusercontent.com/gt-cse-6040/bootcamp/main/Module%200/Session%2011/Colab%20Support%20Files/tc_9\n",
        "\n",
        "!mkdir tester_fw\n",
        "%cd tester_fw\n",
        "\n",
        "!wget https://raw.githubusercontent.com/gt-cse-6040/bootcamp/main/Module%200/Session%2011/Colab%20Support%20Files/tester_fw/__init__.py\n",
        "!wget https://raw.githubusercontent.com/gt-cse-6040/bootcamp/main/Module%200/Session%2011/Colab%20Support%20Files/tester_fw/test_utils.py\n",
        "!wget https://raw.githubusercontent.com/gt-cse-6040/bootcamp/main/Module%200/Session%2011/Colab%20Support%20Files/tester_fw/testers.py\n",
        "\n",
        "%cd .."
      ]
    },
    {
      "cell_type": "markdown",
      "id": "0868b29f",
      "metadata": {
        "nbgrader": {
          "grade": false,
          "locked": true,
          "solution": false
        },
        "id": "0868b29f"
      },
      "source": [
        "# Part A: Points-of-interest and cities #\n",
        "\n",
        "The first part of the dataset consists of **points-of-interest** or **POIs**. A POI is a place that a person can visit.\n",
        "\n",
        "Run this code cell to load the dataset of POIs."
      ]
    },
    {
      "cell_type": "code",
      "execution_count": null,
      "id": "e5040c19",
      "metadata": {
        "nbgrader": {
          "grade": false,
          "locked": true,
          "solution": false
        },
        "id": "e5040c19",
        "colab": {
          "base_uri": "https://localhost:8080/"
        },
        "outputId": "c5daeb4f-66f3-4f78-be8a-e92328c3494e"
      },
      "outputs": [
        {
          "output_type": "stream",
          "name": "stdout",
          "text": [
            "[2023-12-11 19:41:43.565702] Loading points-of-interest (POIs) [pois2.pickle] ...\n",
            "[2023-12-11 19:41:44.253283] ... done!\n",
            "\n",
            "This data has 350,000 entries.\n"
          ]
        }
      ],
      "source": [
        "pois = load_database('pois2.pickle',\n",
        "                     tag=\"points-of-interest (POIs)\")"
      ]
    },
    {
      "cell_type": "markdown",
      "id": "4d0c86c5",
      "metadata": {
        "nbgrader": {
          "grade": false,
          "locked": true,
          "solution": false
        },
        "id": "4d0c86c5"
      },
      "source": [
        "There are over half-a-million POIs. Each one is stored as a key-value pair where\n",
        "- the key is the **POI's ID**; and\n",
        "- the value holds the **POI's attributes**, stored as another Python dictionary.\n",
        "\n",
        "In the sample above, there are three POIs, each one with four attributes.\n",
        "- **`'country_code'`**: A two-letter country code indicating in which country the POI is located. In this example, one is in Brazil (`'BR'`) and two in Turkey (`'TR'`).\n",
        "- **`'lat'` and `'long'`**: The latitude and longitude coordinates of the POI.\n",
        "- **`'type'`**: The type of POI. We see three types in this example: a `'University'`, a `'Automotive Shop'`, and a `'Turkish Restaurant'`."
      ]
    },
    {
      "cell_type": "code",
      "execution_count": null,
      "id": "2c06b6de",
      "metadata": {
        "nbgrader": {
          "grade": false,
          "locked": true,
          "solution": false
        },
        "id": "2c06b6de",
        "colab": {
          "base_uri": "https://localhost:8080/"
        },
        "outputId": "325ec0bd-4ede-4abb-b3a6-1f0f931745cd"
      },
      "outputs": [
        {
          "output_type": "stream",
          "name": "stdout",
          "text": [
            "[2023-12-11 19:41:44.267036] Loading [food_and_drink_types.pickle] ...\n",
            "[2023-12-11 19:41:44.268023] ... done!\n",
            "\n",
            "This data has 81 entries.\n",
            "\n",
            "There are 81 types that match the food and drink keywords. They are:\n",
            "{'African Restaurant', 'Beer Garden', 'Dumpling Restaurant', 'South American Restaurant', 'Australian Restaurant', 'Coffee Shop', 'Vegetarian / Vegan Restaurant', 'American Restaurant', 'Molecular Gastronomy Restaurant', 'Fast Food Restaurant', 'Food Truck', 'Gay Bar', 'Mexican Restaurant', 'Peruvian Restaurant', 'Dive Bar', 'Caribbean Restaurant', 'Hotel Bar', 'Southern / Soul Food Restaurant', 'Swiss Restaurant', 'Greek Restaurant', 'Portuguese Restaurant', 'Falafel Restaurant', 'Tapas Restaurant', 'Internet Cafe', 'Scandinavian Restaurant', 'Indonesian Restaurant', 'Whisky Bar', 'Apres Ski Bar', 'Food & Drink Shop', 'Afghan Restaurant', 'Gaming Cafe', 'Japanese Restaurant', 'Thai Restaurant', 'Cafe', 'Argentinian Restaurant', 'Middle Eastern Restaurant', 'Latin American Restaurant', 'Spanish Restaurant', 'Moroccan Restaurant', 'Sake Bar', 'Vietnamese Restaurant', 'Korean Restaurant', 'Health Food Store', 'Sushi Restaurant', 'Hookah Bar', 'Sports Bar', 'Brazilian Restaurant', 'Indian Restaurant', 'Tea Room', 'Malaysian Restaurant', 'Arepa Restaurant', 'Airport Food Court', 'Dim Sum Restaurant', 'Karaoke Bar', 'Chinese Restaurant', 'German Restaurant', 'Paella Restaurant', 'Food', 'Asian Restaurant', 'Turkish Restaurant', 'Italian Restaurant', 'Wine Bar', 'New American Restaurant', 'Filipino Restaurant', 'Bar', 'Restaurant', 'Cocktail Bar', 'Mediterranean Restaurant', 'Brewery', 'Mongolian Restaurant', 'Ethiopian Restaurant', 'Cuban Restaurant', 'French Restaurant', 'Gluten-free Restaurant', 'Seafood Restaurant', 'Wine Shop', 'Food Court', 'Piano Bar', 'Eastern European Restaurant', 'Juice Bar', 'Cajun / Creole Restaurant'}\n"
          ]
        }
      ],
      "source": [
        "food_and_drink_types = load_database('food_and_drink_types.pickle')\n",
        "print(f\"\\nThere are {len(food_and_drink_types):,} types that match the food and drink keywords. They are:\")\n",
        "print(food_and_drink_types)"
      ]
    },
    {
      "cell_type": "markdown",
      "id": "199b1013",
      "metadata": {
        "nbgrader": {
          "grade": false,
          "locked": true,
          "solution": false
        },
        "id": "199b1013"
      },
      "source": [
        "# Part B: Cities #\n",
        "\n",
        "A second component of the dataset is a collection of **city records**. Run the following cell to load it."
      ]
    },
    {
      "cell_type": "code",
      "execution_count": null,
      "id": "0c7f58be",
      "metadata": {
        "nbgrader": {
          "grade": false,
          "locked": true,
          "solution": false
        },
        "id": "0c7f58be",
        "colab": {
          "base_uri": "https://localhost:8080/"
        },
        "outputId": "986d5130-864c-472e-a76b-3960fd3aebd6"
      },
      "outputs": [
        {
          "output_type": "stream",
          "name": "stdout",
          "text": [
            "[2023-12-11 19:41:44.282393] Loading cities [cities.pickle] ...\n",
            "[2023-12-11 19:41:44.284646] ... done!\n",
            "\n",
            "This data has 415 entries.\n",
            "\n",
            "Here is a sample:\n",
            "\n",
            "{'Beijing, China': {'country_code': 'CN',\n",
            "                    'lat': 39.906189,\n",
            "                    'long': 116.388037,\n",
            "                    'type': 'National and provincial capital'},\n",
            " 'Hartford, United States': {'country_code': 'US',\n",
            "                             'lat': 41.76,\n",
            "                             'long': -72.702999,\n",
            "                             'type': 'Provincial capital'},\n",
            " 'Stockholm, Sweden': {'country_code': 'SE',\n",
            "                       'lat': 59.331168,\n",
            "                       'long': 17.991451,\n",
            "                       'type': 'National and provincial capital'}}\n"
          ]
        }
      ],
      "source": [
        "cities = load_database('cities.pickle',\n",
        "                       tag=\"cities\",\n",
        "                       sample = [\"Beijing, China\", \"Hartford, United States\", \"Stockholm, Sweden\"])"
      ]
    },
    {
      "cell_type": "markdown",
      "id": "ffe01395",
      "metadata": {
        "nbgrader": {
          "grade": false,
          "locked": true,
          "solution": false
        },
        "id": "ffe01395"
      },
      "source": [
        "Each city record is a key-value pair. The key is the **city name**, and the value is a dictionary of **city attributes**. The attributes are a two-letter country code, the latitude and longitude coordinates of the city center, and the type of city.\n",
        "\n",
        "In this example, there are three cities: `'Beijing, China'`, `'Hartford, United States'`, and `'Stockholm, Sweden'`."
      ]
    },
    {
      "cell_type": "markdown",
      "id": "552798e9",
      "metadata": {
        "nbgrader": {
          "grade": false,
          "locked": true,
          "solution": false
        },
        "id": "552798e9"
      },
      "source": [
        "**Important!** Both the POIs and the cities are dictionaries of dictionaries, where in both cases the _outer_ dictionary's key-value pairs define a record, and the inner dictionaries have the keys, `'country_code'`, `'lat'`, `'long'`, and `'type'`."
      ]
    },
    {
      "cell_type": "markdown",
      "id": "88714235",
      "metadata": {
        "nbgrader": {
          "grade": false,
          "locked": true,
          "solution": false
        },
        "tags": [
          "exercise_text"
        ],
        "id": "88714235"
      },
      "source": [
        "## Exercise 2 (**3** points): `proximity_join` ##\n",
        "\n",
        "POI records only have lat-long coordinates. To make their locations more user-friendly, let's associate each POI with its closest city in the same country.\n",
        "\n",
        "Implement the function,\n",
        "```python\n",
        "def proxmity_join(pois, cities):\n",
        "    ...\n",
        "```\n",
        "to help accomplish this task, following the requirements below.\n",
        "\n",
        "**Inputs:**\n",
        "\n",
        "- `pois`: POIs, stored in a Python dictionary of dictionaries, mapping POI IDs keys to attribute values (like Exercise 1)\n",
        "- `cities`: City records, stored in a Python dictionary of dictionaries, mapping city names to attribute values (like Exercise 1)\n",
        "\n",
        "You may assume that the inner dictionaries of both have the same four keys: `'country_code'`, `'lat'`, `'long'`, and `'type'`.\n",
        "\n",
        "**Task:** For each POI record, determine which city is _closest_ to it. The closest city must be in the same country (the `'country_code'` values must match).\n",
        "\n",
        "To measure distance, use the _squared Euclidean distance_. That is, if a POI record has the lat-long coordinates $(h_p, v_p)$, and a city record has the lat-long coordinates $(h_c, v_c)$, then their squared Euclidean distance is\n",
        "\n",
        "$$(h_p - h_c)^2 + (v_p - v_c)^2.$$\n",
        "\n",
        "**Outputs:** Your function should return a **new Python dictionary of dictionaries**. The outer dictionary's keys should be the same POI IDs. The inner dictionary should have exactly two keys: `'type'`, which is the **POI type** (not the _city type_), and `'city'`, which is the name of the closest city. See the demo below.\n",
        "\n",
        "**Notes and hints:**\n",
        "1. Recall that the IEEE floating-point standard defines a special value that corresponds with infinity. This value is available in Python as `math.inf`, and it may be a helpful initializer as you search for the closest city to a given POI.\n",
        "2. We have provided a function, `dd_distance_squared`, that will compute the squared Euclidean distance given the attributes of a POI and the attributes of a city."
      ]
    },
    {
      "cell_type": "code",
      "execution_count": null,
      "id": "cd13732e",
      "metadata": {
        "nbgrader": {
          "grade": false,
          "locked": true,
          "solution": false
        },
        "tags": [
          "demo_data"
        ],
        "id": "cd13732e"
      },
      "outputs": [],
      "source": [
        "### DEMO INPUTS ###\n",
        "demo_pois_ex2 = \\\n",
        "    {'abc': {'country_code': 'US', 'lat': -5.2, 'long': 2.0, 'type': 'Restaurant'},\n",
        "     'def': {'country_code': 'US', 'lat': -2.3, 'long': 6.8, 'type': 'Golf Course'},\n",
        "     'ghi': {'country_code': 'PL', 'lat': 1.0, 'long': 6.5, 'type': 'Apartment'},\n",
        "     'jkl': {'country_code': 'VN', 'lat': 11.0, 'long': 1.5, 'type': 'Post Office'}}\n",
        "\n",
        "demo_cities_ex2 = \\\n",
        "    {'Seattle, United States': {'country_code': 'US', 'lat': -5.0, 'long': 3.0, 'type': 'Other'},\n",
        "     'Richmond, United States': {'country_code': 'US', 'lat': -2.0, 'long': 7.0, 'type': 'Other'},\n",
        "     'Hanoi, Vietnam': {'country_code': 'VN', 'lat': 10.0, 'long': 2.0, 'type': 'National and provincial capital'},\n",
        "     'Curitiba, Brazil': {'country_code': 'BR', 'lat': 0.0, 'long': 6.0, 'type': 'Provincial capital'}}"
      ]
    },
    {
      "cell_type": "markdown",
      "id": "af57f2ba",
      "metadata": {
        "nbgrader": {
          "grade": false,
          "locked": true,
          "solution": false
        },
        "tags": [
          "demo_output_md"
        ],
        "id": "af57f2ba"
      },
      "source": [
        "<!-- Expected demo output text block -->\n",
        "The demo included in the solution cell below should display the following output:\n",
        "```\n",
        "{'abc': {'type': 'Restaurant', 'city': 'Seattle, United States'},\n",
        " 'def': {'type': 'Golf Course', 'city': 'Richmond, United States'},\n",
        " 'jkl': {'type': 'Post Office', 'city': 'Hanoi, Vietnam'}}\n",
        " ```\n",
        "<!-- Include any shout outs here -->\n",
        "\n",
        "Observe that the POI `'ghi'` does **not** appear in the output. That's because its country code, `'PL'`, does not match any country code of any city."
      ]
    },
    {
      "cell_type": "code",
      "execution_count": null,
      "id": "63e51cb6",
      "metadata": {
        "tags": [
          "exercise_solution"
        ],
        "id": "63e51cb6",
        "colab": {
          "base_uri": "https://localhost:8080/"
        },
        "outputId": "e8a8d55c-28c2-4b68-85f9-0c9c8d7ecf6c"
      },
      "outputs": [
        {
          "output_type": "execute_result",
          "data": {
            "text/plain": [
              "{'abc': {'type': 'Restaurant', 'city': 'Curitiba, Brazil'},\n",
              " 'def': {'type': 'Golf Course', 'city': 'Curitiba, Brazil'},\n",
              " 'ghi': {'type': 'Apartment', 'city': 'Curitiba, Brazil'},\n",
              " 'jkl': {'type': 'Post Office', 'city': 'Curitiba, Brazil'}}"
            ]
          },
          "metadata": {},
          "execution_count": 10
        }
      ],
      "source": [
        "#from _typeshed import IdentityFunction\n",
        "### Exercise 2 solution\n",
        "\n",
        "def proximity_join(pois, cities):\n",
        "    '''\n",
        "    GOAL:\n",
        "    -For each POI record, determine which city is closest to it.\n",
        "    -Measure squared Euclidean distance using function 'dd_distance_squared' provided.\n",
        "    -Return a new Python dictionary of dictionaries. The outer dictionary's keys should be the same POI IDs.\n",
        "    The inner dictionary should have exactly two keys: 'type', which is the POI type (not the city type), and 'city', which is the name of the closest city.\n",
        "\n",
        "    INPUT:\n",
        "    2 inputs:\n",
        "    pois: POIs, stored in a Python dictionary of dictionaries, mapping POI IDs keys to attribute values\n",
        "    cities: City records, stored in a Python dictionary of dictionaries, mapping city names to attribute values\n",
        "\n",
        "    STRATEGY:\n",
        "    1. Create empty dictionary to hold POI: {type: '', city: ''}. Let's call this 'closest_city_dict'\n",
        "    2. Initialize some sort of giant distance to compare our euclidean distances to (infinity based on the hint above).\n",
        "    3. Iterate over each poi in 'pois'\n",
        "    4. Grab type from its nested dictionary and store as a variable.\n",
        "    5. Iterate over each city in 'cities'\n",
        "    6. Calculate the squared Euclidean distance. Use handy function 'dd_distance_squared' provided below.\n",
        "    7. If distance is less than euclidean distance thus far, update 'closest_city_dict' info for that poi.\n",
        "    8. Return 'closest_city_dict'\n",
        "    '''\n",
        "\n",
        "    # SOLUTION:\n",
        "    from math import inf\n",
        "    closest_city_dict = {}\n",
        "\n",
        "    euclid_dist = inf\n",
        "\n",
        "    for poi in pois:\n",
        "      poi_nested_dict = pois[poi]\n",
        "      poi_type = poi_nested_dict['type']\n",
        "      for city in cities:\n",
        "        city_nested_dict = cities[city]\n",
        "        calc_euclid_dist = dd_distance_squared(poi_nested_dict, city_nested_dict)\n",
        "        if calc_euclid_dist < euclid_dist:\n",
        "          closest_city_dict[poi] = {'type': poi_type, 'city': city}\n",
        "\n",
        "    return closest_city_dict\n",
        "\n",
        "\n",
        "# Handy function to calculate the distance between one POI and one city:\n",
        "def dd_distance_squared(poi_attr, city_attr):\n",
        "    p_lat, p_long = poi_attr['lat'], poi_attr['long']\n",
        "    c_lat, c_long = city_attr['lat'], city_attr['long']\n",
        "    return (p_lat - c_lat)**2 + (p_long - c_long)**2\n",
        "\n",
        "### demo function call\n",
        "proximity_join(demo_pois_ex2, demo_cities_ex2)"
      ]
    },
    {
      "cell_type": "markdown",
      "id": "f7a55899",
      "metadata": {
        "nbgrader": {
          "grade": false,
          "locked": true,
          "solution": false
        },
        "tags": [
          "test_data_boilerplate"
        ],
        "id": "f7a55899"
      },
      "source": [
        "<!-- Test Cell Boilerplate -->\n",
        "The cell below will test your solution for Exercise 2. The testing variables will be available for debugging under the following names in a dictionary format.\n",
        "- `input_vars` - Input variables for your solution.\n",
        "- `original_input_vars` - Copy of input variables from prior to running your solution. These _should_ be the same as `input_vars` - otherwise the inputs were modified by your solution.\n",
        "- `returned_output_vars` - Outputs returned by your solution.\n",
        "- `true_output_vars` - The expected output. This _should_ \"match\" `returned_output_vars` based on the question requirements - otherwise, your solution is not returning the correct output."
      ]
    },
    {
      "cell_type": "code",
      "execution_count": null,
      "id": "d5624a27",
      "metadata": {
        "nbgrader": {
          "grade": true,
          "grade_id": "ex2",
          "locked": true,
          "points": "3",
          "solution": false
        },
        "tags": [],
        "id": "d5624a27",
        "colab": {
          "base_uri": "https://localhost:8080/",
          "height": 477
        },
        "outputId": "0ae2508f-e7c8-44c9-ebe0-5461f05e1c53"
      },
      "outputs": [
        {
          "output_type": "error",
          "ename": "AssertionError",
          "evalue": "ignored",
          "traceback": [
            "\u001b[0;31m---------------------------------------------------------------------------\u001b[0m",
            "\u001b[0;31mAssertionError\u001b[0m                            Traceback (most recent call last)",
            "\u001b[0;32m<ipython-input-11-9d5d6b6eefe4>\u001b[0m in \u001b[0;36m<cell line: 31>\u001b[0;34m()\u001b[0m\n\u001b[1;32m     31\u001b[0m \u001b[0;32mfor\u001b[0m \u001b[0m_\u001b[0m \u001b[0;32min\u001b[0m \u001b[0mrange\u001b[0m\u001b[0;34m(\u001b[0m\u001b[0;36m70\u001b[0m\u001b[0;34m)\u001b[0m\u001b[0;34m:\u001b[0m\u001b[0;34m\u001b[0m\u001b[0;34m\u001b[0m\u001b[0m\n\u001b[1;32m     32\u001b[0m     \u001b[0;32mtry\u001b[0m\u001b[0;34m:\u001b[0m\u001b[0;34m\u001b[0m\u001b[0;34m\u001b[0m\u001b[0m\n\u001b[0;32m---> 33\u001b[0;31m         \u001b[0mtester\u001b[0m\u001b[0;34m.\u001b[0m\u001b[0mrun_test\u001b[0m\u001b[0;34m(\u001b[0m\u001b[0;34m)\u001b[0m\u001b[0;34m\u001b[0m\u001b[0;34m\u001b[0m\u001b[0m\n\u001b[0m\u001b[1;32m     34\u001b[0m         \u001b[0;34m(\u001b[0m\u001b[0minput_vars\u001b[0m\u001b[0;34m,\u001b[0m \u001b[0moriginal_input_vars\u001b[0m\u001b[0;34m,\u001b[0m \u001b[0mreturned_output_vars\u001b[0m\u001b[0;34m,\u001b[0m \u001b[0mtrue_output_vars\u001b[0m\u001b[0;34m)\u001b[0m \u001b[0;34m=\u001b[0m \u001b[0mtester\u001b[0m\u001b[0;34m.\u001b[0m\u001b[0mget_test_vars\u001b[0m\u001b[0;34m(\u001b[0m\u001b[0;34m)\u001b[0m\u001b[0;34m\u001b[0m\u001b[0;34m\u001b[0m\u001b[0m\n\u001b[1;32m     35\u001b[0m     \u001b[0;32mexcept\u001b[0m\u001b[0;34m:\u001b[0m\u001b[0;34m\u001b[0m\u001b[0;34m\u001b[0m\u001b[0m\n",
            "\u001b[0;32m/content/tester_fw/testers.py\u001b[0m in \u001b[0;36mrun_test\u001b[0;34m(self, func)\u001b[0m\n\u001b[1;32m     39\u001b[0m \u001b[0;34m\u001b[0m\u001b[0m\n\u001b[1;32m     40\u001b[0m     \u001b[0;32mdef\u001b[0m \u001b[0mrun_test\u001b[0m\u001b[0;34m(\u001b[0m\u001b[0mself\u001b[0m\u001b[0;34m,\u001b[0m \u001b[0mfunc\u001b[0m\u001b[0;34m=\u001b[0m\u001b[0;32mNone\u001b[0m\u001b[0;34m)\u001b[0m\u001b[0;34m:\u001b[0m\u001b[0;34m\u001b[0m\u001b[0;34m\u001b[0m\u001b[0m\n\u001b[0;32m---> 41\u001b[0;31m         \u001b[0;32mreturn\u001b[0m \u001b[0msuper\u001b[0m\u001b[0;34m(\u001b[0m\u001b[0;34m)\u001b[0m\u001b[0;34m.\u001b[0m\u001b[0mrun_test\u001b[0m\u001b[0;34m(\u001b[0m\u001b[0mself\u001b[0m\u001b[0;34m.\u001b[0m\u001b[0mfunc\u001b[0m\u001b[0;34m)\u001b[0m\u001b[0;34m\u001b[0m\u001b[0;34m\u001b[0m\u001b[0m\n\u001b[0m\u001b[1;32m     42\u001b[0m \u001b[0;34m\u001b[0m\u001b[0m\n\u001b[1;32m     43\u001b[0m     \u001b[0;32mdef\u001b[0m \u001b[0mbuild_vars\u001b[0m\u001b[0;34m(\u001b[0m\u001b[0mself\u001b[0m\u001b[0;34m)\u001b[0m\u001b[0;34m:\u001b[0m\u001b[0;34m\u001b[0m\u001b[0;34m\u001b[0m\u001b[0m\n",
            "\u001b[0;32m/content/tester_fw/__init__.py\u001b[0m in \u001b[0;36mrun_test\u001b[0;34m(self, func)\u001b[0m\n\u001b[1;32m     43\u001b[0m             \u001b[0mself\u001b[0m\u001b[0;34m.\u001b[0m\u001b[0mcheck_modified\u001b[0m\u001b[0;34m(\u001b[0m\u001b[0;34m)\u001b[0m    \u001b[0;31m# Check to verify inputs were not modified\u001b[0m\u001b[0;34m\u001b[0m\u001b[0;34m\u001b[0m\u001b[0m\n\u001b[1;32m     44\u001b[0m         \u001b[0mself\u001b[0m\u001b[0;34m.\u001b[0m\u001b[0mcheck_type\u001b[0m\u001b[0;34m(\u001b[0m\u001b[0;34m)\u001b[0m        \u001b[0;31m# Check to verify correct output types\u001b[0m\u001b[0;34m\u001b[0m\u001b[0;34m\u001b[0m\u001b[0m\n\u001b[0;32m---> 45\u001b[0;31m         \u001b[0mself\u001b[0m\u001b[0;34m.\u001b[0m\u001b[0mcheck_matches\u001b[0m\u001b[0;34m(\u001b[0m\u001b[0;34m)\u001b[0m     \u001b[0;31m# Check to verify correct output\u001b[0m\u001b[0;34m\u001b[0m\u001b[0;34m\u001b[0m\u001b[0m\n\u001b[0m\u001b[1;32m     46\u001b[0m \u001b[0;34m\u001b[0m\u001b[0m\n\u001b[1;32m     47\u001b[0m \u001b[0;34m\u001b[0m\u001b[0m\n",
            "\u001b[0;32m/content/tester_fw/testers.py\u001b[0m in \u001b[0;36mcheck_matches\u001b[0;34m(self)\u001b[0m\n\u001b[1;32m     80\u001b[0m         \u001b[0;32mfor\u001b[0m \u001b[0mout_key\u001b[0m\u001b[0;34m,\u001b[0m \u001b[0mout_dict\u001b[0m \u001b[0;32min\u001b[0m \u001b[0mself\u001b[0m\u001b[0;34m.\u001b[0m\u001b[0mconf_outputs\u001b[0m\u001b[0;34m.\u001b[0m\u001b[0mitems\u001b[0m\u001b[0;34m(\u001b[0m\u001b[0;34m)\u001b[0m\u001b[0;34m:\u001b[0m\u001b[0;34m\u001b[0m\u001b[0;34m\u001b[0m\u001b[0m\n\u001b[1;32m     81\u001b[0m             \u001b[0mtest_var\u001b[0m \u001b[0;34m=\u001b[0m \u001b[0mself\u001b[0m\u001b[0;34m.\u001b[0m\u001b[0mreturned_output_vars\u001b[0m\u001b[0;34m[\u001b[0m\u001b[0mout_key\u001b[0m\u001b[0;34m]\u001b[0m\u001b[0;34m\u001b[0m\u001b[0;34m\u001b[0m\u001b[0m\n\u001b[0;32m---> 82\u001b[0;31m             assert test_utils.compare_copies(a=test_var,\n\u001b[0m\u001b[1;32m     83\u001b[0m                                             \u001b[0mb\u001b[0m\u001b[0;34m=\u001b[0m\u001b[0mself\u001b[0m\u001b[0;34m.\u001b[0m\u001b[0mtrue_output_vars\u001b[0m\u001b[0;34m[\u001b[0m\u001b[0mout_key\u001b[0m\u001b[0;34m]\u001b[0m\u001b[0;34m,\u001b[0m\u001b[0;34m\u001b[0m\u001b[0;34m\u001b[0m\u001b[0m\n\u001b[1;32m     84\u001b[0m                                             \u001b[0mtol\u001b[0m\u001b[0;34m=\u001b[0m\u001b[0mout_dict\u001b[0m\u001b[0;34m[\u001b[0m\u001b[0;34m'float_tolerance'\u001b[0m\u001b[0;34m]\u001b[0m\u001b[0;34m,\u001b[0m\u001b[0;34m\u001b[0m\u001b[0;34m\u001b[0m\u001b[0m\n",
            "\u001b[0;31mAssertionError\u001b[0m: \nOutput for output_0 is incorrect.\nThe returned result is available as `returned_output_vars['output_0']`\nThe expected result is available as `true_output_vars['output_0']`\n            "
          ]
        }
      ],
      "source": [
        "### test_cell_ex2\n",
        "from tester_fw.testers import Tester\n",
        "\n",
        "conf = {\n",
        "    'case_file':'tc_2',\n",
        "    'func': proximity_join, # replace this with the function defined above\n",
        "    'inputs':{ # input config dict. keys are parameter names\n",
        "        'pois':{\n",
        "            'dtype':'dict', # data type of param.\n",
        "            'check_modified':True,\n",
        "        },\n",
        "        'cities':{\n",
        "            'dtype':'dict',\n",
        "            'check_modified':True,\n",
        "        },\n",
        "    },\n",
        "    'outputs':{\n",
        "        'output_0':{\n",
        "            'index':0,\n",
        "            'dtype':'dict',\n",
        "            'check_dtype': True,\n",
        "            'check_col_dtypes': True, # Ignored if dtype is not df\n",
        "            'check_col_order': True, # Ignored if dtype is not df\n",
        "            'check_row_order': True, # Ignored if dtype is not df\n",
        "            'check_column_type': True, # Ignored if dtype is not df\n",
        "            'float_tolerance': 10 ** (-6)\n",
        "        }\n",
        "    }\n",
        "}\n",
        "tester = Tester(conf, key=b'1ZePXzAcTR7lcNpmx1HRK0lT3v-Ikrg8mZ3n-wVFTBo=', path='')\n",
        "for _ in range(70):\n",
        "    try:\n",
        "        tester.run_test()\n",
        "        (input_vars, original_input_vars, returned_output_vars, true_output_vars) = tester.get_test_vars()\n",
        "    except:\n",
        "        (input_vars, original_input_vars, returned_output_vars, true_output_vars) = tester.get_test_vars()\n",
        "        raise\n",
        "\n",
        "print('Passed! Please submit.')"
      ]
    },
    {
      "cell_type": "markdown",
      "id": "3e2f91a3",
      "metadata": {
        "nbgrader": {
          "grade": false,
          "locked": true,
          "solution": false
        },
        "id": "3e2f91a3"
      },
      "source": [
        "# Part C: Check-ins #\n",
        "\n",
        "The next part of the dataset consists of **check-in records**. Run the cell below to load this data."
      ]
    },
    {
      "cell_type": "code",
      "execution_count": null,
      "id": "0dba36ba",
      "metadata": {
        "nbgrader": {
          "grade": false,
          "locked": true,
          "solution": false
        },
        "id": "0dba36ba",
        "colab": {
          "base_uri": "https://localhost:8080/"
        },
        "outputId": "dc7c8341-f1ac-4397-d2d0-649f1a9e8c0e"
      },
      "outputs": [
        {
          "output_type": "stream",
          "name": "stdout",
          "text": [
            "[2023-12-11 19:42:03.759418] Loading check-in records [checkins2.pickle] ...\n",
            "[2023-12-11 19:42:04.227397] ... done!\n",
            "\n",
            "This data has 75,000 entries.\n",
            "\n",
            "Here is a sample:\n",
            "\n",
            "{119352: [{'date': 'Sat Apr 07 21:37:04 +0000 2012',\n",
            "           'poi': '4b8e7128f964a520e02233e3'},\n",
            "          {'date': 'Wed May 09 01:07:21 +0000 2012',\n",
            "           'poi': '40e0b100f964a5206b061fe3'}],\n",
            " 677020: [{'date': 'Sat Jul 14 05:42:40 +0000 2012',\n",
            "           'poi': '4c4eb3bfc1f5ef3b4a1e46ab'},\n",
            "          {'date': 'Sun Jun 17 16:57:38 +0000 2012',\n",
            "           'poi': '4e465895483b03d090de4bd3'}],\n",
            " 728580: [{'date': 'Sun May 13 02:17:54 +0000 2012',\n",
            "           'poi': '4bbcfcde593fef3b0ce90256'}]}\n"
          ]
        }
      ],
      "source": [
        "checkins = load_database('checkins2.pickle',\n",
        "                         tag=\"check-in records\",\n",
        "                         sample=[119_352, 677_020, 728_580])"
      ]
    },
    {
      "cell_type": "markdown",
      "id": "b2653036",
      "metadata": {
        "nbgrader": {
          "grade": false,
          "locked": true,
          "solution": false
        },
        "id": "b2653036"
      },
      "source": [
        "Each _check-in record_ (or just _check-in_) is a key-value pair, where\n",
        "- the key is a **user** ID, an _integer_; and\n",
        "- the value is a _Python list_ of one or more **visits**.\n",
        "\n",
        "Each **visit** is itself a Python dictionary with two key-value pairs:\n",
        "- `'poi'`: The POI that the user visited, represented by its string ID.\n",
        "- `'date'`: The date of that visit, stored as a string.\n",
        "\n",
        "In the preceding example, there are three users, `119352`, `677020`, and `728580`. They each visited four, seven, and one POI, respectively. User `728580` visited the one POI on Sunday, May 13, 2012. A user can visit the same POI on different dates; for example, user `119352` made two visits to POI `4ab4edf1f964a520ad7120e3`, once on April 16 and again on April 23."
      ]
    },
    {
      "cell_type": "code",
      "execution_count": null,
      "id": "c85b3c2b",
      "metadata": {
        "nbgrader": {
          "grade": false,
          "locked": true,
          "solution": false
        },
        "id": "c85b3c2b"
      },
      "outputs": [],
      "source": [
        "cc_visit_counts = load_database('cc_visit_counts.pickle')\n",
        "top_ccs_by_visits = sorted(cc_visit_counts, key=lambda e: e[1], reverse=True)[:10]\n",
        "print(\"\\nThe top 10 countries by recorded visit counts:\")\n",
        "for k, (cc, nn) in enumerate(top_ccs_by_visits):\n",
        "    print(f\"{' ' if k < 9 else ''}{k+1:d}. {cc}: {nn:,} visits\")"
      ]
    },
    {
      "cell_type": "code",
      "execution_count": null,
      "id": "79f714b9",
      "metadata": {
        "nbgrader": {
          "grade": false,
          "locked": true,
          "solution": false
        },
        "id": "79f714b9",
        "colab": {
          "base_uri": "https://localhost:8080/"
        },
        "outputId": "f0b73195-7c61-468f-f5df-5a54bc7d52b0"
      },
      "outputs": [
        {
          "output_type": "stream",
          "name": "stdout",
          "text": [
            "[2023-12-11 19:42:06.784340] Loading [filtered_pois.pickle] ...\n",
            "[2023-12-11 19:42:06.863972] ... done!\n",
            "\n",
            "This data has 92,072 entries.\n",
            "\n",
            "There are 92,072 POI records (down from 350,000 originally).\n",
            "Top countries by visit: [('US', 202675), ('BR', 106584), ('ID', 97188), ('TR', 80930), ('JP', 59560), ('MY', 54957), ('RU', 47355), ('MX', 43340), ('TH', 33918), ('CL', 33149)]\n",
            "A sample of filtered POIs (by top countries and food/drink types):\n"
          ]
        },
        {
          "output_type": "stream",
          "name": "stderr",
          "text": [
            "<ipython-input-4-df46b2d2a2dc>:68: DeprecationWarning: Sampling from a set deprecated\n",
            "since Python 3.9 and will be removed in a subsequent version.\n",
            "  keys = sample(d.keys(), min(k, len(list(d.keys()))))\n"
          ]
        },
        {
          "output_type": "execute_result",
          "data": {
            "text/plain": [
              "{'4f802792e4b0d99659704b29': {'lat': 3.04606,\n",
              "  'long': 101.759881,\n",
              "  'type': 'Indian Restaurant',\n",
              "  'country_code': 'MY'},\n",
              " '4c94de7e58d4b60cb8802c29': {'lat': 2.211753,\n",
              "  'long': 102.238016,\n",
              "  'type': 'Restaurant',\n",
              "  'country_code': 'MY'},\n",
              " '4b1104bcf964a5207e7723e3': {'lat': 3.16042,\n",
              "  'long': 101.574301,\n",
              "  'type': 'Fast Food Restaurant',\n",
              "  'country_code': 'MY'},\n",
              " '4e29d762aeb745b1fab1d363': {'lat': 42.953487,\n",
              "  'long': -88.007687,\n",
              "  'type': 'Fast Food Restaurant',\n",
              "  'country_code': 'US'},\n",
              " '4f0ed680e4b0a8783eb38057': {'lat': -7.996859,\n",
              "  'long': 112.632689,\n",
              "  'type': 'Middle Eastern Restaurant',\n",
              "  'country_code': 'ID'}}"
            ]
          },
          "metadata": {},
          "execution_count": 14
        }
      ],
      "source": [
        "filtered_pois = load_database('filtered_pois.pickle')\n",
        "print(f\"\\nThere are {len(filtered_pois):,} POI records (down from {len(pois):,} originally).\")\n",
        "print(f\"Top countries by visit: {top_ccs_by_visits}\")\n",
        "print(\"A sample of filtered POIs (by top countries and food/drink types):\")\n",
        "sample_dict(filtered_pois, 5)"
      ]
    },
    {
      "cell_type": "markdown",
      "id": "3b57feb8",
      "metadata": {
        "nbgrader": {
          "grade": false,
          "locked": true,
          "solution": false
        },
        "id": "3b57feb8"
      },
      "source": [
        "# Part E: Connections #\n",
        "\n",
        "The last part of the dataset is the collection of **follower connections**. Run the cell below to load these data:"
      ]
    },
    {
      "cell_type": "code",
      "execution_count": null,
      "id": "50b60336",
      "metadata": {
        "nbgrader": {
          "grade": false,
          "locked": true,
          "solution": false
        },
        "id": "50b60336",
        "colab": {
          "base_uri": "https://localhost:8080/"
        },
        "outputId": "e0cdada2-c721-4d6c-be3c-8963df7af902"
      },
      "outputs": [
        {
          "output_type": "stream",
          "name": "stdout",
          "text": [
            "[2023-12-11 19:42:09.233925] Loading [connections.pickle] ...\n",
            "[2023-12-11 19:42:09.359088] ... done!\n",
            "\n",
            "This data has 607,333 entries.\n",
            "\n",
            "There are 607,333 connections (nonsymmetric).\n",
            "For instance, here are user 54's connections:\n"
          ]
        },
        {
          "output_type": "execute_result",
          "data": {
            "text/plain": [
              "[(54, 528),\n",
              " (54, 1668),\n",
              " (54, 20369),\n",
              " (54, 29643),\n",
              " (54, 39628),\n",
              " (54, 43467),\n",
              " (54, 47439),\n",
              " (54, 88203),\n",
              " (54, 116696),\n",
              " (54, 132245),\n",
              " (54, 1012859)]"
            ]
          },
          "metadata": {},
          "execution_count": 15
        }
      ],
      "source": [
        "connections = load_database('connections.pickle')\n",
        "print(f\"\\nThere are {len(connections):,} connections (nonsymmetric).\")\n",
        "print(f\"For instance, here are user 54's connections:\")\n",
        "[x for x in connections if x[0] == 54]"
      ]
    },
    {
      "cell_type": "markdown",
      "id": "38505cc5",
      "metadata": {
        "nbgrader": {
          "grade": false,
          "locked": true,
          "solution": false
        },
        "id": "38505cc5"
      },
      "source": [
        "The connections are stored as a Python list of pairs of user IDs. The example above shows people that user 54 is connected to on some social media site.\n",
        "\n",
        "**Important caveat:** The connections are stored nonsymmetrically. That is, while the pair `(54, 528)` appears, user `54` happens to not appear in the connections list of `528`:"
      ]
    },
    {
      "cell_type": "code",
      "execution_count": null,
      "id": "9d23a531",
      "metadata": {
        "nbgrader": {
          "grade": false,
          "locked": true,
          "solution": false
        },
        "id": "9d23a531",
        "colab": {
          "base_uri": "https://localhost:8080/"
        },
        "outputId": "cf8b4c50-94c9-46ce-ed11-b7099848600b"
      },
      "outputs": [
        {
          "output_type": "execute_result",
          "data": {
            "text/plain": [
              "[(528, 4811),\n",
              " (528, 7199),\n",
              " (528, 10146),\n",
              " (528, 19943),\n",
              " (528, 22199),\n",
              " (528, 24572),\n",
              " (528, 31236),\n",
              " (528, 35561),\n",
              " (528, 42995),\n",
              " (528, 44337),\n",
              " (528, 47439),\n",
              " (528, 51869),\n",
              " (528, 52838),\n",
              " (528, 54747),\n",
              " (528, 67602),\n",
              " (528, 70190),\n",
              " (528, 75594),\n",
              " (528, 77404),\n",
              " (528, 89753),\n",
              " (528, 97959),\n",
              " (528, 114113),\n",
              " (528, 159646),\n",
              " (528, 245258),\n",
              " (528, 324029),\n",
              " (528, 485974),\n",
              " (528, 1458506),\n",
              " (528, 1711459)]"
            ]
          },
          "metadata": {},
          "execution_count": 16
        }
      ],
      "source": [
        "[x for x in connections if x[0] == 528]"
      ]
    },
    {
      "cell_type": "markdown",
      "id": "7ace6758",
      "metadata": {
        "nbgrader": {
          "grade": false,
          "locked": true,
          "solution": false
        },
        "id": "7ace6758"
      },
      "source": [
        "This choice was made by the people who generated the data to save space. However, for our analysis, we will assume that if a pair `(a, b)` exists, it implies that **both** `a` is connected to `b` **and** `b` is connected to `a`."
      ]
    },
    {
      "cell_type": "code",
      "execution_count": null,
      "id": "843055ae",
      "metadata": {
        "nbgrader": {
          "grade": false,
          "locked": true,
          "solution": false
        },
        "id": "843055ae",
        "colab": {
          "base_uri": "https://localhost:8080/"
        },
        "outputId": "9a7f2571-6a31-4bef-ab9e-1928e20448fa"
      },
      "outputs": [
        {
          "output_type": "stream",
          "name": "stdout",
          "text": [
            "[2023-12-11 19:42:13.780707] Loading [active_users.pickle] ...\n",
            "[2023-12-11 19:42:13.796727] ... done!\n",
            "\n",
            "This data has 82,792 entries.\n",
            "\n",
            "There are 82,792 active users.\n",
            "Here are a few of them: 1310720 786436 786439 524295 2097164 ...\n"
          ]
        }
      ],
      "source": [
        "active_users = load_database('active_users.pickle')\n",
        "print(f\"\\nThere are {len(active_users):,} active users.\")\n",
        "print(\"Here are a few of them:\", *list(active_users)[:5], \"...\")"
      ]
    },
    {
      "cell_type": "code",
      "execution_count": null,
      "id": "ff50a3f1",
      "metadata": {
        "nbgrader": {
          "grade": false,
          "locked": true,
          "solution": false
        },
        "id": "ff50a3f1",
        "colab": {
          "base_uri": "https://localhost:8080/"
        },
        "outputId": "7d621624-7be0-4eee-fae7-cd8c2c8c85d0"
      },
      "outputs": [
        {
          "output_type": "stream",
          "name": "stdout",
          "text": [
            "[2023-12-11 19:42:15.218543] Loading [connection_vectors.pickle] ...\n",
            "[2023-12-11 19:42:15.750254] ... done!\n",
            "\n",
            "This data has 114,324 entries.\n",
            "\n",
            "There are 114,324 connection vectors.\n",
            "Here are a few of them:\n"
          ]
        },
        {
          "output_type": "stream",
          "name": "stderr",
          "text": [
            "<ipython-input-4-df46b2d2a2dc>:68: DeprecationWarning: Sampling from a set deprecated\n",
            "since Python 3.9 and will be removed in a subsequent version.\n",
            "  keys = sample(d.keys(), min(k, len(list(d.keys()))))\n"
          ]
        },
        {
          "output_type": "execute_result",
          "data": {
            "text/plain": [
              "{299782: {10266,\n",
              "  48246,\n",
              "  64501,\n",
              "  69311,\n",
              "  80741,\n",
              "  119318,\n",
              "  231005,\n",
              "  319105,\n",
              "  324365,\n",
              "  326215,\n",
              "  401116},\n",
              " 1871353: {321160, 1126233, 1849814, 2039390},\n",
              " 766230: {20109,\n",
              "  273422,\n",
              "  375966,\n",
              "  501098,\n",
              "  541616,\n",
              "  591875,\n",
              "  698041,\n",
              "  1317845,\n",
              "  1370560}}"
            ]
          },
          "metadata": {},
          "execution_count": 18
        }
      ],
      "source": [
        "connection_vectors = load_database('connection_vectors.pickle')\n",
        "print(f\"\\nThere are {len(connection_vectors):,} connection vectors.\")\n",
        "print(\"Here are a few of them:\")\n",
        "sample_dict(connection_vectors, 3)"
      ]
    },
    {
      "cell_type": "markdown",
      "id": "f5554bef",
      "metadata": {
        "nbgrader": {
          "grade": false,
          "locked": true,
          "solution": false
        },
        "id": "f5554bef"
      },
      "source": [
        "# Part F: Similarity #\n",
        "\n",
        "To measure the \"friend potential\" of two users, we need a way to measure whether they have anything in common. Let's measure similarity based on whether two users visit the same places.\n",
        "\n",
        "**Visit vectors.** Consider a hypothetical check-in record for user `123`:\n",
        "```python\n",
        "{ ...,\n",
        "    123: [{'poi': 'abc', 'date:' 'Mon May 07...'},\n",
        "          {'poi': 'def', 'date:' 'Fri May 25...'},\n",
        "          {'poi': 'abc', 'date': 'Thu May 17...'},\n",
        "          {'poi': 'abc', 'date': 'Sun Apr 15...'},\n",
        "          {'poi': 'xyz', 'date': 'Wed Apr 11...'}\n",
        "         ],\n",
        "}\n",
        "```\n",
        "This user visited `'abc'` three times and `'def'` and `'xyz'` once each.\n",
        "\n",
        "Define the **visit vector** for this user to be the distinct POIs that they visited. In this instance, the visit vector of `123` would be the set:\n",
        "```python\n",
        "{'abc', 'def', 'xyz'}\n",
        "```\n",
        "\n",
        "Next, define the **similarity** of two users to be the number of POIs they have in common. For instance, for these two visit vectors,\n",
        "```python\n",
        "v = {'abc', 'def', 'xyz'}\n",
        "w = {'abc', 'xyz', 'lmn'}\n",
        "```\n",
        "the similarity equals 2, since visit vectors `v` and `w` share `abc` and `xyz` in common.\n",
        "\n",
        "In the next two exercises, you'll calculate similarities for the full dataset."
      ]
    },
    {
      "cell_type": "code",
      "execution_count": null,
      "id": "0b6cf1c7",
      "metadata": {
        "nbgrader": {
          "grade": false,
          "locked": true,
          "solution": false
        },
        "id": "0b6cf1c7",
        "colab": {
          "base_uri": "https://localhost:8080/"
        },
        "outputId": "d5d71948-1584-494d-9b28-c06ce9387ffd"
      },
      "outputs": [
        {
          "output_type": "stream",
          "name": "stdout",
          "text": [
            "[2023-12-11 19:42:17.467548] Loading [visit_vectors.pickle] ...\n",
            "[2023-12-11 19:42:17.493034] ... done!\n",
            "\n",
            "This data has 27,865 entries.\n",
            "\n",
            "There are 27,865 visit vectors.\n",
            "Here are a few of them:\n"
          ]
        },
        {
          "output_type": "stream",
          "name": "stderr",
          "text": [
            "<ipython-input-4-df46b2d2a2dc>:68: DeprecationWarning: Sampling from a set deprecated\n",
            "since Python 3.9 and will be removed in a subsequent version.\n",
            "  keys = sample(d.keys(), min(k, len(list(d.keys()))))\n"
          ]
        },
        {
          "output_type": "execute_result",
          "data": {
            "text/plain": [
              "{102219: {'4c6d82d96af58cfaf3af8917'},\n",
              " 564650: {'4e11126cd1647a0fff7e1f2f', '4e96e59e8b811f0c6666ab62'},\n",
              " 330175: {'4ad7dafef964a520830f21e3'}}"
            ]
          },
          "metadata": {},
          "execution_count": 19
        }
      ],
      "source": [
        "visit_vectors = load_database('visit_vectors.pickle')\n",
        "print(f\"\\nThere are {len(visit_vectors):,} visit vectors.\")\n",
        "print(\"Here are a few of them:\")\n",
        "sample_dict(visit_vectors, 3)"
      ]
    },
    {
      "cell_type": "markdown",
      "id": "699a09ef",
      "metadata": {
        "nbgrader": {
          "grade": false,
          "locked": true,
          "solution": false
        },
        "tags": [
          "exercise_text"
        ],
        "id": "699a09ef"
      },
      "source": [
        "## Exercise 8 (**2** points): `calc_similarities` ##\n",
        "\n",
        "This exercise asks you to measure how similar connected users are to one another using connection vectors and visit vectors.\n",
        "\n",
        "**Similarity:** Recall that the similarity of two users is the number of common POIs between their visit vectors. For instance, if `v` and `w` are two visit vectors,\n",
        "```python\n",
        "v = {'abc', 'def', 'xyz'}\n",
        "w = {'abc', 'xyz', 'lmn'}\n",
        "```\n",
        "then their similiarity equals two, due to `'abc'` and `'xyz'` being common.\n",
        "\n",
        "Complete the function,\n",
        "```python\n",
        "def calc_similarities(visit_vectors, connection_vectors):\n",
        "    ...\n",
        "```\n",
        "so that it calculates similarities per the following requirements.\n",
        "\n",
        "**Inputs:**\n",
        "- `visit_vectors`: A dictionary of sets, where each key is a user and the value is the visit vector, that is, the set of POIs they visited.\n",
        "- `connection_vectors`: A dictionary of sets, where each key is a user and the value is the connections, that is, the set of users they are connected to.\n",
        "\n",
        "**Task:** For every pair `(u, v)` of _connected_ users `u` and `v`, measure their similarity. If either is missing a visit vector, then their similarity is 0.\n",
        "\n",
        "**Outputs:** Return a Python dictionary of tuples. The key is a user. The tuple should have these three components in this order:\n",
        "* Component 0: The length of the user's visit vector.\n",
        "* Component 1: The length of the user's connection vector (i.e., the number of their connections).\n",
        "* Component 2: The maximum similarity between the user and any of their connections.\n",
        "\n",
        "**Note:** You may assume the connections vectors are stored fully. That is, if `v` is in the connection vector of `u`, then `u` will be in the connection vector of `v`."
      ]
    },
    {
      "cell_type": "code",
      "execution_count": null,
      "id": "1e8f8de0",
      "metadata": {
        "nbgrader": {
          "grade": false,
          "locked": true,
          "solution": false
        },
        "tags": [
          "demo_data"
        ],
        "id": "1e8f8de0"
      },
      "outputs": [],
      "source": [
        "### Define demo inputs\n",
        "demo_connection_vectors_ex8 = \\\n",
        "{ 100: {101, 102, 103},\n",
        "  101: {104, 100, 103},\n",
        "  103: {101},\n",
        "  104: {107, 100, 101, 103},\n",
        "  105: {100},\n",
        "  106: {107, 103}}\n",
        "\n",
        "demo_visit_vectors_ex8 = \\\n",
        "{ 100: {'344274', 'e3832a'},\n",
        "  101: {'344274', 'e5495e', '9ae1fe', 'e3832a'},\n",
        "  102: {'e5495e'},\n",
        "  103: {'344274', '9ae1fe', 'e5495e', 'e3832a'},\n",
        "  105: {'344274'},\n",
        "  106: {'9ae1fe', 'e5495e', 'e3832a'},\n",
        "  107: {'e3832a'}}"
      ]
    },
    {
      "cell_type": "markdown",
      "id": "559f0267",
      "metadata": {
        "nbgrader": {
          "grade": false,
          "locked": true,
          "solution": false
        },
        "tags": [
          "demo_output_md"
        ],
        "id": "559f0267"
      },
      "source": [
        "<!-- Expected demo output text block -->\n",
        "A correct function should produce the following result:\n",
        "```\n",
        "{100: (2, 3, 2),\n",
        " 101: (4, 3, 4),\n",
        " 103: (4, 1, 4),\n",
        " 104: (0, 4, 0),\n",
        " 105: (1, 1, 1),\n",
        " 106: (3, 2, 3)}\n",
        "```\n",
        "<!-- Include any shout outs here -->\n",
        "Some quick observations:\n",
        "- This example has 8 possible user IDs (`100` through `107`).\n",
        "- Users `102` and `107` do not appear in the output because they are missing from `demo_connection_vectors_ex8`—there are no connection pairs to enumerate.\n",
        "- User `104` appears in the output. However, since it has no visits (does not appear in `demo_visit_vectors_ex8`, it has a maximum similarity of 0 with all of its neighbors."
      ]
    },
    {
      "cell_type": "code",
      "execution_count": null,
      "id": "2718eb8e",
      "metadata": {
        "tags": [
          "exercise_solution"
        ],
        "id": "2718eb8e",
        "colab": {
          "base_uri": "https://localhost:8080/"
        },
        "outputId": "0016b33a-706d-455c-f4df-00958a50f54c"
      },
      "outputs": [
        {
          "output_type": "stream",
          "name": "stdout",
          "text": [
            "{100: (2, 3, 2),\n",
            " 101: (4, 3, 4),\n",
            " 103: (4, 1, 4),\n",
            " 104: (4, 4, 4),\n",
            " 105: (1, 1, 1),\n",
            " 106: (3, 2, 3)}\n"
          ]
        }
      ],
      "source": [
        "### Exercise 8 solution\n",
        "def calc_similarities(visit_vectors, connection_vectors):\n",
        "    '''\n",
        "    GOAL:\n",
        "    For every pair (u, v) of connected users u and v, measure their similarity. If either is missing a visit vector, then their similarity is 0.\n",
        "    Return a Python dictionary of tuples. The key is a user. The tuple should have these three components in this order:\n",
        "    Component 0: The length of the user's visit vector.\n",
        "    Component 1: The length of the user's connection vector (i.e., the number of their connections).\n",
        "    Component 2: The maximum similarity between the user and any of their connections.\n",
        "\n",
        "    INPUT:\n",
        "    2 inputs -\n",
        "    visit_vectors: A dictionary of sets, where each key is a user and the value is the visit vector, that is, the set of POIs they visited.\n",
        "    connection_vectors: A dictionary of sets, where each key is a user and the value is the connections, that is, the set of users they are connected to.\n",
        "\n",
        "    STRATEGY:\n",
        "    1. Create an empty dictionary to hold our result (should look like {user1: (component0, component1, component2), user2: ...}). Call this 'components_dict'\n",
        "    2. Iterate over each user_id in 'connection_vectors' dictionary\n",
        "    3. Set variable 'component_1' = length of 'connection_vectors' value for that user_id (aka the length of the set)\n",
        "    4. If user_id in 'visit_vectors', set variable 'component_0' = length of 'visit_vectors' value for that user_id.\n",
        "    5. Create a variable called 'max_sim_score' to hold the max similarity between the user and their connections. Set it to 0.\n",
        "    6. Iterate over connection_user_id in nested 'connection_vectors' dictionary\n",
        "    7. For each connection_user_id, if it is in 'visit_vectors', calc similarity score (length of the intersection of the two sets)\n",
        "    8. If this value is bigger than 'max_sim_score', update 'max_sim_score' with new largest similarity score\n",
        "    9. After you've looped through all connections, you know the max score, so 'component_2' equals 'max_sim_score'\n",
        "    10. In 'components_dict' set user_id = tuple of 'component_0', 'component_1', 'component_2'\n",
        "    11. Return 'components_dict'\n",
        "    '''\n",
        "\n",
        "    # SOLUTION:\n",
        "    components_dict = {}\n",
        "\n",
        "    for user_id in connection_vectors:\n",
        "      component_1 = len(connection_vectors[user_id])\n",
        "\n",
        "      if user_id in visit_vectors:\n",
        "        component_0 = len(visit_vectors[user_id])\n",
        "\n",
        "      max_sim_score = 0\n",
        "      for connection_user_id in connection_vectors[user_id]:\n",
        "        if connection_user_id in visit_vectors and user_id in visit_vectors:\n",
        "          current_sim_score = len(visit_vectors[connection_user_id].intersection(visit_vectors[user_id]))\n",
        "          if current_sim_score > max_sim_score:\n",
        "            max_sim_score = current_sim_score\n",
        "      component_2 = current_sim_score\n",
        "      components_dict[user_id] = (component_2, component_1, component_0)\n",
        "\n",
        "    return components_dict\n",
        "\n",
        "\n",
        "### demo function call\n",
        "pprint(calc_similarities(demo_visit_vectors_ex8, demo_connection_vectors_ex8))"
      ]
    },
    {
      "cell_type": "markdown",
      "id": "36eb0fcf",
      "metadata": {
        "nbgrader": {
          "grade": false,
          "locked": true,
          "solution": false
        },
        "tags": [
          "test_data_boilerplate"
        ],
        "id": "36eb0fcf"
      },
      "source": [
        "<!-- Test Cell Boilerplate -->\n",
        "The cell below will test your solution for Exercise 7. The testing variables will be available for debugging under the following names in a dictionary format.\n",
        "- `input_vars` - Input variables for your solution.\n",
        "- `original_input_vars` - Copy of input variables from prior to running your solution. These _should_ be the same as `input_vars` - otherwise the inputs were modified by your solution.\n",
        "- `returned_output_vars` - Outputs returned by your solution.\n",
        "- `true_output_vars` - The expected output. This _should_ \"match\" `returned_output_vars` based on the question requirements - otherwise, your solution is not returning the correct output."
      ]
    },
    {
      "cell_type": "code",
      "execution_count": null,
      "id": "be234a32",
      "metadata": {
        "nbgrader": {
          "grade": true,
          "grade_id": "ex8",
          "locked": true,
          "points": "2",
          "solution": false
        },
        "tags": [],
        "id": "be234a32"
      },
      "outputs": [],
      "source": [
        "### test_cell_ex8\n",
        "from tester_fw.testers import Tester\n",
        "\n",
        "conf = {\n",
        "    'case_file':'tc_8',\n",
        "    'func': calc_similarities, # replace this with the function defined above\n",
        "    'inputs':{ # input config dict. keys are parameter names\n",
        "        'visit_vectors':{\n",
        "            'dtype':'dict', # data type of param.\n",
        "            'check_modified':True,\n",
        "        },\n",
        "        'connection_vectors':{\n",
        "            'dtype':'dict', # data type of param.\n",
        "            'check_modified':True,\n",
        "        },\n",
        "    },\n",
        "    'outputs':{\n",
        "        'output_0':{\n",
        "            'index':0,\n",
        "            'dtype':'dict',\n",
        "            'check_dtype': True,\n",
        "            'check_col_dtypes': True, # Ignored if dtype is not df\n",
        "            'check_col_order': True, # Ignored if dtype is not df\n",
        "            'check_row_order': True, # Ignored if dtype is not df\n",
        "            'check_column_type': True, # Ignored if dtype is not df\n",
        "            'float_tolerance': 10 ** (-6)\n",
        "        }\n",
        "    }\n",
        "}\n",
        "tester = Tester(conf, key=b'1ZePXzAcTR7lcNpmx1HRK0lT3v-Ikrg8mZ3n-wVFTBo=', path='')\n",
        "for _ in range(70):\n",
        "    try:\n",
        "        tester.run_test()\n",
        "        (input_vars, original_input_vars, returned_output_vars, true_output_vars) = tester.get_test_vars()\n",
        "    except:\n",
        "        (input_vars, original_input_vars, returned_output_vars, true_output_vars) = tester.get_test_vars()\n",
        "        raise\n",
        "\n",
        "print('Passed! Please submit.')"
      ]
    },
    {
      "cell_type": "markdown",
      "id": "ee7c8437",
      "metadata": {
        "nbgrader": {
          "grade": false,
          "locked": true,
          "solution": false
        },
        "id": "ee7c8437"
      },
      "source": [
        "**RUN ME: Similarity analysis:** If you had a correct solution, you could use it to calculate all similarity scores for all users. We have done just that for you.\n",
        "\n",
        "The code cell below plots the results. One conclusion is that a user's connections do not seem to reflect their interests, as assessed by check-ins behavior. _(In this analysis, recall that the only check-ins considered are those pertaining to food and drink, which is at least one kind of social interest.)_\n",
        "\n",
        "**Run this cell whether or not you completed Exercise 8** to see the results. It will create a plot for your edification."
      ]
    },
    {
      "cell_type": "code",
      "execution_count": null,
      "id": "c3866d64",
      "metadata": {
        "nbgrader": {
          "grade": false,
          "locked": true,
          "solution": false
        },
        "id": "c3866d64",
        "colab": {
          "base_uri": "https://localhost:8080/",
          "height": 646
        },
        "outputId": "0da1d40c-49fa-49b7-88cf-2bdeb67a6ba8"
      },
      "outputs": [
        {
          "output_type": "stream",
          "name": "stdout",
          "text": [
            "[2023-12-11 19:55:10.512996] Loading [sims.pickle] ...\n",
            "[2023-12-11 19:55:10.794755] ... done!\n",
            "\n",
            "This data has 114,324 entries.\n",
            "[(88.94472361809045, 0), (4.0201005025125625, 5), (4.522613065326634, 10), (1.0050251256281406, 15), (0.5025125628140703, 20), (0.5025125628140703, 25), (0.5025125628140703, 30), (0.0, 35), (0.0, 40), (0.0, 45), (0.0, 50), (0.0, 55), (0.0, 60), (0.0, 65), (0.0, 70), (0.0, 75), (0.0, 80), (0.0, 85), (0.0, 90), (0.0, 95)]\n"
          ]
        },
        {
          "output_type": "display_data",
          "data": {
            "text/plain": [
              "<Figure size 1000x562.5 with 1 Axes>"
            ],
            "image/png": "[encoded data removed]"
          },
          "metadata": {}
        }
      ],
      "source": [
        "sims = load_database('sims.pickle')\n",
        "\n",
        "def make_sims_histogram(sims=sims):\n",
        "    from numpy import histogram\n",
        "    VISITS_THRESHOLD = 5\n",
        "    CONNS_THRESHOLD = 5\n",
        "    percent_in_common = [common/total*100 for num_conns, total, common in sims.values()\n",
        "                         if total >= VISITS_THRESHOLD and num_conns >= CONNS_THRESHOLD]\n",
        "    counts_in_common, bins_in_common = histogram(percent_in_common, bins=list(range(0, 105, 5)))\n",
        "    print(list((c/len(percent_in_common)*100, b) for c, b in zip(counts_in_common, bins_in_common)))\n",
        "\n",
        "    from matplotlib.pyplot import figure, hist, title, xlabel, ylabel\n",
        "    figure(figsize=(10, 5.625))\n",
        "    hist(bins_in_common[:-1], bins_in_common,\n",
        "         weights=[c/len(percent_in_common)*100 for c in counts_in_common])\n",
        "    title(f'Check-ins similarity (for the {len(percent_in_common):,} users that have at least {VISITS_THRESHOLD:,} check-ins and {CONNS_THRESHOLD:,} connections.)',\n",
        "          loc='left')\n",
        "    xlabel('% of check-ins that overlap with connections')\n",
        "    ylabel('% of users', rotation=0, horizontalalignment='right')\n",
        "    pass\n",
        "\n",
        "make_sims_histogram()"
      ]
    },
    {
      "cell_type": "markdown",
      "id": "57b0c45c",
      "metadata": {
        "nbgrader": {
          "grade": false,
          "locked": true,
          "solution": false
        },
        "id": "57b0c45c"
      },
      "source": [
        "# Part G: Recommending new connections #\n",
        "\n",
        "The check-ins data allows us to do something interesting: we can try to suggest **new** connections based on similar visit behavior!"
      ]
    },
    {
      "cell_type": "markdown",
      "id": "2d60e17d",
      "metadata": {
        "nbgrader": {
          "grade": false,
          "locked": true,
          "solution": false
        },
        "tags": [
          "exercise_text"
        ],
        "id": "2d60e17d"
      },
      "source": [
        "## Exercise 9 (**3** points): `suggest_friends` ##\n",
        "\n",
        "Complete the function,\n",
        "```python\n",
        "def suggest_friends(user_id, visit_vectors, connection_vectors):\n",
        "    ...\n",
        "```\n",
        "so that it **suggests new friends** for a given user. Here are the requirements:\n",
        "\n",
        "**Inputs:**\n",
        "- `user_id`: A user ID, given as an integer.\n",
        "- `visit_vectors`: The collection of visit vectors for all users (see Part F, Exercise 7).\n",
        "- `connection_vectors`: The collection of connection vectors for all users (see Part E, Exercise 6).\n",
        "\n",
        "**Task:** Compare the visit vector for `user_id` against the visit vectors of all other users who have a visit vector but are **not** _already_ connected to that user. Return the top matches.\n",
        "\n",
        "**Outputs:** Return the top 3 most similar candidates as a Python list of pairs. The first element of the pair is the suggested user ID and the second is the similarity measure. The output must be sorted in _descending_ order from most matches to fewest matches. Break ties using the user ID in _ascending_ order. If there are fewer than 3 matches, return them all.\n",
        "\n",
        "**Notes:**\n",
        "1. If user `user_id` does not have a visit vector, return an empty list.\n",
        "2. The top \"matches\" (excluding existing connections) might have a similarity score of 0."
      ]
    },
    {
      "cell_type": "code",
      "execution_count": null,
      "id": "ccf6c3de",
      "metadata": {
        "nbgrader": {
          "grade": false,
          "locked": true,
          "solution": false
        },
        "tags": [
          "demo_data"
        ],
        "id": "ccf6c3de"
      },
      "outputs": [],
      "source": [
        "### Define demo inputs\n",
        "demo_user_id_ex9 = 101\n",
        "\n",
        "demo_visit_vectors_ex9 = \\\n",
        "{100: {'e3832a', '344274'},\n",
        " 101: {'9ae1fe', 'e3832a', 'e5495e', '344274'},\n",
        " 102: {'e5495e'},\n",
        " 103: {'e5495e', 'e3832a', '9ae1fe', '344274'},\n",
        " 105: {'344274'},\n",
        " 106: {'e5495e', 'e3832a', '9ae1fe'},\n",
        " 107: {'e3832a'}}\n",
        "\n",
        "demo_connection_vectors_ex9 = { \\\n",
        "  100: {101, 102, 103},\n",
        "  101: {104, 100, 103},\n",
        "  103: {101},\n",
        "  104: {107, 100, 101, 103},\n",
        "  105: {100},\n",
        "  106: {107, 103}}"
      ]
    },
    {
      "cell_type": "markdown",
      "id": "8d809f28",
      "metadata": {
        "nbgrader": {
          "grade": false,
          "locked": true,
          "solution": false
        },
        "tags": [
          "demo_output_md"
        ],
        "id": "8d809f28"
      },
      "source": [
        "<!-- Expected demo output text block -->\n",
        "A correct implementation should produce the following result on the demo inputs above:\n",
        "```\n",
        "[(106, 3), (102, 1), (105, 1)]\n",
        "```\n",
        "<!-- Include any shout outs here -->"
      ]
    },
    {
      "cell_type": "code",
      "execution_count": null,
      "id": "2cae91c4",
      "metadata": {
        "tags": [
          "exercise_solution"
        ],
        "id": "2cae91c4",
        "colab": {
          "base_uri": "https://localhost:8080/"
        },
        "outputId": "4c7ff68d-060a-420f-df5d-0fbb3b637e4e"
      },
      "outputs": [
        {
          "output_type": "stream",
          "name": "stdout",
          "text": [
            "[(101, 4), (106, 3), (102, 1)]\n"
          ]
        }
      ],
      "source": [
        "### Exercise 9 solution\n",
        "def suggest_friends(user_id, visit_vectors, connection_vectors):\n",
        "    '''\n",
        "    GOAL:\n",
        "    Compare the visit vector for user_id against the visit vectors of all other users who have a visit vector but are not already connected to that user.\n",
        "    Return the top 3 most similar candidates as a Python list of pairs. The first element of the pair is the suggested user ID and the second is the similarity measure.\n",
        "    The output must be sorted in descending order from most matches to fewest matches. Break ties using the user ID in ascending order.\n",
        "    If there are fewer than 3 matches, return them all.\n",
        "    If user_id does not have a visit vector, return an empty list.\n",
        "    The top \"matches\" (excluding existing connections) might have a similarity score of 0.\n",
        "\n",
        "    INPUT:\n",
        "    user_id: A user ID, given as an integer\n",
        "    visit_vectors: The collection of visit vectors for all users\n",
        "    connection_vectors: The collection of connection vectors for all users\n",
        "\n",
        "    STRATEGY:\n",
        "    1. Create an empty list to hold the suggested friend pairs. Let's call this 'suggestion_list'\n",
        "    2. Grab the dictionary of visits for our input user_id from 'visit_vectors'. Store dictionary in a variable called 'visits'\n",
        "    3. If the user_id is in 'connection_vectors', store the dictionary value in a variable called 'already_friends'\n",
        "    4. Iterate over potential_friends in 'visit_vectors'\n",
        "    5. If 'potential_friend' is not already in 'already_friends' then it means we should compute its similarity score\n",
        "    6. Compute similarity score between our user's visit vector 'visits' and the 'potential_friend' visit vector\n",
        "    7. Append potential_friend user id and similarity score as a pair to our 'suggestion_list'\n",
        "    8. After adding all potential friends, sort suggestion_list in descending order by second pair value (similarity score). Break ties using ascending order of potential friend's user id\n",
        "    9. Return first three tuples in 'suggestion_list'\n",
        "    '''\n",
        "\n",
        "    # SOLUTION:\n",
        "    suggestion_list = []\n",
        "\n",
        "    visits = visit_vectors[user_id]\n",
        "    if user_id in connection_vectors:\n",
        "      already_friends = connection_vectors[user_id]\n",
        "      for potential_friend in visit_vectors:\n",
        "        if potential_friend not in already_friends:\n",
        "          similarity_score = len(visits.intersection(visit_vectors[potential_friend]))\n",
        "          suggestion_list.append((potential_friend, similarity_score))\n",
        "\n",
        "      suggestion_list.sort(key=lambda s: (-s[1], s[0]))\n",
        "\n",
        "    return suggestion_list[:3]\n",
        "\n",
        "\n",
        "### demo function call\n",
        "pprint(suggest_friends(demo_user_id_ex9, demo_visit_vectors_ex9, demo_connection_vectors_ex9))"
      ]
    },
    {
      "cell_type": "markdown",
      "id": "a314c548",
      "metadata": {
        "nbgrader": {
          "grade": false,
          "locked": true,
          "solution": false
        },
        "tags": [
          "test_data_boilerplate"
        ],
        "id": "a314c548"
      },
      "source": [
        "<!-- Test Cell Boilerplate -->\n",
        "The cell below will test your solution for Exercise 9. The testing variables will be available for debugging under the following names in a dictionary format.\n",
        "- `input_vars` - Input variables for your solution.\n",
        "- `original_input_vars` - Copy of input variables from prior to running your solution. These _should_ be the same as `input_vars` - otherwise the inputs were modified by your solution.\n",
        "- `returned_output_vars` - Outputs returned by your solution.\n",
        "- `true_output_vars` - The expected output. This _should_ \"match\" `returned_output_vars` based on the question requirements - otherwise, your solution is not returning the correct output."
      ]
    },
    {
      "cell_type": "code",
      "execution_count": null,
      "id": "b4313260",
      "metadata": {
        "nbgrader": {
          "grade": true,
          "grade_id": "ex9",
          "locked": true,
          "points": "3",
          "solution": false
        },
        "tags": [],
        "id": "b4313260",
        "colab": {
          "base_uri": "https://localhost:8080/",
          "height": 477
        },
        "outputId": "6a1e20b5-11b0-48c0-c759-ef5b6ed94ad1"
      },
      "outputs": [
        {
          "output_type": "error",
          "ename": "AssertionError",
          "evalue": "ignored",
          "traceback": [
            "\u001b[0;31m---------------------------------------------------------------------------\u001b[0m",
            "\u001b[0;31mAssertionError\u001b[0m                            Traceback (most recent call last)",
            "\u001b[0;32m<ipython-input-38-bd0c03aec130>\u001b[0m in \u001b[0;36m<cell line: 35>\u001b[0;34m()\u001b[0m\n\u001b[1;32m     35\u001b[0m \u001b[0;32mfor\u001b[0m \u001b[0m_\u001b[0m \u001b[0;32min\u001b[0m \u001b[0mrange\u001b[0m\u001b[0;34m(\u001b[0m\u001b[0;36m70\u001b[0m\u001b[0;34m)\u001b[0m\u001b[0;34m:\u001b[0m\u001b[0;34m\u001b[0m\u001b[0;34m\u001b[0m\u001b[0m\n\u001b[1;32m     36\u001b[0m     \u001b[0;32mtry\u001b[0m\u001b[0;34m:\u001b[0m\u001b[0;34m\u001b[0m\u001b[0;34m\u001b[0m\u001b[0m\n\u001b[0;32m---> 37\u001b[0;31m         \u001b[0mtester\u001b[0m\u001b[0;34m.\u001b[0m\u001b[0mrun_test\u001b[0m\u001b[0;34m(\u001b[0m\u001b[0;34m)\u001b[0m\u001b[0;34m\u001b[0m\u001b[0;34m\u001b[0m\u001b[0m\n\u001b[0m\u001b[1;32m     38\u001b[0m         \u001b[0;34m(\u001b[0m\u001b[0minput_vars\u001b[0m\u001b[0;34m,\u001b[0m \u001b[0moriginal_input_vars\u001b[0m\u001b[0;34m,\u001b[0m \u001b[0mreturned_output_vars\u001b[0m\u001b[0;34m,\u001b[0m \u001b[0mtrue_output_vars\u001b[0m\u001b[0;34m)\u001b[0m \u001b[0;34m=\u001b[0m \u001b[0mtester\u001b[0m\u001b[0;34m.\u001b[0m\u001b[0mget_test_vars\u001b[0m\u001b[0;34m(\u001b[0m\u001b[0;34m)\u001b[0m\u001b[0;34m\u001b[0m\u001b[0;34m\u001b[0m\u001b[0m\n\u001b[1;32m     39\u001b[0m     \u001b[0;32mexcept\u001b[0m\u001b[0;34m:\u001b[0m\u001b[0;34m\u001b[0m\u001b[0;34m\u001b[0m\u001b[0m\n",
            "\u001b[0;32m/content/tester_fw/testers.py\u001b[0m in \u001b[0;36mrun_test\u001b[0;34m(self, func)\u001b[0m\n\u001b[1;32m     39\u001b[0m \u001b[0;34m\u001b[0m\u001b[0m\n\u001b[1;32m     40\u001b[0m     \u001b[0;32mdef\u001b[0m \u001b[0mrun_test\u001b[0m\u001b[0;34m(\u001b[0m\u001b[0mself\u001b[0m\u001b[0;34m,\u001b[0m \u001b[0mfunc\u001b[0m\u001b[0;34m=\u001b[0m\u001b[0;32mNone\u001b[0m\u001b[0;34m)\u001b[0m\u001b[0;34m:\u001b[0m\u001b[0;34m\u001b[0m\u001b[0;34m\u001b[0m\u001b[0m\n\u001b[0;32m---> 41\u001b[0;31m         \u001b[0;32mreturn\u001b[0m \u001b[0msuper\u001b[0m\u001b[0;34m(\u001b[0m\u001b[0;34m)\u001b[0m\u001b[0;34m.\u001b[0m\u001b[0mrun_test\u001b[0m\u001b[0;34m(\u001b[0m\u001b[0mself\u001b[0m\u001b[0;34m.\u001b[0m\u001b[0mfunc\u001b[0m\u001b[0;34m)\u001b[0m\u001b[0;34m\u001b[0m\u001b[0;34m\u001b[0m\u001b[0m\n\u001b[0m\u001b[1;32m     42\u001b[0m \u001b[0;34m\u001b[0m\u001b[0m\n\u001b[1;32m     43\u001b[0m     \u001b[0;32mdef\u001b[0m \u001b[0mbuild_vars\u001b[0m\u001b[0;34m(\u001b[0m\u001b[0mself\u001b[0m\u001b[0;34m)\u001b[0m\u001b[0;34m:\u001b[0m\u001b[0;34m\u001b[0m\u001b[0;34m\u001b[0m\u001b[0m\n",
            "\u001b[0;32m/content/tester_fw/__init__.py\u001b[0m in \u001b[0;36mrun_test\u001b[0;34m(self, func)\u001b[0m\n\u001b[1;32m     43\u001b[0m             \u001b[0mself\u001b[0m\u001b[0;34m.\u001b[0m\u001b[0mcheck_modified\u001b[0m\u001b[0;34m(\u001b[0m\u001b[0;34m)\u001b[0m    \u001b[0;31m# Check to verify inputs were not modified\u001b[0m\u001b[0;34m\u001b[0m\u001b[0;34m\u001b[0m\u001b[0m\n\u001b[1;32m     44\u001b[0m         \u001b[0mself\u001b[0m\u001b[0;34m.\u001b[0m\u001b[0mcheck_type\u001b[0m\u001b[0;34m(\u001b[0m\u001b[0;34m)\u001b[0m        \u001b[0;31m# Check to verify correct output types\u001b[0m\u001b[0;34m\u001b[0m\u001b[0;34m\u001b[0m\u001b[0m\n\u001b[0;32m---> 45\u001b[0;31m         \u001b[0mself\u001b[0m\u001b[0;34m.\u001b[0m\u001b[0mcheck_matches\u001b[0m\u001b[0;34m(\u001b[0m\u001b[0;34m)\u001b[0m     \u001b[0;31m# Check to verify correct output\u001b[0m\u001b[0;34m\u001b[0m\u001b[0;34m\u001b[0m\u001b[0m\n\u001b[0m\u001b[1;32m     46\u001b[0m \u001b[0;34m\u001b[0m\u001b[0m\n\u001b[1;32m     47\u001b[0m \u001b[0;34m\u001b[0m\u001b[0m\n",
            "\u001b[0;32m/content/tester_fw/testers.py\u001b[0m in \u001b[0;36mcheck_matches\u001b[0;34m(self)\u001b[0m\n\u001b[1;32m     80\u001b[0m         \u001b[0;32mfor\u001b[0m \u001b[0mout_key\u001b[0m\u001b[0;34m,\u001b[0m \u001b[0mout_dict\u001b[0m \u001b[0;32min\u001b[0m \u001b[0mself\u001b[0m\u001b[0;34m.\u001b[0m\u001b[0mconf_outputs\u001b[0m\u001b[0;34m.\u001b[0m\u001b[0mitems\u001b[0m\u001b[0;34m(\u001b[0m\u001b[0;34m)\u001b[0m\u001b[0;34m:\u001b[0m\u001b[0;34m\u001b[0m\u001b[0;34m\u001b[0m\u001b[0m\n\u001b[1;32m     81\u001b[0m             \u001b[0mtest_var\u001b[0m \u001b[0;34m=\u001b[0m \u001b[0mself\u001b[0m\u001b[0;34m.\u001b[0m\u001b[0mreturned_output_vars\u001b[0m\u001b[0;34m[\u001b[0m\u001b[0mout_key\u001b[0m\u001b[0;34m]\u001b[0m\u001b[0;34m\u001b[0m\u001b[0;34m\u001b[0m\u001b[0m\n\u001b[0;32m---> 82\u001b[0;31m             assert test_utils.compare_copies(a=test_var,\n\u001b[0m\u001b[1;32m     83\u001b[0m                                             \u001b[0mb\u001b[0m\u001b[0;34m=\u001b[0m\u001b[0mself\u001b[0m\u001b[0;34m.\u001b[0m\u001b[0mtrue_output_vars\u001b[0m\u001b[0;34m[\u001b[0m\u001b[0mout_key\u001b[0m\u001b[0;34m]\u001b[0m\u001b[0;34m,\u001b[0m\u001b[0;34m\u001b[0m\u001b[0;34m\u001b[0m\u001b[0m\n\u001b[1;32m     84\u001b[0m                                             \u001b[0mtol\u001b[0m\u001b[0;34m=\u001b[0m\u001b[0mout_dict\u001b[0m\u001b[0;34m[\u001b[0m\u001b[0;34m'float_tolerance'\u001b[0m\u001b[0;34m]\u001b[0m\u001b[0;34m,\u001b[0m\u001b[0;34m\u001b[0m\u001b[0;34m\u001b[0m\u001b[0m\n",
            "\u001b[0;31mAssertionError\u001b[0m: \nOutput for output_0 is incorrect.\nThe returned result is available as `returned_output_vars['output_0']`\nThe expected result is available as `true_output_vars['output_0']`\n            "
          ]
        }
      ],
      "source": [
        "### test_cell_ex9\n",
        "from tester_fw.testers import Tester\n",
        "\n",
        "conf = {\n",
        "    'case_file':'tc_9',\n",
        "    'func': suggest_friends, # replace this with the function defined above\n",
        "    'inputs':{ # input config dict. keys are parameter names\n",
        "        'user_id':{\n",
        "            'dtype':'int', # data type of param.\n",
        "            'check_modified':True,\n",
        "        },\n",
        "        'visit_vectors':{\n",
        "            'dtype':'dict', # data type of param.\n",
        "            'check_modified':True,\n",
        "        },\n",
        "        'connection_vectors':{\n",
        "            'dtype':'dict', # data type of param.\n",
        "            'check_modified':True,\n",
        "        }\n",
        "    },\n",
        "    'outputs':{\n",
        "        'output_0':{\n",
        "            'index':0,\n",
        "            'dtype':'list',\n",
        "            'check_dtype': True,\n",
        "            'check_col_dtypes': True, # Ignored if dtype is not df\n",
        "            'check_col_order': True, # Ignored if dtype is not df\n",
        "            'check_row_order': True, # Ignored if dtype is not df\n",
        "            'check_column_type': True, # Ignored if dtype is not df\n",
        "            'float_tolerance': 10 ** (-6)\n",
        "        }\n",
        "    }\n",
        "}\n",
        "tester = Tester(conf, key=b'1ZePXzAcTR7lcNpmx1HRK0lT3v-Ikrg8mZ3n-wVFTBo=', path='')\n",
        "for _ in range(70):\n",
        "    try:\n",
        "        tester.run_test()\n",
        "        (input_vars, original_input_vars, returned_output_vars, true_output_vars) = tester.get_test_vars()\n",
        "    except:\n",
        "        (input_vars, original_input_vars, returned_output_vars, true_output_vars) = tester.get_test_vars()\n",
        "        raise\n",
        "\n",
        "print('Passed! Please submit.')"
      ]
    },
    {
      "cell_type": "markdown",
      "id": "e434fc42",
      "metadata": {
        "nbgrader": {
          "grade": false,
          "locked": true,
          "solution": false
        },
        "tags": [
          "fin"
        ],
        "id": "e434fc42"
      },
      "source": [
        "# Fin: Submit your work! #\n",
        "\n",
        "If you have made it this far, congratulations on completing the exam. **Don't forget to submit!**\n",
        "\n",
        "If you are interested in exploring this topic after the exam is over, run the friend suggester on other users and see how the distribution of candidate matches compares to existing matches. Is there an improvement? Can you come up with a better method?"
      ]
    }
  ],
  "metadata": {
    "interpreter": {
      "hash": "f2b38b6e01547e8f771d473ea2b8718fd0728eea782e4c924ed8783f739d4a6c"
    },
    "kernelspec": {
      "display_name": "Python 3 (ipykernel)",
      "language": "python",
      "name": "python3"
    },
    "language_info": {
      "codemirror_mode": {
        "name": "ipython",
        "version": 3
      },
      "file_extension": ".py",
      "mimetype": "text/x-python",
      "name": "python",
      "nbconvert_exporter": "python",
      "pygments_lexer": "ipython3",
      "version": "3.9.13"
    },
    "toc": {
      "base_numbering": 1,
      "nav_menu": {},
      "number_sections": true,
      "sideBar": true,
      "skip_h1_title": false,
      "title_cell": "Table of Contents",
      "title_sidebar": "Contents",
      "toc_cell": false,
      "toc_position": {
        "height": "790px",
        "left": "241px",
        "top": "67.1333px",
        "width": "384px"
      },
      "toc_section_display": true,
      "toc_window_display": true
    },
    "colab": {
      "provenance": [],
      "include_colab_link": true
    }
  },
  "nbformat": 4,
  "nbformat_minor": 5
}