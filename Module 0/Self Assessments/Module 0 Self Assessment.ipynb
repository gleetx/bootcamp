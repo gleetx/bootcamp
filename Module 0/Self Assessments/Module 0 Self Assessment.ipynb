{
 "cells": [
  {
   "cell_type": "markdown",
   "id": "4570e2a4",
   "metadata": {},
   "source": [
    "# Self-Assessment for Module 0\n",
    "Module 0 in this course focuses on your ability to access and manipulate data using Python. Use this assessment to test your existing knowledge. You should be able to complete all six exercises within 1 hour. \n",
    "\n",
    "If you are unable to complete the exercises within 1 hour, strongly consider attending the Bootcamp sessions we offer. They will build the Python skills necessary to succeed in the first module of this course.\n",
    "\n",
    "When you are ready, start a [countdown timer](https://www.youtube.com/watch?v=sO-p-wMr2MA). Let's get to coding!\n",
    "\n",
    "\n"
   ]
  },
  {
   "cell_type": "markdown",
   "id": "2f69086d",
   "metadata": {},
   "source": [
    "## Exercise 0: Converting Total Score to Letter Grade\n",
    "**Testing Your Knowledge of:** If Statements + Logical Conditions\n",
    "\n",
    "<br>\n",
    "\n",
    "**Input:** A float 'course_score', the overall score a student achieved in the course.\n",
    "\n",
    "\n",
    "**Tasks:** \n",
    "Complete the function **'convert_score_to_letter'**:\n",
    "1. Determine what letter grade the student would achieve in the course based on their 'course_score'.\n",
    "\n",
    "*Hint*: Use the letter grade cutoff information provided in the [syllabus](https://hackmd.io/@richie/BkpC2BThh). Any grade below a 60 should return a letter grade of 'F'.\n",
    "\n",
    "\n",
    "**Output:** Return a string with the letter grade the student will receive."
   ]
  },
  {
   "cell_type": "code",
   "execution_count": null,
   "id": "2dc1cda8",
   "metadata": {},
   "outputs": [],
   "source": [
    "### Define demo inputs\n",
    "\n",
    "demo_course_score = 80.6"
   ]
  },
  {
   "cell_type": "markdown",
   "id": "8fea7cd6",
   "metadata": {},
   "source": [
    "A correct solution to the demo input should return the letter grade:  \n",
    "```python\n",
    "B\n",
    "```"
   ]
  },
  {
   "cell_type": "code",
   "execution_count": null,
   "id": "de963b04",
   "metadata": {},
   "outputs": [],
   "source": [
    "def convert_score_to_letter(course_score):\n",
    "    ###\n",
    "    ### YOUR CODE HERE\n",
    "    ###\n",
    "    \n",
    "    \n",
    "    \n",
    "print(convert_score_to_letter(demo_course_score))"
   ]
  },
  {
   "cell_type": "code",
   "execution_count": null,
   "id": "d31de5fa",
   "metadata": {},
   "outputs": [],
   "source": [
    "# Test cell: convert_score_to_letter\n",
    "\n",
    "assert isinstance(convert_score_to_letter(91.6), str), 'Sorry, your result is not a string!'\n",
    "assert convert_score_to_letter(90.0) == 'A', 'Sorry, your letter grade returned is not correct!'\n",
    "assert convert_score_to_letter(60.0) == 'D', 'Sorry, your letter grade returned is not correct!'\n",
    "assert convert_score_to_letter(12.4) == 'F', 'Sorry, your letter grade returned is not correct!'\n",
    "assert convert_score_to_letter(89) == 'B', 'Sorry, your letter grade returned is not correct!'\n",
    "assert convert_score_to_letter(69.999) == 'D', 'Sorry, your letter grade returned is not correct!'\n",
    "assert convert_score_to_letter(70.01) == 'C', 'Sorry, your letter grade returned is not correct!'\n",
    "assert convert_score_to_letter(79.999) == 'C', 'Sorry, your letter grade returned is not correct!'\n",
    "assert convert_score_to_letter(89.999999) == 'B', 'Sorry, your letter grade returned is not correct!'\n",
    "assert convert_score_to_letter(80.0) == 'B', 'Sorry, your letter grade returned is not correct!'\n",
    "\n",
    "print(\"\\n(Passed!)\")"
   ]
  },
  {
   "attachments": {
    "formula_img.JPG": {
     "image/jpeg": "[encoded data removed]"
    }
   },
   "cell_type": "markdown",
   "id": "3940a880",
   "metadata": {},
   "source": [
    "## Exercise 1: Calculating Course Score\n",
    "**Testing Your Knowledge of:** Accessing Simple Nested Data + Math to Code + Rounding\n",
    "\n",
    "<br>\n",
    "\n",
    "**Input:** \n",
    "There are two inputs:\n",
    "1. 'grades' is a dictionary where the key is the assignment name, and the value is the score achieved out of 100.\n",
    "2. 'weights' is a list of tuples where the 0th element of the tuple is the assignment name, and the 1st element is the weight of that assignment in the course.\n",
    "\n",
    "**Tasks:** \n",
    "Complete the function **'find_course_total'**:\n",
    "1. Find the total score the student would obtain in the course by summing all of the assignment grades multiplied by their corresponding weights using the formula: \n",
    "![formula_img.JPG](attachment:formula_img.JPG)\n",
    "   \n",
    "2. Round the total score to the second decimal place\n",
    "\n",
    "**Output:** Return the total score as a float value."
   ]
  },
  {
   "cell_type": "code",
   "execution_count": null,
   "id": "2f107b37",
   "metadata": {},
   "outputs": [],
   "source": [
    "### Define demo inputs\n",
    "\n",
    "demo_grades = {'NB0':100, 'NB1':87.5, 'NB2':100, 'NB4':75, 'NB5':70, 'NB7':100, 'NB9':50, 'NB10':100, 'NB11':77.5, \n",
    "               'NB12':56.25, 'NB13':100, 'NB14':100, 'NB15':100, 'MT1':75, 'MT2':85, 'Final':85, 'Extra Credit':66.667}\n",
    "\n",
    "demo_weights = [('NB0',2), ('NB1',4), ('NB2',4), ('NB4',4), ('NB5',4), ('NB7',4), ('NB9',4), ('NB10',4), ('NB11',4), \n",
    "               ('NB12',4), ('NB13',4), ('NB14',4), ('NB15',4), ('MT1',10), ('MT2',15), ('Final',25), ('Extra Credit',3)]\n"
   ]
  },
  {
   "cell_type": "markdown",
   "id": "744f563b",
   "metadata": {},
   "source": [
    "A correct solution to the demo input above should return a course total of \n",
    "```python\n",
    "86.15\n",
    "```"
   ]
  },
  {
   "cell_type": "code",
   "execution_count": null,
   "id": "4e28b484",
   "metadata": {},
   "outputs": [],
   "source": [
    "def find_course_total(grades, weights):\n",
    "    ###\n",
    "    ### YOUR CODE HERE\n",
    "    ###\n",
    "    \n",
    "    \n",
    "    \n",
    "    \n",
    "print(find_course_total(demo_grades, demo_weights))"
   ]
  },
  {
   "cell_type": "code",
   "execution_count": null,
   "id": "667a299e",
   "metadata": {},
   "outputs": [],
   "source": [
    "# Test cell: find_course_total\n",
    "\n",
    "weights = [('NB0',2), ('NB1',4), ('NB2',4), ('NB4',4), ('NB5',4), ('NB7',4), ('NB9',4), ('NB10',4), ('NB11',4), \n",
    "               ('NB12',4), ('NB13',4), ('NB14',4), ('NB15',4), ('MT1',10), ('MT2',15), ('Final',25), ('Extra Credit',3)]\n",
    "\n",
    "assert find_course_total({'NB0':100, 'NB1':87.5, 'NB2':100, 'NB4':75, 'NB5':70, 'NB7':100, 'NB9':50, 'NB10':100, 'NB11':77.5,\n",
    "                         'NB12':56.25, 'NB13':100, 'NB14':100, 'NB15':100, 'MT1':75, 'MT2':85, 'Final':85, \n",
    "                         'Extra Credit':66.667}, weights) == 86.15, 'Sorry, your course sum is incorrect!'\n",
    "assert find_course_total({'NB0':100, 'NB1':80, 'NB2':70, 'NB4':65, 'NB5':100, 'NB7':90, 'NB9':95, 'NB10':0, 'NB11':50,\n",
    "                         'NB12':50, 'NB13':80, 'NB14':85, 'NB15':90, 'MT1':50, 'MT2':97, 'Final':100, \n",
    "                         'Extra Credit':100}, weights) == 83.75, 'Sorry, your course sum is incorrect!'\n",
    "assert find_course_total({'NB0':50, 'NB1':50, 'NB2':50, 'NB4':80, 'NB5':80, 'NB7':90, 'NB9':90, 'NB10':50, 'NB11':100,\n",
    "                         'NB12':100, 'NB13':100, 'NB14':50, 'NB15':100, 'MT1':100, 'MT2':100, 'Final':100, \n",
    "                         'Extra Credit':66.67}, weights) == 90.60, 'Sorry, your course sum is incorrect!'\n",
    "assert find_course_total({'NB0':100, 'NB1':100, 'NB2':100, 'NB4':100, 'NB5':100, 'NB7':100, 'NB9':100, 'NB10':100, 'NB11':100,\n",
    "                         'NB12':100, 'NB13':100, 'NB14':100, 'NB15':100, 'MT1':50, 'MT2':75, 'Final':84, \n",
    "                         'Extra Credit':100}, weights) == 90.25, 'Sorry, your course sum is incorrect!'\n",
    "assert isinstance(find_course_total({'NB0':100, 'NB1':100, 'NB2':100, 'NB4':100, 'NB5':100, 'NB7':100, 'NB9':100, \n",
    "                                    'NB10':100, 'NB11':100, 'NB12':100, 'NB13':100, 'NB14':100, 'NB15':100, 'MT1':100, \n",
    "                                    'MT2':100, 'Final':100, 'Extra Credit':100}, weights), float), 'Sorry, your result is not a float!'\n",
    "\n",
    "print(\"\\n(Passed!)\")"
   ]
  },
  {
   "cell_type": "markdown",
   "id": "f2834d82",
   "metadata": {},
   "source": [
    "## Exercise 2: Better Understanding the Syllabus\n",
    "\n",
    "**Testing Your Knowledge of:** Lists + Sets + Sorting/Slicing\n",
    "\n",
    "<br>\n",
    "\n",
    "We want to identify which words in the syllabus are the most important. Luckily, we have been provided a set of the most important words. We want to return the first 3 important words in alphabetical order.\n",
    "\n",
    "**Input:** \n",
    "\n",
    "There are two inputs:\n",
    "1. 'syllabus_words' is a list of words found in the syllabus. There may be duplicate words in this list.\n",
    "2. 'important_words' is a set of the most important words found in the syllabus. \n",
    "\n",
    "**Tasks:** \n",
    "Complete the function **'syllabus_words_importance'**:\n",
    "1. Find the distinct words in 'syllabus_words'\n",
    "2. Determine which words are in 'important_words'\n",
    "3. Sort the result of Step 2 alphabetically\n",
    "4. Return the first three important words (there may be less than three)\n",
    "\n",
    "**Output:**\n",
    "Return a list of the first three important words in alphabetical order (there may be less than three).\n"
   ]
  },
  {
   "cell_type": "code",
   "execution_count": null,
   "id": "eb08edc4",
   "metadata": {},
   "outputs": [],
   "source": [
    "### Define demo inputs\n",
    "\n",
    "demo_syllabus_words = ['the', 'a', 'utc', 'it', 'frequently', 'piazza', 'is', 'for', 'notebook', 'vocareum']\n",
    "demo_important_words = {'utc', 'autograder', 'vocareum', 'notebook', '48-hour extension', 'proctored exams', 'piazza'}\n"
   ]
  },
  {
   "cell_type": "markdown",
   "id": "90a5cecc",
   "metadata": {},
   "source": [
    "A correct solution to the demo input should return: \n",
    "```python\n",
    "['notebook', 'piazza', 'utc']\n",
    "```"
   ]
  },
  {
   "cell_type": "code",
   "execution_count": null,
   "id": "37fc0fd0",
   "metadata": {},
   "outputs": [],
   "source": [
    "def syllabus_words_importance(syllabus_words, important_words):\n",
    "    ###\n",
    "    ### YOUR CODE HERE\n",
    "    ###\n",
    "    \n",
    "    \n",
    "    \n",
    "    \n",
    "print(syllabus_words_importance(demo_syllabus_words, demo_important_words))"
   ]
  },
  {
   "cell_type": "code",
   "execution_count": null,
   "id": "241ff46c",
   "metadata": {},
   "outputs": [],
   "source": [
    "# Test cell: syllabus_words_importance\n",
    "\n",
    "important_words_set = {'exams', 'bootcamp', 'office hours', 'prerequisites', 'honorlock', 'mre', 'open-book', 'open-note', 'schedule', 'drop-date', 'utc', 'autograder', 'vocareum', 'notebook', '48-hour extension', 'proctored exams', 'piazza'}\n",
    "assert isinstance(syllabus_words_importance(['the', 'a', 'utc', 'it', 'frequently', 'piazza', 'is', 'for', 'notebook', 'vocareum'], {'utc', 'autograder', 'vocareum', 'notebook', '48-hour extension', 'proctored exams', 'piazza'}), list), 'Sorry, your result is not a list!'\n",
    "assert syllabus_words_importance(['vocareum', 'it', 'find', 'vocareum'], important_words_set) == ['vocareum'], 'Sorry, your list of important words returned is not correct!'\n",
    "assert syllabus_words_importance(['honorlock', 'mre', 'open-book', 'schedule', 'the', 'the', 'on'], important_words_set) == ['honorlock', 'mre', 'open-book'], 'Sorry, your list of important words returned is not correct!'\n",
    "assert syllabus_words_importance(['bootcamp', 'all', 'open-note', 'open-note', 'bootcamp', 'determine', 'programming', 'make', 'exams'], important_words_set) == ['bootcamp', 'exams', 'open-note'], 'Sorry, your list of important words returned is not correct!'\n",
    "\n",
    "print(\"\\n(Passed!)\")"
   ]
  },
  {
   "cell_type": "markdown",
   "id": "ed94bb1a",
   "metadata": {},
   "source": [
    "## Exercise 3: What's Allowed on the Exams?\n",
    "\n",
    "**Testing Your Knowledge of:** Complex Nested Data\n",
    "\n",
    "<br>\n",
    "\n",
    "Now let's take a look at what is allowed and what is not allowed during the exams.\n",
    "\n",
    "**Input:** \n",
    "'exam_guidelines' is a dictionary of dictionaries of lists. The outermost keys are 'Allowed' and 'Not Allowed'. The value of each of these is another dictionary. This dictionary contains keys of different guideline categories (i.e. Online Resources, Technology, etc.), and its values are lists of specific examples for that category (i.e. Google, ChatGPT). \n",
    "\n",
    "**Tasks:** \n",
    "Complete the function **'find_guidelines'**:\n",
    "1. Create a new dictionary where the outer keys are the guideline categories, their values are a list of dictionaries where the keys are the specific examples for that category and their values are whether that specific example is 'Allowed' or 'Not Allowed'.\n",
    "\n",
    "**Output:**\n",
    "Return a new dictionary with the structure:\n",
    "\n",
    "```python\n",
    "{'Category 1': [{'Specific Example 1': 'Allowed/Not Allowed'}, {'Specific Example 2': 'Allowed/Not Allowed'}, ..], 'Category 2': [{'Specific Example 3': 'Allowed/Not Allowed'}, ..]}\n",
    "```"
   ]
  },
  {
   "cell_type": "code",
   "execution_count": null,
   "id": "97f14d4c",
   "metadata": {},
   "outputs": [],
   "source": [
    "### Define demo inputs\n",
    "demo_exam_guidelines = {'Allowed': {'Online Resources': ['Google', 'Practice Exam Solutions'], \n",
    "                                    'Physical Resources': ['Snacks'],\n",
    "                                    'Technology': ['One Computer'], \n",
    "                                   'Environment': ['Cats Making Noise', 'Music With Headphones'], \n",
    "                                   'Misc': ['Short Breaks']},\n",
    "                        'Not Allowed': {'Online Resources': ['ChatGPT', 'GitHub Copilot'],\n",
    "                                       'Technology': ['Multiple Computer Screens'], \n",
    "                                       'Environment': ['Talking with Friends or Family']}}"
   ]
  },
  {
   "cell_type": "markdown",
   "id": "855b4d88",
   "metadata": {},
   "source": [
    "A correct solution to the demo input should return: \n",
    "```python \n",
    "{'Online Resources': [{'Google': 'Allowed'}, {'Practice Exam Solutions': 'Allowed'}, {'ChatGPT': 'Not Allowed'}, {'GitHub Copilot': 'Not Allowed'}], 'Physical Resources': [{'Snacks': 'Allowed'}], 'Technology': [{'One Computer': 'Allowed'}, {'Multiple Computer Screens': 'Not Allowed'}], 'Environment': [{'Cats Making Noise': 'Allowed'}, {'Music With Headphones': 'Allowed'}, {'Talking with Friends or Family': 'Not Allowed'}], 'Misc': [{'Short Breaks': 'Allowed'}]}\n",
    "```"
   ]
  },
  {
   "cell_type": "code",
   "execution_count": null,
   "id": "c7440226",
   "metadata": {},
   "outputs": [],
   "source": [
    "def find_guidelines(exam_guidelines):\n",
    "    ###\n",
    "    ### YOUR CODE HERE\n",
    "    ###\n",
    "    \n",
    "    \n",
    "    \n",
    "    \n",
    "    \n",
    "print(find_guidelines(demo_exam_guidelines))"
   ]
  },
  {
   "cell_type": "code",
   "execution_count": null,
   "id": "58219518",
   "metadata": {},
   "outputs": [],
   "source": [
    "# Test Cell: find_guidelines\n",
    "\n",
    "exam_guidelines1 = {'Allowed': {'Online Resources': ['Google', 'Stack Overflow Existing Posts', 'W3 Schools'], \n",
    "                                'Physical Resources': ['Notes', 'Pen', 'Paper', 'Snacks', 'Drinks'],\n",
    "                                'Technology': ['One Computer', 'One Monitor', 'Calculator', 'Local IDEs'], \n",
    "                                'Environment': ['Cats', 'Dogs', 'People Walking by Occasionally', 'Light Background Noise Such as Neighbors Leaf Blowing', 'Listening to Music Using Headphones'], \n",
    "                                'Misc': ['Short Breaks Around 5 Minutes or Less', 'Talking Through the Solution with Yourself', 'Using Profanities to Express Displeasure with an Exam Question']},\n",
    "                    'Not Allowed': {'Online Resources': ['ChatGPT', 'GitHub Copilot', 'Collaboration with Others', 'Asking TAs for Coding Help'],\n",
    "                                    'Technology': ['Multiple Computer Screens', 'Cellphones', 'Tablets'], \n",
    "                                    'Environment': ['Talking with Friends or Family', 'Playing Music on Speakers', 'Taking the Exam in a Busy Public Setting'], \n",
    "                                    'Misc': ['Disappearing for 30 Minutes']}}\n",
    "\n",
    "exam_guidelines2 = {'Allowed': {'Online Resources': ['GeeksForGeeks', 'Practice Exam Solutions', 'Homework Solutions'], \n",
    "                                'Physical Resources': ['Notes', 'Snacks', 'Drinks'],\n",
    "                                'Technology': ['One Computer', 'One Monitor', 'Calculator', 'Local IDEs'], \n",
    "                                'Environment': ['People Walking by Occasionally', 'Light Background Noise Such as Neighbors Leaf Blowing', 'Listening to Music Using Headphones'], \n",
    "                                'Misc': ['Making Private Piazza Post if You Encounter Technical Difficulties']},\n",
    "                    'Not Allowed': {'Online Resources': ['Asking TAs for Coding Help'],\n",
    "                                    'Technology': ['Multiple Computer Screens', 'Cellphones', 'Tablets'], \n",
    "                                    'Environment': ['Talking with Friends or Family', 'Playing Music on Speakers', 'Taking the Exam in a Busy Public Setting'], \n",
    "                                    'Misc': ['Threatening Bodily Harm to TAs Over Difficult Exam Question']}}\n",
    "\n",
    "assert isinstance(find_guidelines(demo_exam_guidelines), dict), 'Sorry, your result is not a dictionary!'       \n",
    "assert find_guidelines(demo_exam_guidelines) == {'Online Resources': [{'Google': 'Allowed'}, {'Practice Exam Solutions': 'Allowed'}, {'ChatGPT': 'Not Allowed'}, {'GitHub Copilot': 'Not Allowed'}], 'Physical Resources': [{'Snacks': 'Allowed'}], 'Technology': [{'One Computer': 'Allowed'}, {'Multiple Computer Screens': 'Not Allowed'}], 'Environment': [{'Cats Making Noise': 'Allowed'}, {'Music With Headphones': 'Allowed'}, {'Talking with Friends or Family': 'Not Allowed'}], 'Misc': [{'Short Breaks': 'Allowed'}]}, 'Sorry, your dictionary returned is not correct!'\n",
    "assert find_guidelines(exam_guidelines1) == {'Online Resources': [{'Google': 'Allowed'}, {'Stack Overflow Existing Posts': 'Allowed'}, {'W3 Schools': 'Allowed'}, {'ChatGPT': 'Not Allowed'}, {'GitHub Copilot': 'Not Allowed'}, {'Collaboration with Others': 'Not Allowed'}, {'Asking TAs for Coding Help': 'Not Allowed'}], 'Physical Resources': [{'Notes': 'Allowed'}, {'Pen': 'Allowed'}, {'Paper': 'Allowed'}, {'Snacks': 'Allowed'}, {'Drinks': 'Allowed'}], 'Technology': [{'One Computer': 'Allowed'}, {'One Monitor': 'Allowed'}, {'Calculator': 'Allowed'}, {'Local IDEs': 'Allowed'}, {'Multiple Computer Screens': 'Not Allowed'}, {'Cellphones': 'Not Allowed'}, {'Tablets': 'Not Allowed'}], 'Environment': [{'Cats': 'Allowed'}, {'Dogs': 'Allowed'}, {'People Walking by Occasionally': 'Allowed'}, {'Light Background Noise Such as Neighbors Leaf Blowing': 'Allowed'}, {'Listening to Music Using Headphones': 'Allowed'}, {'Talking with Friends or Family': 'Not Allowed'}, {'Playing Music on Speakers': 'Not Allowed'}, {'Taking the Exam in a Busy Public Setting': 'Not Allowed'}], 'Misc': [{'Short Breaks Around 5 Minutes or Less': 'Allowed'}, {'Talking Through the Solution with Yourself': 'Allowed'}, {'Using Profanities to Express Displeasure with an Exam Question': 'Allowed'}, {'Disappearing for 30 Minutes': 'Not Allowed'}]}, 'Sorry, your dictionary returned is not correct!'\n",
    "assert find_guidelines(exam_guidelines2) == {'Online Resources': [{'GeeksForGeeks': 'Allowed'}, {'Practice Exam Solutions': 'Allowed'}, {'Homework Solutions': 'Allowed'}, {'Asking TAs for Coding Help': 'Not Allowed'}], 'Physical Resources': [{'Notes': 'Allowed'}, {'Snacks': 'Allowed'}, {'Drinks': 'Allowed'}], 'Technology': [{'One Computer': 'Allowed'}, {'One Monitor': 'Allowed'}, {'Calculator': 'Allowed'}, {'Local IDEs': 'Allowed'}, {'Multiple Computer Screens': 'Not Allowed'}, {'Cellphones': 'Not Allowed'}, {'Tablets': 'Not Allowed'}], 'Environment': [{'People Walking by Occasionally': 'Allowed'}, {'Light Background Noise Such as Neighbors Leaf Blowing': 'Allowed'}, {'Listening to Music Using Headphones': 'Allowed'}, {'Talking with Friends or Family': 'Not Allowed'}, {'Playing Music on Speakers': 'Not Allowed'}, {'Taking the Exam in a Busy Public Setting': 'Not Allowed'}], 'Misc': [{'Making Private Piazza Post if You Encounter Technical Difficulties': 'Allowed'}, {'Threatening Bodily Harm to TAs Over Difficult Exam Question': 'Not Allowed'}]}, 'Sorry, your dictionary returned is not correct!'\n",
    "\n",
    "                  \n",
    "print(\"\\n(Passed!)\")"
   ]
  },
  {
   "cell_type": "markdown",
   "id": "fd322704",
   "metadata": {},
   "source": [
    "\n"
   ]
  },
  {
   "cell_type": "markdown",
   "id": "3e60a859",
   "metadata": {},
   "source": [
    "## Exercise 4: Lost in Translation \n",
    "**Testing Your Knowledge of:** String Manipulation + Nested Dictionaries\n",
    "\n",
    "<br>\n",
    "\n",
    "Professor Vuduc wants to welcome you to CSE 6040, but his message has sadly been distorted. Translate the input string 'distorted_msg' to discover Professor Vuduc's original welcome message! \n",
    "\n",
    "**Input:** \n",
    "There are three inputs:\n",
    "1. 'distorted_str' is a string containing Professor Vuduc's distorted message\n",
    "2. 'msg_style' is the style of the distorted message\n",
    "3. 'translation_dict' is a dictionary of dictionaries containing the message style as the outer key. The inner dictionary contains a mapping from the distorted word as the key to the correct word/phrase as the value.\n",
    "\n",
    "**Tasks:** \n",
    "Complete the function **'translate_msg'**:\n",
    "1. Convert 'distorted_str' into a list of words\n",
    "2. Iterate over this list, and try to lookup each word in 'translation_dict'. If a translation is found, add the translated word to a string. If not, add the original word to the string.\n",
    "\n",
    "*Hint*: Do not change any punctuation or capitalization. Simply split the input string using whitespace as the delimiter.\n",
    "\n",
    "**Output:**\n",
    "Return a string of the translated message.\n"
   ]
  },
  {
   "cell_type": "code",
   "execution_count": null,
   "id": "8fbdb1ab",
   "metadata": {},
   "outputs": [],
   "source": [
    "### Define demo inputs\n",
    "\n",
    "demo_distorted_str = '''Hi fam! Welcome to CSE 6040, no cap. I hope this course hits different, and you have \n",
    "a total glow up from learning new data analysis techniques periodt. Don't @ me, but I think our team of TAs \n",
    "slaps and will help you W the course.'''\n",
    "\n",
    "demo_translation_dict = {'cowboy': {'Howdy': 'Hi', 'partners!': 'class!', 'Ah': 'I', 'wanna': 'want to', \n",
    "                                    'extey-nd': 'extend', 'grand': 'very', 'ole': 'warm', 'ta': 'to', 'thuh': 'the', \n",
    "                                    'ya': 'you', 'programmin': 'programming', 'ave': 'have', 'all-fired': 'great', \n",
    "                                    'awf': 'of', 'eend': 'and', 'ahr': 'are', 'hair': 'here'},\n",
    "                         'gen_z': {'fam!': 'class!', 'no': 'we are so glad', 'cap.': 'to have you.', \n",
    "                                   'hits': 'challenges', 'different,': 'you,', 'total': 'great', 'glow': 'time',\n",
    "                                   'up': 'as', 'from': 'you', 'learning': 'learn', 'periodt.': 'throughout the semester.', \n",
    "                                   \"Don't\": 'I', '@': 'might be', 'me,': 'biased,', 'slaps': 'are fantastic', \n",
    "                                   'W': 'succeed in'},\n",
    "                         'shakespearean': {'Good': 'Greetings', 'morrow': 'new', 'class!': 'students!', 'wanteth': 'wanted', \n",
    "                                           'extendeth': 'extend', 'warmeth': 'warm', 'welcometh': 'welcome', \n",
    "                                           'desire': 'hope', 'thee': 'you', 'learneth': 'learn', \"f'r\": 'for',\n",
    "                                           \"has't\": 'have', 'most': 'absolute', 'wondrous': 'best', 'Wondrous': 'Best', \n",
    "                                           \"instructeth'rs\": 'instructors', 'art': 'are', \"h're\": 'here',\n",
    "                                           'holp': 'help', 'succeedeth': 'succeed'}\n",
    "                              }\n",
    "\n",
    "demo_msg_style = 'gen_z'\n"
   ]
  },
  {
   "cell_type": "markdown",
   "id": "46e2f615",
   "metadata": {},
   "source": [
    "**A correct solution to the demo input should return**: \n",
    " \n",
    "Hi class! Welcome to CSE 6040, we are so glad to have you. I hope this course challenges you, and you have a great time as you learn new data analysis techniques throughout the semester. I might be biased, but I think our team of TAs are fantastic and will help you succeed in the course.\n"
   ]
  },
  {
   "cell_type": "code",
   "execution_count": null,
   "id": "da811ed6",
   "metadata": {},
   "outputs": [],
   "source": [
    "def translate_msg(distorted_str, msg_style, translation_dict):\n",
    "    ###\n",
    "    ### YOUR CODE HERE\n",
    "    ###\n",
    "    \n",
    "    \n",
    "    \n",
    "    \n",
    "    \n",
    "print(translate_msg(demo_distorted_str, demo_msg_style, demo_translation_dict))"
   ]
  },
  {
   "cell_type": "code",
   "execution_count": null,
   "id": "ab693168",
   "metadata": {},
   "outputs": [],
   "source": [
    "# Test Cell: translate_msg\n",
    "\n",
    "translation_dict = {'cowboy': {'Howdy': 'Hi', 'partners!': 'class!', 'Ah': 'I', 'wanna': 'want to', \n",
    "                                'extey-nd': 'extend', 'grand': 'very', 'ole': 'warm', 'ta': 'to', 'thuh': 'the', \n",
    "                                'ya': 'you', 'programmin': 'programming', 'ave': 'have', 'all-fired': 'great', \n",
    "                                'awf': 'of', 'eend': 'and', 'ahr': 'are', 'hair': 'here'},\n",
    "                    'gen_z': {'fam!': 'class!', 'no': 'we are so glad', 'cap.': 'to have you.', \n",
    "                              'hits': 'challenges', 'different,': 'you,', 'total': 'great', 'glow': 'time',\n",
    "                              'up': 'as', 'from': 'you', 'learning': 'learn', 'periodt.': 'throughout the semester.', \n",
    "                              \"Don't\": 'I', '@': 'might be', 'me,': 'biased,', 'slaps': 'are fantastic', \n",
    "                              'W': 'succeed in'},\n",
    "                    'shakespearean': {'Good': 'Greetings', 'morrow': 'new', 'class!': 'students!', 'wanteth': 'wanted', \n",
    "                                      'extendeth': 'extend', 'warmeth': 'warm', 'welcometh': 'welcome', \n",
    "                                      'desire': 'hope', 'thee': 'you', 'learneth': 'learn', \"f'r\": 'for',\n",
    "                                      \"has't\": 'have', 'most': 'absolute', 'wondrous': 'best', 'Wondrous': 'Best', \n",
    "                                      \"instructeth'rs\": 'instructors', 'art': 'are', \"h're\": 'here',\n",
    "                                      'holp': 'help', 'succeedeth': 'succeed'}\n",
    "                    }\n",
    "\n",
    "distorted_str_1 = '''Hi fam! Welcome to CSE 6040, no cap. I hope this course hits different, and you have \n",
    "a total glow up from learning new data analysis techniques periodt. Don't @ me, but I think our team of TAs \n",
    "slaps and will help you W the course.'''\n",
    "\n",
    "distorted_str_2 = '''Howdy partners! Ah wanna extey-nd a grand ole welcome ta CSE 6040! Ah hope thuh course helps ya \n",
    "learn new programmin techniques for data analysis. We ave a all-fired team awf TAs eend instructors who ahr hair ta \n",
    "help ya learn eend succeed in thuh course.'''\n",
    "\n",
    "distorted_str_3 = '''\n",
    "Good morrow class! I wanteth to extendeth a warmeth welcometh to CSE 6040! \n",
    "I desire this course helps thee learneth new programming techniques f'r data analysis. \n",
    "We has't the most wondrous team of TAs and instructeth'rs who art h're to holp thee learneth and succeedeth \n",
    "in the course. Wondrous of luck!'''\n",
    "\n",
    "assert isinstance(translate_msg(distorted_str_1, 'gen_z', translation_dict), str), 'Sorry, your result is not a string!'       \n",
    "assert translate_msg(distorted_str_1, 'gen_z', translation_dict) == '''Hi class! Welcome to CSE 6040, we are so glad to have you. I hope this course challenges you, and you have a great time as you learn new data analysis techniques throughout the semester. I might be biased, but I think our team of TAs are fantastic and will help you succeed in the course.''', 'Sorry, your translated message is not correct!'\n",
    "assert translate_msg(distorted_str_2, 'cowboy', translation_dict) == '''Hi class! I want to extend a very warm welcome to CSE 6040! I hope the course helps you learn new programming techniques for data analysis. We have a great team of TAs and instructors who are here to help you learn and succeed in the course.''', 'Sorry, your translated message is not correct!'\n",
    "assert translate_msg(distorted_str_3, 'shakespearean', translation_dict) == '''Greetings new students! I wanted to extend a warm welcome to CSE 6040! I hope this course helps you learn new programming techniques for data analysis. We have the absolute best team of TAs and instructors who are here to help you learn and succeed in the course. Best of luck!''', 'Sorry, your translated message is not correct!'   \n",
    "    \n",
    "print(\"\\n(Passed!)\")"
   ]
  },
  {
   "cell_type": "markdown",
   "id": "49c402cc",
   "metadata": {},
   "source": [
    "## Exercise 5: (Possibly Fake) Course Reviews\n",
    "**Testing Your Knowledge of:** Debugging Code\n",
    "\n",
    "<br>\n",
    "One skill you will need to develop in this course is the ability to debug your solution. Errors are bound to happen, but good programmers can spot and rectify them. This exercise is all about pinpointing errors.\n",
    "\n",
    "In the cell below, we were careless coders, and our implementation of the function **count_words()** is buggy. Your task is to identify the issues and fix them by modifying the code accordingly. Correcting all issues will allow you to pass the test cell below. Good luck! \n",
    "\n",
    "Our **count_words** function *intended* to do the following:\n",
    "1. The input argument 'review' is a string.\n",
    "2. The input contains a sequence of zero or more words. A word is a sequence of alphabetic characters, and two words will be separated by one or more contiguous whitespace characters.\n",
    "3. The letters within a word may be uppercase or lowercase.\n",
    "4. The function should return a dictionary. Each key should be a word from the review **in all lowercase letters**. The corresponding value is the number of times that word occurred. \n",
    "\n",
    "\n",
    "For example,\n",
    "```python \n",
    "count_words('This COURSE course changed MY life   it is   so  SO AMAZING amAzing')\n",
    "```\n",
    "should return:\n",
    "\n",
    "```python \n",
    "{'this': 1, 'course': 2, 'changed': 1, 'my': 1, 'life': 1, 'it': 1, 'is': 1, 'so': 2, 'amazing': 2}\n",
    "```\n"
   ]
  },
  {
   "cell_type": "code",
   "execution_count": null,
   "id": "2f46bda4",
   "metadata": {},
   "outputs": [],
   "source": [
    "def count_words(review):\n",
    "    list_words =  review.split(' ')\n",
    "    word_dictionary = {}\n",
    "    for word in list_words:\n",
    "        word_dictionary[word] += 1\n",
    "        \n",
    "    return(word_dictionary)\n"
   ]
  },
  {
   "cell_type": "code",
   "execution_count": null,
   "id": "d6f211bd",
   "metadata": {},
   "outputs": [],
   "source": [
    "## Additional cell for debugging\n",
    "\n",
    "debug_text = 'This COURSE course changed MY life   it is   so  SO AMAZING amAzing'\n",
    "count_words(debug_text)"
   ]
  },
  {
   "cell_type": "code",
   "execution_count": null,
   "id": "3b4622a0",
   "metadata": {},
   "outputs": [],
   "source": [
    "# Test cell: count_words\n",
    "\n",
    "def gen_text():\n",
    "    from random import randrange, choice, choices\n",
    "    from collections import defaultdict\n",
    "    alphabet = ''.join([chr(k) for k in range(ord('a'), ord('z')+1)])\n",
    "    def gen_word(max_len=10):\n",
    "        return ''.join(choices(alphabet, k=randrange(1, max_len+1)))\n",
    "    def gen_vocab(max_len=5):\n",
    "        return {gen_word(): 0 for _ in range(randrange(1, max_len+1))}\n",
    "    def randomize_case(w):\n",
    "        if len(w) == 1:\n",
    "            return choice(w + w.upper())\n",
    "        return ''.join([randomize_case(c) for c in w])\n",
    "    def gen_sep(max_len=5, min_len=1):\n",
    "        return ' ' * randrange(min_len, max_len+1)\n",
    "    def gen_sentence(vocab, max_len=20):\n",
    "        sentence = gen_sep(min_len=0)\n",
    "        for i in range(randrange(0, max_len)):\n",
    "            word_i = choice(list(vocab.keys()))\n",
    "            vocab[word_i] += 1\n",
    "            sentence += randomize_case(word_i) + gen_sep(randrange(1, 5))\n",
    "        if randrange(0, 2):\n",
    "            sentence.rstrip()\n",
    "        return sentence\n",
    "    def remove_zero_counts(vocab):\n",
    "        return {w: c for w, c in vocab.items() if c > 0}\n",
    "    \n",
    "    vocab = gen_vocab()\n",
    "    sentence = gen_sentence(vocab)\n",
    "    vocab_soln = remove_zero_counts(vocab)\n",
    "    return sentence, vocab_soln\n",
    "\n",
    "for _ in range(10):\n",
    "    sentence, answer = gen_text()\n",
    "    your_answer = count_words(sentence)\n",
    "    assert your_answer == answer, f\"Your solution did not work on the following input:\\n'{sentence}'\\nYou produced: {your_answer}\"\n",
    "    \n",
    "assert len(count_words('')) == 0\n",
    "assert len(count_words('     ')) == 0\n",
    "    \n",
    "print(\"\\n(Passed!)\")"
   ]
  }
 ],
 "metadata": {
  "kernelspec": {
   "display_name": "Python 3 (ipykernel)",
   "language": "python",
   "name": "python3"
  },
  "language_info": {
   "codemirror_mode": {
    "name": "ipython",
    "version": 3
   },
   "file_extension": ".py",
   "mimetype": "text/x-python",
   "name": "python",
   "nbconvert_exporter": "python",
   "pygments_lexer": "ipython3",
   "version": "3.10.6"
  }
 },
 "nbformat": 4,
 "nbformat_minor": 5
}
