{
 "cells": [
  {
   "cell_type": "markdown",
   "metadata": {},
   "source": [
    "# Python Data Structures: Dictionaries Pt. 1"
   ]
  },
  {
   "cell_type": "markdown",
   "metadata": {},
   "source": [
    "## Recap"
   ]
  },
  {
   "cell_type": "markdown",
   "metadata": {},
   "source": [
    "### What are Data Structures?"
   ]
  },
  {
   "cell_type": "markdown",
   "metadata": {},
   "source": [
    "As [Wikipedia summarizes](https://en.wikipedia.org/wiki/Data_structure), a data structure is a tool for organizing, managing, and storing data. They make it possible to organize collections of similar information.\n",
    "\n",
    "- For example, if we have 20 students in a class, we might store the 20 scores for the first exam in a tuple.\n",
    "  - Now, all of the data for the exam are grouped together in a structured way!\n",
    "- This makes it possible for us to more easily calculate various statistics, such as the mean, minimum, or maximum."
   ]
  },
  {
   "cell_type": "code",
   "execution_count": null,
   "metadata": {},
   "outputs": [],
   "source": [
    "# BAD PRACTICE --------------------------------------------------------\n",
    "## This is not a good idea!\n",
    "score_1 = 0.89\n",
    "score_2 = 0.74\n",
    "score_3 = 0.97\n",
    "score_4 = 0.83\n",
    "## etc...\n",
    "## Calculating summary statistics will involve writing a lot of\n",
    "## code, and it will be tough to make it reuseable.\n",
    "\n",
    "# BETTER PRACTICE -----------------------------------------------------\n",
    "## Here, we use a tuple to group our exam scores\n",
    "## together!\n",
    "exam_scores = (0.89, 0.74, 0.97, 0.83)\n",
    "\n",
    "## Calculating the summary statistics will be much easier!\n",
    "from statistics import mean\n",
    "\n",
    "print(min(exam_scores)) # Minimum\n",
    "print(max(exam_scores)) # Maximum\n",
    "print(mean(exam_scores)) # Mean"
   ]
  },
  {
   "cell_type": "markdown",
   "metadata": {},
   "source": [
    "> It can be helpful to think of a data structure as a \"container\" which holds information. For example, a filing cabinet is a sort of real-world data structure!\n",
    "\n",
    "There are many different types of data structures. Each has its own strengths and weakness, such as:\n",
    "\n",
    "- How fast is it to add or remove information from these data structures?\n",
    "- How fast is it to retrieve information from the structure?\n",
    "\n",
    "Python's official [Tutorial](https://docs.python.org/3/tutorial/datastructures.html) lists several important built-in data structures. Let's quickly review a few that we've already seen."
   ]
  },
  {
   "cell_type": "markdown",
   "metadata": {},
   "source": [
    "### What Data Structures Have we Already Discussed?"
   ]
  },
  {
   "cell_type": "markdown",
   "metadata": {},
   "source": [
    "You should already be familiar with the following data structures:\n",
    "\n",
    "- Tuples\n",
    "  - Immutable\n",
    "  - Ordered (in a \"sequence\")\n",
    "  - Indexed by position\n",
    "- Lists\n",
    "  - Mutable\n",
    "  - Ordered (in a \"sequence\")\n",
    "  - Indexed by position\n",
    "- Sets\n",
    "  - Mutable\n",
    "  - Unordered\n",
    "  - Unique (no repeated values)\n",
    "\n",
    "We have already discussed some of the key properties of these data structures in this bootcamp. Please see the relevant notebooks for further details, or check the relevant sections of the [Types Page in the Python Documentation](https://docs.python.org/3/library/stdtypes.html) if you want even more information."
   ]
  },
  {
   "cell_type": "markdown",
   "metadata": {},
   "source": [
    "### Names, and the Limitations of Tuples and Lists"
   ]
  },
  {
   "cell_type": "markdown",
   "metadata": {},
   "source": [
    "Let's revisit our example from earlier:"
   ]
  },
  {
   "cell_type": "code",
   "execution_count": null,
   "metadata": {},
   "outputs": [],
   "source": [
    "# BAD PRACTICE\n",
    "## This is not a good idea! ... right?\n",
    "score_1 = 0.89\n",
    "score_2 = 0.74\n",
    "score_3 = 0.97\n",
    "score_4 = 0.83\n",
    "## etc...\n",
    "\n",
    "# BETTER PRACTICE\n",
    "exam_scores = (0.89, 0.74, 0.97, 0.83)"
   ]
  },
  {
   "cell_type": "markdown",
   "metadata": {},
   "source": [
    "The first approach to storing information makes it much harder to organize our data. However, it has one advantage which we lose when we put the information in a tuple: we no longer know which score belongs to which student!\n",
    "\n",
    "It might be nice to associate some *name*, or a **key**, with each of the **values** in our data structure. That way, we would be able to associate two different pieces of data with each other, namely:\n",
    "- The ID of the student (the **key**)\n",
    "- Their exam score (the **value**)\n",
    "\n",
    "Luckily, Python provides us with an incredibly powerful built-in data structure for doing exactly this: [Dictionaries](https://docs.python.org/3/tutorial/datastructures.html#dictionaries).\n",
    "\n",
    "> See the documentation page for more details: https://docs.python.org/3/library/stdtypes.html#mapping-types-dict"
   ]
  },
  {
   "cell_type": "markdown",
   "metadata": {},
   "source": [
    "## Overview of Dictionaries"
   ]
  },
  {
   "cell_type": "markdown",
   "metadata": {},
   "source": [
    "### Dictionaries Map \"Keys\" to \"Values\""
   ]
  },
  {
   "cell_type": "markdown",
   "metadata": {},
   "source": [
    "Dictionaries are Python's implementation of a [hash table data structure](https://en.wikipedia.org/wiki/Hash_table). They make it easy to pair a **key** with a **value**. This makes it possible for us to group similar pieces of information together *and* give them some sort of name, or ID. For example:"
   ]
  },
  {
   "cell_type": "code",
   "execution_count": null,
   "metadata": {},
   "outputs": [],
   "source": [
    "# BAD PRACTICE --------------------------------------------------------\n",
    "## This is not a good idea!\n",
    "score_1 = 0.89\n",
    "score_2 = 0.74\n",
    "score_3 = 0.97\n",
    "score_4 = 0.83\n",
    "## etc...\n",
    "\n",
    "# GOOD PRACTICE -------------------------------------------------------\n",
    "## Our scores are now grouped together, AND we still know which student\n",
    "## earned each score!\n",
    "exam_scores = {\n",
    "    \"Student 1\": 0.89,\n",
    "    \"Student 2\": 0.74,\n",
    "    \"Student 3\": 0.97,\n",
    "    \"Student 4\": 0.83\n",
    "}"
   ]
  },
  {
   "cell_type": "markdown",
   "metadata": {},
   "source": [
    "This is similar to how dictionaries work in real life! If we know a **word**, we can look up the **definition**. In Python, if we know the **key**, we can look up the **value**."
   ]
  },
  {
   "cell_type": "markdown",
   "metadata": {},
   "source": [
    "### Examples of Key-Value Pairs"
   ]
  },
  {
   "cell_type": "markdown",
   "metadata": {},
   "source": [
    "We see relationships between keys and values in a myriad of places in the real world. Here are a few examples.\n",
    "\n",
    "- Matching employee email addresses (keys) with their legal names (values)\n",
    "- Matching a sports team (key) with their season record (value)\n",
    "- Matching a TV show (key) with its episode ratings (values)"
   ]
  },
  {
   "cell_type": "markdown",
   "metadata": {},
   "source": [
    "### Properties of Dictionaries"
   ]
  },
  {
   "cell_type": "markdown",
   "metadata": {},
   "source": [
    "Dictionaries have the following properties, relevant to our use in this class:\n",
    "\n",
    "- **Unordered**\n",
    "  - They contain keys and values with no inherent ordering.\n",
    "- **Unique Keys, Arbitrary Values**\n",
    "  - A dictionary can only contain one value for a given key.\n",
    "  - A dictionary can have many keys pointing to the same value.\n",
    "- **Indexable through a key-based index**\n",
    "  - They allow you to access their values by using keys.\n",
    "- **Mutable**\n",
    "  - They support in-place mutations and changes to their contained values.\n",
    "  - They support growing or shrinking operations.\n",
    "- **Heterogeneous**\n",
    "  - They can store keys and values of different data types and domains.\n",
    "    - Dictionary values may be mutable or immutable.\n",
    "    - Dictionary keys **must be immutable**.\n",
    "- **Nestable**\n",
    "  - Their values can consist of arbitrary data. For example, you may build a dictionary of dictionaries.\n",
    "- **Iterable**\n",
    "  - They support iteration, so you can traverse them using a loop or comprehension while you perform operations on **each of their keys**.\n",
    "- **Unsliceable**\n",
    "  - Extracting a subset of elements from a dictionary will require using filtering.\n",
    "- **Combinable**\n",
    "  - They support concatenation operations, so you can combine two or more dictionaries using the merge operation.\n",
    "  - This can be done to update the existing dictionary, or create a new dictionary.\n",
    "\n",
    "Let's look at some examples of how to use dictionaries in Python."
   ]
  },
  {
   "cell_type": "markdown",
   "metadata": {},
   "source": [
    "## Basic Dictionary Use"
   ]
  },
  {
   "cell_type": "markdown",
   "metadata": {},
   "source": [
    "### Construction"
   ]
  },
  {
   "cell_type": "markdown",
   "metadata": {},
   "source": [
    "There are two main ways to create a Python dictionary:\n",
    "\n",
    "1. Using Curly Braces (also called a \"literal\")\n",
    "2. Using the `dict()` function\n",
    "\n",
    "Let's see some examples. The following code will create two empty dictionaries, and then populate them with values."
   ]
  },
  {
   "cell_type": "code",
   "execution_count": null,
   "metadata": {},
   "outputs": [],
   "source": [
    "# Constructing a new Dictionary\n",
    "dictionary1 = {} # Curly braces method\n",
    "dictionary2 = dict() # Dict method\n",
    "\n",
    "# Populate the dictionary\n",
    "dictionary1[\"key1\"] = \"value1\"\n",
    "dictionary2[\"key2\"] = \"value2\"\n",
    "\n",
    "print(f\"Dictionary 1: {dictionary1}\")\n",
    "print(f\"Dictionary 2: {dictionary2}\")"
   ]
  },
  {
   "cell_type": "markdown",
   "metadata": {},
   "source": [
    "We'll talk more about lines 4-6 (\"Populate the Dictionary\") in the [Growing and Shrinking](#growing-and-shrinking) section.\n",
    "\n",
    "What if we already have a collection of keys and values? We can use any of the following methods to create the dictionary:"
   ]
  },
  {
   "cell_type": "code",
   "execution_count": null,
   "metadata": {},
   "outputs": [],
   "source": [
    "# Keyword argument list\n",
    "dictionary1 = dict(key1=\"value1\", key2=\"value2\")\n",
    "\n",
    "# Dictionary literal\n",
    "dictionary2 = {\"key3\":\"value3\", \"key4\":\"value4\"}\n",
    "\n",
    "# List of tuples\n",
    "dictionary3 = dict([\n",
    "    (\"key5\", \"value5\"),\n",
    "    (\"key6\", \"value6\")\n",
    "])\n",
    "\n",
    "# Display the dictionary\n",
    "print(f\"Dictionary 1: {dictionary1}\")\n",
    "print(f\"Dictionary 2: {dictionary2}\")\n",
    "print(f\"Dictionary 3: {dictionary3}\")"
   ]
  },
  {
   "cell_type": "markdown",
   "metadata": {},
   "source": [
    "### Indexing"
   ]
  },
  {
   "cell_type": "markdown",
   "metadata": {},
   "source": [
    "We can think of the act of \"looking up\" a value for a given key as a type of **indexing**. Actually, we've already seen indexing when we looked at lists and tuples! Let's recap how that works.\n",
    "\n",
    "- Lists and tuples facilitate **indexing** by *ordering* their values.\n",
    "- We can use the order of the sequence to index by using integers.\n",
    "  - The index is the *position* of the value in the sequence. For example: "
   ]
  },
  {
   "cell_type": "code",
   "execution_count": null,
   "metadata": {},
   "outputs": [],
   "source": [
    "# Say we have a list of four food items\n",
    "food_items = [\"apple\" , \"chicken\" , \"eggs\" , \"bread\"]\n",
    "# What is the value in position 2? (remember, we start at 0)\n",
    "food_items[2]"
   ]
  },
  {
   "cell_type": "markdown",
   "metadata": {},
   "source": [
    "Python's syntax for indexing values from a list/tuple and a dictionary are identical! However, instead of using a *position* (remember, dictionaries have *no order*), we use the **key** to index the **value**."
   ]
  },
  {
   "cell_type": "code",
   "execution_count": null,
   "metadata": {},
   "outputs": [],
   "source": [
    "# Maybe we want to keep track of how many containers we have of each food?\n",
    "food_items = {\n",
    "    \"apple\": 2,\n",
    "    \"chicken\": 1,\n",
    "    \"eggs\": 4,\n",
    "    \"bread\": 2\n",
    "}\n",
    "# How many containers of eggs do we have?\n",
    "food_items[\"eggs\"]"
   ]
  },
  {
   "cell_type": "markdown",
   "metadata": {},
   "source": [
    "What happens if we try to index on a key which isn't in the dictionary?"
   ]
  },
  {
   "cell_type": "code",
   "execution_count": null,
   "metadata": {},
   "outputs": [],
   "source": [
    "# How much candy do we have?\n",
    "try:\n",
    "    food_items[\"candy\"]\n",
    "except KeyError:\n",
    "    print(\"Uh oh! This will give you an error!\")"
   ]
  },
  {
   "cell_type": "markdown",
   "metadata": {},
   "source": [
    "We can see that this causes Python to raise an KeyError! One way to avoid this problem is to use the `.get()` method. This allows you to specify a default value if the key is not present in the dictionary. You could also use a Default Dictionary, which we will discuss later."
   ]
  },
  {
   "cell_type": "code",
   "execution_count": null,
   "metadata": {},
   "outputs": [],
   "source": [
    "# Let's use .get() instead\n",
    "food_items.get(\"candy\", 0)"
   ]
  },
  {
   "cell_type": "markdown",
   "metadata": {},
   "source": [
    "### Iteration"
   ]
  },
  {
   "cell_type": "markdown",
   "metadata": {},
   "source": [
    "We can treat Python Dictionaries as *iterables*. This means we can loop over them like we can with lists or tuples.\n",
    "\n",
    "- You **should not rely on the elements being presented in a certain order**.\n",
    "- Iterating over a dictionary will iterate over the **keys**, not the values!"
   ]
  },
  {
   "cell_type": "code",
   "execution_count": null,
   "metadata": {},
   "outputs": [],
   "source": [
    "# Create a Harry Potter dictionary\n",
    "harry_potter_dict = {\n",
    "    \"Harry Potter\": \"Gryffindor\",\n",
    "    \"Ron Weasley\": \"Gryffindor\",\n",
    "    \"Hermione Granger\": \"Gryffindor\",\n",
    "    \"Draco Malfoy\": \"Slytherin\"\n",
    "}\n",
    "\n",
    "# Let's see which house each character belongs to\n",
    "for character in harry_potter_dict:\n",
    "    # We can use the key to get the value when we iterate!\n",
    "    house = harry_potter_dict[character]\n",
    "    # Print the result\n",
    "    print(f\"{character} belongs to {house} house.\")"
   ]
  },
  {
   "cell_type": "markdown",
   "metadata": {},
   "source": [
    "### Dictionary Size and Checking for Membership"
   ]
  },
  {
   "cell_type": "markdown",
   "metadata": {},
   "source": [
    "- We can use the `len()` function to determine how many keys are in our dictionary.\n",
    "- We can use the `key in d` expression to determine whether a key is in a dictionary."
   ]
  },
  {
   "cell_type": "code",
   "execution_count": null,
   "metadata": {},
   "outputs": [],
   "source": [
    "# How many characters are in our dictionary?\n",
    "print(len(harry_potter_dict))\n",
    "\n",
    "# Is Harry Potter one of the keys?\n",
    "print(\"Harry Potter\" in harry_potter_dict)"
   ]
  },
  {
   "cell_type": "markdown",
   "metadata": {},
   "source": [
    "### Adding Elements"
   ]
  },
  {
   "cell_type": "markdown",
   "metadata": {},
   "source": [
    "We can dynamically add elements to a Python dictionary. Let's look at how we can do that.\n",
    "\n",
    "- Method 1: \"Assign\" a value to a non-existent key.\n",
    "- Method 2: Use the `.update()` method to add many keys and values at the same time.\n",
    "  - We can store new key-value pairs in a dictionary or an iterable\n",
    "- Method 3: Use the `.setdefault()` method to add a key and value, but *only if the key does not already exist.*\n",
    "\n",
    "**IMPORTANT**: Methods 1 and 2 will **remap** the existing values for the given keys! If this is not what you want to have happen, you should implement a check where you see whether a key is already in the dictionary before assigning a value (or use Method 3)."
   ]
  },
  {
   "cell_type": "code",
   "execution_count": 37,
   "metadata": {},
   "outputs": [
    {
     "name": "stdout",
     "output_type": "stream",
     "text": [
      "Starting Dictionary: \n",
      "{'Harry Potter': 'Gryffindor', 'Hermione Granger': 'Gryffindor'}\n"
     ]
    }
   ],
   "source": [
    "# This is a helper function for printing our dictionaries\n",
    "from pprint import pprint\n",
    "\n",
    "# Create a Harry Potter dictionary\n",
    "harry_potter_dict = {\n",
    "    \"Harry Potter\": \"Gryffindor\",\n",
    "    \"Hermione Granger\": \"Gryffindor\"\n",
    "}\n",
    "\n",
    "# Custom printer (ignore)\n",
    "def pretty_print(text):\n",
    "    print(text)\n",
    "    pprint(harry_potter_dict)\n",
    "\n",
    "# Display the dictionary\n",
    "pretty_print(\"Starting Dictionary: \")"
   ]
  },
  {
   "cell_type": "code",
   "execution_count": 38,
   "metadata": {},
   "outputs": [
    {
     "name": "stdout",
     "output_type": "stream",
     "text": [
      "After Method 1:\n",
      "{'Harry Potter': 'Gryffindor',\n",
      " 'Hermione Granger': 'Gryffindor',\n",
      " 'Ron Weasley': 'Gryffindor'}\n"
     ]
    }
   ],
   "source": [
    "# METHOD 1 ------------------------------------------------------------\n",
    "harry_potter_dict[\"Ron Weasley\"] = \"Gryffindor\"\n",
    "\n",
    "# Display the dictionary\n",
    "pretty_print(\"After Method 1:\")"
   ]
  },
  {
   "cell_type": "code",
   "execution_count": 39,
   "metadata": {},
   "outputs": [
    {
     "name": "stdout",
     "output_type": "stream",
     "text": [
      "After Method 2:\n",
      "{'Albus Dumbledore': 'Gryffindor',\n",
      " 'Cedric Diggory': 'Hufflepuff',\n",
      " 'Draco Malfoy': 'Slytherin',\n",
      " 'Harry Potter': 'Gryffindor',\n",
      " 'Hermione Granger': 'Gryffindor',\n",
      " 'Luna Lovegood': 'Ravenclaw',\n",
      " 'Ron Weasley': 'Gryffindor'}\n"
     ]
    }
   ],
   "source": [
    "# METHOD 2 ------------------------------------------------------------\n",
    "# Use a dictionary to update a dictionary\n",
    "add_characters_1 = {\n",
    "    \"Albus Dumbledore\": \"Gryffindor\",\n",
    "    \"Luna Lovegood\": \"Ravenclaw\"\n",
    "}\n",
    "\n",
    "# Use iterables to update a dictionary\n",
    "add_characters_2 = [\n",
    "    [\"Draco Malfoy\", \"Slytherin\"],\n",
    "    [\"Cedric Diggory\", \"Hufflepuff\"]\n",
    "]\n",
    "\n",
    "# Merge dictionaries\n",
    "harry_potter_dict.update(add_characters_1)\n",
    "harry_potter_dict.update(add_characters_2)\n",
    "\n",
    "# Display the dictionary\n",
    "pretty_print(\"After Method 2:\")"
   ]
  },
  {
   "cell_type": "code",
   "execution_count": 40,
   "metadata": {},
   "outputs": [
    {
     "name": "stdout",
     "output_type": "stream",
     "text": [
      "After Method 3:\n",
      "{'Albus Dumbledore': 'Gryffindor',\n",
      " 'Cedric Diggory': 'Hufflepuff',\n",
      " 'Draco Malfoy': 'Slytherin',\n",
      " 'Harry Potter': 'Gryffindor',\n",
      " 'Hermione Granger': 'Gryffindor',\n",
      " 'Luna Lovegood': 'Ravenclaw',\n",
      " 'Ron Weasley': 'Gryffindor',\n",
      " 'Rubeus Hagrid': 'Gryffindor'}\n"
     ]
    }
   ],
   "source": [
    "# METHOD 3 ------------------------------------------------------------\n",
    "# Adding a new character, but only if the key doesn't already exist\n",
    "harry_potter_dict.setdefault(\"Rubeus Hagrid\", \"Gryffindor\")\n",
    "\n",
    "# Let's try to add a character to the wrong house\n",
    "harry_potter_dict.setdefault(\"Harry Potter\", \"Slytherin\")\n",
    "\n",
    "# Display the dictionary (Notice Harry Potter's House hasn't changed)\n",
    "pretty_print(\"After Method 3:\")"
   ]
  },
  {
   "cell_type": "markdown",
   "metadata": {},
   "source": [
    "### Removing Elements"
   ]
  },
  {
   "cell_type": "markdown",
   "metadata": {},
   "source": [
    "We can also dynamically remove elements from a Python dictionary.\n",
    "\n",
    "- Method 1: Use the `del` keyword.\n",
    "  - **WARNING:** This will cause Python to raise an error if the key does not exist in your dictionary already!\n",
    "- Method 2: Use the `.pop()` method.\n",
    "  - If you specify a default value, this will not raise an error if the key does not exist."
   ]
  },
  {
   "cell_type": "code",
   "execution_count": 43,
   "metadata": {},
   "outputs": [
    {
     "name": "stdout",
     "output_type": "stream",
     "text": [
      "After Method 1:\n",
      "{'Albus Dumbledore': 'Gryffindor',\n",
      " 'Cedric Diggory': 'Hufflepuff',\n",
      " 'Draco Malfoy': 'Slytherin',\n",
      " 'Harry Potter': 'Gryffindor',\n",
      " 'Hermione Granger': 'Gryffindor',\n",
      " 'Luna Lovegood': 'Ravenclaw',\n",
      " 'Rubeus Hagrid': 'Gryffindor'}\n"
     ]
    }
   ],
   "source": [
    "# METHOD 1 ------------------------------------------------------------\n",
    "if \"Ron Weasley\" in harry_potter_dict:\n",
    "    del harry_potter_dict[\"Ron Weasley\"]\n",
    "\n",
    "# Display the dictionary\n",
    "pretty_print(\"After Method 1:\")"
   ]
  },
  {
   "cell_type": "code",
   "execution_count": 45,
   "metadata": {},
   "outputs": [
    {
     "name": "stdout",
     "output_type": "stream",
     "text": [
      "After Method 2:\n",
      "{'Albus Dumbledore': 'Gryffindor',\n",
      " 'Cedric Diggory': 'Hufflepuff',\n",
      " 'Harry Potter': 'Gryffindor',\n",
      " 'Hermione Granger': 'Gryffindor',\n",
      " 'Luna Lovegood': 'Ravenclaw',\n",
      " 'Rubeus Hagrid': 'Gryffindor'}\n"
     ]
    }
   ],
   "source": [
    "# METHOD 2 ------------------------------------------------------------\n",
    "harry_potter_dict.pop(\"Draco Malfoy\", None)\n",
    "\n",
    "# This key isn't in the dictionary, so if we don't specify a \"Default\"\n",
    "# value (specified as None here), Python will raise an error\n",
    "harry_potter_dict.pop(\"Bilbo Baggins\", None)\n",
    "\n",
    "# Display the dictionary\n",
    "pretty_print(\"After Method 2:\")"
   ]
  },
  {
   "cell_type": "markdown",
   "metadata": {},
   "source": [
    "### Mutating"
   ]
  },
  {
   "cell_type": "markdown",
   "metadata": {},
   "source": [
    "Remember, dictionary keys must be *unique*. If we assign a new value to an existing key, the dictionary will remap the relationship!"
   ]
  },
  {
   "cell_type": "code",
   "execution_count": 47,
   "metadata": {},
   "outputs": [
    {
     "name": "stdout",
     "output_type": "stream",
     "text": [
      "Harry Potter has now graduated!\n",
      "{'Albus Dumbledore': 'INSTRUCTOR',\n",
      " 'Cedric Diggory': 'Hufflepuff',\n",
      " 'Harry Potter': 'GRADUATED',\n",
      " 'Hermione Granger': 'GRADUATED',\n",
      " 'Luna Lovegood': 'Ravenclaw',\n",
      " 'Rubeus Hagrid': 'INSTRUCTOR'}\n"
     ]
    }
   ],
   "source": [
    "# Remapping with assignment\n",
    "harry_potter_dict[\"Harry Potter\"] = \"GRADUATED\"\n",
    "\n",
    "# Remapping with .update()\n",
    "harry_potter_dict.update({\n",
    "    \"Hermione Granger\": \"GRADUATED\",\n",
    "    \"Albus Dumbledore\": \"INSTRUCTOR\",\n",
    "    \"Rubeus Hagrid\": \"INSTRUCTOR\"\n",
    "})\n",
    "\n",
    "# Display the dictionary\n",
    "pretty_print(\"Harry Potter has now graduated!\")"
   ]
  },
  {
   "cell_type": "markdown",
   "metadata": {},
   "source": [
    "If the value associated with a key is mutable, we can change the value and the dictionary value will reflect those changes. Here's an example."
   ]
  },
  {
   "cell_type": "code",
   "execution_count": 58,
   "metadata": {},
   "outputs": [
    {
     "name": "stdout",
     "output_type": "stream",
     "text": [
      "{'fruits': ['apple', 'pear', 'blueberry', 'kiwi', 'banana']}\n"
     ]
    }
   ],
   "source": [
    "# Create a list, which is mutable\n",
    "fruits = [\"apple\", \"pear\", \"blueberry\"]\n",
    "\n",
    "# Create a dictionary, where one of the values is the list\n",
    "food_types = {\n",
    "    \"fruits\": fruits\n",
    "}\n",
    "\n",
    "# Add a new value to the list\n",
    "fruits.append(\"kiwi\")\n",
    "# Do the same thing by indexing into the dictionary\n",
    "food_types[\"fruits\"].append(\"banana\")\n",
    "\n",
    "# What does the dictionary contain now?\n",
    "print(food_types)"
   ]
  },
  {
   "cell_type": "markdown",
   "metadata": {},
   "source": [
    "### .keys(), .values(), and .items()"
   ]
  },
  {
   "cell_type": "markdown",
   "metadata": {},
   "source": [
    "Each of these methods will let you access the contents of the dictionary as a *sequence*.\n",
    "\n",
    "- `.keys()` will fetch the keys.\n",
    "- `.values()` will fetch the values.\n",
    "- `.items()` will return 2-element tuples containing the key and the value.\n",
    "\n",
    "**N.B.** These can be expensive operations in terms of memory. Be cautious about using them if you have a very large dictionary."
   ]
  },
  {
   "cell_type": "code",
   "execution_count": null,
   "metadata": {},
   "outputs": [],
   "source": [
    "print(harry_potter_dict.keys())"
   ]
  },
  {
   "cell_type": "code",
   "execution_count": null,
   "metadata": {},
   "outputs": [],
   "source": [
    "print(harry_potter_dict.values())"
   ]
  },
  {
   "cell_type": "code",
   "execution_count": null,
   "metadata": {},
   "outputs": [],
   "source": [
    "print(harry_potter_dict.items())"
   ]
  },
  {
   "cell_type": "markdown",
   "metadata": {},
   "source": [
    "## Summary"
   ]
  },
  {
   "cell_type": "markdown",
   "metadata": {},
   "source": [
    "- Dictionaries let you map keys to values.\n",
    "  - You can use them to group similar collections of data and associate the data with meaningful IDs, such as names.\n",
    "- Dictionaries are mutable.\n",
    "  - You can easily add, change, and remove their contents.\n",
    "- There are often several ways to perform the same task with dictionaries.\n",
    "  - Check the documentation if you're not sure how to do a specific operation."
   ]
  },
  {
   "cell_type": "markdown",
   "metadata": {},
   "source": [
    "# Python Data Structures: Dictionaries Pt. 2"
   ]
  },
  {
   "cell_type": "markdown",
   "metadata": {},
   "source": [
    "## More Complex Dictionary Use"
   ]
  },
  {
   "cell_type": "markdown",
   "metadata": {},
   "source": [
    "### Arbitrary Types"
   ]
  },
  {
   "cell_type": "markdown",
   "metadata": {},
   "source": [
    "So far, we have mainly seen dictionaries where we have used strings as the keys. However, we can use any hashable (which usually means immutable) type as a key in a dictionary, and *any* type as a value. \n",
    "- Here's an example of a dictionary where we use:\n",
    "  - Integers as keys\n",
    "  - Lists as the values."
   ]
  },
  {
   "cell_type": "code",
   "execution_count": null,
   "metadata": {},
   "outputs": [],
   "source": [
    "november_birthdays = {\n",
    "    3: [\"John\"],\n",
    "    8: [\"Harriet\", \"Shauna\"],\n",
    "    11: [\"Davonte\"],\n",
    "    25: [\"Elliott\"]\n",
    "}\n",
    "\n",
    "# Who has a birthday on November 8th?\n",
    "november_birthdays[8]"
   ]
  },
  {
   "cell_type": "markdown",
   "metadata": {},
   "source": [
    "### Introduction to Nested Data"
   ]
  },
  {
   "cell_type": "markdown",
   "metadata": {},
   "source": [
    "As a quick demonstration, let's show that we can store arbitrary values in a dictionary.\n",
    "\n",
    "The cell below creates a dictionary which maps strings to other, distinct dictionaries. Those dictionaries then map strings to lists. So, the structure is:\n",
    "\n",
    "- Parent Dictionary:\n",
    "  - Sci Fi Dictionary\n",
    "    - List of Books by Author\n",
    "  - Fantasy Dictionary\n",
    "    - List of Books by Author\n",
    "\n",
    "If this seems like a lot to take in, we'll spend more time on this topic later. For now, just know that we can nest data structures like this to create a hierarchy of relationships."
   ]
  },
  {
   "cell_type": "code",
   "execution_count": 50,
   "metadata": {},
   "outputs": [
    {
     "name": "stdout",
     "output_type": "stream",
     "text": [
      "The internal Fantasy Dictionary:\n",
      "{'Jemisin': ['The Fifth Season', 'The Obelisk Gate', 'The Stone Sky'],\n",
      " 'Le Guin': ['A Wizard of Earthsea',\n",
      "             'The Tombs of Atuan',\n",
      "             'The Farthest Shore'],\n",
      " 'Peake': ['Boy in Darkness', 'Titus Groan', 'Gormenghast', 'Titus Alone']}\n",
      "Fantasy Books Written by Ursula K. Le Guin:\n",
      "['A Wizard of Earthsea', 'The Tombs of Atuan', 'The Farthest Shore']\n"
     ]
    }
   ],
   "source": [
    "# Here, we use several nested dictionaries to organize a collection\n",
    "# of fiction\n",
    "fiction_catalogue = {\n",
    "    \"Science Fiction\": {\n",
    "        \"Gibson\": [\"Burning Chrome\", \"Neuromancer\", \"Count Zero\", \"Mona Lisa Overdrive\"],\n",
    "        \"Le Guin\": [\"The Left Hand of Darkness\", \"The Telling\"],\n",
    "        \"Stevenson\": [\"Snow Crash\"]\n",
    "    },\n",
    "    \"Fantasy\": {\n",
    "        \"Peake\": [\"Boy in Darkness\", \"Titus Groan\", \"Gormenghast\", \"Titus Alone\"],\n",
    "        \"Le Guin\": [\"A Wizard of Earthsea\", \"The Tombs of Atuan\", \"The Farthest Shore\"],\n",
    "        \"Jemisin\": [\"The Fifth Season\", \"The Obelisk Gate\", \"The Stone Sky\"],\n",
    "    }\n",
    "}\n",
    "\n",
    "\n",
    "# What if we only want Fantasy books?\n",
    "fantasy_catalogue = fiction_catalogue[\"Fantasy\"]\n",
    "print(\"The internal Fantasy Dictionary:\")\n",
    "pprint(fantasy_catalogue)\n",
    "\n",
    "# OK, let's see what Ursula K. Le Guin wrote.\n",
    "le_guin_catalogue = fantasy_catalogue[\"Le Guin\"]\n",
    "print(\"Fantasy Books Written by Ursula K. Le Guin:\")\n",
    "print(le_guin_catalogue)"
   ]
  },
  {
   "cell_type": "markdown",
   "metadata": {},
   "source": [
    "### Heterogeneous Python Dictionaries"
   ]
  },
  {
   "cell_type": "markdown",
   "metadata": {},
   "source": [
    "So far, we have mainly seen dictionaries which consistently map one *type* of data to another type.\n",
    "\n",
    "- For example, the key is a string and the value is an integer.\n",
    "\n",
    "However, Python dictionaries allow you to mix and match within a dictionary. The dictionary below has two entries with the following structure:\n",
    "\n",
    "- Key: tuple -> Value: list\n",
    "- Key: string -> Value: dictionary\n",
    "  - Key: string -> Value: int\n",
    "  - Key: int -> Value: tuple"
   ]
  },
  {
   "cell_type": "code",
   "execution_count": 51,
   "metadata": {},
   "outputs": [],
   "source": [
    "messy_dictionary = {\n",
    "    (1, 2): [\"This\", \"is\", \"a\", \"list\", \"with\", \"a\", \"tuple\", \"key\"],\n",
    "    \"dict key\": {\n",
    "        \"example_key\": 1,\n",
    "        0: (3, \"10\")\n",
    "    } \n",
    "}"
   ]
  },
  {
   "cell_type": "markdown",
   "metadata": {},
   "source": [
    "- We're showing you this to point out that you *can* do it.\n",
    "- However, you should probably be thinking very carefully before you do something like this.\n",
    "- Remember, the point of data structures is usually to **group similar pieces of data together**. If you're mixing and matching data types to this degree, your data might not be meaningfully similar enough to store it in one place.\n",
    "  - If you do this sort of thing, you should be acutely aware of how your code might produce unexpected results."
   ]
  },
  {
   "cell_type": "markdown",
   "metadata": {},
   "source": [
    "### Dictionary Comprehensions"
   ]
  },
  {
   "cell_type": "markdown",
   "metadata": {},
   "source": [
    "You might remember that we can create data structures, such as lists, by using **comprehensions**. We can do the same thing for dictionaries. This allows us to combine iteration and our use of literals to concisely build a dictionary.\n",
    "\n",
    "The diagram below shows the syntax rules for constructing dictionaries using comprehensions."
   ]
  },
  {
   "cell_type": "markdown",
   "metadata": {},
   "source": [
    "![picture](https://raw.githubusercontent.com/gt-cse-6040/skills_oh_week_02/main/Screenshot%202023-01-22%20074704.png)"
   ]
  },
  {
   "cell_type": "markdown",
   "metadata": {},
   "source": [
    "Let's look at an example."
   ]
  },
  {
   "cell_type": "code",
   "execution_count": null,
   "metadata": {},
   "outputs": [
    {
     "name": "stdout",
     "output_type": "stream",
     "text": [
      "{'Alex': 62, 'Bob': 72, 'Carol': 18, 'Dave': 5, 'Flow': 22, 'Katie': 86, 'Nate': 84}\n"
     ]
    }
   ],
   "source": [
    "# We'll create a dictionary which uses the customers as keys\n",
    "# and assigns a random value to them in the dictionary\n",
    "from random import randint\n",
    "customers = [\"Alex\",\"Bob\",\"Carol\",\"Dave\",\"Flow\",\"Katie\",\"Nate\"]\n",
    "\n",
    "# The comprehension\n",
    "discount_dict = {\n",
    "    customer: randint(1,100)\n",
    "    for customer in customers\n",
    "}\n",
    "\n",
    "print(discount_dict)"
   ]
  },
  {
   "cell_type": "markdown",
   "metadata": {},
   "source": [
    "We can also iterate over two data structures simultaneously to create a dictionary with a comprehension."
   ]
  },
  {
   "cell_type": "markdown",
   "metadata": {},
   "source": [
    "![picture](https://raw.githubusercontent.com/gt-cse-6040/skills_oh_week_02/main/Screen%2520Shot%25202022-09-09%2520at%25209.20.39%2520AM.png)"
   ]
  },
  {
   "cell_type": "code",
   "execution_count": null,
   "metadata": {},
   "outputs": [
    {
     "name": "stdout",
     "output_type": "stream",
     "text": [
      "{'Sunday': 30.5, 'Monday': 32.6, 'Tuesday': 31.8, 'Wednesday': 33.4, 'Thursday': 29.8, 'Friday': 30.2, 'Saturday': 29.9}\n"
     ]
    }
   ],
   "source": [
    "# Start by creating two sequences\n",
    "days = [\"Sunday\", \"Monday\",\"Tuesday\",\"Wednesday\",\"Thursday\",\"Friday\",\"Saturday\"]\n",
    "temp_C = [30.5,32.6,31.8,33.4,29.8,30.2,29.9]\n",
    "\n",
    "# Creating a dictionary of weekly tempertaures\n",
    "# from the list of temperatures and days\n",
    "# Note that we will cover zip in some detail next week,\n",
    "# when we also discuss the enumerate function\n",
    "\n",
    "weekly_temp = {day: temp for (day, temp) in zip(days, temp_C)}\n",
    "\n",
    "print(weekly_temp)"
   ]
  },
  {
   "cell_type": "markdown",
   "metadata": {},
   "source": [
    "## Dictionary-Like Containers: Counters and Default Dictionaries"
   ]
  },
  {
   "cell_type": "markdown",
   "metadata": {},
   "source": [
    "### Why Do These Exist?"
   ]
  },
  {
   "cell_type": "markdown",
   "metadata": {},
   "source": [
    "Dictionaries are very flexible data structures. There are a few common use-cases for them, and it might be nice to have something slightly customized for those purposes.\n",
    "- These types are provided through Python's built-in [Collections module](https://docs.python.org/3/library/collections.html#). Follow this link for more details.\n",
    "- We'll be focusing on the following types here:\n",
    "  - Counters\n",
    "  - Default Dictionaries\n",
    "- **N.B.** Counters and Default Dictionaries are just subclasses of dictionaries\n",
    "  - We can verify this by running the following code cell\n",
    "  - It shows us that counters and default dictionaries are, in fact, dictionaries"
   ]
  },
  {
   "cell_type": "code",
   "execution_count": 70,
   "metadata": {},
   "outputs": [
    {
     "name": "stdout",
     "output_type": "stream",
     "text": [
      "Is a counter a dictionary? True\n",
      "Is a default dictionary a dictionary? True\n"
     ]
    }
   ],
   "source": [
    "from collections import Counter, defaultdict\n",
    "print(\"Is a counter a dictionary?\", isinstance(Counter(), dict))\n",
    "print(\"Is a default dictionary a dictionary?\", isinstance(defaultdict(), dict))"
   ]
  },
  {
   "cell_type": "markdown",
   "metadata": {},
   "source": [
    "**IMPORTANT!** Sometimes, our autograder may require your solution to be a regular dictionary. In these cases, you may still use a counter or defaultdict to solve the problem. You will simply need to cast your container to a dictionary at the end of your solution. You can do this by writing calling `dict(my_container)`, where `my_container` is your default dictionary or counter."
   ]
  },
  {
   "cell_type": "markdown",
   "metadata": {},
   "source": [
    "### Counters"
   ]
  },
  {
   "cell_type": "markdown",
   "metadata": {},
   "source": [
    "[Counters](https://docs.python.org/3/library/collections.html#collections.Counter) allow us to quickly and easily build dictionaries which store the count of elements contained in an iterable.\n",
    "- For example, suppose we wish to count the number of occurrences of a character in a string.\n",
    "  - Here's a sample string: `s = \"bbbaaaabaaa\"`\n",
    "  - In this case, `'a'` occurs 7 times and `'b'` occurs 4 times.\n",
    "- Let's say we want to construct a dictionary `count` such that `count['a'] == 7` and `count['b'] == 4`.\n",
    "  - Method 1 in the cell below does _not_ work! Try uncommenting it to see.\n",
    "    - We need to initialize the count to 0 for every new unique key.\n",
    "  - Method 2 works, but is pretty verbose. Do we really have to write all of this every time we want to count elements and store them in a dictionary?"
   ]
  },
  {
   "cell_type": "code",
   "execution_count": 61,
   "metadata": {},
   "outputs": [
    {
     "data": {
      "text/plain": [
       "{'b': 4, 'a': 7}"
      ]
     },
     "execution_count": 61,
     "metadata": {},
     "output_type": "execute_result"
    }
   ],
   "source": [
    "# Defining our string\n",
    "s = \"bbbaaaabaaa\"\n",
    "\n",
    "# METHOD 1 (does not work!) -------------------------------------------\n",
    "#count = {}\n",
    "#for c in s:\n",
    "#    count[c] += 1\n",
    "#count\n",
    "\n",
    "# METHOD 2 (works, but pretty long!) ----------------------------------\n",
    "# Create an empty dictionary\n",
    "count = {}\n",
    "for c in s:\n",
    "    # Check for membership\n",
    "    if c not in count:\n",
    "        count[c] = 0\n",
    "    assert c in count\n",
    "    # Update the count\n",
    "    count[c] += 1\n",
    "count"
   ]
  },
  {
   "cell_type": "markdown",
   "metadata": {},
   "source": [
    "Counters let us do this automatically. Here's the same task, but by using a counter."
   ]
  },
  {
   "cell_type": "code",
   "execution_count": 75,
   "metadata": {},
   "outputs": [
    {
     "name": "stdout",
     "output_type": "stream",
     "text": [
      "Initial : Counter({'a': 7, 'b': 4})\n",
      "Updated: Counter({'a': 10, 'b': 6, 'c': 1, 'd': 1})\n",
      "How many times have we seen the letter \"z\"?  0\n"
     ]
    }
   ],
   "source": [
    "from collections import Counter\n",
    "\n",
    "# Create the counter\n",
    "count = Counter(s)\n",
    "print ('Initial :', count)\n",
    "\n",
    "# We can add to it by supplying a new iterable and using .update()\n",
    "count.update('abcdaab')\n",
    "print ('Updated:', count)\n",
    "\n",
    "# If a value hasn't occurred, our counter won't throw an error!\n",
    "print('How many times have we seen the letter \"z\"? ', count[\"z\"])"
   ]
  },
  {
   "cell_type": "markdown",
   "metadata": {},
   "source": [
    "### Default Dictionaries"
   ]
  },
  {
   "cell_type": "markdown",
   "metadata": {},
   "source": [
    "Sometimes, you might want to create a dictionary which is guaranteed to behave in certain ways when you try to index on a non-existant key. We can do this with [Default Dictionaries](https://docs.python.org/3/library/collections.html#defaultdict-objects).\n",
    "\n",
    "- Remember, we can use `.get()` to get a default value.\n",
    "  - However, we'll need to specify the default value *each time* we try to retrieve a value\n",
    "  - The default value will *not* be automatically added to the dictionary\n",
    "- Default Dictionaries let us automatically insert a value into the dictionary when we try to index on a non-existant key.\n",
    "  - We do this by giving it a function, which will return some value by default.\n",
    "  - Let's look at an example."
   ]
  },
  {
   "cell_type": "code",
   "execution_count": 89,
   "metadata": {},
   "outputs": [
    {
     "name": "stdout",
     "output_type": "stream",
     "text": [
      "defaultdict(<class 'int'>, {'b': 4, 'a': 7})\n",
      "defaultdict(<function <lambda> at 0x7ff09812d000>,\n",
      "            {'Cedric Diggory': 'Hufflepuff',\n",
      "             'Draco Malfoy': 'Slytherin',\n",
      "             'Harry Potter': 'Gryffindor',\n",
      "             'Hermione Granger': 'Gryffindor',\n",
      "             'Luna Lovegood': 'Ravenclaw',\n",
      "             'Ron Weasley': 'Gryffindor'})\n",
      "Dumbledore's house is: UNKNOWN!\n"
     ]
    }
   ],
   "source": [
    "# Let's create a counter-like dictionary\n",
    "default_count = defaultdict(int)\n",
    "\n",
    "# If a key doesn't exist, it will default to 0 and be added to the\n",
    "# dictionary\n",
    "for c in s:\n",
    "    default_count[c] += 1\n",
    "\n",
    "print(default_count)\n",
    "\n",
    "\n",
    "\n",
    "# What if we want to create a dictionary which returns a default \n",
    "# string?\n",
    "# Let's assume we have a starting dictionary\n",
    "harry_potter_dict = {\n",
    "    \"Harry Potter\": \"Gryffindor\",\n",
    "    \"Ron Weasley\": \"Gryffindor\",\n",
    "    \"Hermione Granger\": \"Gryffindor\",\n",
    "    \"Luna Lovegood\": \"Ravenclaw\",\n",
    "    \"Draco Malfoy\": \"Slytherin\",\n",
    "    \"Cedric Diggory\": \"Hufflepuff\"\n",
    "}\n",
    "# Now, create a default dictionary\n",
    "harry_potter_default = defaultdict(lambda: \"UNKNOWN!\", harry_potter_dict)\n",
    "pprint(harry_potter_default)\n",
    "# What happens if we try to index on a non-existant key?\n",
    "print(\"Dumbledore's house is:\", harry_potter_default[\"Albus Dumbeldore\"])"
   ]
  },
  {
   "cell_type": "markdown",
   "metadata": {},
   "source": [
    "## Memory, Performance, and Limitations"
   ]
  },
  {
   "cell_type": "markdown",
   "metadata": {},
   "source": [
    "### Memory Considerations"
   ]
  },
  {
   "cell_type": "markdown",
   "metadata": {},
   "source": [
    "- In a dictionary, you need to store the key *and* the value.\n",
    "- In a list or tuple, you only need to store the value.\n",
    "\n",
    "So, depending on how you organize things, your dictionary may require more memory.\n",
    "\n",
    "If you use a default dictionary, indexing a new key will use more memory (because you are creating a new record). Keep this in mind if you plan on indexing a lot of arbitrary keys!"
   ]
  },
  {
   "cell_type": "markdown",
   "metadata": {},
   "source": [
    "### What Data Structure is Faster?"
   ]
  },
  {
   "cell_type": "markdown",
   "metadata": {},
   "source": [
    "Python dictionaries allow us to associate a value to a unique key, and then to quickly access this value. It’s a good idea to use them whenever we want to find (lookup for) a certain Python object. We can also use lists for this scope, **but they are much slower than dictionaries.**"
   ]
  },
  {
   "cell_type": "code",
   "execution_count": 84,
   "metadata": {},
   "outputs": [],
   "source": [
    "def find_number_in_list(lst, number):\n",
    "    if number in lst:\n",
    "        return True\n",
    "    else:\n",
    "        return False\n",
    "\n",
    "def find_number_in_dict(dct, number):\n",
    "    if number in dct:\n",
    "        return True\n",
    "    else:\n",
    "        return False\n",
    "\n",
    "short_list = list(range(100))\n",
    "long_list = list(range(10000000))\n",
    "\n",
    "short_dict = {x:x*5 for x in range(1,100)}\n",
    "long_dict = {x:x*5 for x in range(1,10000000)}"
   ]
  },
  {
   "cell_type": "code",
   "execution_count": 85,
   "metadata": {},
   "outputs": [
    {
     "name": "stdout",
     "output_type": "stream",
     "text": [
      "416 ns ± 8.28 ns per loop (mean ± std. dev. of 7 runs, 1,000,000 loops each)\n"
     ]
    }
   ],
   "source": [
    "%timeit find_number_in_list(short_list, 99)"
   ]
  },
  {
   "cell_type": "code",
   "execution_count": 86,
   "metadata": {},
   "outputs": [
    {
     "name": "stdout",
     "output_type": "stream",
     "text": [
      "51.8 ms ± 240 µs per loop (mean ± std. dev. of 7 runs, 10 loops each)\n"
     ]
    }
   ],
   "source": [
    "%timeit find_number_in_list(long_list, 9999999)"
   ]
  },
  {
   "cell_type": "code",
   "execution_count": 87,
   "metadata": {},
   "outputs": [
    {
     "name": "stdout",
     "output_type": "stream",
     "text": [
      "73.4 ns ± 0.863 ns per loop (mean ± std. dev. of 7 runs, 10,000,000 loops each)\n"
     ]
    }
   ],
   "source": [
    "%timeit find_number_in_dict(short_dict, 99)"
   ]
  },
  {
   "cell_type": "code",
   "execution_count": 88,
   "metadata": {},
   "outputs": [
    {
     "name": "stdout",
     "output_type": "stream",
     "text": [
      "90.6 ns ± 0.873 ns per loop (mean ± std. dev. of 7 runs, 10,000,000 loops each)\n"
     ]
    }
   ],
   "source": [
    "%timeit find_number_in_dict(long_dict, 9999999)"
   ]
  },
  {
   "cell_type": "markdown",
   "metadata": {},
   "source": [
    "This is because you have to go through the entire list to get what you want. However, a dictionary will return the value you ask for without going through all keys.\n",
    "\n",
    "**But this keep this in mind - Dictionaries still use more memory than lists, since you need to use space for the keys and the lookup as well, while lists use space only for the values.**"
   ]
  },
  {
   "cell_type": "markdown",
   "metadata": {},
   "source": [
    "### Limitations"
   ]
  },
  {
   "cell_type": "markdown",
   "metadata": {},
   "source": [
    "- Dictionaries do not inherently have an order. If you need to do work with sequences, dictionaries may not do what you want them to do.\n",
    "- Certain scientific computing tasks, like matrix multiplication, can be sped up by using different data structures. Dictionaries may not be a good fit for this sort of work.\n",
    "- Dictionary keys must be unique.\n",
    "\n",
    "Generally, try to avoid using a dictionary if a tuple, list, or set will work instead."
   ]
  },
  {
   "cell_type": "markdown",
   "metadata": {},
   "source": [
    "## Summary"
   ]
  },
  {
   "cell_type": "markdown",
   "metadata": {},
   "source": [
    "- Dictionaries can be used to group other data containers, like lists, tuples, and even other dictionaries.\n",
    "- The [Collections module](https://docs.python.org/3/library/collections.html#) gives us access to Counters and Default Dictionaries.\n",
    "  - These make common tasks which use dictionaries even easier.\n",
    "- Dictionaries tend to be much faster than lists and tuples when we want to check for membership, add, or remove items.\n",
    "  - However, lists and tuples will be better suited for tasks which can be understood by ordering the elements."
   ]
  }
 ],
 "metadata": {
  "kernelspec": {
   "display_name": "Python 3 (ipykernel)",
   "language": "python",
   "name": "python3"
  },
  "language_info": {
   "codemirror_mode": {
    "name": "ipython",
    "version": 3
   },
   "file_extension": ".py",
   "mimetype": "text/x-python",
   "name": "python",
   "nbconvert_exporter": "python",
   "pygments_lexer": "ipython3",
   "version": "3.10.12"
  }
 },
 "nbformat": 4,
 "nbformat_minor": 4
}
