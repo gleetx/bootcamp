{
  "cells": [
    {
      "cell_type": "markdown",
      "metadata": {
        "id": "view-in-github",
        "colab_type": "text"
      },
      "source": [
        "<a href=\"https://colab.research.google.com/github/gleetx/bootcamp/blob/main/Module%200/Session%204/m0s4nb1_dictionaries_part1.ipynb\" target=\"_parent\"><img src=\"https://colab.research.google.com/assets/colab-badge.svg\" alt=\"Open In Colab\"/></a>"
      ]
    },
    {
      "cell_type": "markdown",
      "metadata": {
        "id": "xUZ9IPTzd5KD"
      },
      "source": [
        "# Python Data Structures: Dictionaries Pt. 1"
      ]
    },
    {
      "cell_type": "markdown",
      "metadata": {
        "id": "iObiSgNyd5KF"
      },
      "source": [
        "## Recap"
      ]
    },
    {
      "cell_type": "markdown",
      "metadata": {
        "id": "W2VzcLWad5KG"
      },
      "source": [
        "### What are Data Structures?"
      ]
    },
    {
      "cell_type": "markdown",
      "metadata": {
        "id": "5RKfOp4kd5KG"
      },
      "source": [
        "As [Wikipedia summarizes](https://en.wikipedia.org/wiki/Data_structure), a data structure is a tool for organizing, managing, and storing data. They make it possible to organize collections of similar information.\n",
        "\n",
        "- For example, if we have 20 students in a class, we might store the 20 scores for the first exam in a tuple.\n",
        "  - Now, all of the data for the exam are grouped together in a structured way!\n",
        "- This makes it possible for us to more easily calculate various statistics, such as the mean, minimum, or maximum."
      ]
    },
    {
      "cell_type": "code",
      "execution_count": 1,
      "metadata": {
        "id": "ZfJS3Sh0d5KG",
        "outputId": "1f9de352-9237-4628-e062-4877766b54f6",
        "colab": {
          "base_uri": "https://localhost:8080/"
        }
      },
      "outputs": [
        {
          "output_type": "stream",
          "name": "stdout",
          "text": [
            "0.74\n",
            "0.97\n",
            "0.8574999999999999\n"
          ]
        }
      ],
      "source": [
        "# BAD PRACTICE --------------------------------------------------------\n",
        "## This is not a good idea!\n",
        "score_1 = 0.89\n",
        "score_2 = 0.74\n",
        "score_3 = 0.97\n",
        "score_4 = 0.83\n",
        "## etc...\n",
        "## Calculating summary statistics will involve writing a lot of\n",
        "## code, and it will be tough to make it reuseable.\n",
        "\n",
        "# BETTER PRACTICE -----------------------------------------------------\n",
        "## Here, we use a tuple to group our exam scores\n",
        "## together!\n",
        "exam_scores = (0.89, 0.74, 0.97, 0.83)\n",
        "\n",
        "## Calculating the summary statistics will be much easier!\n",
        "from statistics import mean\n",
        "\n",
        "print(min(exam_scores)) # Minimum\n",
        "print(max(exam_scores)) # Maximum\n",
        "print(mean(exam_scores)) # Mean"
      ]
    },
    {
      "cell_type": "markdown",
      "metadata": {
        "id": "UmzmDYQxd5KH"
      },
      "source": [
        "> It can be helpful to think of a data structure as a \"container\" which holds information. For example, a filing cabinet is a sort of real-world data structure!\n",
        "\n",
        "There are many different types of data structures. Each has its own strengths and weakness, such as:\n",
        "\n",
        "- How fast is it to add or remove information from these data structures?\n",
        "- How fast is it to retrieve information from the structure?\n",
        "\n",
        "Python's official [Tutorial](https://docs.python.org/3/tutorial/datastructures.html) lists several important built-in data structures. Let's quickly review a few that we've already seen."
      ]
    },
    {
      "cell_type": "markdown",
      "metadata": {
        "id": "4KQqgA-5d5KI"
      },
      "source": [
        "### What Data Structures Have we Already Discussed?"
      ]
    },
    {
      "cell_type": "markdown",
      "metadata": {
        "id": "uwJ8YI9ad5KI"
      },
      "source": [
        "You should already be familiar with the following data structures:\n",
        "\n",
        "- Tuples\n",
        "  - Immutable\n",
        "  - Ordered (in a \"sequence\")\n",
        "  - Indexed by position\n",
        "- Lists\n",
        "  - Mutable\n",
        "  - Ordered (in a \"sequence\")\n",
        "  - Indexed by position\n",
        "- Sets\n",
        "  - Mutable\n",
        "  - Unordered\n",
        "  - Unique (no repeated values)\n",
        "\n",
        "We have already discussed some of the key properties of these data structures in this bootcamp. Please see the relevant notebooks for further details, or check the relevant sections of the [Types Page in the Python Documentation](https://docs.python.org/3/library/stdtypes.html) if you want even more information."
      ]
    },
    {
      "cell_type": "markdown",
      "metadata": {
        "id": "SL1bNqEcd5KI"
      },
      "source": [
        "### Names, and the Limitations of Tuples and Lists"
      ]
    },
    {
      "cell_type": "markdown",
      "metadata": {
        "id": "ajQ9SerOd5KI"
      },
      "source": [
        "Let's revisit our example from earlier:"
      ]
    },
    {
      "cell_type": "code",
      "execution_count": 2,
      "metadata": {
        "id": "JI9S_J0Ld5KJ"
      },
      "outputs": [],
      "source": [
        "# BAD PRACTICE\n",
        "## This is not a good idea! ... right?\n",
        "score_1 = 0.89\n",
        "score_2 = 0.74\n",
        "score_3 = 0.97\n",
        "score_4 = 0.83\n",
        "## etc...\n",
        "\n",
        "# BETTER PRACTICE\n",
        "exam_scores = (0.89, 0.74, 0.97, 0.83)"
      ]
    },
    {
      "cell_type": "markdown",
      "metadata": {
        "id": "3uv1zgN2d5KJ"
      },
      "source": [
        "The first approach to storing information makes it much harder to organize our data. However, it has one advantage which we lose when we put the information in a tuple: we no longer know which score belongs to which student!\n",
        "\n",
        "It might be nice to associate some *name*, or a **key**, with each of the **values** in our data structure. That way, we would be able to associate two different pieces of data with each other, namely:\n",
        "- The ID of the student (the **key**)\n",
        "- Their exam score (the **value**)\n",
        "\n",
        "Luckily, Python provides us with an incredibly powerful built-in data structure for doing exactly this: [Dictionaries](https://docs.python.org/3/tutorial/datastructures.html#dictionaries).\n",
        "\n",
        "> See the documentation page for more details: https://docs.python.org/3/library/stdtypes.html#mapping-types-dict"
      ]
    },
    {
      "cell_type": "markdown",
      "metadata": {
        "id": "Iv9t96QOd5KJ"
      },
      "source": [
        "## Overview of Dictionaries"
      ]
    },
    {
      "cell_type": "markdown",
      "metadata": {
        "id": "A-lz29dAd5KJ"
      },
      "source": [
        "### Dictionaries Map \"Keys\" to \"Values\""
      ]
    },
    {
      "cell_type": "markdown",
      "metadata": {
        "id": "gZn9Xmvpd5KJ"
      },
      "source": [
        "Dictionaries are Python's implementation of a [hash table data structure](https://en.wikipedia.org/wiki/Hash_table). They make it easy to pair a **key** with a **value**. This makes it possible for us to group similar pieces of information together *and* give them some sort of name, or ID. For example:"
      ]
    },
    {
      "cell_type": "code",
      "execution_count": 3,
      "metadata": {
        "id": "gXHdqGbBd5KJ"
      },
      "outputs": [],
      "source": [
        "# BAD PRACTICE --------------------------------------------------------\n",
        "## This is not a good idea!\n",
        "score_1 = 0.89\n",
        "score_2 = 0.74\n",
        "score_3 = 0.97\n",
        "score_4 = 0.83\n",
        "## etc...\n",
        "\n",
        "# GOOD PRACTICE -------------------------------------------------------\n",
        "## Our scores are now grouped together, AND we still know which student\n",
        "## earned each score!\n",
        "exam_scores = {\n",
        "    \"Student 1\": 0.89,\n",
        "    \"Student 2\": 0.74,\n",
        "    \"Student 3\": 0.97,\n",
        "    \"Student 4\": 0.83\n",
        "}"
      ]
    },
    {
      "cell_type": "markdown",
      "metadata": {
        "id": "63yXhOVDd5KJ"
      },
      "source": [
        "This is similar to how dictionaries work in real life! If we know a **word**, we can look up the **definition**. In Python, if we know the **key**, we can look up the **value**."
      ]
    },
    {
      "cell_type": "markdown",
      "metadata": {
        "id": "wvnSqdtid5KJ"
      },
      "source": [
        "### Examples of Key-Value Pairs"
      ]
    },
    {
      "cell_type": "markdown",
      "metadata": {
        "id": "KUMF1UsLd5KJ"
      },
      "source": [
        "We see relationships between keys and values in a myriad of places in the real world. Here are a few examples.\n",
        "\n",
        "- Matching employee email addresses (keys) with their legal names (values)\n",
        "- Matching a sports team (key) with their season record (value)\n",
        "- Matching a TV show (key) with its episode ratings (values)"
      ]
    },
    {
      "cell_type": "markdown",
      "metadata": {
        "id": "Pxm3oGAhd5KJ"
      },
      "source": [
        "### Properties of Dictionaries"
      ]
    },
    {
      "cell_type": "markdown",
      "metadata": {
        "id": "QO6hlGSvd5KJ"
      },
      "source": [
        "Dictionaries have the following properties, relevant to our use in this class:\n",
        "\n",
        "- **Unordered**\n",
        "  - They contain keys and values with no inherent ordering.\n",
        "- **Unique Keys, Arbitrary Values**\n",
        "  - A dictionary can only contain one value for a given key.\n",
        "  - A dictionary can have many keys pointing to the same value.\n",
        "- **Indexable through a key-based index**\n",
        "  - They allow you to access their values by using keys.\n",
        "- **Mutable**\n",
        "  - They support in-place mutations and changes to their contained values.\n",
        "  - They support growing or shrinking operations.\n",
        "- **Heterogeneous**\n",
        "  - They can store keys and values of different data types and domains.\n",
        "    - Dictionary values may be mutable or immutable.\n",
        "    - Dictionary keys **must be immutable**.\n",
        "- **Nestable**\n",
        "  - Their values can consist of arbitrary data. For example, you may build a dictionary of dictionaries.\n",
        "- **Iterable**\n",
        "  - They support iteration, so you can traverse them using a loop or comprehension while you perform operations on **each of their keys**.\n",
        "- **Unsliceable**\n",
        "  - Extracting a subset of elements from a dictionary will require using filtering.\n",
        "- **Combinable**\n",
        "  - They support concatenation operations, so you can combine two or more dictionaries using the merge operation.\n",
        "  - This can be done to update the existing dictionary, or create a new dictionary.\n",
        "\n",
        "Let's look at some examples of how to use dictionaries in Python."
      ]
    },
    {
      "cell_type": "markdown",
      "metadata": {
        "id": "PGg5cf1ud5KJ"
      },
      "source": [
        "## Basic Dictionary Use"
      ]
    },
    {
      "cell_type": "markdown",
      "metadata": {
        "id": "L2C7fWe5d5KK"
      },
      "source": [
        "### Construction"
      ]
    },
    {
      "cell_type": "markdown",
      "metadata": {
        "id": "ucou8f5gd5KK"
      },
      "source": [
        "There are two main ways to create a Python dictionary:\n",
        "\n",
        "1. Using Curly Braces (also called a \"literal\")\n",
        "2. Using the `dict()` function\n",
        "\n",
        "Let's see some examples. The following code will create two empty dictionaries, and then populate them with values."
      ]
    },
    {
      "cell_type": "code",
      "execution_count": 4,
      "metadata": {
        "id": "3W4EdgPAd5KK",
        "outputId": "07e6cb3f-100d-41f1-82bf-bbdfb61b2a1b",
        "colab": {
          "base_uri": "https://localhost:8080/"
        }
      },
      "outputs": [
        {
          "output_type": "stream",
          "name": "stdout",
          "text": [
            "Dictionary 1: {'key1': 'value1'}\n",
            "Dictionary 2: {'key2': 'value2'}\n"
          ]
        }
      ],
      "source": [
        "# Constructing a new Dictionary\n",
        "dictionary1 = {} # Curly braces method\n",
        "dictionary2 = dict() # Dict method\n",
        "\n",
        "# Populate the dictionary\n",
        "dictionary1[\"key1\"] = \"value1\"\n",
        "dictionary2[\"key2\"] = \"value2\"\n",
        "\n",
        "print(f\"Dictionary 1: {dictionary1}\")\n",
        "print(f\"Dictionary 2: {dictionary2}\")"
      ]
    },
    {
      "cell_type": "markdown",
      "metadata": {
        "id": "SXXjkMCVd5KK"
      },
      "source": [
        "We'll talk more about lines 4-6 (\"Populate the Dictionary\") in the [Growing and Shrinking](#growing-and-shrinking) section.\n",
        "\n",
        "What if we already have a collection of keys and values? We can use any of the following methods to create the dictionary:"
      ]
    },
    {
      "cell_type": "code",
      "execution_count": 10,
      "metadata": {
        "id": "-O15y2sed5KK",
        "outputId": "437c96ce-8ede-419d-bfaf-6ad1c497b6b9",
        "colab": {
          "base_uri": "https://localhost:8080/"
        }
      },
      "outputs": [
        {
          "output_type": "stream",
          "name": "stdout",
          "text": [
            "Dictionary 1: {'key1': 'value1', 'key2': 'value2'}\n",
            "Dictionary 2: {'key3': 'value3', 'key4': 'value4'}\n",
            "Dictionary 3: {'key5': 'value5', 'key6': 'value6'}\n",
            "zip option:  {'Larry': 0.94, 'Chris': 0.91, 'Bob': 0.97}\n",
            "[('Larry', 0.94), ('Chris', 0.91), ('Bob', 0.97)]\n"
          ]
        },
        {
          "output_type": "execute_result",
          "data": {
            "text/plain": [
              "{'Larry': 0.94, 'Chris': 0.91, 'Bob': 0.97}"
            ]
          },
          "metadata": {},
          "execution_count": 10
        }
      ],
      "source": [
        "# Keyword argument list\n",
        "dictionary1 = dict(key1=\"value1\", key2=\"value2\")\n",
        "\n",
        "# Dictionary literal\n",
        "dictionary2 = {\"key3\":\"value3\", \"key4\":\"value4\"}\n",
        "\n",
        "# List of tuples ...# you can pass a list of tuples into the dict() function; the first item will become the key;\n",
        "# 2nd item will become the value\n",
        "dictionary3 = dict([\n",
        "    (\"key5\", \"value5\"),\n",
        "    (\"key6\", \"value6\")\n",
        "])\n",
        "\n",
        "# Display the dictionary\n",
        "print(f\"Dictionary 1: {dictionary1}\")\n",
        "print(f\"Dictionary 2: {dictionary2}\")\n",
        "print(f\"Dictionary 3: {dictionary3}\")\n",
        "\n",
        "# zip option\n",
        "instructors = (\"Larry\", \"Chris\", \"Bob\")\n",
        "score = (0.94, 0.91, 0.97)\n",
        "\n",
        "print(\"zip option: \", dict(zip(instructors, score)))\n",
        "\n",
        "# similar to using the list of tuples, above\n",
        "my_tuples = list(zip(instructors, score))\n",
        "print(my_tuples)\n",
        "dict(my_tuples)"
      ]
    },
    {
      "cell_type": "markdown",
      "metadata": {
        "id": "guiwMj-Id5KK"
      },
      "source": [
        "### Indexing"
      ]
    },
    {
      "cell_type": "markdown",
      "metadata": {
        "id": "0Kgx9ondd5KK"
      },
      "source": [
        "We can think of the act of \"looking up\" a value for a given key as a type of **indexing**. Actually, we've already seen indexing when we looked at lists and tuples! Let's recap how that works.\n",
        "\n",
        "- Lists and tuples facilitate **indexing** by *ordering* their values.\n",
        "- We can use the order of the sequence to index by using integers.\n",
        "  - The index is the *position* of the value in the sequence. For example:"
      ]
    },
    {
      "cell_type": "code",
      "execution_count": null,
      "metadata": {
        "id": "Bx9Bj_4qd5KK"
      },
      "outputs": [],
      "source": [
        "# Say we have a list of four food items\n",
        "food_items = [\"apple\" , \"chicken\" , \"eggs\" , \"bread\"]\n",
        "# What is the value in position 2? (remember, we start at 0)\n",
        "food_items[2]"
      ]
    },
    {
      "cell_type": "markdown",
      "metadata": {
        "id": "3OxBu8Kvd5KK"
      },
      "source": [
        "Python's syntax for indexing values from a list/tuple and a dictionary are identical! However, instead of using a *position* (remember, dictionaries have *no order*), we use the **key** to index the **value**."
      ]
    },
    {
      "cell_type": "code",
      "execution_count": 11,
      "metadata": {
        "id": "hwyPYyDKd5KK",
        "outputId": "e57ffb53-4b34-422c-f752-0df016b9bf8d",
        "colab": {
          "base_uri": "https://localhost:8080/"
        }
      },
      "outputs": [
        {
          "output_type": "execute_result",
          "data": {
            "text/plain": [
              "4"
            ]
          },
          "metadata": {},
          "execution_count": 11
        }
      ],
      "source": [
        "# Maybe we want to keep track of how many containers we have of each food?\n",
        "food_items = {\n",
        "    \"apple\": 2,\n",
        "    \"chicken\": 1,\n",
        "    \"eggs\": 4,\n",
        "    \"bread\": 2\n",
        "}\n",
        "# How many containers of eggs do we have?\n",
        "food_items[\"eggs\"]"
      ]
    },
    {
      "cell_type": "markdown",
      "metadata": {
        "id": "DBbKojiYd5KK"
      },
      "source": [
        "What happens if we try to index on a key which isn't in the dictionary?"
      ]
    },
    {
      "cell_type": "code",
      "execution_count": 12,
      "metadata": {
        "id": "zPlMwNHmd5KK",
        "outputId": "d24aac56-538f-441e-9d65-71ca90ea2a09",
        "colab": {
          "base_uri": "https://localhost:8080/"
        }
      },
      "outputs": [
        {
          "output_type": "stream",
          "name": "stdout",
          "text": [
            "Uh oh! This will give you an error!\n"
          ]
        }
      ],
      "source": [
        "# How much candy do we have?\n",
        "try:\n",
        "    food_items[\"candy\"]\n",
        "except KeyError:\n",
        "    print(\"Uh oh! This will give you an error!\")"
      ]
    },
    {
      "cell_type": "markdown",
      "metadata": {
        "id": "LS1S16AUd5KK"
      },
      "source": [
        "We can see that this causes Python to raise an KeyError! One way to avoid this problem is to use the `.get()` method. This allows you to specify a default value if the key is not present in the dictionary. You could also use a Default Dictionary, which we will discuss later. Default dictionaries will change the original dictionary though."
      ]
    },
    {
      "cell_type": "code",
      "execution_count": 16,
      "metadata": {
        "id": "ztQsdO9td5KK",
        "outputId": "7c1e9851-1d46-4471-f19c-6e7508ff0ecc",
        "colab": {
          "base_uri": "https://localhost:8080/"
        }
      },
      "outputs": [
        {
          "output_type": "stream",
          "name": "stdout",
          "text": [
            "0\n"
          ]
        },
        {
          "output_type": "execute_result",
          "data": {
            "text/plain": [
              "8"
            ]
          },
          "metadata": {},
          "execution_count": 16
        }
      ],
      "source": [
        "#Let's use .get() instead   # with .get(), you can specify a value if the key is not in the dict so that you\n",
        "## don't get an error.\n",
        "print(food_items.get(\"candy\", 0))\n",
        "food_items.get(\"fudge\",8)\n"
      ]
    },
    {
      "cell_type": "markdown",
      "metadata": {
        "id": "0Q87kJrYd5KL"
      },
      "source": [
        "### Iteration"
      ]
    },
    {
      "cell_type": "markdown",
      "metadata": {
        "id": "zN4krn0Od5KL"
      },
      "source": [
        "We can treat Python Dictionaries as *iterables*. This means we can loop over them like we can with lists or tuples.\n",
        "\n",
        "- You **should not rely on the elements being presented in a certain order**.\n",
        "- Iterating over a dictionary will iterate over the **keys**, not the values!"
      ]
    },
    {
      "cell_type": "code",
      "execution_count": 17,
      "metadata": {
        "id": "wp-KuUdyd5KL",
        "outputId": "f20f2d1c-8f5b-4326-859e-ae81350b88ae",
        "colab": {
          "base_uri": "https://localhost:8080/"
        }
      },
      "outputs": [
        {
          "output_type": "stream",
          "name": "stdout",
          "text": [
            "Harry Potter belongs to Gryffindor house.\n",
            "Ron Weasley belongs to Gryffindor house.\n",
            "Hermione Granger belongs to Gryffindor house.\n",
            "Draco Malfoy belongs to Slytherin house.\n"
          ]
        }
      ],
      "source": [
        "# Create a Harry Potter dictionary\n",
        "harry_potter_dict = {\n",
        "    \"Harry Potter\": \"Gryffindor\",\n",
        "    \"Ron Weasley\": \"Gryffindor\",\n",
        "    \"Hermione Granger\": \"Gryffindor\",\n",
        "    \"Draco Malfoy\": \"Slytherin\"\n",
        "}\n",
        "\n",
        "### know this!!! ###  *************\n",
        "# Let's see which house each character belongs to\n",
        "for character in harry_potter_dict:\n",
        "    # We can use the key to get the value when we iterate!\n",
        "    house = harry_potter_dict[character]\n",
        "    # Print the result\n",
        "    print(f\"{character} belongs to {house} house.\")"
      ]
    },
    {
      "cell_type": "markdown",
      "metadata": {
        "id": "NmhYHzUWd5KO"
      },
      "source": [
        "### Dictionary Size and Checking for Membership"
      ]
    },
    {
      "cell_type": "markdown",
      "metadata": {
        "id": "M_CGrXOvd5KO"
      },
      "source": [
        "- We can use the `len()` function to determine how many keys are in our dictionary.\n",
        "- We can use the `key in d` expression to determine whether a key is in a dictionary."
      ]
    },
    {
      "cell_type": "code",
      "execution_count": 28,
      "metadata": {
        "id": "16ma6BSOd5KO",
        "outputId": "f0757dac-2d46-43c1-d2a4-028a0e668788",
        "colab": {
          "base_uri": "https://localhost:8080/"
        }
      },
      "outputs": [
        {
          "output_type": "stream",
          "name": "stdout",
          "text": [
            "4\n",
            "True\n",
            "Harry Potter belongs to Gryffindor house.\n",
            "Larry belongs to the L&G Love Shack house.\n",
            "Gina belongs to the L&G Love Shack house.\n",
            "\n",
            "Harry Potter belongs to Gryffindor house.\n"
          ]
        }
      ],
      "source": [
        "# How many characters are in our dictionary?  **********\n",
        "print(len(harry_potter_dict))\n",
        "\n",
        "# Is Harry Potter one of the keys?  ***********\n",
        "print(\"Harry Potter\" in harry_potter_dict)\n",
        "\n",
        "# now an example of using get to iterate over a dict *****\n",
        "names = (\"Harry Potter\", \"Larry\", \"Gina\")\n",
        "for name in names:\n",
        "  house = harry_potter_dict.get(name,\"the L&G Love Shack\")\n",
        "  print(f\"{name} belongs to {house} house.\")\n",
        "\n",
        "\n",
        "# now an example to passing on key that does not exist\n",
        "names = (\"Harry Potter\", \"Larry\", \"Gina\")\n",
        "for name in names:\n",
        "  if name not in harry_potter_dict:\n",
        "    continue   # or ignore it and continue\n",
        "  house = harry_potter_dict[name]\n",
        "  print(f\"\\n{name} belongs to {house} house.\")"
      ]
    },
    {
      "cell_type": "markdown",
      "metadata": {
        "id": "q84F7JvLd5KO"
      },
      "source": [
        "### Adding Elements"
      ]
    },
    {
      "cell_type": "markdown",
      "metadata": {
        "id": "S_uwcgmmd5KO"
      },
      "source": [
        "We can dynamically add elements to a Python dictionary. Let's look at how we can do that.\n",
        "\n",
        "- Method 1: \"Assign\" a value to a non-existent key.\n",
        "- Method 2: Use the `.update()` method to add many keys and values at the same time.\n",
        "  - We can store new key-value pairs in a dictionary or an iterable\n",
        "- Method 3: Use the `.setdefault()` method to add a key and value, but *only if the key does not already exist.*\n",
        "\n",
        "**IMPORTANT**: Methods 1 and 2 will **remap** the existing values for the given keys! If this is not what you want to have happen, you should implement a check where you see whether a key is already in the dictionary before assigning a value (or use Method 3)."
      ]
    },
    {
      "cell_type": "code",
      "execution_count": 29,
      "metadata": {
        "id": "pLzSkeljd5KO",
        "outputId": "c85f57cb-51bb-4942-9348-109883b3f2c7",
        "colab": {
          "base_uri": "https://localhost:8080/"
        }
      },
      "outputs": [
        {
          "output_type": "stream",
          "name": "stdout",
          "text": [
            "Starting Dictionary: \n",
            "{'Harry Potter': 'Gryffindor', 'Hermione Granger': 'Gryffindor'}\n"
          ]
        }
      ],
      "source": [
        "# This is a helper function for printing our dictionaries\n",
        "from pprint import pprint\n",
        "\n",
        "# Create a Harry Potter dictionary\n",
        "harry_potter_dict = {\n",
        "    \"Harry Potter\": \"Gryffindor\",\n",
        "    \"Hermione Granger\": \"Gryffindor\"\n",
        "}\n",
        "\n",
        "# Custom printer (ignore)\n",
        "def pretty_print(text):\n",
        "    print(text)\n",
        "    pprint(harry_potter_dict)\n",
        "\n",
        "# Display the dictionary\n",
        "pretty_print(\"Starting Dictionary: \")"
      ]
    },
    {
      "cell_type": "code",
      "execution_count": null,
      "metadata": {
        "id": "Tg27uy_Xd5KP",
        "outputId": "2e5f25dd-ab8d-4451-87a7-e8c6962380b3"
      },
      "outputs": [
        {
          "name": "stdout",
          "output_type": "stream",
          "text": [
            "After Method 1:\n",
            "{'Harry Potter': 'Gryffindor',\n",
            " 'Hermione Granger': 'Gryffindor',\n",
            " 'Ron Weasley': 'Gryffindor'}\n"
          ]
        }
      ],
      "source": [
        "# METHOD 1 ------------------------------------------------------------\n",
        "harry_potter_dict[\"Ron Weasley\"] = \"Gryffindor\"\n",
        "\n",
        "# Display the dictionary\n",
        "pretty_print(\"After Method 1:\")"
      ]
    },
    {
      "cell_type": "code",
      "execution_count": 30,
      "metadata": {
        "id": "lPLJGN6Yd5KP",
        "outputId": "4d9aa7e1-61f0-41d9-a878-65bb87684e6c",
        "colab": {
          "base_uri": "https://localhost:8080/"
        }
      },
      "outputs": [
        {
          "output_type": "stream",
          "name": "stdout",
          "text": [
            "After Method 2:\n",
            "{'Albus Dumbledore': 'Gryffindor',\n",
            " 'Cedric Diggory': 'Hufflepuff',\n",
            " 'Draco Malfoy': 'Slytherin',\n",
            " 'Harry Potter': 'Gryffindor',\n",
            " 'Hermione Granger': 'Gryffindor',\n",
            " 'Luna Lovegood': 'Ravenclaw'}\n"
          ]
        }
      ],
      "source": [
        "# METHOD 2 ------------------------------------------------------- .update()*****\n",
        "# Use a dictionary to update a dictionary\n",
        "add_characters_1 = {\n",
        "    \"Albus Dumbledore\": \"Gryffindor\",\n",
        "    \"Luna Lovegood\": \"Ravenclaw\"\n",
        "}\n",
        "\n",
        "# Use iterables to update a dictionary  ### this is a list of lists *****\n",
        "add_characters_2 = [\n",
        "    [\"Draco Malfoy\", \"Slytherin\"],\n",
        "    [\"Cedric Diggory\", \"Hufflepuff\"]\n",
        "]\n",
        "\n",
        "# Merge dictionaries  ### .update() will update the both just the same ****\n",
        "harry_potter_dict.update(add_characters_1)\n",
        "harry_potter_dict.update(add_characters_2)\n",
        "\n",
        "# Display the dictionary\n",
        "pretty_print(\"After Method 2:\")"
      ]
    },
    {
      "cell_type": "code",
      "execution_count": null,
      "metadata": {
        "id": "SWfmP5L6d5KP",
        "outputId": "77941ae1-c81e-4467-b458-38b1753ed996"
      },
      "outputs": [
        {
          "name": "stdout",
          "output_type": "stream",
          "text": [
            "After Method 3:\n",
            "{'Albus Dumbledore': 'Gryffindor',\n",
            " 'Cedric Diggory': 'Hufflepuff',\n",
            " 'Draco Malfoy': 'Slytherin',\n",
            " 'Harry Potter': 'Gryffindor',\n",
            " 'Hermione Granger': 'Gryffindor',\n",
            " 'Luna Lovegood': 'Ravenclaw',\n",
            " 'Ron Weasley': 'Gryffindor',\n",
            " 'Rubeus Hagrid': 'Gryffindor'}\n"
          ]
        }
      ],
      "source": [
        "# METHOD 3 -------------------- .setdefault() - only adds if the key does not already exist*****\n",
        "# Adding a new character, but only if the key doesn't already exist\n",
        "harry_potter_dict.setdefault(\"Rubeus Hagrid\", \"Gryffindor\")\n",
        "\n",
        "# Let's try to add a character to the wrong house\n",
        "harry_potter_dict.setdefault(\"Harry Potter\", \"Slytherin\")\n",
        "\n",
        "# Display the dictionary (Notice Harry Potter's House hasn't changed)\n",
        "pretty_print(\"After Method 3:\")"
      ]
    },
    {
      "cell_type": "markdown",
      "metadata": {
        "id": "C21mMK1wd5KP"
      },
      "source": [
        "### Removing Elements"
      ]
    },
    {
      "cell_type": "markdown",
      "metadata": {
        "id": "X4Sr4FpDd5KP"
      },
      "source": [
        "We can also dynamically remove elements from a Python dictionary.\n",
        "\n",
        "- Method 1: Use the `del` keyword.\n",
        "  - **WARNING:** This will cause Python to raise an error if the key does not exist in your dictionary already!\n",
        "- Method 2: Use the `.pop()` method.\n",
        "  - If you specify a default value, this will not raise an error if the key does not exist. *******"
      ]
    },
    {
      "cell_type": "code",
      "execution_count": 31,
      "metadata": {
        "id": "gkdpkxUmd5KP",
        "outputId": "c82548e7-48f5-4335-925d-07c9f9bbf8ea",
        "colab": {
          "base_uri": "https://localhost:8080/"
        }
      },
      "outputs": [
        {
          "output_type": "stream",
          "name": "stdout",
          "text": [
            "After Method 1:\n",
            "{'Albus Dumbledore': 'Gryffindor',\n",
            " 'Cedric Diggory': 'Hufflepuff',\n",
            " 'Draco Malfoy': 'Slytherin',\n",
            " 'Harry Potter': 'Gryffindor',\n",
            " 'Hermione Granger': 'Gryffindor',\n",
            " 'Luna Lovegood': 'Ravenclaw'}\n"
          ]
        }
      ],
      "source": [
        "# METHOD 1 --------------------------------------------------- del\n",
        "if \"Ron Weasley\" in harry_potter_dict:\n",
        "    del harry_potter_dict[\"Ron Weasley\"]\n",
        "\n",
        "# Display the dictionary\n",
        "pretty_print(\"After Method 1:\")"
      ]
    },
    {
      "cell_type": "code",
      "execution_count": 32,
      "metadata": {
        "id": "pUHTmlYgd5KP",
        "outputId": "7cbea947-095d-4a29-f73b-638a134c0f8b",
        "colab": {
          "base_uri": "https://localhost:8080/"
        }
      },
      "outputs": [
        {
          "output_type": "stream",
          "name": "stdout",
          "text": [
            "After Method 2:\n",
            "{'Albus Dumbledore': 'Gryffindor',\n",
            " 'Cedric Diggory': 'Hufflepuff',\n",
            " 'Harry Potter': 'Gryffindor',\n",
            " 'Hermione Granger': 'Gryffindor',\n",
            " 'Luna Lovegood': 'Ravenclaw'}\n",
            "Slytherin\n",
            "None\n"
          ]
        }
      ],
      "source": [
        "# METHOD 2 ----------------------------------------------------- .pop()\n",
        "house1 = harry_potter_dict.pop(\"Draco Malfoy\", None)\n",
        "\n",
        "# This key isn't in the dictionary, so if we don't specify a \"Default\"\n",
        "# value (specified as None here), Python will raise an error\n",
        "house2 = harry_potter_dict.pop(\"Bilbo Baggins\", None)\n",
        "\n",
        "# Display the dictionary\n",
        "pretty_print(\"After Method 2:\")\n",
        "print(house1)\n",
        "print(house2)"
      ]
    },
    {
      "cell_type": "markdown",
      "metadata": {
        "id": "icqGxj1Id5KP"
      },
      "source": [
        "### Mutating"
      ]
    },
    {
      "cell_type": "markdown",
      "metadata": {
        "id": "RGjDG2NGd5KP"
      },
      "source": [
        "Remember, dictionary keys must be *unique*. If we assign a new value to an existing key, the dictionary will remap the relationship!"
      ]
    },
    {
      "cell_type": "code",
      "execution_count": null,
      "metadata": {
        "id": "uhzDEzhcd5KP",
        "outputId": "6afaad65-376b-4ede-a000-fac2ba67daa9"
      },
      "outputs": [
        {
          "name": "stdout",
          "output_type": "stream",
          "text": [
            "Harry Potter has now graduated!\n",
            "{'Albus Dumbledore': 'INSTRUCTOR',\n",
            " 'Cedric Diggory': 'Hufflepuff',\n",
            " 'Harry Potter': 'GRADUATED',\n",
            " 'Hermione Granger': 'GRADUATED',\n",
            " 'Luna Lovegood': 'Ravenclaw',\n",
            " 'Rubeus Hagrid': 'INSTRUCTOR'}\n"
          ]
        }
      ],
      "source": [
        "# Remapping with assignment\n",
        "harry_potter_dict[\"Harry Potter\"] = \"GRADUATED\"\n",
        "\n",
        "# Remapping with .update()\n",
        "harry_potter_dict.update({\n",
        "    \"Hermione Granger\": \"GRADUATED\",\n",
        "    \"Albus Dumbledore\": \"INSTRUCTOR\",\n",
        "    \"Rubeus Hagrid\": \"INSTRUCTOR\"\n",
        "})\n",
        "\n",
        "# Display the dictionary\n",
        "pretty_print(\"Harry Potter has now graduated!\")"
      ]
    },
    {
      "cell_type": "markdown",
      "metadata": {
        "id": "LFv3Ftfvd5KQ"
      },
      "source": [
        "If the value associated with a key is mutable, we can change the value and the dictionary value will reflect those changes. Here's an example."
      ]
    },
    {
      "cell_type": "code",
      "execution_count": 35,
      "metadata": {
        "id": "czp_QXRUd5KQ",
        "outputId": "5a2601c8-1d60-4785-b7dd-25ee5bf370dd",
        "colab": {
          "base_uri": "https://localhost:8080/"
        }
      },
      "outputs": [
        {
          "output_type": "stream",
          "name": "stdout",
          "text": [
            "['apple', 'pear', 'blueberry']\n",
            "{'fruits': ['apple', 'pear', 'blueberry']}\n",
            "{'fruits': ['apple', 'pear', 'blueberry', 'kiwi', 'banana']}\n",
            "['apple', 'pear', 'blueberry', 'kiwi', 'banana']\n"
          ]
        }
      ],
      "source": [
        "# Create a list, which is mutable\n",
        "fruits = [\"apple\", \"pear\", \"blueberry\"]\n",
        "\n",
        "# Create a dictionary, where one of the values is the list\n",
        "food_types = {\n",
        "    \"fruits\": fruits\n",
        "}\n",
        "print(fruits)\n",
        "print(food_types)\n",
        "\n",
        "# Add a new value to the list\n",
        "fruits.append(\"kiwi\")\n",
        "# Do the same thing by indexing into the dictionary\n",
        "food_types[\"fruits\"].append(\"banana\")\n",
        "\n",
        "# What does the dictionary contain now?\n",
        "print(food_types)\n",
        "print(fruits)"
      ]
    },
    {
      "cell_type": "markdown",
      "metadata": {
        "id": "g_-neo2Sd5KQ"
      },
      "source": [
        "### .keys(), .values(), and .items()"
      ]
    },
    {
      "cell_type": "markdown",
      "metadata": {
        "id": "e__Y4iNvd5KQ"
      },
      "source": [
        "Each of these methods will let you access the contents of the dictionary as a *sequence*.\n",
        "\n",
        "- `.keys()` will fetch the keys.\n",
        "- `.values()` will fetch the values.\n",
        "- `.items()` will return 2-element tuples containing the key and the value.\n",
        "\n",
        "**N.B.** These can be expensive operations in terms of memory. Be cautious about using them if you have a very large dictionary."
      ]
    },
    {
      "cell_type": "code",
      "execution_count": 36,
      "metadata": {
        "id": "BlvTrguPd5KQ",
        "outputId": "222afa35-42fa-4bdd-daf6-3eebf6cc14b9",
        "colab": {
          "base_uri": "https://localhost:8080/"
        }
      },
      "outputs": [
        {
          "output_type": "stream",
          "name": "stdout",
          "text": [
            "dict_keys(['Harry Potter', 'Hermione Granger', 'Albus Dumbledore', 'Luna Lovegood', 'Cedric Diggory'])\n"
          ]
        }
      ],
      "source": [
        "print(harry_potter_dict.keys())"
      ]
    },
    {
      "cell_type": "code",
      "execution_count": 37,
      "metadata": {
        "id": "mgkWDAUXd5KQ",
        "outputId": "6e6459c0-1adc-4c91-d82a-cef9be6c138f",
        "colab": {
          "base_uri": "https://localhost:8080/"
        }
      },
      "outputs": [
        {
          "output_type": "stream",
          "name": "stdout",
          "text": [
            "dict_values(['Gryffindor', 'Gryffindor', 'Gryffindor', 'Ravenclaw', 'Hufflepuff'])\n"
          ]
        }
      ],
      "source": [
        "print(harry_potter_dict.values())"
      ]
    },
    {
      "cell_type": "code",
      "execution_count": 38,
      "metadata": {
        "id": "_VoiGsVnd5KQ",
        "outputId": "2b3499fd-276b-4216-96de-07c37f216a03",
        "colab": {
          "base_uri": "https://localhost:8080/"
        }
      },
      "outputs": [
        {
          "output_type": "stream",
          "name": "stdout",
          "text": [
            "dict_items([('Harry Potter', 'Gryffindor'), ('Hermione Granger', 'Gryffindor'), ('Albus Dumbledore', 'Gryffindor'), ('Luna Lovegood', 'Ravenclaw'), ('Cedric Diggory', 'Hufflepuff')])\n"
          ]
        }
      ],
      "source": [
        "print(harry_potter_dict.items())"
      ]
    },
    {
      "cell_type": "markdown",
      "metadata": {
        "id": "GCetnBAcd5KQ"
      },
      "source": [
        "## Summary"
      ]
    },
    {
      "cell_type": "markdown",
      "metadata": {
        "id": "246TdK5Sd5KQ"
      },
      "source": [
        "- Dictionaries let you map keys to values.\n",
        "  - You can use them to group similar collections of data and associate the data with meaningful IDs, such as names.\n",
        "- Dictionaries are mutable.\n",
        "  - You can easily add, change, and remove their contents.\n",
        "- There are often several ways to perform the same task with dictionaries.\n",
        "  - Check the documentation if you're not sure how to do a specific operation."
      ]
    }
  ],
  "metadata": {
    "kernelspec": {
      "display_name": "Python 3 (ipykernel)",
      "language": "python",
      "name": "python3"
    },
    "language_info": {
      "codemirror_mode": {
        "name": "ipython",
        "version": 3
      },
      "file_extension": ".py",
      "mimetype": "text/x-python",
      "name": "python",
      "nbconvert_exporter": "python",
      "pygments_lexer": "ipython3",
      "version": "3.10.12"
    },
    "colab": {
      "provenance": [],
      "include_colab_link": true
    }
  },
  "nbformat": 4,
  "nbformat_minor": 0
}